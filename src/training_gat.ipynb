{
 "cells": [
  {
   "cell_type": "code",
   "execution_count": 1,
   "id": "2b4fda8c-3081-49d5-9c24-68eed78d2c9d",
   "metadata": {},
   "outputs": [],
   "source": [
    "from torch_geometric.loader import DataLoader\n",
    "from torch_geometric import seed_everything\n",
    "from torch_geometric.transforms import Distance, Cartesian\n",
    "from imports.TrainModel import TrainModel\n",
    "import torch.nn.functional as F\n",
    "import torch\n",
    "\n",
    "seed_everything(0)\n",
    "\n",
    "from models.spline import nvs_no_skip as splinenet\n",
    "\n",
    "#!rm ../data/contact_extraction2/{train,test,val}/processed/*\n",
    "\n"
   ]
  },
  {
   "cell_type": "code",
   "execution_count": 2,
   "id": "68e437c5",
   "metadata": {},
   "outputs": [],
   "source": [
    "from torch_geometric.nn import GATConv\n",
    "class GAT(torch.nn.Module):\n",
    "    def __init__(self, num_in_feature,num_out_class ):\n",
    "        super(GAT, self).__init__()\n",
    "        self.hid = 8\n",
    "        self.in_head = 8\n",
    "        self.out_head = 1\n",
    "        \n",
    "        \n",
    "        self.conv1 = GATConv(num_in_feature, self.hid, heads=self.in_head, dropout=0.6)\n",
    "\n",
    "\n",
    "        self.conv2 = GATConv(self.hid*self.in_head, num_out_class, concat=False,\n",
    "                             heads=self.out_head, dropout=0.6)\n",
    "\n",
    "    def forward(self, data):\n",
    "        x, edge_index = data.x, data.edge_index\n",
    "                \n",
    "        x = F.dropout(x, p=0.6, training=self.training)\n",
    "        x = self.conv1(x, edge_index)\n",
    "        x = F.elu(x)\n",
    "        x = F.dropout(x, p=0.6, training=self.training)\n",
    "        x = self.conv2(x, edge_index)\n",
    "        \n",
    "        return x"
   ]
  },
  {
   "cell_type": "code",
   "execution_count": 3,
   "id": "4b5940c9",
   "metadata": {},
   "outputs": [],
   "source": [
    "model = GAT(1, 2)"
   ]
  },
  {
   "cell_type": "code",
   "execution_count": 4,
   "id": "46d95450-96a2-47a5-b9cd-2dc656c577b1",
   "metadata": {
    "tags": []
   },
   "outputs": [
    {
     "data": {
      "application/vnd.jupyter.widget-view+json": {
       "model_id": "d999b3e1e0ac49b6a9ec846cf25bb785",
       "version_major": 2,
       "version_minor": 0
      },
      "text/plain": [
       "training:   0%|          | 0/150 [00:00<?, ?epoch/s]"
      ]
     },
     "metadata": {},
     "output_type": "display_data"
    },
    {
     "data": {
      "application/vnd.jupyter.widget-view+json": {
       "model_id": "266f819977c2421ca4253e8c87f47fef",
       "version_major": 2,
       "version_minor": 0
      },
      "text/plain": [
       "  0%|          | 0/579 [00:00<?, ?batch/s]"
      ]
     },
     "metadata": {},
     "output_type": "display_data"
    },
    {
     "name": "stderr",
     "output_type": "stream",
     "text": [
      "/home/hussain/tactile/src/imports/TrainModel.py:67: UserWarning: Anomaly Detection has been enabled. This mode will increase the runtime and should only be enabled for debugging.\n",
      "  with torch.autograd.detect_anomaly():\n"
     ]
    },
    {
     "ename": "RuntimeError",
     "evalue": "Expected all tensors to be on the same device, but found at least two devices, cuda:0 and cpu! (when checking argument for argument mat2 in method wrapper_mm)",
     "output_type": "error",
     "traceback": [
      "\u001b[0;31m---------------------------------------------------------------------------\u001b[0m",
      "\u001b[0;31mRuntimeError\u001b[0m                              Traceback (most recent call last)",
      "\u001b[1;32m/home/hussain/tactile/src/training_gat.ipynb Cell 4\u001b[0m in \u001b[0;36m<cell line: 2>\u001b[0;34m()\u001b[0m\n\u001b[1;32m      <a href='vscode-notebook-cell://ssh-remote%2B10.10.105.53/home/hussain/tactile/src/training_gat.ipynb#W1sdnNjb2RlLXJlbW90ZQ%3D%3D?line=0'>1</a>\u001b[0m tm \u001b[39m=\u001b[39m TrainModel(\u001b[39m'\u001b[39m\u001b[39m/home/hussain/tactile/data/contact_extraction5/\u001b[39m\u001b[39m'\u001b[39m, model, n_epochs\u001b[39m=\u001b[39m\u001b[39m150\u001b[39m, transform\u001b[39m=\u001b[39mCartesian(cat\u001b[39m=\u001b[39m\u001b[39mFalse\u001b[39;00m))\n\u001b[0;32m----> <a href='vscode-notebook-cell://ssh-remote%2B10.10.105.53/home/hussain/tactile/src/training_gat.ipynb#W1sdnNjb2RlLXJlbW90ZQ%3D%3D?line=1'>2</a>\u001b[0m tm\u001b[39m.\u001b[39;49mtrain()\n",
      "File \u001b[0;32m~/tactile/src/imports/TrainModel.py:70\u001b[0m, in \u001b[0;36mTrainModel.train\u001b[0;34m(self)\u001b[0m\n\u001b[1;32m     68\u001b[0m data \u001b[39m=\u001b[39m data\u001b[39m.\u001b[39mto(\u001b[39mself\u001b[39m\u001b[39m.\u001b[39mdevice)\n\u001b[1;32m     69\u001b[0m \u001b[39mself\u001b[39m\u001b[39m.\u001b[39moptimizer\u001b[39m.\u001b[39mzero_grad()\n\u001b[0;32m---> 70\u001b[0m end_point \u001b[39m=\u001b[39m \u001b[39mself\u001b[39;49m\u001b[39m.\u001b[39;49mmodel(data)\n\u001b[1;32m     72\u001b[0m loss \u001b[39m=\u001b[39m \u001b[39mself\u001b[39m\u001b[39m.\u001b[39mloss_func(end_point[\u001b[39m0\u001b[39m], data\u001b[39m.\u001b[39my)\n\u001b[1;32m     73\u001b[0m loss\u001b[39m.\u001b[39mbackward()\n",
      "File \u001b[0;32m~/miniconda3/envs/tactile38/lib/python3.8/site-packages/torch/nn/modules/module.py:1130\u001b[0m, in \u001b[0;36mModule._call_impl\u001b[0;34m(self, *input, **kwargs)\u001b[0m\n\u001b[1;32m   1126\u001b[0m \u001b[39m# If we don't have any hooks, we want to skip the rest of the logic in\u001b[39;00m\n\u001b[1;32m   1127\u001b[0m \u001b[39m# this function, and just call forward.\u001b[39;00m\n\u001b[1;32m   1128\u001b[0m \u001b[39mif\u001b[39;00m \u001b[39mnot\u001b[39;00m (\u001b[39mself\u001b[39m\u001b[39m.\u001b[39m_backward_hooks \u001b[39mor\u001b[39;00m \u001b[39mself\u001b[39m\u001b[39m.\u001b[39m_forward_hooks \u001b[39mor\u001b[39;00m \u001b[39mself\u001b[39m\u001b[39m.\u001b[39m_forward_pre_hooks \u001b[39mor\u001b[39;00m _global_backward_hooks\n\u001b[1;32m   1129\u001b[0m         \u001b[39mor\u001b[39;00m _global_forward_hooks \u001b[39mor\u001b[39;00m _global_forward_pre_hooks):\n\u001b[0;32m-> 1130\u001b[0m     \u001b[39mreturn\u001b[39;00m forward_call(\u001b[39m*\u001b[39;49m\u001b[39minput\u001b[39;49m, \u001b[39m*\u001b[39;49m\u001b[39m*\u001b[39;49mkwargs)\n\u001b[1;32m   1131\u001b[0m \u001b[39m# Do not call functions when jit is used\u001b[39;00m\n\u001b[1;32m   1132\u001b[0m full_backward_hooks, non_full_backward_hooks \u001b[39m=\u001b[39m [], []\n",
      "\u001b[1;32m/home/hussain/tactile/src/training_gat.ipynb Cell 4\u001b[0m in \u001b[0;36mGAT.forward\u001b[0;34m(self, data)\u001b[0m\n\u001b[1;32m     <a href='vscode-notebook-cell://ssh-remote%2B10.10.105.53/home/hussain/tactile/src/training_gat.ipynb#W1sdnNjb2RlLXJlbW90ZQ%3D%3D?line=16'>17</a>\u001b[0m x, edge_index \u001b[39m=\u001b[39m data\u001b[39m.\u001b[39mx, data\u001b[39m.\u001b[39medge_index\n\u001b[1;32m     <a href='vscode-notebook-cell://ssh-remote%2B10.10.105.53/home/hussain/tactile/src/training_gat.ipynb#W1sdnNjb2RlLXJlbW90ZQ%3D%3D?line=18'>19</a>\u001b[0m x \u001b[39m=\u001b[39m F\u001b[39m.\u001b[39mdropout(x, p\u001b[39m=\u001b[39m\u001b[39m0.6\u001b[39m, training\u001b[39m=\u001b[39m\u001b[39mself\u001b[39m\u001b[39m.\u001b[39mtraining)\n\u001b[0;32m---> <a href='vscode-notebook-cell://ssh-remote%2B10.10.105.53/home/hussain/tactile/src/training_gat.ipynb#W1sdnNjb2RlLXJlbW90ZQ%3D%3D?line=19'>20</a>\u001b[0m x \u001b[39m=\u001b[39m \u001b[39mself\u001b[39;49m\u001b[39m.\u001b[39;49mconv1(x, edge_index)\n\u001b[1;32m     <a href='vscode-notebook-cell://ssh-remote%2B10.10.105.53/home/hussain/tactile/src/training_gat.ipynb#W1sdnNjb2RlLXJlbW90ZQ%3D%3D?line=20'>21</a>\u001b[0m x \u001b[39m=\u001b[39m F\u001b[39m.\u001b[39melu(x)\n\u001b[1;32m     <a href='vscode-notebook-cell://ssh-remote%2B10.10.105.53/home/hussain/tactile/src/training_gat.ipynb#W1sdnNjb2RlLXJlbW90ZQ%3D%3D?line=21'>22</a>\u001b[0m x \u001b[39m=\u001b[39m F\u001b[39m.\u001b[39mdropout(x, p\u001b[39m=\u001b[39m\u001b[39m0.6\u001b[39m, training\u001b[39m=\u001b[39m\u001b[39mself\u001b[39m\u001b[39m.\u001b[39mtraining)\n",
      "File \u001b[0;32m~/miniconda3/envs/tactile38/lib/python3.8/site-packages/torch/nn/modules/module.py:1130\u001b[0m, in \u001b[0;36mModule._call_impl\u001b[0;34m(self, *input, **kwargs)\u001b[0m\n\u001b[1;32m   1126\u001b[0m \u001b[39m# If we don't have any hooks, we want to skip the rest of the logic in\u001b[39;00m\n\u001b[1;32m   1127\u001b[0m \u001b[39m# this function, and just call forward.\u001b[39;00m\n\u001b[1;32m   1128\u001b[0m \u001b[39mif\u001b[39;00m \u001b[39mnot\u001b[39;00m (\u001b[39mself\u001b[39m\u001b[39m.\u001b[39m_backward_hooks \u001b[39mor\u001b[39;00m \u001b[39mself\u001b[39m\u001b[39m.\u001b[39m_forward_hooks \u001b[39mor\u001b[39;00m \u001b[39mself\u001b[39m\u001b[39m.\u001b[39m_forward_pre_hooks \u001b[39mor\u001b[39;00m _global_backward_hooks\n\u001b[1;32m   1129\u001b[0m         \u001b[39mor\u001b[39;00m _global_forward_hooks \u001b[39mor\u001b[39;00m _global_forward_pre_hooks):\n\u001b[0;32m-> 1130\u001b[0m     \u001b[39mreturn\u001b[39;00m forward_call(\u001b[39m*\u001b[39;49m\u001b[39minput\u001b[39;49m, \u001b[39m*\u001b[39;49m\u001b[39m*\u001b[39;49mkwargs)\n\u001b[1;32m   1131\u001b[0m \u001b[39m# Do not call functions when jit is used\u001b[39;00m\n\u001b[1;32m   1132\u001b[0m full_backward_hooks, non_full_backward_hooks \u001b[39m=\u001b[39m [], []\n",
      "File \u001b[0;32m~/miniconda3/envs/tactile38/lib/python3.8/site-packages/torch_geometric/nn/conv/gat_conv.py:204\u001b[0m, in \u001b[0;36mGATConv.forward\u001b[0;34m(self, x, edge_index, edge_attr, size, return_attention_weights)\u001b[0m\n\u001b[1;32m    202\u001b[0m \u001b[39mif\u001b[39;00m \u001b[39misinstance\u001b[39m(x, Tensor):\n\u001b[1;32m    203\u001b[0m     \u001b[39massert\u001b[39;00m x\u001b[39m.\u001b[39mdim() \u001b[39m==\u001b[39m \u001b[39m2\u001b[39m, \u001b[39m\"\u001b[39m\u001b[39mStatic graphs not supported in \u001b[39m\u001b[39m'\u001b[39m\u001b[39mGATConv\u001b[39m\u001b[39m'\u001b[39m\u001b[39m\"\u001b[39m\n\u001b[0;32m--> 204\u001b[0m     x_src \u001b[39m=\u001b[39m x_dst \u001b[39m=\u001b[39m \u001b[39mself\u001b[39;49m\u001b[39m.\u001b[39;49mlin_src(x)\u001b[39m.\u001b[39mview(\u001b[39m-\u001b[39m\u001b[39m1\u001b[39m, H, C)\n\u001b[1;32m    205\u001b[0m \u001b[39melse\u001b[39;00m:  \u001b[39m# Tuple of source and target node features:\u001b[39;00m\n\u001b[1;32m    206\u001b[0m     x_src, x_dst \u001b[39m=\u001b[39m x\n",
      "File \u001b[0;32m~/miniconda3/envs/tactile38/lib/python3.8/site-packages/torch/nn/modules/module.py:1130\u001b[0m, in \u001b[0;36mModule._call_impl\u001b[0;34m(self, *input, **kwargs)\u001b[0m\n\u001b[1;32m   1126\u001b[0m \u001b[39m# If we don't have any hooks, we want to skip the rest of the logic in\u001b[39;00m\n\u001b[1;32m   1127\u001b[0m \u001b[39m# this function, and just call forward.\u001b[39;00m\n\u001b[1;32m   1128\u001b[0m \u001b[39mif\u001b[39;00m \u001b[39mnot\u001b[39;00m (\u001b[39mself\u001b[39m\u001b[39m.\u001b[39m_backward_hooks \u001b[39mor\u001b[39;00m \u001b[39mself\u001b[39m\u001b[39m.\u001b[39m_forward_hooks \u001b[39mor\u001b[39;00m \u001b[39mself\u001b[39m\u001b[39m.\u001b[39m_forward_pre_hooks \u001b[39mor\u001b[39;00m _global_backward_hooks\n\u001b[1;32m   1129\u001b[0m         \u001b[39mor\u001b[39;00m _global_forward_hooks \u001b[39mor\u001b[39;00m _global_forward_pre_hooks):\n\u001b[0;32m-> 1130\u001b[0m     \u001b[39mreturn\u001b[39;00m forward_call(\u001b[39m*\u001b[39;49m\u001b[39minput\u001b[39;49m, \u001b[39m*\u001b[39;49m\u001b[39m*\u001b[39;49mkwargs)\n\u001b[1;32m   1131\u001b[0m \u001b[39m# Do not call functions when jit is used\u001b[39;00m\n\u001b[1;32m   1132\u001b[0m full_backward_hooks, non_full_backward_hooks \u001b[39m=\u001b[39m [], []\n",
      "File \u001b[0;32m~/miniconda3/envs/tactile38/lib/python3.8/site-packages/torch_geometric/nn/dense/linear.py:118\u001b[0m, in \u001b[0;36mLinear.forward\u001b[0;34m(self, x)\u001b[0m\n\u001b[1;32m    113\u001b[0m \u001b[39mdef\u001b[39;00m \u001b[39mforward\u001b[39m(\u001b[39mself\u001b[39m, x: Tensor) \u001b[39m-\u001b[39m\u001b[39m>\u001b[39m Tensor:\n\u001b[1;32m    114\u001b[0m     \u001b[39mr\u001b[39m\u001b[39m\"\"\"\u001b[39;00m\n\u001b[1;32m    115\u001b[0m \u001b[39m    Args:\u001b[39;00m\n\u001b[1;32m    116\u001b[0m \u001b[39m        x (Tensor): The features.\u001b[39;00m\n\u001b[1;32m    117\u001b[0m \u001b[39m    \"\"\"\u001b[39;00m\n\u001b[0;32m--> 118\u001b[0m     \u001b[39mreturn\u001b[39;00m F\u001b[39m.\u001b[39;49mlinear(x, \u001b[39mself\u001b[39;49m\u001b[39m.\u001b[39;49mweight, \u001b[39mself\u001b[39;49m\u001b[39m.\u001b[39;49mbias)\n",
      "\u001b[0;31mRuntimeError\u001b[0m: Expected all tensors to be on the same device, but found at least two devices, cuda:0 and cpu! (when checking argument for argument mat2 in method wrapper_mm)"
     ]
    }
   ],
   "source": [
    "tm = TrainModel('/home/hussain/tactile/data/contact_extraction5/', model, n_epochs=150, transform=Cartesian(cat=False))\n",
    "tm.train()"
   ]
  },
  {
   "cell_type": "code",
   "execution_count": 7,
   "id": "d1608c01-f30c-4a35-bc20-95bb691a6359",
   "metadata": {},
   "outputs": [
    {
     "data": {
      "text/plain": [
       "0.022077545086204103"
      ]
     },
     "execution_count": 7,
     "metadata": {},
     "output_type": "execute_result"
    }
   ],
   "source": [
    "min(tm.val_losses)"
   ]
  },
  {
   "cell_type": "code",
   "execution_count": 4,
   "id": "407b1bf2-34b8-4991-98dc-4bb88f0f2884",
   "metadata": {},
   "outputs": [
    {
     "data": {
      "text/plain": [
       "0.011305167100377001"
      ]
     },
     "execution_count": 4,
     "metadata": {},
     "output_type": "execute_result"
    }
   ],
   "source": [
    "tm.test()"
   ]
  },
  {
   "cell_type": "code",
   "execution_count": 24,
   "id": "5d51daa9-8743-4179-98f7-87d2ee536de7",
   "metadata": {
    "collapsed": true,
    "jupyter": {
     "outputs_hidden": true
    },
    "tags": []
   },
   "outputs": [
    {
     "data": {
      "application/vnd.jupyter.widget-view+json": {
       "model_id": "245a88c7492747ed89604b55b79f7176",
       "version_major": 2,
       "version_minor": 0
      },
      "text/plain": [
       "  0%|          | 0/33 [00:00<?, ?it/s]"
      ]
     },
     "metadata": {},
     "output_type": "display_data"
    },
    {
     "name": "stdout",
     "output_type": "stream",
     "text": [
      "0.14057564735412598\n",
      "0.17262601852416992\n",
      "0.1955254077911377\n",
      "0.15732598304748535\n",
      "0.12617993354797363\n",
      "0.13708806037902832\n",
      "0.1367342472076416\n",
      "0.19402194023132324\n",
      "0.1806349754333496\n",
      "0.16005754470825195\n",
      "0.13409996032714844\n",
      "0.1878058910369873\n",
      "0.19119000434875488\n",
      "0.19316840171813965\n",
      "0.1704239845275879\n",
      "0.1675717830657959\n",
      "0.20548200607299805\n",
      "0.18075847625732422\n",
      "0.14330005645751953\n",
      "0.1307077407836914\n",
      "0.17769408226013184\n",
      "0.20035505294799805\n",
      "0.18609166145324707\n",
      "0.1927506923675537\n",
      "0.1511704921722412\n",
      "0.14408493041992188\n",
      "0.11974000930786133\n",
      "0.10378074645996094\n",
      "0.12209033966064453\n",
      "0.17664790153503418\n",
      "0.1758272647857666\n",
      "0.13147425651550293\n",
      "0.2036294937133789\n"
     ]
    },
    {
     "data": {
      "text/plain": [
       "0.0227090794536652"
      ]
     },
     "execution_count": 24,
     "metadata": {},
     "output_type": "execute_result"
    }
   ],
   "source": [
    "import time \n",
    "from tqdm.auto import tqdm\n",
    "t = []\n",
    "def validate(self):\n",
    "    loss = 0\n",
    "    for i, data in enumerate(tqdm(self.val_loader)):\n",
    "        now = time.time()\n",
    "        data = data.to('cuda')\n",
    "        end_point = self.model(data)\n",
    "        end = time.time() - now\n",
    "        t.append(end)\n",
    "        print(end)\n",
    "        loss += self.loss_func(end_point[0], data.y).detach().item()\n",
    "    loss /= len(self.val_data)\n",
    "    return loss\n",
    "\n",
    "validate(tm)"
   ]
  },
  {
   "cell_type": "code",
   "execution_count": 26,
   "id": "7c1789f3-2dfb-4bb6-89b9-b081ee016ca2",
   "metadata": {},
   "outputs": [
    {
     "data": {
      "text/plain": [
       "0.1633519692854448"
      ]
     },
     "execution_count": 26,
     "metadata": {},
     "output_type": "execute_result"
    }
   ],
   "source": [
    "import numpy as np\n",
    "np.mean(t)"
   ]
  },
  {
   "cell_type": "code",
   "execution_count": 23,
   "id": "e95cafae-1d95-4350-84e6-b388d9875896",
   "metadata": {},
   "outputs": [
    {
     "data": {
      "text/plain": [
       "nvs_no_skip(\n",
       "  (conv1): SplineConv(1, 64, dim=3)\n",
       "  (bn1): BatchNorm1d(64, eps=1e-05, momentum=0.1, affine=True, track_running_stats=True)\n",
       "  (conv2): SplineConv(64, 128, dim=3)\n",
       "  (bn2): BatchNorm1d(128, eps=1e-05, momentum=0.1, affine=True, track_running_stats=True)\n",
       "  (conv3): SplineConv(128, 256, dim=3)\n",
       "  (bn3): BatchNorm1d(256, eps=1e-05, momentum=0.1, affine=True, track_running_stats=True)\n",
       "  (conv4): SplineConv(256, 512, dim=3)\n",
       "  (bn4): BatchNorm1d(512, eps=1e-05, momentum=0.1, affine=True, track_running_stats=True)\n",
       "  (fc1): Linear(in_features=32768, out_features=1024, bias=True)\n",
       "  (fc2): Linear(in_features=1024, out_features=2, bias=True)\n",
       ")"
      ]
     },
     "execution_count": 23,
     "metadata": {},
     "output_type": "execute_result"
    }
   ],
   "source": [
    "tm.model.to('cuda')"
   ]
  },
  {
   "cell_type": "code",
   "execution_count": null,
   "id": "35044332-bf05-4b0a-85e2-e9fe41a0eb30",
   "metadata": {},
   "outputs": [],
   "source": [
    "tm."
   ]
  }
 ],
 "metadata": {
  "kernelspec": {
   "display_name": "Python 3.8.13 ('tactile38')",
   "language": "python",
   "name": "python3"
  },
  "language_info": {
   "codemirror_mode": {
    "name": "ipython",
    "version": 3
   },
   "file_extension": ".py",
   "mimetype": "text/x-python",
   "name": "python",
   "nbconvert_exporter": "python",
   "pygments_lexer": "ipython3",
   "version": "3.8.13"
  },
  "vscode": {
   "interpreter": {
    "hash": "5d8140f19ce72fd9f5884f782e0ad04a672bb49c654247ab1cc6b7e44f2c8b29"
   }
  }
 },
 "nbformat": 4,
 "nbformat_minor": 5
}
