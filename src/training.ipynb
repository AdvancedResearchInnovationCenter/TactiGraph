{
 "cells": [
  {
   "cell_type": "code",
   "execution_count": 121,
   "id": "c52c8c2a-9b6e-4c88-9ec9-95761d421bf4",
   "metadata": {},
   "outputs": [],
   "source": [
    "from torch_geometric.loader import DataLoader\n",
    "from torch_geometric import seed_everything\n",
    "from torch_geometric.transforms import Distance, Cartesian\n",
    "from imports.TrainModel import TrainModel\n",
    "seed_everything(0)\n",
    "\n",
    "from models.spline import Net as splinenet\n",
    "\n",
    "model = splinenet().to('cuda')\n",
    "model\n",
    "#!rm ../data/contact_extraction2/{train,test,val}/processed/*\n",
    "\n",
    "tm = TrainModel('/home/hussain/tactile/data/contact_extraction2/', model, n_epochs=150, transform=Cartesian(cat=False))"
   ]
  },
  {
   "cell_type": "code",
   "execution_count": null,
   "id": "9ee92124-2d4d-4338-9d97-69625f13782f",
   "metadata": {},
   "outputs": [],
   "source": []
  },
  {
   "cell_type": "code",
   "execution_count": 35,
   "id": "c8a417db-76eb-41d6-8a61-f84b7588ae74",
   "metadata": {},
   "outputs": [
    {
     "data": {
      "text/plain": [
       "['T_destination',\n",
       " '__annotations__',\n",
       " '__call__',\n",
       " '__class__',\n",
       " '__delattr__',\n",
       " '__dict__',\n",
       " '__dir__',\n",
       " '__doc__',\n",
       " '__eq__',\n",
       " '__format__',\n",
       " '__ge__',\n",
       " '__getattr__',\n",
       " '__getattribute__',\n",
       " '__gt__',\n",
       " '__hash__',\n",
       " '__init__',\n",
       " '__init_subclass__',\n",
       " '__le__',\n",
       " '__lt__',\n",
       " '__module__',\n",
       " '__ne__',\n",
       " '__new__',\n",
       " '__reduce__',\n",
       " '__reduce_ex__',\n",
       " '__repr__',\n",
       " '__setattr__',\n",
       " '__setstate__',\n",
       " '__sizeof__',\n",
       " '__str__',\n",
       " '__subclasshook__',\n",
       " '__weakref__',\n",
       " '_apply',\n",
       " '_backward_hooks',\n",
       " '_buffers',\n",
       " '_call_impl',\n",
       " '_forward_hooks',\n",
       " '_forward_pre_hooks',\n",
       " '_get_backward_hooks',\n",
       " '_get_name',\n",
       " '_is_full_backward_hook',\n",
       " '_load_from_state_dict',\n",
       " '_load_state_dict_post_hooks',\n",
       " '_load_state_dict_pre_hooks',\n",
       " '_maybe_warn_non_full_backward_hook',\n",
       " '_modules',\n",
       " '_named_members',\n",
       " '_non_persistent_buffers_set',\n",
       " '_parameters',\n",
       " '_register_load_state_dict_pre_hook',\n",
       " '_register_state_dict_hook',\n",
       " '_replicate_for_data_parallel',\n",
       " '_save_to_state_dict',\n",
       " '_slow_forward',\n",
       " '_state_dict_hooks',\n",
       " '_version',\n",
       " 'add_module',\n",
       " 'apply',\n",
       " 'bfloat16',\n",
       " 'bn1',\n",
       " 'bn2',\n",
       " 'bn3',\n",
       " 'bn4',\n",
       " 'buffers',\n",
       " 'children',\n",
       " 'conv1',\n",
       " 'conv2',\n",
       " 'conv3',\n",
       " 'conv4',\n",
       " 'cpu',\n",
       " 'cuda',\n",
       " 'double',\n",
       " 'dump_patches',\n",
       " 'eval',\n",
       " 'extra_repr',\n",
       " 'fc1',\n",
       " 'fc2',\n",
       " 'float',\n",
       " 'forward',\n",
       " 'get_buffer',\n",
       " 'get_extra_state',\n",
       " 'get_parameter',\n",
       " 'get_submodule',\n",
       " 'half',\n",
       " 'ipu',\n",
       " 'load_state_dict',\n",
       " 'modules',\n",
       " 'named_buffers',\n",
       " 'named_children',\n",
       " 'named_modules',\n",
       " 'named_parameters',\n",
       " 'parameters',\n",
       " 'register_backward_hook',\n",
       " 'register_buffer',\n",
       " 'register_forward_hook',\n",
       " 'register_forward_pre_hook',\n",
       " 'register_full_backward_hook',\n",
       " 'register_load_state_dict_post_hook',\n",
       " 'register_module',\n",
       " 'register_parameter',\n",
       " 'requires_grad_',\n",
       " 'set_extra_state',\n",
       " 'share_memory',\n",
       " 'state_dict',\n",
       " 'to',\n",
       " 'to_empty',\n",
       " 'train',\n",
       " 'training',\n",
       " 'type',\n",
       " 'xpu',\n",
       " 'zero_grad']"
      ]
     },
     "execution_count": 35,
     "metadata": {},
     "output_type": "execute_result"
    }
   ],
   "source": [
    "dir(model)"
   ]
  },
  {
   "cell_type": "code",
   "execution_count": 38,
   "id": "0ee281ec-5fe4-4cbc-b4ad-d2c04bc1187e",
   "metadata": {},
   "outputs": [
    {
     "name": "stdout",
     "output_type": "stream",
     "text": [
      "Net(\n",
      "  (conv1): SplineConv(1, 64, dim=3)\n",
      "  (bn1): BatchNorm1d(64, eps=1e-05, momentum=0.1, affine=True, track_running_stats=True)\n",
      "  (conv2): SplineConv(64, 128, dim=3)\n",
      "  (bn2): BatchNorm1d(128, eps=1e-05, momentum=0.1, affine=True, track_running_stats=True)\n",
      "  (conv3): SplineConv(128, 256, dim=3)\n",
      "  (bn3): BatchNorm1d(256, eps=1e-05, momentum=0.1, affine=True, track_running_stats=True)\n",
      "  (conv4): SplineConv(256, 512, dim=3)\n",
      "  (bn4): BatchNorm1d(512, eps=1e-05, momentum=0.1, affine=True, track_running_stats=True)\n",
      "  (fc1): Linear(in_features=32768, out_features=1024, bias=True)\n",
      "  (fc2): Linear(in_features=1024, out_features=2, bias=True)\n",
      ")\n",
      "SplineConv(1, 64, dim=3)\n",
      "MeanAggregation()\n",
      "Linear(1, 64, bias=False)\n",
      "BatchNorm1d(64, eps=1e-05, momentum=0.1, affine=True, track_running_stats=True)\n",
      "SplineConv(64, 128, dim=3)\n",
      "MeanAggregation()\n",
      "Linear(64, 128, bias=False)\n",
      "BatchNorm1d(128, eps=1e-05, momentum=0.1, affine=True, track_running_stats=True)\n",
      "SplineConv(128, 256, dim=3)\n",
      "MeanAggregation()\n",
      "Linear(128, 256, bias=False)\n",
      "BatchNorm1d(256, eps=1e-05, momentum=0.1, affine=True, track_running_stats=True)\n",
      "SplineConv(256, 512, dim=3)\n",
      "MeanAggregation()\n",
      "Linear(256, 512, bias=False)\n",
      "BatchNorm1d(512, eps=1e-05, momentum=0.1, affine=True, track_running_stats=True)\n",
      "Linear(in_features=32768, out_features=1024, bias=True)\n",
      "Linear(in_features=1024, out_features=2, bias=True)\n"
     ]
    }
   ],
   "source": [
    "for m in model.modules():\n",
    "    print(m)"
   ]
  },
  {
   "cell_type": "code",
   "execution_count": 44,
   "id": "a48b2e0c-adaa-4a8e-867f-f2c77553ce5e",
   "metadata": {},
   "outputs": [
    {
     "ename": "AttributeError",
     "evalue": "'Tensor' object has no attribute 'x'",
     "output_type": "error",
     "traceback": [
      "\u001b[0;31m---------------------------------------------------------------------------\u001b[0m",
      "\u001b[0;31mAttributeError\u001b[0m                            Traceback (most recent call last)",
      "Input \u001b[0;32mIn [44]\u001b[0m, in \u001b[0;36m<cell line: 2>\u001b[0;34m()\u001b[0m\n\u001b[1;32m      1\u001b[0m \u001b[38;5;28;01mfrom\u001b[39;00m \u001b[38;5;21;01mtorchsummary\u001b[39;00m \u001b[38;5;28;01mimport\u001b[39;00m summary\n\u001b[0;32m----> 2\u001b[0m \u001b[43msummary\u001b[49m\u001b[43m(\u001b[49m\u001b[43mmodel\u001b[49m\u001b[43m,\u001b[49m\u001b[43m \u001b[49m\u001b[43minput_size\u001b[49m\u001b[38;5;241;43m=\u001b[39;49m\u001b[43m(\u001b[49m\u001b[38;5;241;43m1\u001b[39;49m\u001b[43m,\u001b[49m\u001b[43m \u001b[49m\u001b[38;5;241;43m2\u001b[39;49m\u001b[43m)\u001b[49m\u001b[43m)\u001b[49m\n",
      "File \u001b[0;32m~/miniconda3/envs/tactile38/lib/python3.8/site-packages/torchsummary/torchsummary.py:72\u001b[0m, in \u001b[0;36msummary\u001b[0;34m(model, input_size, batch_size, device)\u001b[0m\n\u001b[1;32m     68\u001b[0m model\u001b[38;5;241m.\u001b[39mapply(register_hook)\n\u001b[1;32m     70\u001b[0m \u001b[38;5;66;03m# make a forward pass\u001b[39;00m\n\u001b[1;32m     71\u001b[0m \u001b[38;5;66;03m# print(x.shape)\u001b[39;00m\n\u001b[0;32m---> 72\u001b[0m \u001b[43mmodel\u001b[49m\u001b[43m(\u001b[49m\u001b[38;5;241;43m*\u001b[39;49m\u001b[43mx\u001b[49m\u001b[43m)\u001b[49m\n\u001b[1;32m     74\u001b[0m \u001b[38;5;66;03m# remove these hooks\u001b[39;00m\n\u001b[1;32m     75\u001b[0m \u001b[38;5;28;01mfor\u001b[39;00m h \u001b[38;5;129;01min\u001b[39;00m hooks:\n",
      "File \u001b[0;32m~/miniconda3/envs/tactile38/lib/python3.8/site-packages/torch/nn/modules/module.py:1130\u001b[0m, in \u001b[0;36mModule._call_impl\u001b[0;34m(self, *input, **kwargs)\u001b[0m\n\u001b[1;32m   1126\u001b[0m \u001b[38;5;66;03m# If we don't have any hooks, we want to skip the rest of the logic in\u001b[39;00m\n\u001b[1;32m   1127\u001b[0m \u001b[38;5;66;03m# this function, and just call forward.\u001b[39;00m\n\u001b[1;32m   1128\u001b[0m \u001b[38;5;28;01mif\u001b[39;00m \u001b[38;5;129;01mnot\u001b[39;00m (\u001b[38;5;28mself\u001b[39m\u001b[38;5;241m.\u001b[39m_backward_hooks \u001b[38;5;129;01mor\u001b[39;00m \u001b[38;5;28mself\u001b[39m\u001b[38;5;241m.\u001b[39m_forward_hooks \u001b[38;5;129;01mor\u001b[39;00m \u001b[38;5;28mself\u001b[39m\u001b[38;5;241m.\u001b[39m_forward_pre_hooks \u001b[38;5;129;01mor\u001b[39;00m _global_backward_hooks\n\u001b[1;32m   1129\u001b[0m         \u001b[38;5;129;01mor\u001b[39;00m _global_forward_hooks \u001b[38;5;129;01mor\u001b[39;00m _global_forward_pre_hooks):\n\u001b[0;32m-> 1130\u001b[0m     \u001b[38;5;28;01mreturn\u001b[39;00m \u001b[43mforward_call\u001b[49m\u001b[43m(\u001b[49m\u001b[38;5;241;43m*\u001b[39;49m\u001b[38;5;28;43minput\u001b[39;49m\u001b[43m,\u001b[49m\u001b[43m \u001b[49m\u001b[38;5;241;43m*\u001b[39;49m\u001b[38;5;241;43m*\u001b[39;49m\u001b[43mkwargs\u001b[49m\u001b[43m)\u001b[49m\n\u001b[1;32m   1131\u001b[0m \u001b[38;5;66;03m# Do not call functions when jit is used\u001b[39;00m\n\u001b[1;32m   1132\u001b[0m full_backward_hooks, non_full_backward_hooks \u001b[38;5;241m=\u001b[39m [], []\n",
      "File \u001b[0;32m~/tactile/src/models/spline.py:20\u001b[0m, in \u001b[0;36mNet.forward\u001b[0;34m(self, data)\u001b[0m\n\u001b[1;32m     19\u001b[0m \u001b[38;5;28;01mdef\u001b[39;00m \u001b[38;5;21mforward\u001b[39m(\u001b[38;5;28mself\u001b[39m, data):\n\u001b[0;32m---> 20\u001b[0m     data\u001b[38;5;241m.\u001b[39mx \u001b[38;5;241m=\u001b[39m F\u001b[38;5;241m.\u001b[39melu(\u001b[38;5;28mself\u001b[39m\u001b[38;5;241m.\u001b[39mconv1(\u001b[43mdata\u001b[49m\u001b[38;5;241;43m.\u001b[39;49m\u001b[43mx\u001b[49m, data\u001b[38;5;241m.\u001b[39medge_index, data\u001b[38;5;241m.\u001b[39medge_attr))\n\u001b[1;32m     21\u001b[0m     data\u001b[38;5;241m.\u001b[39mx \u001b[38;5;241m=\u001b[39m \u001b[38;5;28mself\u001b[39m\u001b[38;5;241m.\u001b[39mbn1(data\u001b[38;5;241m.\u001b[39mx)\n\u001b[1;32m     22\u001b[0m     cluster \u001b[38;5;241m=\u001b[39m voxel_grid(data\u001b[38;5;241m.\u001b[39mpos, batch\u001b[38;5;241m=\u001b[39mdata\u001b[38;5;241m.\u001b[39mbatch, size\u001b[38;5;241m=\u001b[39m\u001b[38;5;241m0.05\u001b[39m)\n",
      "\u001b[0;31mAttributeError\u001b[0m: 'Tensor' object has no attribute 'x'"
     ]
    }
   ],
   "source": [
    "from torchsummary import summary\n",
    "summary(model, input_size=(1, 2))"
   ]
  },
  {
   "cell_type": "code",
   "execution_count": 55,
   "id": "f2f0acb0-0361-4cfe-ac22-9cc110960a35",
   "metadata": {},
   "outputs": [
    {
     "data": {
      "text/plain": [
       "'Net'"
      ]
     },
     "execution_count": 55,
     "metadata": {},
     "output_type": "execute_result"
    }
   ],
   "source": [
    "str(type(model)).split('.')[-1][:-2]"
   ]
  },
  {
   "cell_type": "code",
   "execution_count": null,
   "id": "47c59266-3677-4fbe-b551-346ae2cde795",
   "metadata": {},
   "outputs": [],
   "source": []
  },
  {
   "cell_type": "code",
   "execution_count": 53,
   "id": "bc29ab1a-bf2e-4ddf-8b8f-bb6311adede8",
   "metadata": {},
   "outputs": [
    {
     "data": {
      "text/plain": [
       "['T_destination',\n",
       " '__annotations__',\n",
       " '__call__',\n",
       " '__class__',\n",
       " '__delattr__',\n",
       " '__dict__',\n",
       " '__dir__',\n",
       " '__doc__',\n",
       " '__eq__',\n",
       " '__format__',\n",
       " '__ge__',\n",
       " '__getattr__',\n",
       " '__getattribute__',\n",
       " '__gt__',\n",
       " '__hash__',\n",
       " '__init__',\n",
       " '__init_subclass__',\n",
       " '__le__',\n",
       " '__lt__',\n",
       " '__module__',\n",
       " '__ne__',\n",
       " '__new__',\n",
       " '__reduce__',\n",
       " '__reduce_ex__',\n",
       " '__repr__',\n",
       " '__setattr__',\n",
       " '__setstate__',\n",
       " '__sizeof__',\n",
       " '__str__',\n",
       " '__subclasshook__',\n",
       " '__weakref__',\n",
       " '_apply',\n",
       " '_call_impl',\n",
       " '_get_backward_hooks',\n",
       " '_get_name',\n",
       " '_load_from_state_dict',\n",
       " '_maybe_warn_non_full_backward_hook',\n",
       " '_named_members',\n",
       " '_register_load_state_dict_pre_hook',\n",
       " '_register_state_dict_hook',\n",
       " '_replicate_for_data_parallel',\n",
       " '_save_to_state_dict',\n",
       " '_slow_forward',\n",
       " '_version',\n",
       " 'add_module',\n",
       " 'apply',\n",
       " 'bfloat16',\n",
       " 'buffers',\n",
       " 'children',\n",
       " 'cpu',\n",
       " 'cuda',\n",
       " 'double',\n",
       " 'dump_patches',\n",
       " 'eval',\n",
       " 'extra_repr',\n",
       " 'float',\n",
       " 'forward',\n",
       " 'get_buffer',\n",
       " 'get_extra_state',\n",
       " 'get_parameter',\n",
       " 'get_submodule',\n",
       " 'half',\n",
       " 'ipu',\n",
       " 'load_state_dict',\n",
       " 'modules',\n",
       " 'named_buffers',\n",
       " 'named_children',\n",
       " 'named_modules',\n",
       " 'named_parameters',\n",
       " 'parameters',\n",
       " 'register_backward_hook',\n",
       " 'register_buffer',\n",
       " 'register_forward_hook',\n",
       " 'register_forward_pre_hook',\n",
       " 'register_full_backward_hook',\n",
       " 'register_load_state_dict_post_hook',\n",
       " 'register_module',\n",
       " 'register_parameter',\n",
       " 'requires_grad_',\n",
       " 'set_extra_state',\n",
       " 'share_memory',\n",
       " 'state_dict',\n",
       " 'to',\n",
       " 'to_empty',\n",
       " 'train',\n",
       " 'type',\n",
       " 'xpu',\n",
       " 'zero_grad']"
      ]
     },
     "execution_count": 53,
     "metadata": {},
     "output_type": "execute_result"
    }
   ],
   "source": [
    "dir(type(model))"
   ]
  },
  {
   "cell_type": "code",
   "execution_count": 9,
   "id": "e0d228b0-e3df-43d2-9a87-39060ff950b7",
   "metadata": {},
   "outputs": [],
   "source": [
    "import torch\n",
    "data=tm.train_data.get(0).to('cuda')\n",
    "data.batch = torch.tensor(len(data.x)*[0])"
   ]
  },
  {
   "cell_type": "code",
   "execution_count": 10,
   "id": "3f69e526-ba71-45d1-b4ad-dc189a157929",
   "metadata": {},
   "outputs": [
    {
     "data": {
      "text/plain": [
       "tensor([[-0.0233, -0.0192]], device='cuda:0', grad_fn=<AddmmBackward0>)"
      ]
     },
     "execution_count": 10,
     "metadata": {},
     "output_type": "execute_result"
    }
   ],
   "source": [
    "model(data)"
   ]
  },
  {
   "cell_type": "code",
   "execution_count": 11,
   "id": "e9838b5b-f69d-4279-a220-c9ce949b2f48",
   "metadata": {},
   "outputs": [
    {
     "data": {
      "text/plain": [
       "Net(\n",
       "  (conv1): SplineConv(1, 64, dim=3)\n",
       "  (bn1): BatchNorm1d(64, eps=1e-05, momentum=0.1, affine=True, track_running_stats=True)\n",
       "  (conv2): SplineConv(64, 128, dim=3)\n",
       "  (bn2): BatchNorm1d(128, eps=1e-05, momentum=0.1, affine=True, track_running_stats=True)\n",
       "  (conv3): SplineConv(128, 256, dim=3)\n",
       "  (bn3): BatchNorm1d(256, eps=1e-05, momentum=0.1, affine=True, track_running_stats=True)\n",
       "  (conv4): SplineConv(256, 512, dim=3)\n",
       "  (bn4): BatchNorm1d(512, eps=1e-05, momentum=0.1, affine=True, track_running_stats=True)\n",
       "  (fc1): Linear(in_features=32768, out_features=1024, bias=True)\n",
       "  (fc2): Linear(in_features=1024, out_features=2, bias=True)\n",
       ")"
      ]
     },
     "execution_count": 11,
     "metadata": {},
     "output_type": "execute_result"
    }
   ],
   "source": [
    "model"
   ]
  },
  {
   "cell_type": "code",
   "execution_count": null,
   "id": "c2de8acc-4b60-48ff-81d5-85ae07c965b6",
   "metadata": {},
   "outputs": [
    {
     "data": {
      "application/vnd.jupyter.widget-view+json": {
       "model_id": "e2ef5398c3e74a0fbf92abb4d0ff6db7",
       "version_major": 2,
       "version_minor": 0
      },
      "text/plain": [
       "training:   0%|          | 0/150 [00:00<?, ?epoch/s]"
      ]
     },
     "metadata": {},
     "output_type": "display_data"
    },
    {
     "data": {
      "application/vnd.jupyter.widget-view+json": {
       "model_id": "6ff048651717431b9fd943aa06574128",
       "version_major": 2,
       "version_minor": 0
      },
      "text/plain": [
       "  0%|          | 0/407 [00:00<?, ?batch/s]"
      ]
     },
     "metadata": {},
     "output_type": "display_data"
    },
    {
     "name": "stderr",
     "output_type": "stream",
     "text": [
      "/home/hussain/tactile/src/imports/TrainModel.py:56: UserWarning: Anomaly Detection has been enabled. This mode will increase the runtime and should only be enabled for debugging.\n",
      "  with torch.autograd.detect_anomaly():\n",
      "/home/hussain/miniconda3/envs/tactile38/lib/python3.8/site-packages/torch/nn/modules/loss.py:96: UserWarning: Using a target size (torch.Size([])) that is different to the input size (torch.Size([2])). This will likely lead to incorrect results due to broadcasting. Please ensure they have the same size.\n",
      "  return F.l1_loss(input, target, reduction=self.reduction)\n"
     ]
    },
    {
     "data": {
      "application/vnd.jupyter.widget-view+json": {
       "model_id": "86095133260d4e60bc72462985a64a79",
       "version_major": 2,
       "version_minor": 0
      },
      "text/plain": [
       "  0%|          | 0/407 [00:00<?, ?batch/s]"
      ]
     },
     "metadata": {},
     "output_type": "display_data"
    },
    {
     "data": {
      "application/vnd.jupyter.widget-view+json": {
       "model_id": "7b89a42070d84da5bfc5fbde96d41974",
       "version_major": 2,
       "version_minor": 0
      },
      "text/plain": [
       "  0%|          | 0/407 [00:00<?, ?batch/s]"
      ]
     },
     "metadata": {},
     "output_type": "display_data"
    },
    {
     "data": {
      "application/vnd.jupyter.widget-view+json": {
       "model_id": "429a9b953eaf473093efc89e510a2c3f",
       "version_major": 2,
       "version_minor": 0
      },
      "text/plain": [
       "  0%|          | 0/407 [00:00<?, ?batch/s]"
      ]
     },
     "metadata": {},
     "output_type": "display_data"
    },
    {
     "data": {
      "application/vnd.jupyter.widget-view+json": {
       "model_id": "37e92a7c34b3410098572f052a2b13b2",
       "version_major": 2,
       "version_minor": 0
      },
      "text/plain": [
       "  0%|          | 0/407 [00:00<?, ?batch/s]"
      ]
     },
     "metadata": {},
     "output_type": "display_data"
    },
    {
     "data": {
      "application/vnd.jupyter.widget-view+json": {
       "model_id": "b824c759e598418fb7ebab12f749af1f",
       "version_major": 2,
       "version_minor": 0
      },
      "text/plain": [
       "  0%|          | 0/407 [00:00<?, ?batch/s]"
      ]
     },
     "metadata": {},
     "output_type": "display_data"
    },
    {
     "data": {
      "application/vnd.jupyter.widget-view+json": {
       "model_id": "152b98fc422d46bfbfef1bfb36f56ba1",
       "version_major": 2,
       "version_minor": 0
      },
      "text/plain": [
       "  0%|          | 0/407 [00:00<?, ?batch/s]"
      ]
     },
     "metadata": {},
     "output_type": "display_data"
    },
    {
     "data": {
      "application/vnd.jupyter.widget-view+json": {
       "model_id": "3cea16aa9cdc431480df7d8fc76f58b3",
       "version_major": 2,
       "version_minor": 0
      },
      "text/plain": [
       "  0%|          | 0/407 [00:00<?, ?batch/s]"
      ]
     },
     "metadata": {},
     "output_type": "display_data"
    },
    {
     "data": {
      "application/vnd.jupyter.widget-view+json": {
       "model_id": "3298db9ed242438fb9b4df5cf22e6dd3",
       "version_major": 2,
       "version_minor": 0
      },
      "text/plain": [
       "  0%|          | 0/407 [00:00<?, ?batch/s]"
      ]
     },
     "metadata": {},
     "output_type": "display_data"
    },
    {
     "data": {
      "application/vnd.jupyter.widget-view+json": {
       "model_id": "7c22e81ad9a741bda9bcf82e375e9b9e",
       "version_major": 2,
       "version_minor": 0
      },
      "text/plain": [
       "  0%|          | 0/407 [00:00<?, ?batch/s]"
      ]
     },
     "metadata": {},
     "output_type": "display_data"
    },
    {
     "data": {
      "application/vnd.jupyter.widget-view+json": {
       "model_id": "b9c60bdf64014032aa1a345d4eb47fa5",
       "version_major": 2,
       "version_minor": 0
      },
      "text/plain": [
       "  0%|          | 0/407 [00:00<?, ?batch/s]"
      ]
     },
     "metadata": {},
     "output_type": "display_data"
    },
    {
     "data": {
      "application/vnd.jupyter.widget-view+json": {
       "model_id": "f19c2edfc29a4cdea10bb3b4cab8eb9a",
       "version_major": 2,
       "version_minor": 0
      },
      "text/plain": [
       "  0%|          | 0/407 [00:00<?, ?batch/s]"
      ]
     },
     "metadata": {},
     "output_type": "display_data"
    },
    {
     "data": {
      "application/vnd.jupyter.widget-view+json": {
       "model_id": "a7f1f9d2f0c141ea888c95dfc930c341",
       "version_major": 2,
       "version_minor": 0
      },
      "text/plain": [
       "  0%|          | 0/407 [00:00<?, ?batch/s]"
      ]
     },
     "metadata": {},
     "output_type": "display_data"
    },
    {
     "data": {
      "application/vnd.jupyter.widget-view+json": {
       "model_id": "d8d5b7433e9b44eca471e15371d1c207",
       "version_major": 2,
       "version_minor": 0
      },
      "text/plain": [
       "  0%|          | 0/407 [00:00<?, ?batch/s]"
      ]
     },
     "metadata": {},
     "output_type": "display_data"
    }
   ],
   "source": [
    "tm.train()"
   ]
  },
  {
   "cell_type": "code",
   "execution_count": 59,
   "id": "8e06cdc8-901e-47db-a229-2b1b4769dd55",
   "metadata": {},
   "outputs": [
    {
     "ename": "AttributeError",
     "evalue": "'TrainModel' object has no attribute 'lr'",
     "output_type": "error",
     "traceback": [
      "\u001b[0;31m---------------------------------------------------------------------------\u001b[0m",
      "\u001b[0;31mAttributeError\u001b[0m                            Traceback (most recent call last)",
      "Input \u001b[0;32mIn [59]\u001b[0m, in \u001b[0;36m<cell line: 31>\u001b[0;34m()\u001b[0m\n\u001b[1;32m     22\u001b[0m     train_log \u001b[38;5;241m=\u001b[39m {\n\u001b[1;32m     23\u001b[0m         \u001b[38;5;124m'\u001b[39m\u001b[38;5;124mepoch\u001b[39m\u001b[38;5;124m'\u001b[39m: [i \u001b[38;5;28;01mfor\u001b[39;00m i \u001b[38;5;129;01min\u001b[39;00m \u001b[38;5;28mrange\u001b[39m(\u001b[38;5;241m1\u001b[39m, \u001b[38;5;28mself\u001b[39m\u001b[38;5;241m.\u001b[39mn_epochs \u001b[38;5;241m+\u001b[39m \u001b[38;5;241m1\u001b[39m)], \n\u001b[1;32m     24\u001b[0m         \u001b[38;5;124m'\u001b[39m\u001b[38;5;124mtrain_loss\u001b[39m\u001b[38;5;124m'\u001b[39m: \u001b[38;5;28mself\u001b[39m\u001b[38;5;241m.\u001b[39mtrain_losses,\n\u001b[1;32m     25\u001b[0m         \u001b[38;5;124m'\u001b[39m\u001b[38;5;124mval_loss\u001b[39m\u001b[38;5;124m'\u001b[39m: \u001b[38;5;28mself\u001b[39m\u001b[38;5;241m.\u001b[39mval_losses,\n\u001b[1;32m     26\u001b[0m         \u001b[38;5;124m'\u001b[39m\u001b[38;5;124mlr\u001b[39m\u001b[38;5;124m'\u001b[39m: \u001b[38;5;28mself\u001b[39m\u001b[38;5;241m.\u001b[39mlr\n\u001b[1;32m     27\u001b[0m     }\n\u001b[1;32m     29\u001b[0m     DataFrame(train_log)\u001b[38;5;241m.\u001b[39mto_csv(path \u001b[38;5;241m/\u001b[39m \u001b[38;5;124m'\u001b[39m\u001b[38;5;124mtrain_log.csv\u001b[39m\u001b[38;5;124m'\u001b[39m, index\u001b[38;5;241m=\u001b[39m\u001b[38;5;28;01mFalse\u001b[39;00m)\n\u001b[0;32m---> 31\u001b[0m \u001b[43mlog\u001b[49m\u001b[43m(\u001b[49m\u001b[43mtm\u001b[49m\u001b[43m)\u001b[49m\n",
      "Input \u001b[0;32mIn [59]\u001b[0m, in \u001b[0;36mlog\u001b[0;34m(self)\u001b[0m\n\u001b[1;32m     12\u001b[0m     params \u001b[38;5;241m=\u001b[39m {\n\u001b[1;32m     13\u001b[0m         \u001b[38;5;124m'\u001b[39m\u001b[38;5;124mmodel\u001b[39m\u001b[38;5;124m'\u001b[39m: name,\n\u001b[1;32m     14\u001b[0m         \u001b[38;5;124m'\u001b[39m\u001b[38;5;124mextraction_used\u001b[39m\u001b[38;5;124m'\u001b[39m: \u001b[38;5;28mstr\u001b[39m(\u001b[38;5;28mself\u001b[39m\u001b[38;5;241m.\u001b[39mextraction_case_dir),\n\u001b[0;32m   (...)\u001b[0m\n\u001b[1;32m     17\u001b[0m         \u001b[38;5;124m'\u001b[39m\u001b[38;5;124mtransform\u001b[39m\u001b[38;5;124m'\u001b[39m: \u001b[38;5;28mself\u001b[39m\u001b[38;5;241m.\u001b[39mtransform,\n\u001b[1;32m     18\u001b[0m     }\n\u001b[1;32m     20\u001b[0m     json\u001b[38;5;241m.\u001b[39mdump(params, f, indent\u001b[38;5;241m=\u001b[39m\u001b[38;5;241m4\u001b[39m)\n\u001b[1;32m     22\u001b[0m train_log \u001b[38;5;241m=\u001b[39m {\n\u001b[1;32m     23\u001b[0m     \u001b[38;5;124m'\u001b[39m\u001b[38;5;124mepoch\u001b[39m\u001b[38;5;124m'\u001b[39m: [i \u001b[38;5;28;01mfor\u001b[39;00m i \u001b[38;5;129;01min\u001b[39;00m \u001b[38;5;28mrange\u001b[39m(\u001b[38;5;241m1\u001b[39m, \u001b[38;5;28mself\u001b[39m\u001b[38;5;241m.\u001b[39mn_epochs \u001b[38;5;241m+\u001b[39m \u001b[38;5;241m1\u001b[39m)], \n\u001b[1;32m     24\u001b[0m     \u001b[38;5;124m'\u001b[39m\u001b[38;5;124mtrain_loss\u001b[39m\u001b[38;5;124m'\u001b[39m: \u001b[38;5;28mself\u001b[39m\u001b[38;5;241m.\u001b[39mtrain_losses,\n\u001b[1;32m     25\u001b[0m     \u001b[38;5;124m'\u001b[39m\u001b[38;5;124mval_loss\u001b[39m\u001b[38;5;124m'\u001b[39m: \u001b[38;5;28mself\u001b[39m\u001b[38;5;241m.\u001b[39mval_losses,\n\u001b[0;32m---> 26\u001b[0m     \u001b[38;5;124m'\u001b[39m\u001b[38;5;124mlr\u001b[39m\u001b[38;5;124m'\u001b[39m: \u001b[38;5;28;43mself\u001b[39;49m\u001b[38;5;241;43m.\u001b[39;49m\u001b[43mlr\u001b[49m\n\u001b[1;32m     27\u001b[0m }\n\u001b[1;32m     29\u001b[0m DataFrame(train_log)\u001b[38;5;241m.\u001b[39mto_csv(path \u001b[38;5;241m/\u001b[39m \u001b[38;5;124m'\u001b[39m\u001b[38;5;124mtrain_log.csv\u001b[39m\u001b[38;5;124m'\u001b[39m, index\u001b[38;5;241m=\u001b[39m\u001b[38;5;28;01mFalse\u001b[39;00m)\n",
      "\u001b[0;31mAttributeError\u001b[0m: 'TrainModel' object has no attribute 'lr'"
     ]
    }
   ],
   "source": [
    "from pathlib import Path\n",
    "import json \n",
    "\n",
    "def log(self):\n",
    "    #find model name\n",
    "    name = str(type(self.model)).split('.')[-1][:-2]\n",
    "    path = Path('results') / name\n",
    "    if not path.exists():\n",
    "        path.mkdir(parents=True)\n",
    "\n",
    "    with open(path / 'training_params.json', 'w') as f:\n",
    "        params = {\n",
    "            'model': name,\n",
    "            'extraction_used': str(self.extraction_case_dir),\n",
    "            'n_epochs': self.n_epochs,\n",
    "            'final_val_loss_degrees': self.val_losses[-1] * 180 / np.pi,\n",
    "            'transform': self.transform,\n",
    "        }\n",
    "\n",
    "        json.dump(params, f, indent=4)\n",
    "\n",
    "    train_log = {\n",
    "        'epoch': [i for i in range(1, self.n_epochs + 1)], \n",
    "        'train_loss': self.train_losses,\n",
    "        'val_loss': self.val_losses,\n",
    "        'lr': self.lr\n",
    "    }\n",
    "\n",
    "    DataFrame(train_log).to_csv(path / 'train_log.csv', index=False)\n",
    "    \n",
    "log(tm)"
   ]
  },
  {
   "cell_type": "code",
   "execution_count": null,
   "id": "aced15b6-2e0b-4dbb-8e1a-e6d4b5774380",
   "metadata": {},
   "outputs": [],
   "source": []
  },
  {
   "cell_type": "code",
   "execution_count": 13,
   "id": "bacf2cd7-73eb-4dcc-b54d-e1c4dc3593ee",
   "metadata": {},
   "outputs": [
    {
     "data": {
      "text/plain": [
       "<matplotlib.legend.Legend at 0x7f9c68d70f10>"
      ]
     },
     "execution_count": 13,
     "metadata": {},
     "output_type": "execute_result"
    },
    {
     "data": {
      "image/png": "[encoded data removed]",
      "text/plain": [
       "<Figure size 640x480 with 1 Axes>"
      ]
     },
     "metadata": {},
     "output_type": "display_data"
    }
   ],
   "source": [
    "import matplotlib.pyplot as plt\n",
    "\n",
    "plt.plot(tm.train_losses, label='train')\n",
    "plt.plot(tm.val_losses, label='val')\n",
    "\n",
    "plt.legend()"
   ]
  },
  {
   "cell_type": "code",
   "execution_count": 14,
   "id": "27f07ad6-55df-4ac4-ae90-5c6761a84011",
   "metadata": {},
   "outputs": [
    {
     "data": {
      "text/plain": [
       "0.032039413997487005"
      ]
     },
     "execution_count": 14,
     "metadata": {},
     "output_type": "execute_result"
    }
   ],
   "source": [
    "tm.train_losses[-1]"
   ]
  },
  {
   "cell_type": "code",
   "execution_count": 110,
   "id": "f6591b89-b8b1-47bd-92fa-c611d10609af",
   "metadata": {},
   "outputs": [
    {
     "data": {
      "text/plain": [
       "9.940876719956371"
      ]
     },
     "execution_count": 110,
     "metadata": {},
     "output_type": "execute_result"
    }
   ],
   "source": [
    "np.mean(tm.val_losses)  * 180 /np.pi"
   ]
  },
  {
   "cell_type": "code",
   "execution_count": 112,
   "id": "13cc7217-8684-4463-8b99-9427bfb691df",
   "metadata": {},
   "outputs": [
    {
     "data": {
      "text/plain": [
       "(array([103.,   7.,   8.,   2.,  11.,   4.,   7.,   2.,   2.,   4.]),\n",
       " array([ 3.03066151,  7.15104644, 11.27143137, 15.3918163 , 19.51220123,\n",
       "        23.63258616, 27.7529711 , 31.87335603, 35.99374096, 40.11412589,\n",
       "        44.23451082]),\n",
       " <BarContainer object of 10 artists>)"
      ]
     },
     "execution_count": 112,
     "metadata": {},
     "output_type": "execute_result"
    },
    {
     "data": {
      "image/png": "[encoded data removed]",
      "text/plain": [
       "<Figure size 640x480 with 1 Axes>"
      ]
     },
     "metadata": {},
     "output_type": "display_data"
    }
   ],
   "source": [
    "plt.hist(np.array(tm.val_losses) * 180 / np.pi)"
   ]
  },
  {
   "cell_type": "code",
   "execution_count": 108,
   "id": "9698de0e-2858-4f4f-9f7c-1c78c5716fbe",
   "metadata": {
    "collapsed": true,
    "jupyter": {
     "outputs_hidden": true
    },
    "tags": []
   },
   "outputs": [
    {
     "data": {
      "text/plain": [
       "[1,\n",
       " 2,\n",
       " 3,\n",
       " 4,\n",
       " 5,\n",
       " 6,\n",
       " 7,\n",
       " 8,\n",
       " 9,\n",
       " 10,\n",
       " 11,\n",
       " 12,\n",
       " 13,\n",
       " 14,\n",
       " 15,\n",
       " 16,\n",
       " 17,\n",
       " 18,\n",
       " 19,\n",
       " 20,\n",
       " 21,\n",
       " 22,\n",
       " 23,\n",
       " 24,\n",
       " 25,\n",
       " 26,\n",
       " 27,\n",
       " 28,\n",
       " 29,\n",
       " 30,\n",
       " 31,\n",
       " 32,\n",
       " 33,\n",
       " 34,\n",
       " 35,\n",
       " 36,\n",
       " 37,\n",
       " 38,\n",
       " 39,\n",
       " 40,\n",
       " 41,\n",
       " 42,\n",
       " 43,\n",
       " 44,\n",
       " 45,\n",
       " 46,\n",
       " 47,\n",
       " 48,\n",
       " 49,\n",
       " 50,\n",
       " 51,\n",
       " 52,\n",
       " 53,\n",
       " 54,\n",
       " 55,\n",
       " 56,\n",
       " 57,\n",
       " 58,\n",
       " 59,\n",
       " 60,\n",
       " 61,\n",
       " 62,\n",
       " 63,\n",
       " 64,\n",
       " 65,\n",
       " 66,\n",
       " 67,\n",
       " 68,\n",
       " 69,\n",
       " 70,\n",
       " 71,\n",
       " 72,\n",
       " 73,\n",
       " 74,\n",
       " 75,\n",
       " 76,\n",
       " 77,\n",
       " 78,\n",
       " 79,\n",
       " 80,\n",
       " 81,\n",
       " 82,\n",
       " 83,\n",
       " 84,\n",
       " 85,\n",
       " 86,\n",
       " 87,\n",
       " 88,\n",
       " 89,\n",
       " 90,\n",
       " 91,\n",
       " 92,\n",
       " 93,\n",
       " 94,\n",
       " 95,\n",
       " 96,\n",
       " 97,\n",
       " 98,\n",
       " 99,\n",
       " 100,\n",
       " 101,\n",
       " 102,\n",
       " 103,\n",
       " 104,\n",
       " 105,\n",
       " 106,\n",
       " 107,\n",
       " 108,\n",
       " 109,\n",
       " 110,\n",
       " 111,\n",
       " 112,\n",
       " 113,\n",
       " 114,\n",
       " 115,\n",
       " 116,\n",
       " 117,\n",
       " 118,\n",
       " 119,\n",
       " 120,\n",
       " 121,\n",
       " 122,\n",
       " 123,\n",
       " 124,\n",
       " 125,\n",
       " 126,\n",
       " 127,\n",
       " 128,\n",
       " 129]"
      ]
     },
     "execution_count": 108,
     "metadata": {},
     "output_type": "execute_result"
    }
   ],
   "source": [
    "from imports.ExtractContactCases import cases_dict\n",
    "case = list(cases_dict.keys())[:-1]\n",
    "angles = np.array([v for _,v in cases_dict.items()])[:-1]\n",
    "case"
   ]
  },
  {
   "cell_type": "code",
   "execution_count": 97,
   "id": "b0ae61cf-eb75-4def-a346-afdb50d4e657",
   "metadata": {},
   "outputs": [
    {
     "data": {
      "text/plain": [
       "(129, 2)"
      ]
     },
     "execution_count": 97,
     "metadata": {},
     "output_type": "execute_result"
    }
   ],
   "source": [
    "angles.shape"
   ]
  },
  {
   "cell_type": "code",
   "execution_count": 98,
   "id": "4dee55b9-97ad-464e-a4b5-861ac6dd8257",
   "metadata": {},
   "outputs": [
    {
     "data": {
      "text/plain": [
       "51"
      ]
     },
     "execution_count": 98,
     "metadata": {},
     "output_type": "execute_result"
    }
   ],
   "source": [
    "len(tm.val_loader)"
   ]
  },
  {
   "cell_type": "code",
   "execution_count": 115,
   "id": "76e377a6-9991-464f-becb-ea8079376818",
   "metadata": {
    "tags": []
   },
   "outputs": [
    {
     "name": "stdout",
     "output_type": "stream",
     "text": [
      "2.0402274508411145 4\n",
      "3.621904175337899 71\n",
      "3.5664044060199025 31\n",
      "4.385759661826745 105\n",
      "3.627621470560023 89\n",
      "2.36212124637571 74\n",
      "3.933117476001299 80\n",
      "0.7465327393715179 19\n",
      "0.5125561783379744 98\n",
      "0.2656876352460318 45\n",
      "3.499749230239983 37\n",
      "1.4880452897030765 35\n",
      "1.6823306609743238 4\n",
      "2.7918152772503824 46\n",
      "0.6458385154500462 28\n",
      "1.2494351923696196 95\n",
      "5.016471282616769 118\n",
      "1.4566631317878065 29\n",
      "1.379521801362919 59\n",
      "5.980088457987332 127\n",
      "4.619113928593876 16\n",
      "7.24576007723113 81\n",
      "3.713599038058497 7\n",
      "1.7500449429624187 87\n",
      "3.7186230690798645 103\n",
      "6.716171114650436 40\n",
      "2.5974084566779556 64\n",
      "1.7059726137343825 59\n",
      "2.9801656410197115 27\n",
      "1.2154641793155034 26\n",
      "4.809993383346814 104\n",
      "4.377082333373067 54\n",
      "0.6143532110061386 87\n",
      "2.8024629018361975 101\n",
      "0.8169739743857404 83\n",
      "1.854415356122091 118\n",
      "1.6986572676898872 42\n",
      "1.6310218530423648 122\n",
      "0.8156560680410452 58\n",
      "4.2342460023551745 117\n",
      "2.551583223432459 48\n",
      "7.053470188414583 72\n",
      "2.7572244245290873 103\n",
      "1.9956164971639994 62\n",
      "2.3164087112515186 102\n",
      "0.4070525941063146 78\n",
      "4.480738991764472 22\n",
      "2.3823887655206653 88\n",
      "2.2190119212344293 12\n",
      "3.577789904479491 76\n",
      "2.1175511686611825 5\n"
     ]
    }
   ],
   "source": [
    "val_loss = []\n",
    "for i, data in enumerate(tm.val_loader):\n",
    "    angle = data.y.numpy()\n",
    "\n",
    "    data = data.to('cuda')\n",
    "    now = time()\n",
    "    end_point = tm.model(data)\n",
    "    forward_time.append(time() - now)\n",
    "    loss = tm.loss_func(end_point[0], data.y).detach().item()\n",
    "    val_loss.append(loss)\n",
    "    euc2 = np.sum((angles - angle)**2, axis=1)\n",
    "    idx = np.argmin(euc2)\n",
    "    print(loss * 180/np.pi, idx + 1)\n",
    "                    "
   ]
  },
  {
   "cell_type": "code",
   "execution_count": 120,
   "id": "1f22f008-248c-4766-be59-1cac0c7a75f7",
   "metadata": {},
   "outputs": [
    {
     "data": {
      "text/plain": [
       "1.0"
      ]
     },
     "execution_count": 120,
     "metadata": {},
     "output_type": "execute_result"
    }
   ],
   "source": [
    "5 * 0.2"
   ]
  },
  {
   "cell_type": "code",
   "execution_count": 104,
   "id": "b344ea07-8cec-435f-9c19-c4fbd15843f5",
   "metadata": {},
   "outputs": [
    {
     "data": {
      "text/plain": [
       "array([5.62500009e-03, 3.31162361e-03, 1.60748198e-03, 5.12575170e-04,\n",
       "       9.52597987e-19, 3.99999975e-04, 1.59999995e-03, 3.59999993e-03,\n",
       "       5.62499991e-03, 3.51090654e-03, 2.00604783e-03, 1.11042396e-03,\n",
       "       8.56355310e-04, 1.48471670e-03, 2.91307809e-03, 5.14143948e-03,\n",
       "       7.33771053e-03, 4.07841629e-03, 3.14106733e-03, 2.81295321e-03,\n",
       "       3.29504882e-03, 4.57372848e-03, 6.65240814e-03, 9.53108780e-03,\n",
       "       1.22150975e-02, 4.92775465e-03, 4.83974404e-03, 5.36096827e-03,\n",
       "       6.94481155e-03, 9.19676127e-03, 1.22487110e-02, 1.61006607e-02,\n",
       "       1.95146230e-02, 5.92961754e-03, 6.84346982e-03, 8.36655695e-03,\n",
       "       1.12500002e-02, 1.46500002e-02, 1.88500003e-02, 2.38500003e-02,\n",
       "       2.81250003e-02, 6.93148043e-03, 8.84719560e-03, 1.13721456e-02,\n",
       "       1.55551888e-02, 2.01032392e-02, 2.54512895e-02, 3.15993399e-02,\n",
       "       3.67353776e-02, 7.78081877e-03, 1.05458723e-02, 1.39201607e-02,\n",
       "       1.92049515e-02, 2.47262719e-02, 3.10475923e-02, 3.81689127e-02,\n",
       "       4.40349030e-02, 8.34832850e-03, 1.16808917e-02, 1.56226898e-02,\n",
       "       2.16436450e-02, 2.78152836e-02, 3.47869222e-02, 4.25585609e-02,\n",
       "       4.89122898e-02, 8.54761141e-03, 1.20794576e-02, 1.62205386e-02,\n",
       "       2.25000002e-02, 2.89000002e-02, 3.61000002e-02, 4.41000003e-02,\n",
       "       5.06250003e-02, 8.34832848e-03, 1.16808917e-02, 1.56226898e-02,\n",
       "       2.16436449e-02, 2.78152835e-02, 3.47869221e-02, 4.25585607e-02,\n",
       "       4.89122897e-02, 7.78081873e-03, 1.05458722e-02, 1.39201605e-02,\n",
       "       1.92049514e-02, 2.47262717e-02, 3.10475920e-02, 3.81689124e-02,\n",
       "       4.40349026e-02, 6.93148038e-03, 8.84719550e-03, 1.13721455e-02,\n",
       "       1.55551886e-02, 2.01032389e-02, 2.54512892e-02, 3.15993395e-02,\n",
       "       3.67353772e-02, 5.92961748e-03, 6.84346972e-03, 8.36655679e-03,\n",
       "       1.12500000e-02, 1.46499999e-02, 1.88499999e-02, 2.38499999e-02,\n",
       "       2.81249999e-02, 4.92775460e-03, 4.83974394e-03, 5.36096812e-03,\n",
       "       6.94481134e-03, 9.19676100e-03, 1.22487107e-02, 1.61006603e-02,\n",
       "       1.95146226e-02, 4.07841626e-03, 3.14106726e-03, 2.81295310e-03,\n",
       "       3.29504866e-03, 4.57372828e-03, 6.65240789e-03, 9.53108751e-03,\n",
       "       1.22150972e-02, 3.51090652e-03, 2.00604779e-03, 1.11042390e-03,\n",
       "       8.56355223e-04, 1.48471659e-03, 2.91307796e-03, 5.14143933e-03,\n",
       "       7.33771035e-03])"
      ]
     },
     "execution_count": 104,
     "metadata": {},
     "output_type": "execute_result"
    }
   ],
   "source": [
    "np.sum((angles - angle)**2, axis=-1)"
   ]
  },
  {
   "cell_type": "code",
   "execution_count": 15,
   "id": "930f8d90-704a-498c-aabc-e20674492384",
   "metadata": {},
   "outputs": [
    {
     "data": {
      "text/plain": [
       "0.06346648323404439"
      ]
     },
     "execution_count": 15,
     "metadata": {},
     "output_type": "execute_result"
    }
   ],
   "source": [
    "tm.val_losses[-1]"
   ]
  },
  {
   "cell_type": "code",
   "execution_count": null,
   "id": "14750739-fc1b-4a91-83fc-90f63a6cd9f4",
   "metadata": {},
   "outputs": [],
   "source": [
    "tm.model"
   ]
  },
  {
   "cell_type": "code",
   "execution_count": 16,
   "id": "b7dbc74e-443d-4eee-912b-862e8088921d",
   "metadata": {},
   "outputs": [
    {
     "data": {
      "text/plain": [
       "1.0000000000000004e-08"
      ]
     },
     "execution_count": 16,
     "metadata": {},
     "output_type": "execute_result"
    }
   ],
   "source": [
    "tm.optimizer.param_groups[0]['lr'] "
   ]
  },
  {
   "cell_type": "code",
   "execution_count": 111,
   "id": "7484e1eb-6195-4365-ad2b-18cbce23dcb3",
   "metadata": {},
   "outputs": [
    {
     "data": {
      "text/plain": [
       "3.636361629848543"
      ]
     },
     "execution_count": 111,
     "metadata": {},
     "output_type": "execute_result"
    }
   ],
   "source": [
    "import numpy as np\n",
    "tm.val_losses[-1]*180/np.pi"
   ]
  },
  {
   "cell_type": "code",
   "execution_count": 21,
   "id": "fbbf3a4d-10ee-447e-9a4f-3b0728d4acfe",
   "metadata": {},
   "outputs": [
    {
     "ename": "RuntimeError",
     "evalue": "The following operation failed in the TorchScript interpreter.\nTraceback of TorchScript (most recent call last):\n  File \"/home/hussain/miniconda3/envs/tactile38/lib/python3.8/site-packages/torch_spline_conv/weighting.py\", line 8, in spline_weighting\n                     basis: torch.Tensor,\n                     weight_index: torch.Tensor) -> torch.Tensor:\n    return torch.ops.torch_spline_conv.spline_weighting(\n           ~~~~~~~~~~~~~~~~~~~~~~~~~~~~~~~~~~~~~~~~~~~~ <--- HERE\n        x, weight, basis, weight_index)\nRuntimeError: x.size(1) == weight.size(1) INTERNAL ASSERT FAILED at \"csrc/cuda/weighting_cuda.cu\":47, please report a bug to PyTorch. Input mismatch\n",
     "output_type": "error",
     "traceback": [
      "\u001b[0;31m---------------------------------------------------------------------------\u001b[0m",
      "\u001b[0;31mRuntimeError\u001b[0m                              Traceback (most recent call last)",
      "Input \u001b[0;32mIn [21]\u001b[0m, in \u001b[0;36m<cell line: 1>\u001b[0;34m()\u001b[0m\n\u001b[0;32m----> 1\u001b[0m \u001b[43mtm\u001b[49m\u001b[38;5;241;43m.\u001b[39;49m\u001b[43mmodel\u001b[49m\u001b[43m(\u001b[49m\u001b[43mdata\u001b[49m\u001b[43m)\u001b[49m\n",
      "File \u001b[0;32m~/miniconda3/envs/tactile38/lib/python3.8/site-packages/torch/nn/modules/module.py:1130\u001b[0m, in \u001b[0;36mModule._call_impl\u001b[0;34m(self, *input, **kwargs)\u001b[0m\n\u001b[1;32m   1126\u001b[0m \u001b[38;5;66;03m# If we don't have any hooks, we want to skip the rest of the logic in\u001b[39;00m\n\u001b[1;32m   1127\u001b[0m \u001b[38;5;66;03m# this function, and just call forward.\u001b[39;00m\n\u001b[1;32m   1128\u001b[0m \u001b[38;5;28;01mif\u001b[39;00m \u001b[38;5;129;01mnot\u001b[39;00m (\u001b[38;5;28mself\u001b[39m\u001b[38;5;241m.\u001b[39m_backward_hooks \u001b[38;5;129;01mor\u001b[39;00m \u001b[38;5;28mself\u001b[39m\u001b[38;5;241m.\u001b[39m_forward_hooks \u001b[38;5;129;01mor\u001b[39;00m \u001b[38;5;28mself\u001b[39m\u001b[38;5;241m.\u001b[39m_forward_pre_hooks \u001b[38;5;129;01mor\u001b[39;00m _global_backward_hooks\n\u001b[1;32m   1129\u001b[0m         \u001b[38;5;129;01mor\u001b[39;00m _global_forward_hooks \u001b[38;5;129;01mor\u001b[39;00m _global_forward_pre_hooks):\n\u001b[0;32m-> 1130\u001b[0m     \u001b[38;5;28;01mreturn\u001b[39;00m \u001b[43mforward_call\u001b[49m\u001b[43m(\u001b[49m\u001b[38;5;241;43m*\u001b[39;49m\u001b[38;5;28;43minput\u001b[39;49m\u001b[43m,\u001b[49m\u001b[43m \u001b[49m\u001b[38;5;241;43m*\u001b[39;49m\u001b[38;5;241;43m*\u001b[39;49m\u001b[43mkwargs\u001b[49m\u001b[43m)\u001b[49m\n\u001b[1;32m   1131\u001b[0m \u001b[38;5;66;03m# Do not call functions when jit is used\u001b[39;00m\n\u001b[1;32m   1132\u001b[0m full_backward_hooks, non_full_backward_hooks \u001b[38;5;241m=\u001b[39m [], []\n",
      "File \u001b[0;32m~/tactile/src/models/spline.py:20\u001b[0m, in \u001b[0;36mNet.forward\u001b[0;34m(self, data)\u001b[0m\n\u001b[1;32m     19\u001b[0m \u001b[38;5;28;01mdef\u001b[39;00m \u001b[38;5;21mforward\u001b[39m(\u001b[38;5;28mself\u001b[39m, data):\n\u001b[0;32m---> 20\u001b[0m     data\u001b[38;5;241m.\u001b[39mx \u001b[38;5;241m=\u001b[39m F\u001b[38;5;241m.\u001b[39melu(\u001b[38;5;28;43mself\u001b[39;49m\u001b[38;5;241;43m.\u001b[39;49m\u001b[43mconv1\u001b[49m\u001b[43m(\u001b[49m\u001b[43mdata\u001b[49m\u001b[38;5;241;43m.\u001b[39;49m\u001b[43mx\u001b[49m\u001b[43m,\u001b[49m\u001b[43m \u001b[49m\u001b[43mdata\u001b[49m\u001b[38;5;241;43m.\u001b[39;49m\u001b[43medge_index\u001b[49m\u001b[43m,\u001b[49m\u001b[43m \u001b[49m\u001b[43mdata\u001b[49m\u001b[38;5;241;43m.\u001b[39;49m\u001b[43medge_attr\u001b[49m\u001b[43m)\u001b[49m)\n\u001b[1;32m     21\u001b[0m     data\u001b[38;5;241m.\u001b[39mx \u001b[38;5;241m=\u001b[39m \u001b[38;5;28mself\u001b[39m\u001b[38;5;241m.\u001b[39mbn1(data\u001b[38;5;241m.\u001b[39mx)\n\u001b[1;32m     22\u001b[0m     cluster \u001b[38;5;241m=\u001b[39m voxel_grid(data\u001b[38;5;241m.\u001b[39mpos, batch\u001b[38;5;241m=\u001b[39mdata\u001b[38;5;241m.\u001b[39mbatch, size\u001b[38;5;241m=\u001b[39m\u001b[38;5;241m0.05\u001b[39m)\n",
      "File \u001b[0;32m~/miniconda3/envs/tactile38/lib/python3.8/site-packages/torch/nn/modules/module.py:1130\u001b[0m, in \u001b[0;36mModule._call_impl\u001b[0;34m(self, *input, **kwargs)\u001b[0m\n\u001b[1;32m   1126\u001b[0m \u001b[38;5;66;03m# If we don't have any hooks, we want to skip the rest of the logic in\u001b[39;00m\n\u001b[1;32m   1127\u001b[0m \u001b[38;5;66;03m# this function, and just call forward.\u001b[39;00m\n\u001b[1;32m   1128\u001b[0m \u001b[38;5;28;01mif\u001b[39;00m \u001b[38;5;129;01mnot\u001b[39;00m (\u001b[38;5;28mself\u001b[39m\u001b[38;5;241m.\u001b[39m_backward_hooks \u001b[38;5;129;01mor\u001b[39;00m \u001b[38;5;28mself\u001b[39m\u001b[38;5;241m.\u001b[39m_forward_hooks \u001b[38;5;129;01mor\u001b[39;00m \u001b[38;5;28mself\u001b[39m\u001b[38;5;241m.\u001b[39m_forward_pre_hooks \u001b[38;5;129;01mor\u001b[39;00m _global_backward_hooks\n\u001b[1;32m   1129\u001b[0m         \u001b[38;5;129;01mor\u001b[39;00m _global_forward_hooks \u001b[38;5;129;01mor\u001b[39;00m _global_forward_pre_hooks):\n\u001b[0;32m-> 1130\u001b[0m     \u001b[38;5;28;01mreturn\u001b[39;00m \u001b[43mforward_call\u001b[49m\u001b[43m(\u001b[49m\u001b[38;5;241;43m*\u001b[39;49m\u001b[38;5;28;43minput\u001b[39;49m\u001b[43m,\u001b[49m\u001b[43m \u001b[49m\u001b[38;5;241;43m*\u001b[39;49m\u001b[38;5;241;43m*\u001b[39;49m\u001b[43mkwargs\u001b[49m\u001b[43m)\u001b[49m\n\u001b[1;32m   1131\u001b[0m \u001b[38;5;66;03m# Do not call functions when jit is used\u001b[39;00m\n\u001b[1;32m   1132\u001b[0m full_backward_hooks, non_full_backward_hooks \u001b[38;5;241m=\u001b[39m [], []\n",
      "File \u001b[0;32m~/miniconda3/envs/tactile38/lib/python3.8/site-packages/torch_geometric/nn/conv/spline_conv.py:138\u001b[0m, in \u001b[0;36mSplineConv.forward\u001b[0;34m(self, x, edge_index, edge_attr, size)\u001b[0m\n\u001b[1;32m    133\u001b[0m     warnings\u001b[38;5;241m.\u001b[39mwarn(\n\u001b[1;32m    134\u001b[0m         \u001b[38;5;124m'\u001b[39m\u001b[38;5;124mWe do not recommend using the non-optimized CPU version of \u001b[39m\u001b[38;5;124m'\u001b[39m\n\u001b[1;32m    135\u001b[0m         \u001b[38;5;124m'\u001b[39m\u001b[38;5;124m`SplineConv`. If possible, please move your data to GPU.\u001b[39m\u001b[38;5;124m'\u001b[39m)\n\u001b[1;32m    137\u001b[0m \u001b[38;5;66;03m# propagate_type: (x: OptPairTensor, edge_attr: OptTensor)\u001b[39;00m\n\u001b[0;32m--> 138\u001b[0m out \u001b[38;5;241m=\u001b[39m \u001b[38;5;28;43mself\u001b[39;49m\u001b[38;5;241;43m.\u001b[39;49m\u001b[43mpropagate\u001b[49m\u001b[43m(\u001b[49m\u001b[43medge_index\u001b[49m\u001b[43m,\u001b[49m\u001b[43m \u001b[49m\u001b[43mx\u001b[49m\u001b[38;5;241;43m=\u001b[39;49m\u001b[43mx\u001b[49m\u001b[43m,\u001b[49m\u001b[43m \u001b[49m\u001b[43medge_attr\u001b[49m\u001b[38;5;241;43m=\u001b[39;49m\u001b[43medge_attr\u001b[49m\u001b[43m,\u001b[49m\u001b[43m \u001b[49m\u001b[43msize\u001b[49m\u001b[38;5;241;43m=\u001b[39;49m\u001b[43msize\u001b[49m\u001b[43m)\u001b[49m\n\u001b[1;32m    140\u001b[0m x_r \u001b[38;5;241m=\u001b[39m x[\u001b[38;5;241m1\u001b[39m]\n\u001b[1;32m    141\u001b[0m \u001b[38;5;28;01mif\u001b[39;00m x_r \u001b[38;5;129;01mis\u001b[39;00m \u001b[38;5;129;01mnot\u001b[39;00m \u001b[38;5;28;01mNone\u001b[39;00m \u001b[38;5;129;01mand\u001b[39;00m \u001b[38;5;28mself\u001b[39m\u001b[38;5;241m.\u001b[39mroot_weight:\n",
      "File \u001b[0;32m~/miniconda3/envs/tactile38/lib/python3.8/site-packages/torch_geometric/nn/conv/message_passing.py:374\u001b[0m, in \u001b[0;36mMessagePassing.propagate\u001b[0;34m(self, edge_index, size, **kwargs)\u001b[0m\n\u001b[1;32m    372\u001b[0m     \u001b[38;5;28;01mif\u001b[39;00m res \u001b[38;5;129;01mis\u001b[39;00m \u001b[38;5;129;01mnot\u001b[39;00m \u001b[38;5;28;01mNone\u001b[39;00m:\n\u001b[1;32m    373\u001b[0m         msg_kwargs \u001b[38;5;241m=\u001b[39m res[\u001b[38;5;241m0\u001b[39m] \u001b[38;5;28;01mif\u001b[39;00m \u001b[38;5;28misinstance\u001b[39m(res, \u001b[38;5;28mtuple\u001b[39m) \u001b[38;5;28;01melse\u001b[39;00m res\n\u001b[0;32m--> 374\u001b[0m out \u001b[38;5;241m=\u001b[39m \u001b[38;5;28;43mself\u001b[39;49m\u001b[38;5;241;43m.\u001b[39;49m\u001b[43mmessage\u001b[49m\u001b[43m(\u001b[49m\u001b[38;5;241;43m*\u001b[39;49m\u001b[38;5;241;43m*\u001b[39;49m\u001b[43mmsg_kwargs\u001b[49m\u001b[43m)\u001b[49m\n\u001b[1;32m    375\u001b[0m \u001b[38;5;28;01mfor\u001b[39;00m hook \u001b[38;5;129;01min\u001b[39;00m \u001b[38;5;28mself\u001b[39m\u001b[38;5;241m.\u001b[39m_message_forward_hooks\u001b[38;5;241m.\u001b[39mvalues():\n\u001b[1;32m    376\u001b[0m     res \u001b[38;5;241m=\u001b[39m hook(\u001b[38;5;28mself\u001b[39m, (msg_kwargs, ), out)\n",
      "File \u001b[0;32m~/miniconda3/envs/tactile38/lib/python3.8/site-packages/torch_geometric/nn/conv/spline_conv.py:152\u001b[0m, in \u001b[0;36mSplineConv.message\u001b[0;34m(self, x_j, edge_attr)\u001b[0m\n\u001b[1;32m    149\u001b[0m \u001b[38;5;28;01mdef\u001b[39;00m \u001b[38;5;21mmessage\u001b[39m(\u001b[38;5;28mself\u001b[39m, x_j: Tensor, edge_attr: Tensor) \u001b[38;5;241m-\u001b[39m\u001b[38;5;241m>\u001b[39m Tensor:\n\u001b[1;32m    150\u001b[0m     data \u001b[38;5;241m=\u001b[39m spline_basis(edge_attr, \u001b[38;5;28mself\u001b[39m\u001b[38;5;241m.\u001b[39mkernel_size, \u001b[38;5;28mself\u001b[39m\u001b[38;5;241m.\u001b[39mis_open_spline,\n\u001b[1;32m    151\u001b[0m                         \u001b[38;5;28mself\u001b[39m\u001b[38;5;241m.\u001b[39mdegree)\n\u001b[0;32m--> 152\u001b[0m     \u001b[38;5;28;01mreturn\u001b[39;00m \u001b[43mspline_weighting\u001b[49m\u001b[43m(\u001b[49m\u001b[43mx_j\u001b[49m\u001b[43m,\u001b[49m\u001b[43m \u001b[49m\u001b[38;5;28;43mself\u001b[39;49m\u001b[38;5;241;43m.\u001b[39;49m\u001b[43mweight\u001b[49m\u001b[43m,\u001b[49m\u001b[43m \u001b[49m\u001b[38;5;241;43m*\u001b[39;49m\u001b[43mdata\u001b[49m\u001b[43m)\u001b[49m\n",
      "\u001b[0;31mRuntimeError\u001b[0m: The following operation failed in the TorchScript interpreter.\nTraceback of TorchScript (most recent call last):\n  File \"/home/hussain/miniconda3/envs/tactile38/lib/python3.8/site-packages/torch_spline_conv/weighting.py\", line 8, in spline_weighting\n                     basis: torch.Tensor,\n                     weight_index: torch.Tensor) -> torch.Tensor:\n    return torch.ops.torch_spline_conv.spline_weighting(\n           ~~~~~~~~~~~~~~~~~~~~~~~~~~~~~~~~~~~~~~~~~~~~ <--- HERE\n        x, weight, basis, weight_index)\nRuntimeError: x.size(1) == weight.size(1) INTERNAL ASSERT FAILED at \"csrc/cuda/weighting_cuda.cu\":47, please report a bug to PyTorch. Input mismatch\n"
     ]
    }
   ],
   "source": [
    "tm.model(data)"
   ]
  },
  {
   "cell_type": "code",
   "execution_count": 23,
   "id": "08080a13-fcf9-4ca2-93a6-54c3c292603e",
   "metadata": {},
   "outputs": [
    {
     "data": {
      "text/plain": [
       "tensor([-0.0507, -0.0659], device='cuda:0', grad_fn=<SelectBackward0>)"
      ]
     },
     "execution_count": 23,
     "metadata": {},
     "output_type": "execute_result"
    }
   ],
   "source": [
    "end_point[0]"
   ]
  },
  {
   "cell_type": "code",
   "execution_count": 28,
   "id": "42d2d85e-f9fe-469e-88d2-b6664257fa0b",
   "metadata": {},
   "outputs": [
    {
     "data": {
      "text/plain": [
       "0.048146583861214856"
      ]
     },
     "execution_count": 28,
     "metadata": {},
     "output_type": "execute_result"
    }
   ],
   "source": [
    "from time import time\n",
    "\n",
    "loss = 0\n",
    "forward_time = []\n",
    "for i, data in enumerate(tm.val_loader):      \n",
    "    data = data.to('cuda')\n",
    "    now = time()\n",
    "    end_point = tm.model(data)\n",
    "    forward_time.append(time() - now)\n",
    "    loss += tm.loss_func(end_point[0], data.y).detach().item()\n",
    "loss /= len(tm.val_data)\n",
    "\n",
    "loss"
   ]
  },
  {
   "cell_type": "code",
   "execution_count": 34,
   "id": "f4d028e6-c9d7-4b3e-a94d-d7c131e26fab",
   "metadata": {},
   "outputs": [
    {
     "name": "stdout",
     "output_type": "stream",
     "text": [
      "y_true = [0.04837422072887421, 0.02003725804388523], y_pred = [-0.01320759579539299, 0.03783872723579407]\n",
      "y_true = [-0.10624614357948303, -0.04400859400629997], y_pred = [-0.048981040716171265, -0.010003202594816685]\n",
      "y_true = [7.04171907149247e-18, 0.11500000208616257], y_pred = [-0.029995430260896683, 0.015926769003272057]\n",
      "y_true = [0.057402513921260834, -0.13858193159103394], y_pred = [0.045628033578395844, -0.03280794620513916]\n",
      "y_true = [-0.057402513921260834, -0.13858193159103394], y_pred = [0.0467793308198452, -0.017826126888394356]\n",
      "y_true = [-0.012341341935098171, -0.012341341935098171], y_pred = [0.009138413704931736, -0.00729153398424387]\n",
      "y_true = [-0.09545941650867462, -0.09545941650867462], y_pred = [-0.03693244606256485, -0.021209578961133957]\n",
      "y_true = [0.01335817202925682, 0.03224948048591614], y_pred = [0.029029974713921547, -0.02814919501543045]\n",
      "y_true = [0.00667908601462841, -0.01612474024295807], y_pred = [-0.006363505497574806, 0.018351202830672264]\n",
      "y_true = [-0.0530330091714859, 0.0530330091714859], y_pred = [-0.015603546053171158, 0.06426586955785751]\n",
      "y_true = [-0.028701256960630417, 0.06929096579551697], y_pred = [0.05318077653646469, -0.08560764789581299]\n",
      "y_true = [-0.01335817202925682, 0.03224948048591614], y_pred = [0.09543340653181076, 0.04770719259977341]\n",
      "y_true = [0.04837422072887421, 0.02003725804388523], y_pred = [-0.029442576691508293, 0.03127684444189072]\n",
      "y_true = [-0.06717514246702194, 0.06717514246702194], y_pred = [-0.06171287223696709, 0.04239267855882645]\n",
      "y_true = [3.2061177262601143e-18, 0.05235987901687622], y_pred = [0.020990392193198204, 0.07697043567895889]\n",
      "y_true = [-2.112515721447741e-17, -0.11500000208616257], y_pred = [-0.08710243552923203, -0.11699790507555008]\n",
      "y_true = [0.0877685546875, -0.036354925483465195], y_pred = [0.07068446278572083, 0.037649065256118774]\n",
      "y_true = [4.5924256971943795e-18, 0.07500000298023224], y_pred = [0.01797935925424099, 0.049017392098903656]\n",
      "y_true = [-0.03490658476948738, 4.2748239107403566e-18], y_pred = [-0.07308761030435562, 0.012796761468052864]\n",
      "y_true = [0.11500000208616257, -2.816687628596988e-17], y_pred = [-0.07630565017461777, -0.07619889825582504]\n",
      "y_true = [0.09545941650867462, 0.09545941650867462], y_pred = [0.09246360510587692, 0.04226163029670715]\n",
      "y_true = [-0.1060660183429718, -0.1060660183429718], y_pred = [0.03148289769887924, 0.03242828696966171]\n",
      "y_true = [0.10624614357948303, 0.04400859400629997], y_pred = [0.05108606815338135, -0.007391163147985935]\n",
      "y_true = [-0.04400859400629997, -0.10624614357948303], y_pred = [-0.0033932619262486696, -0.045706167817115784]\n",
      "y_true = [0.04400859400629997, -0.10624614357948303], y_pred = [-0.04990570992231369, -0.09001142531633377]\n",
      "y_true = [-0.05166226252913475, 0.12472373992204666], y_pred = [-0.02432340569794178, -0.026802189648151398]\n",
      "y_true = [-0.13500000536441803, 1.653273151728303e-17], y_pred = [-0.06414954364299774, -0.053929686546325684]\n",
      "y_true = [-0.03490658476948738, 4.2748239107403566e-18], y_pred = [-0.010862668976187706, -0.015086246654391289]\n",
      "y_true = [2.1374119553701783e-18, 0.03490658476948738], y_pred = [-0.07694541662931442, -0.015995007008314133]\n",
      "y_true = [1.0687059776850892e-18, 0.01745329238474369], y_pred = [0.0545506589114666, 0.015198791399598122]\n",
      "y_true = [0.05166226252913475, -0.12472373992204666], y_pred = [-0.025615466758608818, -0.016247153282165527]\n",
      "y_true = [-0.0877685546875, 0.036354925483465195], y_pred = [-0.0029576050583273172, 0.042186252772808075]\n",
      "y_true = [-0.04400859400629997, -0.10624614357948303], y_pred = [-0.026780037209391594, -0.050269417464733124]\n",
      "y_true = [0.028701256960630417, -0.06929096579551697], y_pred = [-0.061293862760066986, -0.06602617353200912]\n",
      "y_true = [-0.01335817202925682, -0.03224948048591614], y_pred = [-0.06323227286338806, -0.021119659766554832]\n",
      "y_true = [0.0877685546875, -0.036354925483465195], y_pred = [0.09770812839269638, 0.042922720313072205]\n",
      "y_true = [-0.012341341935098171, 0.012341341935098171], y_pred = [-0.011163469403982162, 0.05843092501163483]\n",
      "y_true = [0.01745329238474369, -4.2748239107403566e-18], y_pred = [0.0008673712145537138, -0.06794380396604538]\n",
      "y_true = [-0.01745329238474369, 2.1374119553701783e-18], y_pred = [0.015207262709736824, 0.010148685425519943]\n",
      "y_true = [0.06929096579551697, -0.028701256960630417], y_pred = [-0.024050753563642502, -0.09088312089443207]\n",
      "y_true = [-0.09545941650867462, 0.09545941650867462], y_pred = [0.031069429591298103, 0.10686321556568146]\n",
      "y_true = [-0.12472373992204666, -0.05166226252913475], y_pred = [0.08383174985647202, 0.0026463810354471207]\n",
      "y_true = [0.04400859400629997, -0.10624614357948303], y_pred = [0.003909851424396038, -0.09387020021677017]\n",
      "y_true = [-0.0949999988079071, 1.163414476868685e-17], y_pred = [-0.05413416773080826, 0.00405564159154892]\n",
      "y_true = [0.036354925483465195, -0.0877685546875], y_pred = [-0.04328370466828346, -0.06907432526350021]\n",
      "y_true = [-0.06717514246702194, -0.06717514246702194], y_pred = [-0.03088466264307499, -0.10468514263629913]\n",
      "y_true = [0.036354925483465195, 0.0877685546875], y_pred = [0.014710646122694016, 0.010071638971567154]\n",
      "y_true = [-0.05166226252913475, -0.12472373992204666], y_pred = [-0.07067137211561203, -0.07421671599149704]\n",
      "y_true = [0.03702402487397194, 0.03702402487397194], y_pred = [0.02430945448577404, 0.038260266184806824]\n",
      "y_true = [-0.03702402487397194, -0.03702402487397194], y_pred = [-0.07924286276102066, -0.06760013103485107]\n",
      "y_true = [0.06929096579551697, 0.028701256960630417], y_pred = [-0.024387957528233528, 0.04081486165523529]\n"
     ]
    }
   ],
   "source": [
    "for i, data in enumerate(tm.val_loader):      \n",
    "    data = data.to('cuda')\n",
    "    now = time()\n",
    "    end_point = tm.model(data)\n",
    "    forward_time.append(time() - now)\n",
    "    loss += tm.loss_func(end_point[0], data.y).detach().item()\n",
    "    \n",
    "    print(f'y_true = {data.y.tolist()}, y_pred = {end_point[0].tolist()}')\n",
    "loss /= len(tm.val_data)"
   ]
  },
  {
   "cell_type": "code",
   "execution_count": 32,
   "id": "e09d5c3e-089f-4c11-8b94-176757f703d7",
   "metadata": {},
   "outputs": [
    {
     "data": {
      "text/plain": [
       "Text(0.5, 0, 'forward inference time (s)')"
      ]
     },
     "execution_count": 32,
     "metadata": {},
     "output_type": "execute_result"
    },
    {
     "data": {
      "image/png": "[encoded data removed]",
      "text/plain": [
       "<Figure size 640x480 with 1 Axes>"
      ]
     },
     "metadata": {},
     "output_type": "display_data"
    }
   ],
   "source": [
    "import seaborn as sns\n",
    "import matplotlib.pyplot as plt\n",
    "\n",
    "sns.histplot(forward_time)\n",
    "plt.xlabel('forward inference time (s)')"
   ]
  },
  {
   "cell_type": "code",
   "execution_count": 122,
   "id": "ce8d850d-bdf0-4b69-a118-a6c811ff9345",
   "metadata": {},
   "outputs": [
    {
     "data": {
      "text/plain": [
       "0.11334554510792409"
      ]
     },
     "execution_count": 122,
     "metadata": {},
     "output_type": "execute_result"
    }
   ],
   "source": [
    "np.mean(forward_time)"
   ]
  },
  {
   "cell_type": "code",
   "execution_count": 27,
   "id": "dc533c96-2326-414b-ba2d-8bcebde05d16",
   "metadata": {},
   "outputs": [
    {
     "data": {
      "text/plain": [
       "2.933049470632346"
      ]
     },
     "execution_count": 27,
     "metadata": {},
     "output_type": "execute_result"
    }
   ],
   "source": [
    "loss * 180 / np.pi"
   ]
  }
 ],
 "metadata": {
  "kernelspec": {
   "display_name": "Python 3 (ipykernel)",
   "language": "python",
   "name": "python3"
  },
  "language_info": {
   "codemirror_mode": {
    "name": "ipython",
    "version": 3
   },
   "file_extension": ".py",
   "mimetype": "text/x-python",
   "name": "python",
   "nbconvert_exporter": "python",
   "pygments_lexer": "ipython3",
   "version": "3.8.13"
  }
 },
 "nbformat": 4,
 "nbformat_minor": 5
}
