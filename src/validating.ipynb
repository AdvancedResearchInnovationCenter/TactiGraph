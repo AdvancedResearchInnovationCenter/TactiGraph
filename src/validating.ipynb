{
 "cells": [
  {
   "cell_type": "code",
   "execution_count": 1,
   "id": "f5f3cd50-2107-400e-acc0-f6175a6e70d5",
   "metadata": {},
   "outputs": [],
   "source": [
    "from models.modules import MaxPooling, MaxPoolingX\n",
    "import torch\n",
    "import torch_geometric\n",
    "\n",
    "from torch.nn import Linear\n",
    "from torch.nn.functional import elu\n",
    "from torch_geometric.nn.conv import SplineConv\n",
    "from torch_geometric.nn.norm import BatchNorm\n",
    "from torch_geometric.transforms import Cartesian\n",
    "from torch_geometric.data import Data, Batch\n",
    "from torch_geometric.nn.pool import radius_graph, knn_graph\n",
    "\n",
    "from models.modules import TransitionDown\n",
    "from torch_geometric import seed_everything\n",
    "\n",
    "seed_everything(0)\n",
    "\n",
    "class GraphRes(torch.nn.Module):\n",
    "\n",
    "    def __init__(self):\n",
    "        super(GraphRes, self).__init__()\n",
    "        dim = 3\n",
    "\n",
    "        bias = False\n",
    "        root_weight = False\n",
    "        pooling_size=(16/346, 12/260)\n",
    "\n",
    "        # Set dataset specific hyper-parameters.\n",
    "        kernel_size = 2\n",
    "        n = [1, 8, 16, 16, 16, 32, 32, 32, 32]\n",
    "        pooling_outputs = 32\n",
    "        #kernel_size = 8\n",
    "        #n = [1, 16, 32, 32, 32, 128, 128, 128]\n",
    "        #pooling_outputs = 128\n",
    "\n",
    "        self.conv1 = SplineConv(n[0], n[1], dim=dim, kernel_size=kernel_size, bias=bias, root_weight=root_weight)\n",
    "        self.norm1 = BatchNorm(in_channels=n[1])\n",
    "        self.conv2 = SplineConv(n[1], n[2], dim=dim, kernel_size=kernel_size, bias=bias, root_weight=root_weight)\n",
    "        self.norm2 = BatchNorm(in_channels=n[2])\n",
    "        self.td2 = TransitionDown(n[2], n[2], 0.5)\n",
    "        \n",
    "        self.conv3 = SplineConv(n[2], n[3], dim=dim, kernel_size=kernel_size, bias=bias, root_weight=root_weight)\n",
    "        self.norm3 = BatchNorm(in_channels=n[3])\n",
    "        self.conv4 = SplineConv(n[3], n[4], dim=dim, kernel_size=kernel_size, bias=bias, root_weight=root_weight)\n",
    "        self.norm4 = BatchNorm(in_channels=n[4])\n",
    "\n",
    "        self.conv5 = SplineConv(n[4], n[5], dim=dim, kernel_size=kernel_size, bias=bias, root_weight=root_weight)\n",
    "        self.norm5 = BatchNorm(in_channels=n[5])\n",
    "        self.pool5 = MaxPooling(pooling_size, transform=Cartesian(norm=True, cat=False))\n",
    "\n",
    "        self.conv6 = SplineConv(n[5], n[6], dim=dim, kernel_size=kernel_size, bias=bias, root_weight=root_weight)\n",
    "        self.norm6 = BatchNorm(in_channels=n[6])\n",
    "        self.conv7 = SplineConv(n[6], n[7], dim=dim, kernel_size=kernel_size, bias=bias, root_weight=root_weight)\n",
    "        self.norm7 = BatchNorm(in_channels=n[7])\n",
    "\n",
    "        self.pool7 = MaxPoolingX(0.25, size=16)\n",
    "        self.fc = Linear(pooling_outputs * 16, out_features=2, bias=bias)\n",
    "\n",
    "    def forward(self, data: torch_geometric.data.Batch) -> torch.Tensor:\n",
    "        data.x = elu(self.conv1(data.x, data.edge_index, data.edge_attr))\n",
    "        data.x = self.norm1(data.x)\n",
    "        data.x = elu(self.conv2(data.x, data.edge_index, data.edge_attr))\n",
    "        data.x = self.norm2(data.x)\n",
    "        \n",
    "        x, pos, batch = self.td2(data.x, data.pos, data.batch)\n",
    "        edge_index = radius_graph(pos, r=0.05, max_num_neighbors=16)\n",
    "        data = Batch(x=x, pos=pos, batch=batch, edge_index=edge_index, y=data.y)\n",
    "        data = Cartesian()(data)\n",
    "\n",
    "        x_sc = data.x.clone()\n",
    "        data.x = elu(self.conv3(data.x, data.edge_index, data.edge_attr))\n",
    "        data.x = self.norm3(data.x)\n",
    "        data.x = elu(self.conv4(data.x, data.edge_index, data.edge_attr))\n",
    "        data.x = self.norm4(data.x)\n",
    "        data.x = data.x + x_sc\n",
    "\n",
    "        data.x = elu(self.conv5(data.x, data.edge_index, data.edge_attr))\n",
    "        data.x = self.norm5(data.x)\n",
    "        data = self.pool5(data.x, pos=data.pos, batch=data.batch, edge_index=data.edge_index, return_data_obj=True)\n",
    "\n",
    "        x_sc = data.x.clone()\n",
    "        data.x = elu(self.conv6(data.x, data.edge_index, data.edge_attr))\n",
    "        data.x = self.norm6(data.x)\n",
    "        data.x = elu(self.conv7(data.x, data.edge_index, data.edge_attr))\n",
    "        data.x = self.norm7(data.x)\n",
    "        data.x = data.x + x_sc\n",
    "\n",
    "        x = self.pool7(data.x, pos=data.pos[:, :2], batch=data.batch)\n",
    "        x = x.view(-1, self.fc.in_features)\n",
    "        return self.fc(x)"
   ]
  },
  {
   "cell_type": "code",
   "execution_count": 2,
   "id": "855030e8-b367-4212-855c-44a6dcf4a03b",
   "metadata": {},
   "outputs": [
    {
     "data": {
      "text/plain": [
       "<All keys matched successfully>"
      ]
     },
     "execution_count": 2,
     "metadata": {},
     "output_type": "execute_result"
    }
   ],
   "source": [
    "model = torch.load('../results/exp3/model').cpu()\n",
    "model.load_state_dict(torch.load('../results/exp3/state_dict'))"
   ]
  },
  {
   "cell_type": "code",
   "execution_count": 8,
   "id": "a14fdad9-4227-4f13-8a3a-e5f7834618b6",
   "metadata": {},
   "outputs": [
    {
     "name": "stdout",
     "output_type": "stream",
     "text": [
      "{'bag': '/home/hussain/me/projects/tactile/data/bags/small3', 'train_prop': 0.75, 'delta_t': 75000000.0, 'margin': -25000000.0, 'min_n_events': 750, 'n_init_events': -1, 'center': [180, 117], 'circle_rad': 85, 'case_span': 2660000000.0, 'N_examples': 5, 'possible_angles': [0.15707963267948966], 'theta': [0, 0, 0.5235987755982988, 1.0471975511965976, 1.5707963267948966], 'augmentations': [], 'node_features': 'pol'}\n"
     ]
    }
   ],
   "source": [
    "from imports.TactileDataset import TactileDataset\n",
    "from torch_geometric.loader import DataLoader\n",
    "\n",
    "train_1 = TactileDataset('../data/small/contact_extraction4/val/')\n",
    "val_loader = DataLoader(train_1)"
   ]
  },
  {
   "cell_type": "code",
   "execution_count": 9,
   "id": "c63e3daf-04c6-4fa3-befd-413e1214383c",
   "metadata": {},
   "outputs": [
    {
     "data": {
      "application/vnd.jupyter.widget-view+json": {
       "model_id": "5ff040f7177d4737b0e0861a70afbb1e",
       "version_major": 2,
       "version_minor": 0
      },
      "text/plain": [
       "  0%|          | 0/15 [00:00<?, ?it/s]"
      ]
     },
     "metadata": {},
     "output_type": "display_data"
    }
   ],
   "source": [
    "import numpy as np\n",
    "from tqdm.auto import tqdm\n",
    "\n",
    "true = []\n",
    "pred = []\n",
    "\n",
    "loss_func = torch.nn.L1Loss()\n",
    "\n",
    "for val in tqdm(val_loader):\n",
    "    true.append(val.y)\n",
    "    \n",
    "    pred.append(model(val))"
   ]
  },
  {
   "cell_type": "code",
   "execution_count": 10,
   "id": "30024abb-ba8d-47cf-bf9a-6a414eec5187",
   "metadata": {},
   "outputs": [
    {
     "name": "stdout",
     "output_type": "stream",
     "text": [
      "[0.87534045 2.63362532 2.21480751 0.37399106 0.66148024 1.38350967\n",
      " 1.6815327  2.48342562 2.28148788 1.36698606 1.48599602 1.85113046\n",
      " 1.27258164 1.42165863 1.86424272]\n"
     ]
    },
    {
     "data": {
      "text/plain": [
       "1.5901197312158588"
      ]
     },
     "execution_count": 10,
     "metadata": {},
     "output_type": "execute_result"
    }
   ],
   "source": [
    "out=np.degrees(([loss_func(pred[i].cpu(), true[i].cpu()).detach().item() for i in range(len(pred))]))\n",
    "print(out)\n",
    "np.mean(out)"
   ]
  },
  {
   "cell_type": "code",
   "execution_count": 14,
   "id": "af4ac30d-ca04-4ef3-9a16-d3b6991450bb",
   "metadata": {},
   "outputs": [
    {
     "data": {
      "text/plain": [
       "[torch.Size([10675, 1]),\n",
       " torch.Size([18078, 1]),\n",
       " torch.Size([11711, 1]),\n",
       " torch.Size([18316, 1]),\n",
       " torch.Size([17069, 1]),\n",
       " torch.Size([16253, 1]),\n",
       " torch.Size([15656, 1]),\n",
       " torch.Size([12470, 1]),\n",
       " torch.Size([17199, 1]),\n",
       " torch.Size([11717, 1]),\n",
       " torch.Size([19018, 1]),\n",
       " torch.Size([15180, 1]),\n",
       " torch.Size([18391, 1]),\n",
       " torch.Size([14542, 1]),\n",
       " torch.Size([15270, 1])]"
      ]
     },
     "execution_count": 14,
     "metadata": {},
     "output_type": "execute_result"
    }
   ],
   "source": [
    "[train_1[i].x.shape for i in range(len(pred))]"
   ]
  },
  {
   "cell_type": "code",
   "execution_count": null,
   "id": "412f374a-11d1-4683-ad4c-995db9aa42b4",
   "metadata": {},
   "outputs": [],
   "source": []
  },
  {
   "cell_type": "code",
   "execution_count": 9,
   "id": "d09898fb-c8a3-4705-8856-18237a0d874f",
   "metadata": {},
   "outputs": [],
   "source": [
    "out=np.degrees(([loss_func(pred[i].cpu(), true[i].cpu()).detach().item() for i in range(len(pred))]))"
   ]
  },
  {
   "cell_type": "code",
   "execution_count": 11,
   "id": "31e3789d-93d1-4a23-9241-3a38d25f5858",
   "metadata": {},
   "outputs": [
    {
     "data": {
      "text/plain": [
       "2.2723606944138566"
      ]
     },
     "execution_count": 11,
     "metadata": {},
     "output_type": "execute_result"
    }
   ],
   "source": [
    "np.mean(out)"
   ]
  },
  {
   "cell_type": "code",
   "execution_count": 12,
   "id": "5262f234-6d0d-484f-b304-2a993cd6fed6",
   "metadata": {},
   "outputs": [
    {
     "data": {
      "text/plain": [
       "array([1.53873191, 0.90802349, 2.29150541, 2.5096354 , 2.63236259,\n",
       "       1.19153547, 3.79068156, 3.36345515, 2.26212279, 5.14135403,\n",
       "       2.54839779, 2.34648694, 3.6112081 , 2.4707712 , 2.520508  ,\n",
       "       1.8478953 , 1.22903448, 1.29851266, 3.94667497, 4.65416774,\n",
       "       1.06247328, 1.73233255, 3.89357751, 2.47369751, 0.86992021,\n",
       "       2.17821819, 1.59466881, 0.84552358, 1.59278411, 2.26960719,\n",
       "       2.24045829, 1.72670309, 1.46240551, 1.28046986, 4.47888118,\n",
       "       3.25132799, 1.40947357, 2.39815861, 0.47641156, 0.75313764,\n",
       "       0.62999173, 3.78218396, 0.82325866, 3.23094948, 3.69655217])"
      ]
     },
     "execution_count": 12,
     "metadata": {},
     "output_type": "execute_result"
    }
   ],
   "source": [
    "out"
   ]
  },
  {
   "cell_type": "code",
   "execution_count": 1,
   "id": "d76f1188-21c1-49b2-b07b-02e6334be545",
   "metadata": {},
   "outputs": [
    {
     "ename": "NameError",
     "evalue": "name 'out' is not defined",
     "output_type": "error",
     "traceback": [
      "\u001b[0;31m---------------------------------------------------------------------------\u001b[0m",
      "\u001b[0;31mNameError\u001b[0m                                 Traceback (most recent call last)",
      "Cell \u001b[0;32mIn[1], line 1\u001b[0m\n\u001b[0;32m----> 1\u001b[0m \u001b[43mout\u001b[49m\n",
      "\u001b[0;31mNameError\u001b[0m: name 'out' is not defined"
     ]
    }
   ],
   "source": [
    "out"
   ]
  }
 ],
 "metadata": {
  "kernelspec": {
   "display_name": "Python 3 (ipykernel)",
   "language": "python",
   "name": "python3"
  },
  "language_info": {
   "codemirror_mode": {
    "name": "ipython",
    "version": 3
   },
   "file_extension": ".py",
   "mimetype": "text/x-python",
   "name": "python",
   "nbconvert_exporter": "python",
   "pygments_lexer": "ipython3",
   "version": "3.8.13"
  }
 },
 "nbformat": 4,
 "nbformat_minor": 5
}
