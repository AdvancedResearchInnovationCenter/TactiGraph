{
 "cells": [
  {
   "cell_type": "code",
   "execution_count": 1,
   "id": "c1bcca66-c562-469f-9f07-b942cf0d2638",
   "metadata": {},
   "outputs": [],
   "source": [
    "from imports.ExtractContactCases import ExtractContactCases\n",
    "\n",
    "ex = ExtractContactCases(\n",
    "    '../data/bags/data2/',\n",
    "    '../data/extractions/contact_extraction5/',\n",
    "    n_init_events = 7500\n",
    ")\n",
    "\n",
    "#ex.extract()"
   ]
  },
  {
   "cell_type": "code",
   "execution_count": 45,
   "id": "c88738df-d6dc-4ffd-9278-2ac72e4f4058",
   "metadata": {},
   "outputs": [],
   "source": [
    "from imports.TactileBag import TactileBag"
   ]
  },
  {
   "cell_type": "code",
   "execution_count": 46,
   "id": "40ddff94-f397-49ff-bc52-56f40ad58437",
   "metadata": {},
   "outputs": [
    {
     "data": {
      "text/html": [
       "<div>\n",
       "<style scoped>\n",
       "    .dataframe tbody tr th:only-of-type {\n",
       "        vertical-align: middle;\n",
       "    }\n",
       "\n",
       "    .dataframe tbody tr th {\n",
       "        vertical-align: top;\n",
       "    }\n",
       "\n",
       "    .dataframe thead th {\n",
       "        text-align: right;\n",
       "    }\n",
       "</style>\n",
       "<table border=\"1\" class=\"dataframe\">\n",
       "  <thead>\n",
       "    <tr style=\"text-align: right;\">\n",
       "      <th></th>\n",
       "      <th>ts</th>\n",
       "      <th>contact_status</th>\n",
       "      <th>contact_case</th>\n",
       "      <th>contact_angle_x</th>\n",
       "      <th>contact_angle_y</th>\n",
       "      <th>contact_angle_z</th>\n",
       "    </tr>\n",
       "  </thead>\n",
       "  <tbody>\n",
       "    <tr>\n",
       "      <th>0</th>\n",
       "      <td>1672235485049392995</td>\n",
       "      <td>False</td>\n",
       "      <td>0.0</td>\n",
       "      <td>0.001636</td>\n",
       "      <td>0.000830</td>\n",
       "      <td>0.002355</td>\n",
       "    </tr>\n",
       "    <tr>\n",
       "      <th>1</th>\n",
       "      <td>1672235485086052833</td>\n",
       "      <td>False</td>\n",
       "      <td>0.0</td>\n",
       "      <td>0.001678</td>\n",
       "      <td>0.000865</td>\n",
       "      <td>0.002270</td>\n",
       "    </tr>\n",
       "    <tr>\n",
       "      <th>2</th>\n",
       "      <td>1672235485103664372</td>\n",
       "      <td>False</td>\n",
       "      <td>0.0</td>\n",
       "      <td>0.001699</td>\n",
       "      <td>0.000899</td>\n",
       "      <td>0.002283</td>\n",
       "    </tr>\n",
       "    <tr>\n",
       "      <th>3</th>\n",
       "      <td>1672235485131136692</td>\n",
       "      <td>False</td>\n",
       "      <td>0.0</td>\n",
       "      <td>0.001646</td>\n",
       "      <td>0.000848</td>\n",
       "      <td>0.002319</td>\n",
       "    </tr>\n",
       "    <tr>\n",
       "      <th>4</th>\n",
       "      <td>1672235485148841329</td>\n",
       "      <td>False</td>\n",
       "      <td>0.0</td>\n",
       "      <td>0.001657</td>\n",
       "      <td>0.000877</td>\n",
       "      <td>0.002295</td>\n",
       "    </tr>\n",
       "    <tr>\n",
       "      <th>...</th>\n",
       "      <td>...</td>\n",
       "      <td>...</td>\n",
       "      <td>...</td>\n",
       "      <td>...</td>\n",
       "      <td>...</td>\n",
       "      <td>...</td>\n",
       "    </tr>\n",
       "    <tr>\n",
       "      <th>508727</th>\n",
       "      <td>1672246958274827871</td>\n",
       "      <td>False</td>\n",
       "      <td>0.0</td>\n",
       "      <td>0.176380</td>\n",
       "      <td>0.000774</td>\n",
       "      <td>0.002480</td>\n",
       "    </tr>\n",
       "    <tr>\n",
       "      <th>508728</th>\n",
       "      <td>1672246958290677711</td>\n",
       "      <td>False</td>\n",
       "      <td>0.0</td>\n",
       "      <td>0.176479</td>\n",
       "      <td>0.000865</td>\n",
       "      <td>0.002503</td>\n",
       "    </tr>\n",
       "    <tr>\n",
       "      <th>508729</th>\n",
       "      <td>1672246958303181902</td>\n",
       "      <td>False</td>\n",
       "      <td>0.0</td>\n",
       "      <td>0.176448</td>\n",
       "      <td>0.000805</td>\n",
       "      <td>0.002490</td>\n",
       "    </tr>\n",
       "    <tr>\n",
       "      <th>508730</th>\n",
       "      <td>1672246958333194754</td>\n",
       "      <td>False</td>\n",
       "      <td>0.0</td>\n",
       "      <td>0.176357</td>\n",
       "      <td>0.000800</td>\n",
       "      <td>0.002475</td>\n",
       "    </tr>\n",
       "    <tr>\n",
       "      <th>508731</th>\n",
       "      <td>1672246958362514493</td>\n",
       "      <td>False</td>\n",
       "      <td>0.0</td>\n",
       "      <td>0.176357</td>\n",
       "      <td>0.000832</td>\n",
       "      <td>0.002501</td>\n",
       "    </tr>\n",
       "  </tbody>\n",
       "</table>\n",
       "<p>508732 rows × 6 columns</p>\n",
       "</div>"
      ],
      "text/plain": [
       "                         ts  contact_status  contact_case  contact_angle_x  \\\n",
       "0       1672235485049392995           False           0.0         0.001636   \n",
       "1       1672235485086052833           False           0.0         0.001678   \n",
       "2       1672235485103664372           False           0.0         0.001699   \n",
       "3       1672235485131136692           False           0.0         0.001646   \n",
       "4       1672235485148841329           False           0.0         0.001657   \n",
       "...                     ...             ...           ...              ...   \n",
       "508727  1672246958274827871           False           0.0         0.176380   \n",
       "508728  1672246958290677711           False           0.0         0.176479   \n",
       "508729  1672246958303181902           False           0.0         0.176448   \n",
       "508730  1672246958333194754           False           0.0         0.176357   \n",
       "508731  1672246958362514493           False           0.0         0.176357   \n",
       "\n",
       "        contact_angle_y  contact_angle_z  \n",
       "0              0.000830         0.002355  \n",
       "1              0.000865         0.002270  \n",
       "2              0.000899         0.002283  \n",
       "3              0.000848         0.002319  \n",
       "4              0.000877         0.002295  \n",
       "...                 ...              ...  \n",
       "508727         0.000774         0.002480  \n",
       "508728         0.000865         0.002503  \n",
       "508729         0.000805         0.002490  \n",
       "508730         0.000800         0.002475  \n",
       "508731         0.000832         0.002501  \n",
       "\n",
       "[508732 rows x 6 columns]"
      ]
     },
     "execution_count": 46,
     "metadata": {},
     "output_type": "execute_result"
    }
   ],
   "source": [
    "tbag = TactileBag('../data/bags/data2/')\n",
    "df = tbag.parsed_bag\n",
    "df"
   ]
  },
  {
   "cell_type": "code",
   "execution_count": 49,
   "id": "aca0963c-27d1-4697-b480-3b6a4568dc19",
   "metadata": {},
   "outputs": [
    {
     "data": {
      "text/plain": [
       "array([[                323,                 197, 1672235485038805634,\n",
       "                          0],\n",
       "       [                 66,                 257, 1672235485038822634,\n",
       "                          0],\n",
       "       [                239,                 101, 1672235485038894634,\n",
       "                          1],\n",
       "       ...,\n",
       "       [                  5,                 113, 1672235485309432634,\n",
       "                          0],\n",
       "       [                187,                 113, 1672235485309679634,\n",
       "                          0],\n",
       "       [                 77,                 235, 1672235485309878634,\n",
       "                          0]])"
      ]
     },
     "execution_count": 49,
     "metadata": {},
     "output_type": "execute_result"
    }
   ],
   "source": [
    "tbag.events[:1000].compute()"
   ]
  },
  {
   "cell_type": "code",
   "execution_count": 4,
   "id": "3737a24c-1534-4f93-85ea-ee9885a50888",
   "metadata": {},
   "outputs": [
    {
     "data": {
      "text/plain": [
       "<matplotlib.collections.PathCollection at 0x7effbe183610>"
      ]
     },
     "execution_count": 4,
     "metadata": {},
     "output_type": "execute_result"
    },
    {
     "data": {
      "image/png": "[encoded data removed]",
      "text/plain": [
       "<Figure size 640x480 with 1 Axes>"
      ]
     },
     "metadata": {},
     "output_type": "display_data"
    }
   ],
   "source": [
    "import matplotlib.pyplot as plt\n",
    "plt.scatter(df['contact_angle_x'], df['contact_angle_y'])"
   ]
  },
  {
   "cell_type": "code",
   "execution_count": 5,
   "id": "859963f2-2420-4d20-b41f-3e50abb45d3c",
   "metadata": {},
   "outputs": [],
   "source": [
    "import numpy as np\n",
    "\n",
    "possible_angles = tbag.params['possible_angles']\n",
    "N_examples = tbag.params['N_examples']\n",
    "theta = tbag.params['theta']\n",
    "list_of_rotations = [[0, 0, 0]]\n",
    "\n",
    "sph = []\n",
    "\n",
    "for i in range(1, N_examples):\n",
    "    th = i * 2 * np.pi/(N_examples - 1) if theta=='full' else theta[i]#math.pi/2 #i * 2 * math.pi/(N_examples - 1)\n",
    "    for phi in possible_angles:\n",
    "        sph.append([phi, th])\n",
    "        rx = phi * np.cos(th)\n",
    "        ry = phi * np.sin(th)\n",
    "        rotvec = [rx, ry, 0]\n",
    "        list_of_rotations.append(rotvec)"
   ]
  },
  {
   "cell_type": "code",
   "execution_count": 6,
   "id": "cbf5d7a7-3e6b-46a5-b366-a2401899d4b0",
   "metadata": {},
   "outputs": [
    {
     "data": {
      "text/plain": [
       "<matplotlib.collections.PathCollection at 0x7effbd587cd0>"
      ]
     },
     "execution_count": 6,
     "metadata": {},
     "output_type": "execute_result"
    },
    {
     "data": {
      "image/png": "[encoded data removed]",
      "text/plain": [
       "<Figure size 640x480 with 1 Axes>"
      ]
     },
     "metadata": {},
     "output_type": "display_data"
    }
   ],
   "source": [
    "plt.scatter(*np.degrees(sph).T)"
   ]
  },
  {
   "cell_type": "code",
   "execution_count": 7,
   "id": "d45c6f7a-55cf-4540-93c7-d0fe636c1dc7",
   "metadata": {},
   "outputs": [
    {
     "name": "stdout",
     "output_type": "stream",
     "text": [
      "{'bag': '/home/hussain/me/projects/tactile/data/bags/data2', 'train_prop': 0.75, 'delta_t': 75000000.0, 'margin': -25000000.0, 'min_n_events': 750, 'n_init_events': 7500, 'center': [180, 117], 'circle_rad': 85, 'case_span': 2660000000.0, 'N_examples': 20, 'possible_angles': [0.017453292519943295, 0.03490658503988659, 0.05235987755982989, 0.06981317007977318, 0.08726646259971647, 0.10471975511965978, 0.12217304763960307, 0.13962634015954636, 0.15707963267948966, 0.17453292519943295], 'theta': 'full', 'augmentations': [], 'node_features': 'pol'}\n",
      "{'bag': '/home/hussain/me/projects/tactile/data/bags/data2', 'train_prop': 0.75, 'delta_t': 75000000.0, 'margin': -25000000.0, 'min_n_events': 750, 'n_init_events': 7500, 'center': [180, 117], 'circle_rad': 85, 'case_span': 2660000000.0, 'N_examples': 20, 'possible_angles': [0.017453292519943295, 0.03490658503988659, 0.05235987755982989, 0.06981317007977318, 0.08726646259971647, 0.10471975511965978, 0.12217304763960307, 0.13962634015954636, 0.15707963267948966, 0.17453292519943295], 'theta': 'full', 'augmentations': [], 'node_features': 'pol'}\n",
      "{'bag': '/home/hussain/me/projects/tactile/data/bags/data2', 'train_prop': 0.75, 'delta_t': 75000000.0, 'margin': -25000000.0, 'min_n_events': 750, 'n_init_events': 7500, 'center': [180, 117], 'circle_rad': 85, 'case_span': 2660000000.0, 'N_examples': 20, 'possible_angles': [0.017453292519943295, 0.03490658503988659, 0.05235987755982989, 0.06981317007977318, 0.08726646259971647, 0.10471975511965978, 0.12217304763960307, 0.13962634015954636, 0.15707963267948966, 0.17453292519943295], 'theta': 'full', 'augmentations': [], 'node_features': 'pol'}\n"
     ]
    },
    {
     "name": "stderr",
     "output_type": "stream",
     "text": [
      "/home/hussain/me/projects/tactile/src/imports/TrainModel.py:39: UserWarning: experiment /home/hussain/me/projects/tactile/results already exists. Press enter to proceed overwriting.\n",
      "  warnings.warn(f'experiment {str(path)} already exists. Press enter to proceed overwriting.')\n"
     ]
    }
   ],
   "source": [
    "from imports.TactileDataset import TactileDataset\n",
    "from imports.TrainModel import TrainModel\n",
    "from models.modules import GraphRes\n",
    "\n",
    "\n",
    "#from models.modules import GraphRes\n",
    "\n",
    "#!rm -rf /content/drive/MyDrive/tactile/ex1/{test,train,val}/processed/*.pt\n",
    "tm = TrainModel(\n",
    "    '../data/extractions/contact_extraction5/', \n",
    "    GraphRes().cuda(), \n",
    "    lr=0.01, \n",
    "    features='pol', \n",
    "    batch=4, \n",
    "    n_epochs=300, \n",
    "    experiment_name='', \n",
    "    desc='aegnn model small on large data',\n",
    "    merge_test_val=False\n",
    ")"
   ]
  },
  {
   "cell_type": "code",
   "execution_count": 8,
   "id": "e86530df-d4b9-41c4-a338-e69f60fc14bd",
   "metadata": {},
   "outputs": [
    {
     "data": {
      "text/plain": [
       "<All keys matched successfully>"
      ]
     },
     "execution_count": 8,
     "metadata": {},
     "output_type": "execute_result"
    }
   ],
   "source": [
    "import torch\n",
    "tm.model.load_state_dict(torch.load('../results/msi/state_dict', map_location='cuda'))"
   ]
  },
  {
   "cell_type": "code",
   "execution_count": 9,
   "id": "837b655d-b2f4-468f-a9c4-be0a7d458cb5",
   "metadata": {},
   "outputs": [],
   "source": [
    "from torch_geometric.loader import DataLoader\n",
    "\n",
    "vl = DataLoader(tm.val_data, batch_size=1)"
   ]
  },
  {
   "cell_type": "code",
   "execution_count": 10,
   "id": "ca365e68-b92b-496c-b283-810307d18f2e",
   "metadata": {},
   "outputs": [
    {
     "data": {
      "text/plain": [
       "Data(x=[7500, 1], edge_index=[2, 105788], y=[1, 2], pos=[7500, 3], edge_attr=[105788, 3])"
      ]
     },
     "execution_count": 10,
     "metadata": {},
     "output_type": "execute_result"
    }
   ],
   "source": [
    "tm.val_data[22]"
   ]
  },
  {
   "cell_type": "code",
   "execution_count": 11,
   "id": "ba747299-d70e-464d-af73-bb4aa8cb048c",
   "metadata": {},
   "outputs": [
    {
     "name": "stdout",
     "output_type": "stream",
     "text": [
      "DataBatch(x=[7500, 1], edge_index=[2, 102208], y=[1, 2], pos=[7500, 3], edge_attr=[102208, 3], batch=[7500], ptr=[2])\n",
      "DataBatch(x=[3096, 1], edge_index=[2, 40578], y=[1, 2], pos=[3096, 3], edge_attr=[40578, 3], batch=[3096], ptr=[2])\n",
      "DataBatch(x=[7500, 1], edge_index=[2, 104961], y=[1, 2], pos=[7500, 3], edge_attr=[104961, 3], batch=[7500], ptr=[2])\n",
      "DataBatch(x=[7500, 1], edge_index=[2, 104092], y=[1, 2], pos=[7500, 3], edge_attr=[104092, 3], batch=[7500], ptr=[2])\n",
      "DataBatch(x=[5831, 1], edge_index=[2, 81630], y=[1, 2], pos=[5831, 3], edge_attr=[81630, 3], batch=[5831], ptr=[2])\n",
      "DataBatch(x=[7063, 1], edge_index=[2, 103119], y=[1, 2], pos=[7063, 3], edge_attr=[103119, 3], batch=[7063], ptr=[2])\n",
      "DataBatch(x=[7178, 1], edge_index=[2, 100638], y=[1, 2], pos=[7178, 3], edge_attr=[100638, 3], batch=[7178], ptr=[2])\n",
      "DataBatch(x=[7500, 1], edge_index=[2, 112408], y=[1, 2], pos=[7500, 3], edge_attr=[112408, 3], batch=[7500], ptr=[2])\n",
      "DataBatch(x=[2366, 1], edge_index=[2, 34055], y=[1, 2], pos=[2366, 3], edge_attr=[34055, 3], batch=[2366], ptr=[2])\n",
      "DataBatch(x=[4203, 1], edge_index=[2, 55968], y=[1, 2], pos=[4203, 3], edge_attr=[55968, 3], batch=[4203], ptr=[2])\n",
      "DataBatch(x=[7500, 1], edge_index=[2, 111960], y=[1, 2], pos=[7500, 3], edge_attr=[111960, 3], batch=[7500], ptr=[2])\n",
      "DataBatch(x=[7500, 1], edge_index=[2, 114413], y=[1, 2], pos=[7500, 3], edge_attr=[114413, 3], batch=[7500], ptr=[2])\n",
      "DataBatch(x=[7500, 1], edge_index=[2, 107362], y=[1, 2], pos=[7500, 3], edge_attr=[107362, 3], batch=[7500], ptr=[2])\n",
      "DataBatch(x=[7500, 1], edge_index=[2, 104453], y=[1, 2], pos=[7500, 3], edge_attr=[104453, 3], batch=[7500], ptr=[2])\n",
      "DataBatch(x=[1459, 1], edge_index=[2, 17405], y=[1, 2], pos=[1459, 3], edge_attr=[17405, 3], batch=[1459], ptr=[2])\n",
      "DataBatch(x=[7500, 1], edge_index=[2, 114749], y=[1, 2], pos=[7500, 3], edge_attr=[114749, 3], batch=[7500], ptr=[2])\n",
      "DataBatch(x=[7500, 1], edge_index=[2, 104893], y=[1, 2], pos=[7500, 3], edge_attr=[104893, 3], batch=[7500], ptr=[2])\n",
      "DataBatch(x=[7500, 1], edge_index=[2, 105039], y=[1, 2], pos=[7500, 3], edge_attr=[105039, 3], batch=[7500], ptr=[2])\n",
      "DataBatch(x=[3912, 1], edge_index=[2, 57433], y=[1, 2], pos=[3912, 3], edge_attr=[57433, 3], batch=[3912], ptr=[2])\n",
      "DataBatch(x=[6403, 1], edge_index=[2, 89759], y=[1, 2], pos=[6403, 3], edge_attr=[89759, 3], batch=[6403], ptr=[2])\n",
      "DataBatch(x=[7500, 1], edge_index=[2, 114021], y=[1, 2], pos=[7500, 3], edge_attr=[114021, 3], batch=[7500], ptr=[2])\n",
      "DataBatch(x=[7500, 1], edge_index=[2, 105505], y=[1, 2], pos=[7500, 3], edge_attr=[105505, 3], batch=[7500], ptr=[2])\n",
      "DataBatch(x=[7500, 1], edge_index=[2, 105788], y=[1, 2], pos=[7500, 3], edge_attr=[105788, 3], batch=[7500], ptr=[2])\n",
      "DataBatch(x=[1466, 1], edge_index=[2, 16478], y=[1, 2], pos=[1466, 3], edge_attr=[16478, 3], batch=[1466], ptr=[2])\n",
      "DataBatch(x=[6610, 1], edge_index=[2, 98195], y=[1, 2], pos=[6610, 3], edge_attr=[98195, 3], batch=[6610], ptr=[2])\n",
      "DataBatch(x=[2072, 1], edge_index=[2, 27095], y=[1, 2], pos=[2072, 3], edge_attr=[27095, 3], batch=[2072], ptr=[2])\n",
      "DataBatch(x=[2719, 1], edge_index=[2, 38203], y=[1, 2], pos=[2719, 3], edge_attr=[38203, 3], batch=[2719], ptr=[2])\n",
      "DataBatch(x=[7500, 1], edge_index=[2, 112201], y=[1, 2], pos=[7500, 3], edge_attr=[112201, 3], batch=[7500], ptr=[2])\n",
      "DataBatch(x=[7500, 1], edge_index=[2, 108229], y=[1, 2], pos=[7500, 3], edge_attr=[108229, 3], batch=[7500], ptr=[2])\n",
      "DataBatch(x=[7500, 1], edge_index=[2, 107319], y=[1, 2], pos=[7500, 3], edge_attr=[107319, 3], batch=[7500], ptr=[2])\n",
      "DataBatch(x=[7500, 1], edge_index=[2, 104125], y=[1, 2], pos=[7500, 3], edge_attr=[104125, 3], batch=[7500], ptr=[2])\n",
      "DataBatch(x=[7500, 1], edge_index=[2, 112739], y=[1, 2], pos=[7500, 3], edge_attr=[112739, 3], batch=[7500], ptr=[2])\n",
      "DataBatch(x=[7500, 1], edge_index=[2, 109595], y=[1, 2], pos=[7500, 3], edge_attr=[109595, 3], batch=[7500], ptr=[2])\n",
      "DataBatch(x=[1957, 1], edge_index=[2, 24343], y=[1, 2], pos=[1957, 3], edge_attr=[24343, 3], batch=[1957], ptr=[2])\n",
      "DataBatch(x=[7500, 1], edge_index=[2, 106424], y=[1, 2], pos=[7500, 3], edge_attr=[106424, 3], batch=[7500], ptr=[2])\n",
      "DataBatch(x=[7500, 1], edge_index=[2, 113038], y=[1, 2], pos=[7500, 3], edge_attr=[113038, 3], batch=[7500], ptr=[2])\n",
      "DataBatch(x=[7500, 1], edge_index=[2, 103507], y=[1, 2], pos=[7500, 3], edge_attr=[103507, 3], batch=[7500], ptr=[2])\n",
      "DataBatch(x=[4507, 1], edge_index=[2, 66597], y=[1, 2], pos=[4507, 3], edge_attr=[66597, 3], batch=[4507], ptr=[2])\n",
      "DataBatch(x=[6109, 1], edge_index=[2, 89977], y=[1, 2], pos=[6109, 3], edge_attr=[89977, 3], batch=[6109], ptr=[2])\n",
      "DataBatch(x=[7500, 1], edge_index=[2, 108161], y=[1, 2], pos=[7500, 3], edge_attr=[108161, 3], batch=[7500], ptr=[2])\n",
      "DataBatch(x=[7500, 1], edge_index=[2, 108771], y=[1, 2], pos=[7500, 3], edge_attr=[108771, 3], batch=[7500], ptr=[2])\n",
      "DataBatch(x=[5228, 1], edge_index=[2, 76204], y=[1, 2], pos=[5228, 3], edge_attr=[76204, 3], batch=[5228], ptr=[2])\n",
      "DataBatch(x=[7500, 1], edge_index=[2, 111973], y=[1, 2], pos=[7500, 3], edge_attr=[111973, 3], batch=[7500], ptr=[2])\n",
      "DataBatch(x=[6595, 1], edge_index=[2, 99880], y=[1, 2], pos=[6595, 3], edge_attr=[99880, 3], batch=[6595], ptr=[2])\n",
      "DataBatch(x=[783, 1], edge_index=[2, 8850], y=[1, 2], pos=[783, 3], edge_attr=[8850, 3], batch=[783], ptr=[2])\n",
      "DataBatch(x=[7500, 1], edge_index=[2, 104209], y=[1, 2], pos=[7500, 3], edge_attr=[104209, 3], batch=[7500], ptr=[2])\n",
      "DataBatch(x=[7500, 1], edge_index=[2, 113763], y=[1, 2], pos=[7500, 3], edge_attr=[113763, 3], batch=[7500], ptr=[2])\n",
      "DataBatch(x=[7500, 1], edge_index=[2, 112268], y=[1, 2], pos=[7500, 3], edge_attr=[112268, 3], batch=[7500], ptr=[2])\n",
      "DataBatch(x=[3003, 1], edge_index=[2, 42439], y=[1, 2], pos=[3003, 3], edge_attr=[42439, 3], batch=[3003], ptr=[2])\n",
      "DataBatch(x=[6220, 1], edge_index=[2, 90035], y=[1, 2], pos=[6220, 3], edge_attr=[90035, 3], batch=[6220], ptr=[2])\n",
      "DataBatch(x=[7500, 1], edge_index=[2, 113673], y=[1, 2], pos=[7500, 3], edge_attr=[113673, 3], batch=[7500], ptr=[2])\n",
      "DataBatch(x=[7500, 1], edge_index=[2, 108918], y=[1, 2], pos=[7500, 3], edge_attr=[108918, 3], batch=[7500], ptr=[2])\n",
      "DataBatch(x=[4459, 1], edge_index=[2, 56559], y=[1, 2], pos=[4459, 3], edge_attr=[56559, 3], batch=[4459], ptr=[2])\n",
      "DataBatch(x=[7500, 1], edge_index=[2, 106183], y=[1, 2], pos=[7500, 3], edge_attr=[106183, 3], batch=[7500], ptr=[2])\n",
      "DataBatch(x=[7500, 1], edge_index=[2, 112311], y=[1, 2], pos=[7500, 3], edge_attr=[112311, 3], batch=[7500], ptr=[2])\n",
      "DataBatch(x=[3538, 1], edge_index=[2, 47112], y=[1, 2], pos=[3538, 3], edge_attr=[47112, 3], batch=[3538], ptr=[2])\n",
      "DataBatch(x=[7500, 1], edge_index=[2, 108462], y=[1, 2], pos=[7500, 3], edge_attr=[108462, 3], batch=[7500], ptr=[2])\n",
      "DataBatch(x=[6698, 1], edge_index=[2, 99554], y=[1, 2], pos=[6698, 3], edge_attr=[99554, 3], batch=[6698], ptr=[2])\n",
      "DataBatch(x=[7500, 1], edge_index=[2, 109657], y=[1, 2], pos=[7500, 3], edge_attr=[109657, 3], batch=[7500], ptr=[2])\n",
      "DataBatch(x=[7500, 1], edge_index=[2, 113187], y=[1, 2], pos=[7500, 3], edge_attr=[113187, 3], batch=[7500], ptr=[2])\n",
      "DataBatch(x=[7500, 1], edge_index=[2, 106969], y=[1, 2], pos=[7500, 3], edge_attr=[106969, 3], batch=[7500], ptr=[2])\n",
      "DataBatch(x=[7500, 1], edge_index=[2, 110727], y=[1, 2], pos=[7500, 3], edge_attr=[110727, 3], batch=[7500], ptr=[2])\n",
      "DataBatch(x=[7500, 1], edge_index=[2, 101586], y=[1, 2], pos=[7500, 3], edge_attr=[101586, 3], batch=[7500], ptr=[2])\n",
      "DataBatch(x=[5153, 1], edge_index=[2, 73610], y=[1, 2], pos=[5153, 3], edge_attr=[73610, 3], batch=[5153], ptr=[2])\n",
      "DataBatch(x=[7500, 1], edge_index=[2, 113143], y=[1, 2], pos=[7500, 3], edge_attr=[113143, 3], batch=[7500], ptr=[2])\n",
      "DataBatch(x=[7500, 1], edge_index=[2, 105702], y=[1, 2], pos=[7500, 3], edge_attr=[105702, 3], batch=[7500], ptr=[2])\n",
      "DataBatch(x=[4027, 1], edge_index=[2, 62704], y=[1, 2], pos=[4027, 3], edge_attr=[62704, 3], batch=[4027], ptr=[2])\n",
      "DataBatch(x=[2576, 1], edge_index=[2, 36919], y=[1, 2], pos=[2576, 3], edge_attr=[36919, 3], batch=[2576], ptr=[2])\n",
      "DataBatch(x=[1718, 1], edge_index=[2, 22978], y=[1, 2], pos=[1718, 3], edge_attr=[22978, 3], batch=[1718], ptr=[2])\n",
      "DataBatch(x=[7500, 1], edge_index=[2, 110744], y=[1, 2], pos=[7500, 3], edge_attr=[110744, 3], batch=[7500], ptr=[2])\n",
      "DataBatch(x=[7500, 1], edge_index=[2, 108186], y=[1, 2], pos=[7500, 3], edge_attr=[108186, 3], batch=[7500], ptr=[2])\n",
      "DataBatch(x=[7500, 1], edge_index=[2, 113763], y=[1, 2], pos=[7500, 3], edge_attr=[113763, 3], batch=[7500], ptr=[2])\n",
      "DataBatch(x=[7500, 1], edge_index=[2, 111829], y=[1, 2], pos=[7500, 3], edge_attr=[111829, 3], batch=[7500], ptr=[2])\n",
      "DataBatch(x=[7500, 1], edge_index=[2, 110552], y=[1, 2], pos=[7500, 3], edge_attr=[110552, 3], batch=[7500], ptr=[2])\n",
      "DataBatch(x=[7500, 1], edge_index=[2, 104062], y=[1, 2], pos=[7500, 3], edge_attr=[104062, 3], batch=[7500], ptr=[2])\n",
      "DataBatch(x=[7500, 1], edge_index=[2, 111190], y=[1, 2], pos=[7500, 3], edge_attr=[111190, 3], batch=[7500], ptr=[2])\n",
      "DataBatch(x=[7500, 1], edge_index=[2, 108813], y=[1, 2], pos=[7500, 3], edge_attr=[108813, 3], batch=[7500], ptr=[2])\n",
      "DataBatch(x=[2103, 1], edge_index=[2, 28575], y=[1, 2], pos=[2103, 3], edge_attr=[28575, 3], batch=[2103], ptr=[2])\n",
      "DataBatch(x=[1893, 1], edge_index=[2, 23797], y=[1, 2], pos=[1893, 3], edge_attr=[23797, 3], batch=[1893], ptr=[2])\n",
      "DataBatch(x=[3537, 1], edge_index=[2, 45647], y=[1, 2], pos=[3537, 3], edge_attr=[45647, 3], batch=[3537], ptr=[2])\n",
      "DataBatch(x=[6895, 1], edge_index=[2, 104104], y=[1, 2], pos=[6895, 3], edge_attr=[104104, 3], batch=[6895], ptr=[2])\n",
      "DataBatch(x=[7500, 1], edge_index=[2, 110336], y=[1, 2], pos=[7500, 3], edge_attr=[110336, 3], batch=[7500], ptr=[2])\n",
      "DataBatch(x=[7500, 1], edge_index=[2, 114394], y=[1, 2], pos=[7500, 3], edge_attr=[114394, 3], batch=[7500], ptr=[2])\n",
      "DataBatch(x=[7500, 1], edge_index=[2, 110090], y=[1, 2], pos=[7500, 3], edge_attr=[110090, 3], batch=[7500], ptr=[2])\n",
      "DataBatch(x=[7500, 1], edge_index=[2, 102442], y=[1, 2], pos=[7500, 3], edge_attr=[102442, 3], batch=[7500], ptr=[2])\n",
      "DataBatch(x=[7500, 1], edge_index=[2, 112364], y=[1, 2], pos=[7500, 3], edge_attr=[112364, 3], batch=[7500], ptr=[2])\n",
      "DataBatch(x=[7500, 1], edge_index=[2, 109684], y=[1, 2], pos=[7500, 3], edge_attr=[109684, 3], batch=[7500], ptr=[2])\n",
      "DataBatch(x=[7500, 1], edge_index=[2, 108249], y=[1, 2], pos=[7500, 3], edge_attr=[108249, 3], batch=[7500], ptr=[2])\n",
      "DataBatch(x=[7500, 1], edge_index=[2, 105369], y=[1, 2], pos=[7500, 3], edge_attr=[105369, 3], batch=[7500], ptr=[2])\n",
      "DataBatch(x=[3644, 1], edge_index=[2, 52750], y=[1, 2], pos=[3644, 3], edge_attr=[52750, 3], batch=[3644], ptr=[2])\n",
      "DataBatch(x=[7500, 1], edge_index=[2, 105225], y=[1, 2], pos=[7500, 3], edge_attr=[105225, 3], batch=[7500], ptr=[2])\n",
      "DataBatch(x=[7500, 1], edge_index=[2, 112471], y=[1, 2], pos=[7500, 3], edge_attr=[112471, 3], batch=[7500], ptr=[2])\n",
      "DataBatch(x=[7500, 1], edge_index=[2, 113462], y=[1, 2], pos=[7500, 3], edge_attr=[113462, 3], batch=[7500], ptr=[2])\n",
      "DataBatch(x=[7500, 1], edge_index=[2, 106644], y=[1, 2], pos=[7500, 3], edge_attr=[106644, 3], batch=[7500], ptr=[2])\n",
      "DataBatch(x=[7500, 1], edge_index=[2, 108498], y=[1, 2], pos=[7500, 3], edge_attr=[108498, 3], batch=[7500], ptr=[2])\n",
      "DataBatch(x=[6825, 1], edge_index=[2, 99906], y=[1, 2], pos=[6825, 3], edge_attr=[99906, 3], batch=[6825], ptr=[2])\n",
      "DataBatch(x=[5456, 1], edge_index=[2, 82207], y=[1, 2], pos=[5456, 3], edge_attr=[82207, 3], batch=[5456], ptr=[2])\n",
      "DataBatch(x=[5889, 1], edge_index=[2, 87574], y=[1, 2], pos=[5889, 3], edge_attr=[87574, 3], batch=[5889], ptr=[2])\n",
      "DataBatch(x=[7500, 1], edge_index=[2, 106707], y=[1, 2], pos=[7500, 3], edge_attr=[106707, 3], batch=[7500], ptr=[2])\n",
      "DataBatch(x=[2987, 1], edge_index=[2, 40978], y=[1, 2], pos=[2987, 3], edge_attr=[40978, 3], batch=[2987], ptr=[2])\n",
      "DataBatch(x=[2168, 1], edge_index=[2, 31743], y=[1, 2], pos=[2168, 3], edge_attr=[31743, 3], batch=[2168], ptr=[2])\n",
      "DataBatch(x=[4169, 1], edge_index=[2, 60071], y=[1, 2], pos=[4169, 3], edge_attr=[60071, 3], batch=[4169], ptr=[2])\n",
      "DataBatch(x=[7500, 1], edge_index=[2, 104402], y=[1, 2], pos=[7500, 3], edge_attr=[104402, 3], batch=[7500], ptr=[2])\n",
      "DataBatch(x=[7500, 1], edge_index=[2, 114315], y=[1, 2], pos=[7500, 3], edge_attr=[114315, 3], batch=[7500], ptr=[2])\n",
      "DataBatch(x=[7500, 1], edge_index=[2, 107162], y=[1, 2], pos=[7500, 3], edge_attr=[107162, 3], batch=[7500], ptr=[2])\n",
      "DataBatch(x=[2614, 1], edge_index=[2, 34771], y=[1, 2], pos=[2614, 3], edge_attr=[34771, 3], batch=[2614], ptr=[2])\n",
      "DataBatch(x=[4120, 1], edge_index=[2, 58682], y=[1, 2], pos=[4120, 3], edge_attr=[58682, 3], batch=[4120], ptr=[2])\n",
      "DataBatch(x=[2813, 1], edge_index=[2, 37985], y=[1, 2], pos=[2813, 3], edge_attr=[37985, 3], batch=[2813], ptr=[2])\n",
      "DataBatch(x=[7500, 1], edge_index=[2, 109134], y=[1, 2], pos=[7500, 3], edge_attr=[109134, 3], batch=[7500], ptr=[2])\n",
      "DataBatch(x=[1524, 1], edge_index=[2, 18874], y=[1, 2], pos=[1524, 3], edge_attr=[18874, 3], batch=[1524], ptr=[2])\n",
      "DataBatch(x=[7500, 1], edge_index=[2, 110904], y=[1, 2], pos=[7500, 3], edge_attr=[110904, 3], batch=[7500], ptr=[2])\n",
      "DataBatch(x=[5793, 1], edge_index=[2, 85143], y=[1, 2], pos=[5793, 3], edge_attr=[85143, 3], batch=[5793], ptr=[2])\n",
      "DataBatch(x=[7500, 1], edge_index=[2, 109513], y=[1, 2], pos=[7500, 3], edge_attr=[109513, 3], batch=[7500], ptr=[2])\n",
      "DataBatch(x=[7500, 1], edge_index=[2, 102479], y=[1, 2], pos=[7500, 3], edge_attr=[102479, 3], batch=[7500], ptr=[2])\n",
      "DataBatch(x=[7500, 1], edge_index=[2, 112387], y=[1, 2], pos=[7500, 3], edge_attr=[112387, 3], batch=[7500], ptr=[2])\n",
      "DataBatch(x=[7500, 1], edge_index=[2, 108384], y=[1, 2], pos=[7500, 3], edge_attr=[108384, 3], batch=[7500], ptr=[2])\n",
      "DataBatch(x=[7500, 1], edge_index=[2, 109451], y=[1, 2], pos=[7500, 3], edge_attr=[109451, 3], batch=[7500], ptr=[2])\n",
      "DataBatch(x=[7500, 1], edge_index=[2, 109106], y=[1, 2], pos=[7500, 3], edge_attr=[109106, 3], batch=[7500], ptr=[2])\n",
      "DataBatch(x=[7500, 1], edge_index=[2, 109630], y=[1, 2], pos=[7500, 3], edge_attr=[109630, 3], batch=[7500], ptr=[2])\n",
      "DataBatch(x=[7300, 1], edge_index=[2, 105355], y=[1, 2], pos=[7300, 3], edge_attr=[105355, 3], batch=[7300], ptr=[2])\n",
      "DataBatch(x=[7500, 1], edge_index=[2, 110761], y=[1, 2], pos=[7500, 3], edge_attr=[110761, 3], batch=[7500], ptr=[2])\n",
      "DataBatch(x=[7500, 1], edge_index=[2, 114005], y=[1, 2], pos=[7500, 3], edge_attr=[114005, 3], batch=[7500], ptr=[2])\n",
      "DataBatch(x=[5062, 1], edge_index=[2, 69710], y=[1, 2], pos=[5062, 3], edge_attr=[69710, 3], batch=[5062], ptr=[2])\n",
      "DataBatch(x=[6793, 1], edge_index=[2, 95907], y=[1, 2], pos=[6793, 3], edge_attr=[95907, 3], batch=[6793], ptr=[2])\n",
      "DataBatch(x=[7500, 1], edge_index=[2, 104590], y=[1, 2], pos=[7500, 3], edge_attr=[104590, 3], batch=[7500], ptr=[2])\n",
      "DataBatch(x=[7193, 1], edge_index=[2, 102979], y=[1, 2], pos=[7193, 3], edge_attr=[102979, 3], batch=[7193], ptr=[2])\n",
      "DataBatch(x=[7500, 1], edge_index=[2, 109562], y=[1, 2], pos=[7500, 3], edge_attr=[109562, 3], batch=[7500], ptr=[2])\n",
      "DataBatch(x=[7500, 1], edge_index=[2, 114208], y=[1, 2], pos=[7500, 3], edge_attr=[114208, 3], batch=[7500], ptr=[2])\n",
      "DataBatch(x=[7500, 1], edge_index=[2, 110332], y=[1, 2], pos=[7500, 3], edge_attr=[110332, 3], batch=[7500], ptr=[2])\n",
      "DataBatch(x=[4679, 1], edge_index=[2, 70386], y=[1, 2], pos=[4679, 3], edge_attr=[70386, 3], batch=[4679], ptr=[2])\n",
      "DataBatch(x=[7500, 1], edge_index=[2, 107240], y=[1, 2], pos=[7500, 3], edge_attr=[107240, 3], batch=[7500], ptr=[2])\n",
      "DataBatch(x=[7500, 1], edge_index=[2, 105993], y=[1, 2], pos=[7500, 3], edge_attr=[105993, 3], batch=[7500], ptr=[2])\n",
      "DataBatch(x=[7500, 1], edge_index=[2, 113131], y=[1, 2], pos=[7500, 3], edge_attr=[113131, 3], batch=[7500], ptr=[2])\n",
      "DataBatch(x=[7500, 1], edge_index=[2, 113351], y=[1, 2], pos=[7500, 3], edge_attr=[113351, 3], batch=[7500], ptr=[2])\n",
      "DataBatch(x=[7500, 1], edge_index=[2, 109882], y=[1, 2], pos=[7500, 3], edge_attr=[109882, 3], batch=[7500], ptr=[2])\n",
      "DataBatch(x=[7500, 1], edge_index=[2, 106348], y=[1, 2], pos=[7500, 3], edge_attr=[106348, 3], batch=[7500], ptr=[2])\n",
      "DataBatch(x=[7500, 1], edge_index=[2, 105204], y=[1, 2], pos=[7500, 3], edge_attr=[105204, 3], batch=[7500], ptr=[2])\n",
      "DataBatch(x=[7500, 1], edge_index=[2, 111193], y=[1, 2], pos=[7500, 3], edge_attr=[111193, 3], batch=[7500], ptr=[2])\n",
      "DataBatch(x=[6552, 1], edge_index=[2, 98015], y=[1, 2], pos=[6552, 3], edge_attr=[98015, 3], batch=[6552], ptr=[2])\n",
      "DataBatch(x=[7500, 1], edge_index=[2, 113570], y=[1, 2], pos=[7500, 3], edge_attr=[113570, 3], batch=[7500], ptr=[2])\n",
      "DataBatch(x=[5406, 1], edge_index=[2, 74633], y=[1, 2], pos=[5406, 3], edge_attr=[74633, 3], batch=[5406], ptr=[2])\n",
      "DataBatch(x=[7500, 1], edge_index=[2, 103056], y=[1, 2], pos=[7500, 3], edge_attr=[103056, 3], batch=[7500], ptr=[2])\n",
      "DataBatch(x=[2976, 1], edge_index=[2, 42500], y=[1, 2], pos=[2976, 3], edge_attr=[42500, 3], batch=[2976], ptr=[2])\n",
      "DataBatch(x=[630, 1], edge_index=[2, 6319], y=[1, 2], pos=[630, 3], edge_attr=[6319, 3], batch=[630], ptr=[2])\n",
      "DataBatch(x=[7500, 1], edge_index=[2, 107234], y=[1, 2], pos=[7500, 3], edge_attr=[107234, 3], batch=[7500], ptr=[2])\n",
      "DataBatch(x=[6161, 1], edge_index=[2, 94371], y=[1, 2], pos=[6161, 3], edge_attr=[94371, 3], batch=[6161], ptr=[2])\n",
      "DataBatch(x=[7500, 1], edge_index=[2, 102530], y=[1, 2], pos=[7500, 3], edge_attr=[102530, 3], batch=[7500], ptr=[2])\n",
      "DataBatch(x=[7500, 1], edge_index=[2, 113771], y=[1, 2], pos=[7500, 3], edge_attr=[113771, 3], batch=[7500], ptr=[2])\n",
      "DataBatch(x=[2808, 1], edge_index=[2, 40719], y=[1, 2], pos=[2808, 3], edge_attr=[40719, 3], batch=[2808], ptr=[2])\n",
      "DataBatch(x=[7500, 1], edge_index=[2, 110506], y=[1, 2], pos=[7500, 3], edge_attr=[110506, 3], batch=[7500], ptr=[2])\n",
      "DataBatch(x=[7500, 1], edge_index=[2, 110931], y=[1, 2], pos=[7500, 3], edge_attr=[110931, 3], batch=[7500], ptr=[2])\n",
      "DataBatch(x=[7500, 1], edge_index=[2, 110564], y=[1, 2], pos=[7500, 3], edge_attr=[110564, 3], batch=[7500], ptr=[2])\n",
      "DataBatch(x=[3826, 1], edge_index=[2, 54035], y=[1, 2], pos=[3826, 3], edge_attr=[54035, 3], batch=[3826], ptr=[2])\n",
      "DataBatch(x=[7500, 1], edge_index=[2, 103360], y=[1, 2], pos=[7500, 3], edge_attr=[103360, 3], batch=[7500], ptr=[2])\n",
      "DataBatch(x=[3598, 1], edge_index=[2, 40921], y=[1, 2], pos=[3598, 3], edge_attr=[40921, 3], batch=[3598], ptr=[2])\n",
      "DataBatch(x=[7500, 1], edge_index=[2, 105263], y=[1, 2], pos=[7500, 3], edge_attr=[105263, 3], batch=[7500], ptr=[2])\n",
      "DataBatch(x=[7500, 1], edge_index=[2, 103887], y=[1, 2], pos=[7500, 3], edge_attr=[103887, 3], batch=[7500], ptr=[2])\n",
      "DataBatch(x=[7500, 1], edge_index=[2, 113746], y=[1, 2], pos=[7500, 3], edge_attr=[113746, 3], batch=[7500], ptr=[2])\n",
      "DataBatch(x=[7500, 1], edge_index=[2, 104921], y=[1, 2], pos=[7500, 3], edge_attr=[104921, 3], batch=[7500], ptr=[2])\n",
      "DataBatch(x=[7483, 1], edge_index=[2, 111553], y=[1, 2], pos=[7483, 3], edge_attr=[111553, 3], batch=[7483], ptr=[2])\n",
      "DataBatch(x=[1351, 1], edge_index=[2, 13602], y=[1, 2], pos=[1351, 3], edge_attr=[13602, 3], batch=[1351], ptr=[2])\n",
      "DataBatch(x=[726, 1], edge_index=[2, 7525], y=[1, 2], pos=[726, 3], edge_attr=[7525, 3], batch=[726], ptr=[2])\n",
      "DataBatch(x=[7500, 1], edge_index=[2, 109618], y=[1, 2], pos=[7500, 3], edge_attr=[109618, 3], batch=[7500], ptr=[2])\n",
      "DataBatch(x=[7500, 1], edge_index=[2, 106958], y=[1, 2], pos=[7500, 3], edge_attr=[106958, 3], batch=[7500], ptr=[2])\n",
      "DataBatch(x=[7500, 1], edge_index=[2, 115162], y=[1, 2], pos=[7500, 3], edge_attr=[115162, 3], batch=[7500], ptr=[2])\n",
      "DataBatch(x=[5779, 1], edge_index=[2, 78652], y=[1, 2], pos=[5779, 3], edge_attr=[78652, 3], batch=[5779], ptr=[2])\n",
      "DataBatch(x=[724, 1], edge_index=[2, 8137], y=[1, 2], pos=[724, 3], edge_attr=[8137, 3], batch=[724], ptr=[2])\n",
      "DataBatch(x=[5994, 1], edge_index=[2, 88245], y=[1, 2], pos=[5994, 3], edge_attr=[88245, 3], batch=[5994], ptr=[2])\n",
      "DataBatch(x=[7500, 1], edge_index=[2, 111251], y=[1, 2], pos=[7500, 3], edge_attr=[111251, 3], batch=[7500], ptr=[2])\n",
      "DataBatch(x=[4946, 1], edge_index=[2, 69696], y=[1, 2], pos=[4946, 3], edge_attr=[69696, 3], batch=[4946], ptr=[2])\n",
      "DataBatch(x=[7500, 1], edge_index=[2, 109703], y=[1, 2], pos=[7500, 3], edge_attr=[109703, 3], batch=[7500], ptr=[2])\n",
      "DataBatch(x=[7500, 1], edge_index=[2, 104161], y=[1, 2], pos=[7500, 3], edge_attr=[104161, 3], batch=[7500], ptr=[2])\n",
      "DataBatch(x=[1634, 1], edge_index=[2, 18126], y=[1, 2], pos=[1634, 3], edge_attr=[18126, 3], batch=[1634], ptr=[2])\n",
      "DataBatch(x=[7500, 1], edge_index=[2, 107378], y=[1, 2], pos=[7500, 3], edge_attr=[107378, 3], batch=[7500], ptr=[2])\n",
      "DataBatch(x=[7500, 1], edge_index=[2, 109263], y=[1, 2], pos=[7500, 3], edge_attr=[109263, 3], batch=[7500], ptr=[2])\n",
      "DataBatch(x=[7500, 1], edge_index=[2, 113559], y=[1, 2], pos=[7500, 3], edge_attr=[113559, 3], batch=[7500], ptr=[2])\n",
      "DataBatch(x=[7500, 1], edge_index=[2, 107544], y=[1, 2], pos=[7500, 3], edge_attr=[107544, 3], batch=[7500], ptr=[2])\n",
      "DataBatch(x=[4171, 1], edge_index=[2, 57852], y=[1, 2], pos=[4171, 3], edge_attr=[57852, 3], batch=[4171], ptr=[2])\n",
      "DataBatch(x=[7500, 1], edge_index=[2, 114503], y=[1, 2], pos=[7500, 3], edge_attr=[114503, 3], batch=[7500], ptr=[2])\n",
      "DataBatch(x=[7500, 1], edge_index=[2, 101960], y=[1, 2], pos=[7500, 3], edge_attr=[101960, 3], batch=[7500], ptr=[2])\n",
      "DataBatch(x=[7500, 1], edge_index=[2, 114716], y=[1, 2], pos=[7500, 3], edge_attr=[114716, 3], batch=[7500], ptr=[2])\n",
      "DataBatch(x=[609, 1], edge_index=[2, 6335], y=[1, 2], pos=[609, 3], edge_attr=[6335, 3], batch=[609], ptr=[2])\n",
      "DataBatch(x=[6376, 1], edge_index=[2, 89484], y=[1, 2], pos=[6376, 3], edge_attr=[89484, 3], batch=[6376], ptr=[2])\n",
      "DataBatch(x=[7500, 1], edge_index=[2, 111292], y=[1, 2], pos=[7500, 3], edge_attr=[111292, 3], batch=[7500], ptr=[2])\n",
      "DataBatch(x=[1617, 1], edge_index=[2, 21250], y=[1, 2], pos=[1617, 3], edge_attr=[21250, 3], batch=[1617], ptr=[2])\n",
      "DataBatch(x=[7500, 1], edge_index=[2, 109681], y=[1, 2], pos=[7500, 3], edge_attr=[109681, 3], batch=[7500], ptr=[2])\n",
      "DataBatch(x=[5032, 1], edge_index=[2, 74192], y=[1, 2], pos=[5032, 3], edge_attr=[74192, 3], batch=[5032], ptr=[2])\n",
      "DataBatch(x=[7500, 1], edge_index=[2, 111937], y=[1, 2], pos=[7500, 3], edge_attr=[111937, 3], batch=[7500], ptr=[2])\n",
      "DataBatch(x=[7500, 1], edge_index=[2, 111838], y=[1, 2], pos=[7500, 3], edge_attr=[111838, 3], batch=[7500], ptr=[2])\n",
      "DataBatch(x=[4576, 1], edge_index=[2, 67824], y=[1, 2], pos=[4576, 3], edge_attr=[67824, 3], batch=[4576], ptr=[2])\n",
      "DataBatch(x=[7500, 1], edge_index=[2, 109726], y=[1, 2], pos=[7500, 3], edge_attr=[109726, 3], batch=[7500], ptr=[2])\n",
      "DataBatch(x=[3576, 1], edge_index=[2, 46626], y=[1, 2], pos=[3576, 3], edge_attr=[46626, 3], batch=[3576], ptr=[2])\n",
      "DataBatch(x=[939, 1], edge_index=[2, 12818], y=[1, 2], pos=[939, 3], edge_attr=[12818, 3], batch=[939], ptr=[2])\n",
      "DataBatch(x=[2717, 1], edge_index=[2, 33826], y=[1, 2], pos=[2717, 3], edge_attr=[33826, 3], batch=[2717], ptr=[2])\n",
      "DataBatch(x=[4047, 1], edge_index=[2, 59257], y=[1, 2], pos=[4047, 3], edge_attr=[59257, 3], batch=[4047], ptr=[2])\n",
      "DataBatch(x=[7500, 1], edge_index=[2, 105507], y=[1, 2], pos=[7500, 3], edge_attr=[105507, 3], batch=[7500], ptr=[2])\n",
      "DataBatch(x=[7500, 1], edge_index=[2, 104323], y=[1, 2], pos=[7500, 3], edge_attr=[104323, 3], batch=[7500], ptr=[2])\n",
      "DataBatch(x=[7500, 1], edge_index=[2, 113723], y=[1, 2], pos=[7500, 3], edge_attr=[113723, 3], batch=[7500], ptr=[2])\n",
      "DataBatch(x=[6137, 1], edge_index=[2, 91521], y=[1, 2], pos=[6137, 3], edge_attr=[91521, 3], batch=[6137], ptr=[2])\n",
      "DataBatch(x=[7500, 1], edge_index=[2, 114914], y=[1, 2], pos=[7500, 3], edge_attr=[114914, 3], batch=[7500], ptr=[2])\n",
      "DataBatch(x=[7500, 1], edge_index=[2, 113609], y=[1, 2], pos=[7500, 3], edge_attr=[113609, 3], batch=[7500], ptr=[2])\n",
      "DataBatch(x=[5897, 1], edge_index=[2, 88573], y=[1, 2], pos=[5897, 3], edge_attr=[88573, 3], batch=[5897], ptr=[2])\n",
      "DataBatch(x=[3099, 1], edge_index=[2, 43800], y=[1, 2], pos=[3099, 3], edge_attr=[43800, 3], batch=[3099], ptr=[2])\n",
      "DataBatch(x=[7500, 1], edge_index=[2, 111797], y=[1, 2], pos=[7500, 3], edge_attr=[111797, 3], batch=[7500], ptr=[2])\n",
      "DataBatch(x=[7500, 1], edge_index=[2, 110154], y=[1, 2], pos=[7500, 3], edge_attr=[110154, 3], batch=[7500], ptr=[2])\n",
      "DataBatch(x=[7500, 1], edge_index=[2, 108297], y=[1, 2], pos=[7500, 3], edge_attr=[108297, 3], batch=[7500], ptr=[2])\n",
      "DataBatch(x=[7500, 1], edge_index=[2, 102818], y=[1, 2], pos=[7500, 3], edge_attr=[102818, 3], batch=[7500], ptr=[2])\n",
      "DataBatch(x=[7500, 1], edge_index=[2, 112200], y=[1, 2], pos=[7500, 3], edge_attr=[112200, 3], batch=[7500], ptr=[2])\n",
      "DataBatch(x=[7500, 1], edge_index=[2, 104600], y=[1, 2], pos=[7500, 3], edge_attr=[104600, 3], batch=[7500], ptr=[2])\n",
      "DataBatch(x=[7500, 1], edge_index=[2, 113991], y=[1, 2], pos=[7500, 3], edge_attr=[113991, 3], batch=[7500], ptr=[2])\n",
      "DataBatch(x=[5886, 1], edge_index=[2, 87522], y=[1, 2], pos=[5886, 3], edge_attr=[87522, 3], batch=[5886], ptr=[2])\n",
      "DataBatch(x=[7500, 1], edge_index=[2, 109407], y=[1, 2], pos=[7500, 3], edge_attr=[109407, 3], batch=[7500], ptr=[2])\n",
      "DataBatch(x=[7500, 1], edge_index=[2, 110573], y=[1, 2], pos=[7500, 3], edge_attr=[110573, 3], batch=[7500], ptr=[2])\n",
      "DataBatch(x=[2371, 1], edge_index=[2, 29688], y=[1, 2], pos=[2371, 3], edge_attr=[29688, 3], batch=[2371], ptr=[2])\n",
      "DataBatch(x=[4077, 1], edge_index=[2, 60521], y=[1, 2], pos=[4077, 3], edge_attr=[60521, 3], batch=[4077], ptr=[2])\n",
      "DataBatch(x=[4426, 1], edge_index=[2, 67405], y=[1, 2], pos=[4426, 3], edge_attr=[67405, 3], batch=[4426], ptr=[2])\n",
      "DataBatch(x=[7500, 1], edge_index=[2, 107083], y=[1, 2], pos=[7500, 3], edge_attr=[107083, 3], batch=[7500], ptr=[2])\n",
      "DataBatch(x=[2897, 1], edge_index=[2, 37916], y=[1, 2], pos=[2897, 3], edge_attr=[37916, 3], batch=[2897], ptr=[2])\n",
      "DataBatch(x=[6662, 1], edge_index=[2, 86648], y=[1, 2], pos=[6662, 3], edge_attr=[86648, 3], batch=[6662], ptr=[2])\n",
      "DataBatch(x=[7144, 1], edge_index=[2, 109983], y=[1, 2], pos=[7144, 3], edge_attr=[109983, 3], batch=[7144], ptr=[2])\n",
      "DataBatch(x=[7500, 1], edge_index=[2, 102976], y=[1, 2], pos=[7500, 3], edge_attr=[102976, 3], batch=[7500], ptr=[2])\n",
      "DataBatch(x=[4228, 1], edge_index=[2, 54661], y=[1, 2], pos=[4228, 3], edge_attr=[54661, 3], batch=[4228], ptr=[2])\n",
      "DataBatch(x=[2333, 1], edge_index=[2, 34343], y=[1, 2], pos=[2333, 3], edge_attr=[34343, 3], batch=[2333], ptr=[2])\n",
      "DataBatch(x=[7500, 1], edge_index=[2, 114620], y=[1, 2], pos=[7500, 3], edge_attr=[114620, 3], batch=[7500], ptr=[2])\n",
      "DataBatch(x=[7500, 1], edge_index=[2, 115219], y=[1, 2], pos=[7500, 3], edge_attr=[115219, 3], batch=[7500], ptr=[2])\n",
      "DataBatch(x=[2353, 1], edge_index=[2, 32885], y=[1, 2], pos=[2353, 3], edge_attr=[32885, 3], batch=[2353], ptr=[2])\n",
      "DataBatch(x=[5550, 1], edge_index=[2, 84426], y=[1, 2], pos=[5550, 3], edge_attr=[84426, 3], batch=[5550], ptr=[2])\n",
      "DataBatch(x=[7500, 1], edge_index=[2, 107864], y=[1, 2], pos=[7500, 3], edge_attr=[107864, 3], batch=[7500], ptr=[2])\n",
      "DataBatch(x=[4662, 1], edge_index=[2, 66377], y=[1, 2], pos=[4662, 3], edge_attr=[66377, 3], batch=[4662], ptr=[2])\n",
      "DataBatch(x=[7500, 1], edge_index=[2, 112686], y=[1, 2], pos=[7500, 3], edge_attr=[112686, 3], batch=[7500], ptr=[2])\n",
      "DataBatch(x=[3610, 1], edge_index=[2, 51611], y=[1, 2], pos=[3610, 3], edge_attr=[51611, 3], batch=[3610], ptr=[2])\n",
      "DataBatch(x=[7500, 1], edge_index=[2, 113732], y=[1, 2], pos=[7500, 3], edge_attr=[113732, 3], batch=[7500], ptr=[2])\n",
      "DataBatch(x=[7500, 1], edge_index=[2, 105377], y=[1, 2], pos=[7500, 3], edge_attr=[105377, 3], batch=[7500], ptr=[2])\n",
      "DataBatch(x=[7500, 1], edge_index=[2, 103313], y=[1, 2], pos=[7500, 3], edge_attr=[103313, 3], batch=[7500], ptr=[2])\n",
      "DataBatch(x=[7500, 1], edge_index=[2, 109920], y=[1, 2], pos=[7500, 3], edge_attr=[109920, 3], batch=[7500], ptr=[2])\n",
      "DataBatch(x=[7500, 1], edge_index=[2, 107885], y=[1, 2], pos=[7500, 3], edge_attr=[107885, 3], batch=[7500], ptr=[2])\n",
      "DataBatch(x=[3050, 1], edge_index=[2, 42542], y=[1, 2], pos=[3050, 3], edge_attr=[42542, 3], batch=[3050], ptr=[2])\n",
      "DataBatch(x=[7500, 1], edge_index=[2, 105363], y=[1, 2], pos=[7500, 3], edge_attr=[105363, 3], batch=[7500], ptr=[2])\n",
      "DataBatch(x=[4299, 1], edge_index=[2, 64163], y=[1, 2], pos=[4299, 3], edge_attr=[64163, 3], batch=[4299], ptr=[2])\n",
      "DataBatch(x=[4688, 1], edge_index=[2, 69253], y=[1, 2], pos=[4688, 3], edge_attr=[69253, 3], batch=[4688], ptr=[2])\n",
      "DataBatch(x=[6552, 1], edge_index=[2, 99094], y=[1, 2], pos=[6552, 3], edge_attr=[99094, 3], batch=[6552], ptr=[2])\n",
      "DataBatch(x=[7500, 1], edge_index=[2, 103279], y=[1, 2], pos=[7500, 3], edge_attr=[103279, 3], batch=[7500], ptr=[2])\n",
      "DataBatch(x=[2618, 1], edge_index=[2, 32685], y=[1, 2], pos=[2618, 3], edge_attr=[32685, 3], batch=[2618], ptr=[2])\n",
      "DataBatch(x=[6731, 1], edge_index=[2, 101532], y=[1, 2], pos=[6731, 3], edge_attr=[101532, 3], batch=[6731], ptr=[2])\n",
      "DataBatch(x=[4143, 1], edge_index=[2, 58101], y=[1, 2], pos=[4143, 3], edge_attr=[58101, 3], batch=[4143], ptr=[2])\n",
      "DataBatch(x=[6275, 1], edge_index=[2, 93502], y=[1, 2], pos=[6275, 3], edge_attr=[93502, 3], batch=[6275], ptr=[2])\n",
      "DataBatch(x=[7500, 1], edge_index=[2, 111833], y=[1, 2], pos=[7500, 3], edge_attr=[111833, 3], batch=[7500], ptr=[2])\n",
      "DataBatch(x=[2502, 1], edge_index=[2, 32902], y=[1, 2], pos=[2502, 3], edge_attr=[32902, 3], batch=[2502], ptr=[2])\n",
      "DataBatch(x=[7500, 1], edge_index=[2, 109773], y=[1, 2], pos=[7500, 3], edge_attr=[109773, 3], batch=[7500], ptr=[2])\n",
      "DataBatch(x=[7500, 1], edge_index=[2, 114108], y=[1, 2], pos=[7500, 3], edge_attr=[114108, 3], batch=[7500], ptr=[2])\n",
      "DataBatch(x=[7500, 1], edge_index=[2, 109165], y=[1, 2], pos=[7500, 3], edge_attr=[109165, 3], batch=[7500], ptr=[2])\n",
      "DataBatch(x=[7500, 1], edge_index=[2, 111135], y=[1, 2], pos=[7500, 3], edge_attr=[111135, 3], batch=[7500], ptr=[2])\n",
      "DataBatch(x=[7500, 1], edge_index=[2, 114203], y=[1, 2], pos=[7500, 3], edge_attr=[114203, 3], batch=[7500], ptr=[2])\n",
      "DataBatch(x=[7500, 1], edge_index=[2, 107968], y=[1, 2], pos=[7500, 3], edge_attr=[107968, 3], batch=[7500], ptr=[2])\n",
      "DataBatch(x=[4732, 1], edge_index=[2, 54060], y=[1, 2], pos=[4732, 3], edge_attr=[54060, 3], batch=[4732], ptr=[2])\n",
      "DataBatch(x=[7500, 1], edge_index=[2, 112135], y=[1, 2], pos=[7500, 3], edge_attr=[112135, 3], batch=[7500], ptr=[2])\n",
      "DataBatch(x=[7500, 1], edge_index=[2, 112434], y=[1, 2], pos=[7500, 3], edge_attr=[112434, 3], batch=[7500], ptr=[2])\n",
      "DataBatch(x=[7500, 1], edge_index=[2, 111191], y=[1, 2], pos=[7500, 3], edge_attr=[111191, 3], batch=[7500], ptr=[2])\n",
      "DataBatch(x=[7500, 1], edge_index=[2, 104916], y=[1, 2], pos=[7500, 3], edge_attr=[104916, 3], batch=[7500], ptr=[2])\n",
      "DataBatch(x=[3388, 1], edge_index=[2, 46546], y=[1, 2], pos=[3388, 3], edge_attr=[46546, 3], batch=[3388], ptr=[2])\n",
      "DataBatch(x=[7214, 1], edge_index=[2, 104307], y=[1, 2], pos=[7214, 3], edge_attr=[104307, 3], batch=[7214], ptr=[2])\n",
      "DataBatch(x=[7500, 1], edge_index=[2, 103284], y=[1, 2], pos=[7500, 3], edge_attr=[103284, 3], batch=[7500], ptr=[2])\n",
      "DataBatch(x=[7500, 1], edge_index=[2, 106480], y=[1, 2], pos=[7500, 3], edge_attr=[106480, 3], batch=[7500], ptr=[2])\n",
      "DataBatch(x=[1923, 1], edge_index=[2, 26504], y=[1, 2], pos=[1923, 3], edge_attr=[26504, 3], batch=[1923], ptr=[2])\n",
      "DataBatch(x=[1826, 1], edge_index=[2, 24781], y=[1, 2], pos=[1826, 3], edge_attr=[24781, 3], batch=[1826], ptr=[2])\n",
      "DataBatch(x=[7066, 1], edge_index=[2, 105969], y=[1, 2], pos=[7066, 3], edge_attr=[105969, 3], batch=[7066], ptr=[2])\n",
      "DataBatch(x=[5588, 1], edge_index=[2, 84708], y=[1, 2], pos=[5588, 3], edge_attr=[84708, 3], batch=[5588], ptr=[2])\n",
      "DataBatch(x=[7500, 1], edge_index=[2, 112637], y=[1, 2], pos=[7500, 3], edge_attr=[112637, 3], batch=[7500], ptr=[2])\n",
      "DataBatch(x=[7500, 1], edge_index=[2, 109707], y=[1, 2], pos=[7500, 3], edge_attr=[109707, 3], batch=[7500], ptr=[2])\n",
      "DataBatch(x=[7500, 1], edge_index=[2, 107899], y=[1, 2], pos=[7500, 3], edge_attr=[107899, 3], batch=[7500], ptr=[2])\n",
      "DataBatch(x=[6750, 1], edge_index=[2, 103119], y=[1, 2], pos=[6750, 3], edge_attr=[103119, 3], batch=[6750], ptr=[2])\n",
      "DataBatch(x=[6615, 1], edge_index=[2, 99815], y=[1, 2], pos=[6615, 3], edge_attr=[99815, 3], batch=[6615], ptr=[2])\n",
      "DataBatch(x=[5773, 1], edge_index=[2, 87743], y=[1, 2], pos=[5773, 3], edge_attr=[87743, 3], batch=[5773], ptr=[2])\n",
      "DataBatch(x=[3946, 1], edge_index=[2, 57667], y=[1, 2], pos=[3946, 3], edge_attr=[57667, 3], batch=[3946], ptr=[2])\n",
      "DataBatch(x=[2977, 1], edge_index=[2, 44008], y=[1, 2], pos=[2977, 3], edge_attr=[44008, 3], batch=[2977], ptr=[2])\n",
      "DataBatch(x=[7500, 1], edge_index=[2, 108979], y=[1, 2], pos=[7500, 3], edge_attr=[108979, 3], batch=[7500], ptr=[2])\n",
      "DataBatch(x=[7500, 1], edge_index=[2, 104103], y=[1, 2], pos=[7500, 3], edge_attr=[104103, 3], batch=[7500], ptr=[2])\n",
      "DataBatch(x=[7500, 1], edge_index=[2, 105506], y=[1, 2], pos=[7500, 3], edge_attr=[105506, 3], batch=[7500], ptr=[2])\n",
      "DataBatch(x=[7500, 1], edge_index=[2, 113143], y=[1, 2], pos=[7500, 3], edge_attr=[113143, 3], batch=[7500], ptr=[2])\n",
      "DataBatch(x=[6639, 1], edge_index=[2, 98110], y=[1, 2], pos=[6639, 3], edge_attr=[98110, 3], batch=[6639], ptr=[2])\n",
      "DataBatch(x=[7500, 1], edge_index=[2, 104535], y=[1, 2], pos=[7500, 3], edge_attr=[104535, 3], batch=[7500], ptr=[2])\n",
      "DataBatch(x=[4742, 1], edge_index=[2, 71892], y=[1, 2], pos=[4742, 3], edge_attr=[71892, 3], batch=[4742], ptr=[2])\n",
      "DataBatch(x=[6297, 1], edge_index=[2, 93739], y=[1, 2], pos=[6297, 3], edge_attr=[93739, 3], batch=[6297], ptr=[2])\n",
      "DataBatch(x=[7500, 1], edge_index=[2, 105556], y=[1, 2], pos=[7500, 3], edge_attr=[105556, 3], batch=[7500], ptr=[2])\n",
      "DataBatch(x=[4185, 1], edge_index=[2, 60045], y=[1, 2], pos=[4185, 3], edge_attr=[60045, 3], batch=[4185], ptr=[2])\n"
     ]
    }
   ],
   "source": [
    "for i in tm.val_loader:\n",
    "    print(i)"
   ]
  },
  {
   "cell_type": "code",
   "execution_count": 30,
   "id": "70dce5ee-026f-4af2-a5b2-53c9ef4791e0",
   "metadata": {},
   "outputs": [
    {
     "data": {
      "text/plain": [
       "Data(x=[11880, 1], edge_index=[2, 184636], y=[1, 2], pos=[11880, 3], edge_attr=[184636, 3])"
      ]
     },
     "execution_count": 30,
     "metadata": {},
     "output_type": "execute_result"
    }
   ],
   "source": [
    "v[i]"
   ]
  },
  {
   "cell_type": "code",
   "execution_count": 12,
   "id": "28bed3b1-dbf6-4ea3-87d1-1fad264e8add",
   "metadata": {},
   "outputs": [
    {
     "data": {
      "application/vnd.jupyter.widget-view+json": {
       "model_id": "a5324b69ae0040bba19553cefcccd687",
       "version_major": 2,
       "version_minor": 0
      },
      "text/plain": [
       "  0%|          | 0/285 [00:00<?, ?it/s]"
      ]
     },
     "metadata": {},
     "output_type": "display_data"
    }
   ],
   "source": [
    "from torch_geometric.utils import degree\n",
    "pred = []\n",
    "true = []\n",
    "n_events = []\n",
    "n_edges = []\n",
    "deg = []\n",
    "from tqdm.auto import tqdm\n",
    "with torch.no_grad():\n",
    "    for v in tqdm(vl):\n",
    "        #pred.append(tm.model(v.cuda()))\n",
    "        #true.append(v.y)\n",
    "        deg.append(degree())\n",
    "        n_events.append(v.x.shape[0])\n",
    "        n_edges.append(v.edge_index.shape[1]) \n",
    "        \n",
    "        v.detach().cpu()\n",
    "        torch.cuda.empty_cache()\n",
    "pred = torch.vstack(pred)\n",
    "true = torch.vstack(true)"
   ]
  },
  {
   "cell_type": "code",
   "execution_count": 31,
   "id": "5d24b065-11e8-4d07-a8ec-401acf7595f5",
   "metadata": {},
   "outputs": [
    {
     "data": {
      "text/plain": [
       "tensor([[ 0.0793,  0.0196],\n",
       "        [-0.0285,  0.0166],\n",
       "        [-0.0281, -0.0577],\n",
       "        ...,\n",
       "        [ 0.0004, -0.0160],\n",
       "        [ 0.0000,  0.0000],\n",
       "        [ 0.0000,  0.0000]])"
      ]
     },
     "execution_count": 31,
     "metadata": {},
     "output_type": "execute_result"
    }
   ],
   "source": [
    "pred"
   ]
  },
  {
   "cell_type": "code",
   "execution_count": 13,
   "id": "435d1754-50d4-4dbc-8b2a-5c5cf52ab10b",
   "metadata": {},
   "outputs": [
    {
     "data": {
      "text/plain": [
       "tensor(0.0274, device='cuda:0')"
      ]
     },
     "execution_count": 13,
     "metadata": {},
     "output_type": "execute_result"
    }
   ],
   "source": [
    "loss_func = torch.nn.L1Loss()\n",
    "\n",
    "loss_func(pred, true)"
   ]
  },
  {
   "cell_type": "code",
   "execution_count": 14,
   "id": "de517205-3284-468c-b10d-6ee2b20c3ef4",
   "metadata": {},
   "outputs": [],
   "source": [
    "loss = torch.stack([loss_func(true[i], pred[i]) for i in range(len(true))]).cpu().numpy()"
   ]
  },
  {
   "cell_type": "code",
   "execution_count": 15,
   "id": "b2e9a6f6-c66b-4cf2-acc6-4c9f87e55d63",
   "metadata": {},
   "outputs": [
    {
     "data": {
      "text/plain": [
       "[-0.00720640736317035, 0.08696840338642396, 0]"
      ]
     },
     "execution_count": 15,
     "metadata": {},
     "output_type": "execute_result"
    }
   ],
   "source": [
    "list_of_rotations[45]"
   ]
  },
  {
   "cell_type": "code",
   "execution_count": 16,
   "id": "1f93cbc1-8ae3-40ec-b7f6-aabda044c25c",
   "metadata": {},
   "outputs": [
    {
     "data": {
      "text/plain": [
       "[0.08726646259971647, 1.6534698176788385]"
      ]
     },
     "execution_count": 16,
     "metadata": {},
     "output_type": "execute_result"
    }
   ],
   "source": [
    "sph[44]"
   ]
  },
  {
   "cell_type": "code",
   "execution_count": 17,
   "id": "9b867aea-d863-4b69-97f0-d7e02c2c2740",
   "metadata": {},
   "outputs": [
    {
     "data": {
      "text/plain": [
       "0.08726646259971647"
      ]
     },
     "execution_count": 17,
     "metadata": {},
     "output_type": "execute_result"
    }
   ],
   "source": [
    "np.sqrt(0.08696840338642396**2+(-0.00720640736317035)**2)"
   ]
  },
  {
   "cell_type": "code",
   "execution_count": 18,
   "id": "08bf7169-ac0a-4f90-b1ca-2751e6a170f7",
   "metadata": {},
   "outputs": [
    {
     "data": {
      "text/plain": [
       "1.6534698176788385"
      ]
     },
     "execution_count": 18,
     "metadata": {},
     "output_type": "execute_result"
    }
   ],
   "source": [
    "np.arctan2(0.08696840338642396, -0.00720640736317035)"
   ]
  },
  {
   "cell_type": "code",
   "execution_count": 19,
   "id": "556aa225-eac0-4552-9ecf-a79484e0fb00",
   "metadata": {},
   "outputs": [],
   "source": [
    "def rpy2spherical(rpy):\n",
    "    phi = np.sqrt(rpy[:, 0]**2 + rpy[:, 1]**2)\n",
    "    theta = np.arctan2(rpy[:, 1], rpy[:, 0])\n",
    "    return phi, theta"
   ]
  },
  {
   "cell_type": "code",
   "execution_count": 20,
   "id": "f8224af0-300e-4610-8183-b35614cb7b80",
   "metadata": {},
   "outputs": [
    {
     "data": {
      "text/plain": [
       "<matplotlib.collections.PathCollection at 0x7eff286d8a00>"
      ]
     },
     "execution_count": 20,
     "metadata": {},
     "output_type": "execute_result"
    },
    {
     "data": {
      "image/png": "[encoded data removed]",
      "text/plain": [
       "<Figure size 640x480 with 1 Axes>"
      ]
     },
     "metadata": {},
     "output_type": "display_data"
    }
   ],
   "source": [
    "import matplotlib.pyplot as plt\n",
    "\n",
    "plt.scatter(*true.T.cpu())"
   ]
  },
  {
   "cell_type": "code",
   "execution_count": 21,
   "id": "bd5e4626-430a-47e9-ad6d-172b38356835",
   "metadata": {},
   "outputs": [
    {
     "data": {
      "text/plain": [
       "<matplotlib.collections.PathCollection at 0x7eff2865bee0>"
      ]
     },
     "execution_count": 21,
     "metadata": {},
     "output_type": "execute_result"
    },
    {
     "data": {
      "image/png": "[encoded data removed]",
      "text/plain": [
       "<Figure size 640x480 with 1 Axes>"
      ]
     },
     "metadata": {},
     "output_type": "display_data"
    }
   ],
   "source": [
    "phi_true, theta_true = rpy2spherical(true.cpu().numpy())\n",
    "phi_true, theta_true = np.degrees(phi_true), np.degrees(theta_true)\n",
    "\n",
    "plt.scatter(phi_true, theta_true)"
   ]
  },
  {
   "cell_type": "code",
   "execution_count": 22,
   "id": "7057b751-5393-405b-83c9-c894c17fe425",
   "metadata": {},
   "outputs": [
    {
     "data": {
      "text/plain": [
       "array([-1.70526306e+02, -1.70526306e+02, -1.70526306e+02, -1.70526306e+02,\n",
       "       -1.70526306e+02, -1.70526306e+02, -1.70526306e+02, -1.70526306e+02,\n",
       "       -1.70526306e+02, -1.70526306e+02, -1.70526306e+02, -1.70526306e+02,\n",
       "       -1.70526306e+02, -1.70526306e+02, -1.51578934e+02, -1.51578934e+02,\n",
       "       -1.51578934e+02, -1.51578934e+02, -1.51578934e+02, -1.51578934e+02,\n",
       "       -1.51578934e+02, -1.51578934e+02, -1.51578934e+02, -1.51578934e+02,\n",
       "       -1.51578934e+02, -1.51578934e+02, -1.51578934e+02, -1.51578934e+02,\n",
       "       -1.51578934e+02, -1.32631577e+02, -1.32631577e+02, -1.32631577e+02,\n",
       "       -1.32631577e+02, -1.32631577e+02, -1.32631577e+02, -1.32631577e+02,\n",
       "       -1.32631577e+02, -1.32631577e+02, -1.32631577e+02, -1.32631577e+02,\n",
       "       -1.32631577e+02, -1.32631577e+02, -1.32631577e+02, -1.32631577e+02,\n",
       "       -1.13684204e+02, -1.13684204e+02, -1.13684204e+02, -1.13684204e+02,\n",
       "       -1.13684204e+02, -1.13684204e+02, -1.13684204e+02, -1.13684204e+02,\n",
       "       -1.13684204e+02, -1.13684204e+02, -1.13684204e+02, -1.13684204e+02,\n",
       "       -1.13684204e+02, -1.13684204e+02, -1.13684204e+02, -1.13684204e+02,\n",
       "       -9.47368393e+01, -9.47368393e+01, -9.47368393e+01, -9.47368393e+01,\n",
       "       -9.47368393e+01, -9.47368393e+01, -9.47368393e+01, -9.47368393e+01,\n",
       "       -9.47368393e+01, -9.47368393e+01, -9.47368393e+01, -9.47368393e+01,\n",
       "       -9.47368393e+01, -9.47368393e+01, -9.47368393e+01, -7.57894669e+01,\n",
       "       -7.57894669e+01, -7.57894669e+01, -7.57894669e+01, -7.57894669e+01,\n",
       "       -7.57894669e+01, -7.57894669e+01, -7.57894669e+01, -7.57894669e+01,\n",
       "       -7.57894669e+01, -7.57894669e+01, -7.57894669e+01, -7.57894669e+01,\n",
       "       -7.57894669e+01, -7.57894669e+01, -5.68421059e+01, -5.68421059e+01,\n",
       "       -5.68421059e+01, -5.68421059e+01, -5.68421059e+01, -5.68421021e+01,\n",
       "       -5.68421021e+01, -5.68421021e+01, -5.68421021e+01, -5.68421021e+01,\n",
       "       -5.68421021e+01, -5.68421021e+01, -5.68421021e+01, -3.78947334e+01,\n",
       "       -3.78947334e+01, -3.78947334e+01, -3.78947334e+01, -3.78947334e+01,\n",
       "       -3.78947334e+01, -3.78947334e+01, -3.78947334e+01, -3.78947334e+01,\n",
       "       -3.78947334e+01, -3.78947334e+01, -3.78947334e+01, -3.78947334e+01,\n",
       "       -3.78947334e+01, -3.78947334e+01, -3.78947334e+01, -1.89473686e+01,\n",
       "       -1.89473686e+01, -1.89473667e+01, -1.89473667e+01, -1.89473667e+01,\n",
       "       -1.89473667e+01, -1.89473667e+01, -1.89473667e+01, -1.89473667e+01,\n",
       "       -1.89473667e+01, -1.89473667e+01, -1.89473667e+01, -1.89473667e+01,\n",
       "       -1.89473667e+01, -1.89473667e+01, -1.89473667e+01, -1.89473648e+01,\n",
       "       -1.89473648e+01, -1.40334183e-14, -1.40334183e-14, -1.40334183e-14,\n",
       "       -1.40334183e-14, -1.40334183e-14, -1.40334183e-14, -1.40334183e-14,\n",
       "       -1.40334166e-14, -1.40334166e-14, -1.40334166e-14, -1.40334166e-14,\n",
       "       -1.40334166e-14,  0.00000000e+00,  0.00000000e+00,  1.89473648e+01,\n",
       "        1.89473648e+01,  1.89473667e+01,  1.89473667e+01,  1.89473667e+01,\n",
       "        1.89473667e+01,  1.89473667e+01,  1.89473667e+01,  1.89473667e+01,\n",
       "        1.89473667e+01,  1.89473667e+01,  1.89473667e+01,  1.89473667e+01,\n",
       "        1.89473667e+01,  1.89473686e+01,  1.89473686e+01,  3.78947334e+01,\n",
       "        3.78947334e+01,  3.78947334e+01,  3.78947334e+01,  3.78947334e+01,\n",
       "        3.78947334e+01,  3.78947334e+01,  3.78947334e+01,  3.78947334e+01,\n",
       "        3.78947334e+01,  3.78947334e+01,  3.78947334e+01,  3.78947334e+01,\n",
       "        3.78947334e+01,  3.78947334e+01,  5.68421021e+01,  5.68421021e+01,\n",
       "        5.68421021e+01,  5.68421021e+01,  5.68421021e+01,  5.68421021e+01,\n",
       "        5.68421021e+01,  5.68421021e+01,  5.68421021e+01,  5.68421021e+01,\n",
       "        5.68421059e+01,  5.68421059e+01,  5.68421059e+01,  5.68421059e+01,\n",
       "        7.57894669e+01,  7.57894669e+01,  7.57894669e+01,  7.57894669e+01,\n",
       "        7.57894669e+01,  7.57894669e+01,  7.57894669e+01,  7.57894669e+01,\n",
       "        7.57894669e+01,  7.57894669e+01,  7.57894669e+01,  7.57894669e+01,\n",
       "        7.57894669e+01,  7.57894669e+01,  7.57894669e+01,  9.47368393e+01,\n",
       "        9.47368393e+01,  9.47368393e+01,  9.47368393e+01,  9.47368393e+01,\n",
       "        9.47368393e+01,  9.47368393e+01,  9.47368393e+01,  9.47368393e+01,\n",
       "        9.47368393e+01,  9.47368393e+01,  9.47368393e+01,  9.47368393e+01,\n",
       "        9.47368393e+01,  1.13684204e+02,  1.13684204e+02,  1.13684204e+02,\n",
       "        1.13684204e+02,  1.13684204e+02,  1.13684204e+02,  1.13684204e+02,\n",
       "        1.13684204e+02,  1.13684204e+02,  1.13684204e+02,  1.13684204e+02,\n",
       "        1.13684204e+02,  1.13684204e+02,  1.13684204e+02,  1.32631577e+02,\n",
       "        1.32631577e+02,  1.32631577e+02,  1.32631577e+02,  1.32631577e+02,\n",
       "        1.32631577e+02,  1.32631577e+02,  1.32631577e+02,  1.32631577e+02,\n",
       "        1.32631577e+02,  1.32631577e+02,  1.32631577e+02,  1.32631577e+02,\n",
       "        1.32631577e+02,  1.32631577e+02,  1.32631577e+02,  1.51578934e+02,\n",
       "        1.51578934e+02,  1.51578934e+02,  1.51578934e+02,  1.51578934e+02,\n",
       "        1.51578934e+02,  1.51578934e+02,  1.51578934e+02,  1.51578934e+02,\n",
       "        1.51578934e+02,  1.51578934e+02,  1.51578934e+02,  1.51578934e+02,\n",
       "        1.51578934e+02,  1.51578934e+02,  1.51578934e+02,  1.51578934e+02,\n",
       "        1.51578934e+02,  1.70526306e+02,  1.70526306e+02,  1.70526306e+02,\n",
       "        1.70526306e+02,  1.70526306e+02,  1.70526306e+02,  1.70526306e+02,\n",
       "        1.70526306e+02,  1.70526306e+02,  1.70526306e+02,  1.70526306e+02,\n",
       "        1.70526306e+02], dtype=float32)"
      ]
     },
     "execution_count": 22,
     "metadata": {},
     "output_type": "execute_result"
    }
   ],
   "source": [
    "np.sort(theta_true)"
   ]
  },
  {
   "cell_type": "code",
   "execution_count": 23,
   "id": "c31fe529-5c37-41f1-b10d-53d10e8908c6",
   "metadata": {},
   "outputs": [
    {
     "data": {
      "text/plain": [
       "<matplotlib.collections.PathCollection at 0x7effbbcdac70>"
      ]
     },
     "execution_count": 23,
     "metadata": {},
     "output_type": "execute_result"
    },
    {
     "data": {
      "image/png": "[encoded data removed]",
      "text/plain": [
       "<Figure size 640x480 with 1 Axes>"
      ]
     },
     "metadata": {},
     "output_type": "display_data"
    }
   ],
   "source": [
    "plt.scatter(*pred.T.cpu())"
   ]
  },
  {
   "cell_type": "code",
   "execution_count": 24,
   "id": "a4a33637-9afb-4d42-8368-f7e3ee91b2ef",
   "metadata": {},
   "outputs": [
    {
     "data": {
      "text/plain": [
       "<matplotlib.collections.PathCollection at 0x7eff2856f3a0>"
      ]
     },
     "execution_count": 24,
     "metadata": {},
     "output_type": "execute_result"
    },
    {
     "data": {
      "image/png": "[encoded data removed]",
      "text/plain": [
       "<Figure size 640x480 with 1 Axes>"
      ]
     },
     "metadata": {},
     "output_type": "display_data"
    }
   ],
   "source": [
    "phi_pred, theta_pred = rpy2spherical(pred.cpu())\n",
    "phi_pred, theta_pred = torch.rad2deg(phi_pred), torch.rad2deg(theta_pred)\n",
    "theta_pred[theta_pred < 0] = 360 + theta_pred[theta_pred < 0] \n",
    "\n",
    "plt.scatter(phi_pred, theta_pred)"
   ]
  },
  {
   "cell_type": "code",
   "execution_count": 25,
   "id": "96174da1-eef1-4a47-9269-8062ac55fbb7",
   "metadata": {},
   "outputs": [
    {
     "data": {
      "text/plain": [
       "<matplotlib.collections.PathCollection at 0x7eff284e9ee0>"
      ]
     },
     "execution_count": 25,
     "metadata": {},
     "output_type": "execute_result"
    },
    {
     "data": {
      "image/png": "[encoded data removed]",
      "text/plain": [
       "<Figure size 640x480 with 1 Axes>"
      ]
     },
     "metadata": {},
     "output_type": "display_data"
    }
   ],
   "source": [
    "phi_err = torch.abs(phi_pred-phi_true)\n",
    "theta_err = torch.abs(theta_pred-theta_true)\n",
    "\n",
    "plt.scatter(phi_err, theta_err)"
   ]
  },
  {
   "cell_type": "code",
   "execution_count": 26,
   "id": "6ef08044-de86-46e0-9239-1eead0e503f0",
   "metadata": {},
   "outputs": [
    {
     "data": {
      "text/plain": [
       "(array([71., 79., 58., 30., 23., 10., 10.,  2.,  0.,  2.]),\n",
       " array([3.29399109e-03, 7.35793889e-01, 1.46829379e+00, 2.20079374e+00,\n",
       "        2.93329358e+00, 3.66579342e+00, 4.39829350e+00, 5.13079309e+00,\n",
       "        5.86329317e+00, 6.59579277e+00, 7.32829285e+00]),\n",
       " <BarContainer object of 10 artists>)"
      ]
     },
     "execution_count": 26,
     "metadata": {},
     "output_type": "execute_result"
    },
    {
     "data": {
      "image/png": "[encoded data removed]",
      "text/plain": [
       "<Figure size 640x480 with 1 Axes>"
      ]
     },
     "metadata": {},
     "output_type": "display_data"
    }
   ],
   "source": [
    "plt.hist(phi_err)"
   ]
  },
  {
   "cell_type": "code",
   "execution_count": 27,
   "id": "76e40134-c3b2-4238-9612-70de569c6cb8",
   "metadata": {},
   "outputs": [
    {
     "data": {
      "text/plain": [
       "(array([117.,  14.,   3.,   2.,   2.,   1.,  12.,  37.,  88.,   9.]),\n",
       " array([6.31103516e-02, 4.38962097e+01, 8.77293091e+01, 1.31562408e+02,\n",
       "        1.75395508e+02, 2.19228607e+02, 2.63061707e+02, 3.06894806e+02,\n",
       "        3.50727905e+02, 3.94561005e+02, 4.38394104e+02]),\n",
       " <BarContainer object of 10 artists>)"
      ]
     },
     "execution_count": 27,
     "metadata": {},
     "output_type": "execute_result"
    },
    {
     "data": {
      "image/png": "[encoded data removed]",
      "text/plain": [
       "<Figure size 640x480 with 1 Axes>"
      ]
     },
     "metadata": {},
     "output_type": "display_data"
    }
   ],
   "source": [
    "plt.hist(theta_err)"
   ]
  },
  {
   "cell_type": "code",
   "execution_count": 28,
   "id": "99494b5f-d335-4b3b-af5b-a742b1f0982a",
   "metadata": {},
   "outputs": [],
   "source": [
    "outlier = torch.argwhere(theta_err > 300)"
   ]
  },
  {
   "cell_type": "code",
   "execution_count": 30,
   "id": "faffeedf-d92e-4f41-bfd5-0c4a6c23eb5b",
   "metadata": {},
   "outputs": [
    {
     "data": {
      "text/plain": [
       "<matplotlib.collections.LineCollection at 0x7eff285ffc40>"
      ]
     },
     "execution_count": 30,
     "metadata": {},
     "output_type": "execute_result"
    },
    {
     "data": {
      "image/png": "[encoded data removed]",
      "text/plain": [
       "<Figure size 640x480 with 1 Axes>"
      ]
     },
     "metadata": {},
     "output_type": "display_data"
    }
   ],
   "source": [
    "plt.hist(loss)\n",
    "plt.vlines(0.034, 0, 120, color='r')"
   ]
  },
  {
   "cell_type": "code",
   "execution_count": 31,
   "id": "44865666-24ab-46eb-ba4c-3d4382c855b2",
   "metadata": {},
   "outputs": [
    {
     "data": {
      "text/plain": [
       "0.03490658503988659"
      ]
     },
     "execution_count": 31,
     "metadata": {},
     "output_type": "execute_result"
    }
   ],
   "source": [
    "np.radians(2)"
   ]
  },
  {
   "cell_type": "code",
   "execution_count": 32,
   "id": "14d3b83f-3cf9-44d8-933e-ff9d97fa4a9d",
   "metadata": {},
   "outputs": [],
   "source": [
    "idx = np.argsort(loss)[::-1]"
   ]
  },
  {
   "cell_type": "code",
   "execution_count": 50,
   "id": "723e8580-7122-403a-a09f-8c07a53c1fb2",
   "metadata": {},
   "outputs": [
    {
     "data": {
      "text/html": [
       "<div>\n",
       "<style scoped>\n",
       "    .dataframe tbody tr th:only-of-type {\n",
       "        vertical-align: middle;\n",
       "    }\n",
       "\n",
       "    .dataframe tbody tr th {\n",
       "        vertical-align: top;\n",
       "    }\n",
       "\n",
       "    .dataframe thead th {\n",
       "        text-align: right;\n",
       "    }\n",
       "</style>\n",
       "<table border=\"1\" class=\"dataframe\">\n",
       "  <thead>\n",
       "    <tr style=\"text-align: right;\">\n",
       "      <th></th>\n",
       "      <th>idx</th>\n",
       "      <th>loss</th>\n",
       "      <th>true_x</th>\n",
       "      <th>true_y</th>\n",
       "      <th>n_events</th>\n",
       "      <th>n_edges</th>\n",
       "    </tr>\n",
       "  </thead>\n",
       "  <tbody>\n",
       "    <tr>\n",
       "      <th>0</th>\n",
       "      <td>23</td>\n",
       "      <td>8.414346</td>\n",
       "      <td>-0.138147</td>\n",
       "      <td>-0.074762</td>\n",
       "      <td>1466</td>\n",
       "      <td>16478</td>\n",
       "    </tr>\n",
       "    <tr>\n",
       "      <th>1</th>\n",
       "      <td>14</td>\n",
       "      <td>6.816030</td>\n",
       "      <td>-0.122798</td>\n",
       "      <td>-0.066455</td>\n",
       "      <td>1459</td>\n",
       "      <td>17405</td>\n",
       "    </tr>\n",
       "    <tr>\n",
       "      <th>2</th>\n",
       "      <td>79</td>\n",
       "      <td>4.511847</td>\n",
       "      <td>0.066822</td>\n",
       "      <td>0.102279</td>\n",
       "      <td>3537</td>\n",
       "      <td>45647</td>\n",
       "    </tr>\n",
       "    <tr>\n",
       "      <th>3</th>\n",
       "      <td>104</td>\n",
       "      <td>4.445321</td>\n",
       "      <td>-0.153497</td>\n",
       "      <td>0.083068</td>\n",
       "      <td>7500</td>\n",
       "      <td>107162</td>\n",
       "    </tr>\n",
       "    <tr>\n",
       "      <th>4</th>\n",
       "      <td>160</td>\n",
       "      <td>4.370445</td>\n",
       "      <td>-0.172153</td>\n",
       "      <td>-0.028727</td>\n",
       "      <td>1351</td>\n",
       "      <td>13602</td>\n",
       "    </tr>\n",
       "    <tr>\n",
       "      <th>5</th>\n",
       "      <td>213</td>\n",
       "      <td>4.367351</td>\n",
       "      <td>-0.014413</td>\n",
       "      <td>-0.173937</td>\n",
       "      <td>2371</td>\n",
       "      <td>29688</td>\n",
       "    </tr>\n",
       "    <tr>\n",
       "      <th>6</th>\n",
       "      <td>221</td>\n",
       "      <td>4.228703</td>\n",
       "      <td>-0.014413</td>\n",
       "      <td>0.173937</td>\n",
       "      <td>4228</td>\n",
       "      <td>54661</td>\n",
       "    </tr>\n",
       "    <tr>\n",
       "      <th>7</th>\n",
       "      <td>26</td>\n",
       "      <td>4.203744</td>\n",
       "      <td>0.082538</td>\n",
       "      <td>0.028335</td>\n",
       "      <td>2719</td>\n",
       "      <td>38203</td>\n",
       "    </tr>\n",
       "    <tr>\n",
       "      <th>8</th>\n",
       "      <td>191</td>\n",
       "      <td>4.125558</td>\n",
       "      <td>0.055092</td>\n",
       "      <td>0.042880</td>\n",
       "      <td>3576</td>\n",
       "      <td>46626</td>\n",
       "    </tr>\n",
       "    <tr>\n",
       "      <th>9</th>\n",
       "      <td>166</td>\n",
       "      <td>3.969540</td>\n",
       "      <td>0.025707</td>\n",
       "      <td>-0.101515</td>\n",
       "      <td>724</td>\n",
       "      <td>8137</td>\n",
       "    </tr>\n",
       "    <tr>\n",
       "      <th>10</th>\n",
       "      <td>218</td>\n",
       "      <td>3.942498</td>\n",
       "      <td>-0.061399</td>\n",
       "      <td>0.033227</td>\n",
       "      <td>6662</td>\n",
       "      <td>86648</td>\n",
       "    </tr>\n",
       "    <tr>\n",
       "      <th>11</th>\n",
       "      <td>172</td>\n",
       "      <td>3.878178</td>\n",
       "      <td>-0.103292</td>\n",
       "      <td>-0.017236</td>\n",
       "      <td>1634</td>\n",
       "      <td>18126</td>\n",
       "    </tr>\n",
       "    <tr>\n",
       "      <th>12</th>\n",
       "      <td>217</td>\n",
       "      <td>3.600229</td>\n",
       "      <td>-0.070925</td>\n",
       "      <td>0.077045</td>\n",
       "      <td>2897</td>\n",
       "      <td>37916</td>\n",
       "    </tr>\n",
       "    <tr>\n",
       "      <th>13</th>\n",
       "      <td>150</td>\n",
       "      <td>3.446180</td>\n",
       "      <td>-0.017215</td>\n",
       "      <td>-0.002873</td>\n",
       "      <td>7500</td>\n",
       "      <td>110931</td>\n",
       "    </tr>\n",
       "    <tr>\n",
       "      <th>14</th>\n",
       "      <td>225</td>\n",
       "      <td>3.367828</td>\n",
       "      <td>0.076368</td>\n",
       "      <td>-0.116890</td>\n",
       "      <td>2353</td>\n",
       "      <td>32885</td>\n",
       "    </tr>\n",
       "  </tbody>\n",
       "</table>\n",
       "</div>"
      ],
      "text/plain": [
       "    idx      loss    true_x    true_y  n_events  n_edges\n",
       "0    23  8.414346 -0.138147 -0.074762      1466    16478\n",
       "1    14  6.816030 -0.122798 -0.066455      1459    17405\n",
       "2    79  4.511847  0.066822  0.102279      3537    45647\n",
       "3   104  4.445321 -0.153497  0.083068      7500   107162\n",
       "4   160  4.370445 -0.172153 -0.028727      1351    13602\n",
       "5   213  4.367351 -0.014413 -0.173937      2371    29688\n",
       "6   221  4.228703 -0.014413  0.173937      4228    54661\n",
       "7    26  4.203744  0.082538  0.028335      2719    38203\n",
       "8   191  4.125558  0.055092  0.042880      3576    46626\n",
       "9   166  3.969540  0.025707 -0.101515       724     8137\n",
       "10  218  3.942498 -0.061399  0.033227      6662    86648\n",
       "11  172  3.878178 -0.103292 -0.017236      1634    18126\n",
       "12  217  3.600229 -0.070925  0.077045      2897    37916\n",
       "13  150  3.446180 -0.017215 -0.002873      7500   110931\n",
       "14  225  3.367828  0.076368 -0.116890      2353    32885"
      ]
     },
     "execution_count": 50,
     "metadata": {},
     "output_type": "execute_result"
    }
   ],
   "source": [
    "import pandas as pd\n",
    "\n",
    "sorted_out = pd.DataFrame({\n",
    "    'idx': idx,\n",
    "    'loss': np.degrees(loss[idx]),\n",
    "    'true_x': true[:, 0].cpu().numpy()[idx],\n",
    "    'true_y': true[:, 1].cpu().numpy()[idx],\n",
    "    'n_events': np.array(n_events)[idx],\n",
    "    'n_edges': np.array(n_edges)[idx]\n",
    "})\n",
    "\n",
    "sorted_out.iloc[:15]"
   ]
  },
  {
   "cell_type": "code",
   "execution_count": 52,
   "id": "1ae630cd-16a7-4abb-92af-b67dd23f6ea5",
   "metadata": {},
   "outputs": [
    {
     "data": {
      "text/html": [
       "<div>\n",
       "<style scoped>\n",
       "    .dataframe tbody tr th:only-of-type {\n",
       "        vertical-align: middle;\n",
       "    }\n",
       "\n",
       "    .dataframe tbody tr th {\n",
       "        vertical-align: top;\n",
       "    }\n",
       "\n",
       "    .dataframe thead th {\n",
       "        text-align: right;\n",
       "    }\n",
       "</style>\n",
       "<table border=\"1\" class=\"dataframe\">\n",
       "  <thead>\n",
       "    <tr style=\"text-align: right;\">\n",
       "      <th></th>\n",
       "      <th>idx</th>\n",
       "      <th>loss</th>\n",
       "      <th>true_x</th>\n",
       "      <th>true_y</th>\n",
       "      <th>n_events</th>\n",
       "      <th>n_edges</th>\n",
       "    </tr>\n",
       "  </thead>\n",
       "  <tbody>\n",
       "    <tr>\n",
       "      <th>125</th>\n",
       "      <td>181</td>\n",
       "      <td>1.534883</td>\n",
       "      <td>-0.021033</td>\n",
       "      <td>-0.047950</td>\n",
       "      <td>609</td>\n",
       "      <td>6335</td>\n",
       "    </tr>\n",
       "    <tr>\n",
       "      <th>64</th>\n",
       "      <td>143</td>\n",
       "      <td>2.028167</td>\n",
       "      <td>-0.017215</td>\n",
       "      <td>-0.002873</td>\n",
       "      <td>630</td>\n",
       "      <td>6319</td>\n",
       "    </tr>\n",
       "    <tr>\n",
       "      <th>9</th>\n",
       "      <td>166</td>\n",
       "      <td>3.969540</td>\n",
       "      <td>0.025707</td>\n",
       "      <td>-0.101515</td>\n",
       "      <td>724</td>\n",
       "      <td>8137</td>\n",
       "    </tr>\n",
       "    <tr>\n",
       "      <th>22</th>\n",
       "      <td>161</td>\n",
       "      <td>3.093215</td>\n",
       "      <td>-0.046049</td>\n",
       "      <td>-0.024921</td>\n",
       "      <td>726</td>\n",
       "      <td>7525</td>\n",
       "    </tr>\n",
       "    <tr>\n",
       "      <th>229</th>\n",
       "      <td>44</td>\n",
       "      <td>0.741175</td>\n",
       "      <td>-0.021033</td>\n",
       "      <td>-0.047950</td>\n",
       "      <td>783</td>\n",
       "      <td>8850</td>\n",
       "    </tr>\n",
       "    <tr>\n",
       "      <th>...</th>\n",
       "      <td>...</td>\n",
       "      <td>...</td>\n",
       "      <td>...</td>\n",
       "      <td>...</td>\n",
       "      <td>...</td>\n",
       "      <td>...</td>\n",
       "    </tr>\n",
       "    <tr>\n",
       "      <th>156</th>\n",
       "      <td>276</td>\n",
       "      <td>1.242968</td>\n",
       "      <td>-0.012972</td>\n",
       "      <td>0.156543</td>\n",
       "      <td>7500</td>\n",
       "      <td>104103</td>\n",
       "    </tr>\n",
       "    <tr>\n",
       "      <th>157</th>\n",
       "      <td>204</td>\n",
       "      <td>1.234380</td>\n",
       "      <td>-0.034431</td>\n",
       "      <td>-0.005745</td>\n",
       "      <td>7500</td>\n",
       "      <td>110154</td>\n",
       "    </tr>\n",
       "    <tr>\n",
       "      <th>158</th>\n",
       "      <td>135</td>\n",
       "      <td>1.228937</td>\n",
       "      <td>-0.138147</td>\n",
       "      <td>0.074762</td>\n",
       "      <td>7500</td>\n",
       "      <td>106348</td>\n",
       "    </tr>\n",
       "    <tr>\n",
       "      <th>188</th>\n",
       "      <td>133</td>\n",
       "      <td>1.053236</td>\n",
       "      <td>0.165076</td>\n",
       "      <td>-0.056671</td>\n",
       "      <td>7500</td>\n",
       "      <td>113351</td>\n",
       "    </tr>\n",
       "    <tr>\n",
       "      <th>142</th>\n",
       "      <td>227</td>\n",
       "      <td>1.366144</td>\n",
       "      <td>-0.005765</td>\n",
       "      <td>0.069575</td>\n",
       "      <td>7500</td>\n",
       "      <td>107864</td>\n",
       "    </tr>\n",
       "  </tbody>\n",
       "</table>\n",
       "<p>285 rows × 6 columns</p>\n",
       "</div>"
      ],
      "text/plain": [
       "     idx      loss    true_x    true_y  n_events  n_edges\n",
       "125  181  1.534883 -0.021033 -0.047950       609     6335\n",
       "64   143  2.028167 -0.017215 -0.002873       630     6319\n",
       "9    166  3.969540  0.025707 -0.101515       724     8137\n",
       "22   161  3.093215 -0.046049 -0.024921       726     7525\n",
       "229   44  0.741175 -0.021033 -0.047950       783     8850\n",
       "..   ...       ...       ...       ...       ...      ...\n",
       "156  276  1.242968 -0.012972  0.156543      7500   104103\n",
       "157  204  1.234380 -0.034431 -0.005745      7500   110154\n",
       "158  135  1.228937 -0.138147  0.074762      7500   106348\n",
       "188  133  1.053236  0.165076 -0.056671      7500   113351\n",
       "142  227  1.366144 -0.005765  0.069575      7500   107864\n",
       "\n",
       "[285 rows x 6 columns]"
      ]
     },
     "execution_count": 52,
     "metadata": {},
     "output_type": "execute_result"
    }
   ],
   "source": [
    "sorted_out.iloc[np.argsort(sorted_out['n_events'])]"
   ]
  },
  {
   "cell_type": "code",
   "execution_count": null,
   "id": "98cb29f2-cd68-47ba-ab51-0ce03f6cae02",
   "metadata": {},
   "outputs": [],
   "source": []
  },
  {
   "cell_type": "code",
   "execution_count": 61,
   "id": "1a70b15b-32e9-404c-a8cf-43875b7f743d",
   "metadata": {},
   "outputs": [
    {
     "data": {
      "text/plain": [
       "<matplotlib.collections.PathCollection at 0x7efec5e58c70>"
      ]
     },
     "execution_count": 61,
     "metadata": {},
     "output_type": "execute_result"
    },
    {
     "data": {
      "image/png": "[encoded data removed]",
      "text/plain": [
       "<Figure size 640x480 with 1 Axes>"
      ]
     },
     "metadata": {},
     "output_type": "display_data"
    }
   ],
   "source": [
    "plt.scatter(*tm.val_data[143].pos[:,:2].T)"
   ]
  },
  {
   "cell_type": "code",
   "execution_count": 38,
   "id": "fafca031-9807-4015-9d7d-cc1c2ab555c1",
   "metadata": {},
   "outputs": [
    {
     "data": {
      "image/png": "[encoded data removed]",
      "text/plain": [
       "<Figure size 640x480 with 2 Axes>"
      ]
     },
     "metadata": {},
     "output_type": "display_data"
    }
   ],
   "source": [
    "thresh = 0.01\n",
    "plt.scatter(sorted_out['true_x'][loss > thresh], sorted_out['true_y'][loss > thresh], c=loss[loss > thresh], cmap='viridis')\n",
    "plt.colorbar()\n",
    "plt.show()"
   ]
  },
  {
   "cell_type": "code",
   "execution_count": 62,
   "id": "45c9751b-7b97-464d-9fbd-bdfd46d2b6d1",
   "metadata": {},
   "outputs": [
    {
     "data": {
      "text/plain": [
       "<imports.ExtractContactCases.ExtractContactCases at 0x7f000026a7f0>"
      ]
     },
     "execution_count": 62,
     "metadata": {},
     "output_type": "execute_result"
    }
   ],
   "source": [
    "ex."
   ]
  },
  {
   "cell_type": "code",
   "execution_count": 3,
   "id": "cc4e3a92-e4a6-4901-8cb5-c51ac5af3a6c",
   "metadata": {},
   "outputs": [],
   "source": [
    "from imports.ExtractContactCases import ExtractContactCases\n",
    "\n",
    "ex = ExtractContactCases(\n",
    "    tactile_bag_dir='../data/bags/data2/',\n",
    "    outdir = '../data/extractions/20ms_allevents/'\n",
    ")"
   ]
  },
  {
   "cell_type": "code",
   "execution_count": 37,
   "id": "2e39a657-73da-49bf-9bc7-6984f77d9d31",
   "metadata": {},
   "outputs": [
    {
     "name": "stdout",
     "output_type": "stream",
     "text": [
      "{'bag': '/l/proj/kuin0034/hussain/tactile/data/bags/data1', 'train_prop': 0.75, 'delta_t': 100000000.0, 'margin': -100000000.0, 'min_n_events': 3500, 'n_init_events': -1, 'center': [180, 117], 'circle_rad': 85, 'case_span': 2660000000.0, 'N_examples': 20, 'possible_angles': [0.017453292519943295, 0.03490658503988659, 0.05235987755982989, 0.06981317007977318, 0.08726646259971647, 0.10471975511965978, 0.12217304763960307, 0.13962634015954636, 0.15707963267948966, 0.17453292519943295], 'theta': 'full', 'augmentations': [], 'n': 2138, 'dropped_cases': 154}\n"
     ]
    }
   ],
   "source": [
    "from imports.TactileDataset import TactileDataset\n",
    "from torch_geometric.loader import DataLoader\n",
    "\n",
    "train = TactileDataset(ex.outdir / 'train')\n",
    "train_loader = DataLoader(train, batch_size=8)"
   ]
  },
  {
   "cell_type": "code",
   "execution_count": 7,
   "id": "0e4250f3-da8b-490b-8550-05bc454347cc",
   "metadata": {},
   "outputs": [
    {
     "data": {
      "text/plain": [
       "TactileDataset(1716)"
      ]
     },
     "execution_count": 7,
     "metadata": {},
     "output_type": "execute_result"
    }
   ],
   "source": [
    "import torch\n",
    "from models.modules import GraphRes\n",
    "\n",
    "model = GraphRes().cuda()\n",
    "model.load_state_dict(torch.load('../results/20ms_allevents/state_dict'))\n",
    "train"
   ]
  },
  {
   "cell_type": "code",
   "execution_count": 42,
   "id": "f90fe498-cea0-4a7b-92ef-ac2637212115",
   "metadata": {},
   "outputs": [
    {
     "data": {
      "application/vnd.jupyter.widget-view+json": {
       "model_id": "c538e23598c04b489a536a1c745903b7",
       "version_major": 2,
       "version_minor": 0
      },
      "text/plain": [
       "  0%|          | 0/215 [00:00<?, ?it/s]"
      ]
     },
     "metadata": {},
     "output_type": "display_data"
    }
   ],
   "source": [
    "from torch_geometric.utils import degree\n",
    "pred = []\n",
    "true = []\n",
    "n_events = []\n",
    "n_edges = []\n",
    "n_comps = []\n",
    "deg = []\n",
    "\n",
    "\n",
    "from torch_geometric.utils import to_networkx\n",
    "from tqdm.auto import tqdm\n",
    "import networkx as nx\n",
    "\n",
    "for v in tqdm(train_loader):\n",
    "    with torch.no_grad():\n",
    "        for i in range(len(v)):\n",
    "            n_events.append(v[i].x.shape[0])\n",
    "            n_edges.append(v[i].edge_index.shape[1]) \n",
    "        \n",
    "        deg.append(torch.mean(degree(v[i].edge_index[0])))\n",
    "        #pred.append(model(v.cuda()))\n",
    "        true.append(v.cpu().y)\n",
    "\n",
    "    v.detach().cpu()\n",
    "    torch.cuda.empty_cache()\n",
    "#pred = torch.vstack(pred).cpu()\n",
    "true = torch.vstack(true).cpu()"
   ]
  },
  {
   "cell_type": "code",
   "execution_count": 43,
   "id": "95638647-b474-4d58-85cc-920f41c933bf",
   "metadata": {},
   "outputs": [
    {
     "data": {
      "text/plain": [
       "(array([  1.,   2.,   3.,   1.,   1.,   1.,   7.,  20.,  45., 134.]),\n",
       " array([11.5671463 , 11.99884701, 12.43054771, 12.86224937, 13.29395008,\n",
       "        13.72565079, 14.15735149, 14.5890522 , 15.02075386, 15.45245457,\n",
       "        15.88415527]),\n",
       " <BarContainer object of 10 artists>)"
      ]
     },
     "execution_count": 43,
     "metadata": {},
     "output_type": "execute_result"
    },
    {
     "data": {
      "image/png": "[encoded data removed]",
      "text/plain": [
       "<Figure size 640x480 with 1 Axes>"
      ]
     },
     "metadata": {},
     "output_type": "display_data"
    }
   ],
   "source": [
    "plt.hist(deg)"
   ]
  },
  {
   "cell_type": "code",
   "execution_count": 9,
   "id": "9c16f273-efd8-4029-aa3f-e2591e60ecab",
   "metadata": {},
   "outputs": [
    {
     "name": "stdout",
     "output_type": "stream",
     "text": [
      "{'bag': '/l/proj/kuin0034/hussain/tactile/data/bags/data1', 'train_prop': 0.75, 'delta_t': 100000000.0, 'margin': -100000000.0, 'min_n_events': 3500, 'n_init_events': -1, 'center': [180, 117], 'circle_rad': 85, 'case_span': 2660000000.0, 'N_examples': 20, 'possible_angles': [0.017453292519943295, 0.03490658503988659, 0.05235987755982989, 0.06981317007977318, 0.08726646259971647, 0.10471975511965978, 0.12217304763960307, 0.13962634015954636, 0.15707963267948966, 0.17453292519943295], 'theta': 'full', 'augmentations': [], 'n': 2138, 'dropped_cases': 154}\n"
     ]
    },
    {
     "data": {
      "application/vnd.jupyter.widget-view+json": {
       "model_id": "ca7f7554a8ef4b12b943ca52ca287760",
       "version_major": 2,
       "version_minor": 0
      },
      "text/plain": [
       "  0%|          | 0/215 [00:00<?, ?it/s]"
      ]
     },
     "metadata": {},
     "output_type": "display_data"
    }
   ],
   "source": [
    "from torch_geometric.utils import to_scipy_sparse_matrix\n",
    "\n",
    "n_comps = []\n",
    "train = TactileDataset(ex.outdir / 'train')\n",
    "train_loader = DataLoader(train, batch_size=8)\n",
    "\n",
    "\n",
    "for v in tqdm(train_loader):\n",
    "    for i in range(len(v)):\n",
    "        import scipy.sparse as sp\n",
    "\n",
    "        adj = to_scipy_sparse_matrix(v[i].edge_index, num_nodes=v[i].num_nodes)\n",
    "\n",
    "        num_components, component = sp.csgraph.connected_components(adj, )\n",
    "        \n",
    "        n_comps.append(num_components) w\n"
   ]
  },
  {
   "cell_type": "code",
   "execution_count": 27,
   "id": "32e6123d-9331-49d8-930d-e21c98d61764",
   "metadata": {},
   "outputs": [
    {
     "data": {
      "text/plain": [
       "(11880,)"
      ]
     },
     "execution_count": 27,
     "metadata": {},
     "output_type": "execute_result"
    }
   ],
   "source": [
    "component.shape"
   ]
  },
  {
   "cell_type": "code",
   "execution_count": 28,
   "id": "2b621f64-0176-4e5c-adfa-b88bd536e092",
   "metadata": {},
   "outputs": [
    {
     "data": {
      "text/plain": [
       "<11880x11880 sparse matrix of type '<class 'numpy.float32'>'\n",
       "\twith 184636 stored elements in COOrdinate format>"
      ]
     },
     "execution_count": 28,
     "metadata": {},
     "output_type": "execute_result"
    }
   ],
   "source": [
    "adj"
   ]
  },
  {
   "cell_type": "code",
   "execution_count": 13,
   "id": "7c53ce93-34c5-4b1b-a575-003a0f2983df",
   "metadata": {},
   "outputs": [
    {
     "data": {
      "text/plain": [
       "tensor(0.0572)"
      ]
     },
     "execution_count": 13,
     "metadata": {},
     "output_type": "execute_result"
    }
   ],
   "source": [
    "loss_func = torch.nn.L1Loss()\n",
    "\n",
    "loss_func(pred, true)"
   ]
  },
  {
   "cell_type": "code",
   "execution_count": 14,
   "id": "84beafa4-07af-458c-8b07-486d75fb2f03",
   "metadata": {},
   "outputs": [
    {
     "data": {
      "text/plain": [
       "tensor([0.0145, 0.0804, 0.0674,  ..., 0.0158, 0.0201, 0.0333])"
      ]
     },
     "execution_count": 14,
     "metadata": {},
     "output_type": "execute_result"
    }
   ],
   "source": [
    "loss = torch.mean(torch.abs(pred-true), dim=1)\n",
    "loss"
   ]
  },
  {
   "cell_type": "code",
   "execution_count": 15,
   "id": "df30b786-7ed3-4b54-aa51-ebfeb49d4ac0",
   "metadata": {},
   "outputs": [
    {
     "data": {
      "text/plain": [
       "tensor(0.0537)"
      ]
     },
     "execution_count": 15,
     "metadata": {},
     "output_type": "execute_result"
    }
   ],
   "source": [
    "torch.median(loss)"
   ]
  },
  {
   "cell_type": "code",
   "execution_count": 16,
   "id": "4bfe0f2b-39a8-4357-8b49-427e3aa39c85",
   "metadata": {},
   "outputs": [
    {
     "data": {
      "text/plain": [
       "(array([340., 358., 342., 306., 215., 122.,  23.,   5.,   2.,   3.]),\n",
       " array([0.        , 0.02198826, 0.04397651, 0.06596477, 0.08795302,\n",
       "        0.10994128, 0.13192953, 0.15391779, 0.17590605, 0.1978943 ,\n",
       "        0.21988256]),\n",
       " <BarContainer object of 10 artists>)"
      ]
     },
     "execution_count": 16,
     "metadata": {},
     "output_type": "execute_result"
    },
    {
     "data": {
      "image/png": "[encoded data removed]",
      "text/plain": [
       "<Figure size 640x480 with 1 Axes>"
      ]
     },
     "metadata": {},
     "output_type": "display_data"
    }
   ],
   "source": [
    "import matplotlib.pyplot as plt\n",
    "\n",
    "plt.hist(loss.cpu())"
   ]
  },
  {
   "cell_type": "code",
   "execution_count": 17,
   "id": "177509ed-19d5-4765-8ae3-23f224ba113c",
   "metadata": {},
   "outputs": [],
   "source": [
    "import numpy as np\n",
    "idx = np.argsort(loss.cpu())"
   ]
  },
  {
   "cell_type": "code",
   "execution_count": 18,
   "id": "d3d86f5b-9afd-4ec2-9cec-9a41d5650052",
   "metadata": {},
   "outputs": [
    {
     "data": {
      "text/plain": [
       "1716"
      ]
     },
     "execution_count": 18,
     "metadata": {},
     "output_type": "execute_result"
    }
   ],
   "source": [
    "len(n_events)"
   ]
  },
  {
   "cell_type": "code",
   "execution_count": 19,
   "id": "e3b03f3d-6625-44b4-9935-b8125444d14b",
   "metadata": {},
   "outputs": [],
   "source": [
    "import pandas as pd\n",
    "\n",
    "st = pd.DataFrame(\n",
    "{\n",
    "    'idx': idx,\n",
    "    'loss': loss[idx],\n",
    "    'n_events': np.array(n_events)[idx],\n",
    "    'n_edges': np.array(n_edges)[idx],\n",
    "    'n_comps': np.array(n_comps)[idx]\n",
    "    \n",
    "}\n",
    ")\n"
   ]
  },
  {
   "cell_type": "code",
   "execution_count": 20,
   "id": "30ef9ee7-2b4a-4bed-b4c6-c7865c2fac67",
   "metadata": {},
   "outputs": [
    {
     "data": {
      "text/html": [
       "<div>\n",
       "<style scoped>\n",
       "    .dataframe tbody tr th:only-of-type {\n",
       "        vertical-align: middle;\n",
       "    }\n",
       "\n",
       "    .dataframe tbody tr th {\n",
       "        vertical-align: top;\n",
       "    }\n",
       "\n",
       "    .dataframe thead th {\n",
       "        text-align: right;\n",
       "    }\n",
       "</style>\n",
       "<table border=\"1\" class=\"dataframe\">\n",
       "  <thead>\n",
       "    <tr style=\"text-align: right;\">\n",
       "      <th></th>\n",
       "      <th>idx</th>\n",
       "      <th>loss</th>\n",
       "      <th>n_events</th>\n",
       "      <th>n_edges</th>\n",
       "      <th>n_comps</th>\n",
       "    </tr>\n",
       "  </thead>\n",
       "  <tbody>\n",
       "    <tr>\n",
       "      <th>0</th>\n",
       "      <td>1019</td>\n",
       "      <td>0.000000</td>\n",
       "      <td>2161</td>\n",
       "      <td>28990</td>\n",
       "      <td>109</td>\n",
       "    </tr>\n",
       "    <tr>\n",
       "      <th>1</th>\n",
       "      <td>77</td>\n",
       "      <td>0.000000</td>\n",
       "      <td>5030</td>\n",
       "      <td>75327</td>\n",
       "      <td>76</td>\n",
       "    </tr>\n",
       "    <tr>\n",
       "      <th>2</th>\n",
       "      <td>741</td>\n",
       "      <td>0.000000</td>\n",
       "      <td>9743</td>\n",
       "      <td>150047</td>\n",
       "      <td>112</td>\n",
       "    </tr>\n",
       "    <tr>\n",
       "      <th>3</th>\n",
       "      <td>572</td>\n",
       "      <td>0.000000</td>\n",
       "      <td>6898</td>\n",
       "      <td>105047</td>\n",
       "      <td>93</td>\n",
       "    </tr>\n",
       "    <tr>\n",
       "      <th>4</th>\n",
       "      <td>1651</td>\n",
       "      <td>0.000000</td>\n",
       "      <td>6684</td>\n",
       "      <td>102822</td>\n",
       "      <td>85</td>\n",
       "    </tr>\n",
       "    <tr>\n",
       "      <th>5</th>\n",
       "      <td>1572</td>\n",
       "      <td>0.000000</td>\n",
       "      <td>9980</td>\n",
       "      <td>154627</td>\n",
       "      <td>83</td>\n",
       "    </tr>\n",
       "    <tr>\n",
       "      <th>6</th>\n",
       "      <td>1368</td>\n",
       "      <td>0.001300</td>\n",
       "      <td>7217</td>\n",
       "      <td>109800</td>\n",
       "      <td>69</td>\n",
       "    </tr>\n",
       "    <tr>\n",
       "      <th>7</th>\n",
       "      <td>704</td>\n",
       "      <td>0.001402</td>\n",
       "      <td>12279</td>\n",
       "      <td>192410</td>\n",
       "      <td>180</td>\n",
       "    </tr>\n",
       "    <tr>\n",
       "      <th>8</th>\n",
       "      <td>824</td>\n",
       "      <td>0.001643</td>\n",
       "      <td>18679</td>\n",
       "      <td>293711</td>\n",
       "      <td>109</td>\n",
       "    </tr>\n",
       "    <tr>\n",
       "      <th>9</th>\n",
       "      <td>336</td>\n",
       "      <td>0.002271</td>\n",
       "      <td>1431</td>\n",
       "      <td>18873</td>\n",
       "      <td>85</td>\n",
       "    </tr>\n",
       "  </tbody>\n",
       "</table>\n",
       "</div>"
      ],
      "text/plain": [
       "    idx      loss  n_events  n_edges  n_comps\n",
       "0  1019  0.000000      2161    28990      109\n",
       "1    77  0.000000      5030    75327       76\n",
       "2   741  0.000000      9743   150047      112\n",
       "3   572  0.000000      6898   105047       93\n",
       "4  1651  0.000000      6684   102822       85\n",
       "5  1572  0.000000      9980   154627       83\n",
       "6  1368  0.001300      7217   109800       69\n",
       "7   704  0.001402     12279   192410      180\n",
       "8   824  0.001643     18679   293711      109\n",
       "9   336  0.002271      1431    18873       85"
      ]
     },
     "execution_count": 20,
     "metadata": {},
     "output_type": "execute_result"
    }
   ],
   "source": [
    "st.iloc[:10]"
   ]
  },
  {
   "cell_type": "code",
   "execution_count": 22,
   "id": "c47dd5ff-c7ae-47e4-aaed-31f2dd00e6f7",
   "metadata": {},
   "outputs": [
    {
     "data": {
      "text/html": [
       "<div>\n",
       "<style scoped>\n",
       "    .dataframe tbody tr th:only-of-type {\n",
       "        vertical-align: middle;\n",
       "    }\n",
       "\n",
       "    .dataframe tbody tr th {\n",
       "        vertical-align: top;\n",
       "    }\n",
       "\n",
       "    .dataframe thead th {\n",
       "        text-align: right;\n",
       "    }\n",
       "</style>\n",
       "<table border=\"1\" class=\"dataframe\">\n",
       "  <thead>\n",
       "    <tr style=\"text-align: right;\">\n",
       "      <th></th>\n",
       "      <th>idx</th>\n",
       "      <th>loss</th>\n",
       "      <th>n_events</th>\n",
       "      <th>n_edges</th>\n",
       "      <th>n_comps</th>\n",
       "    </tr>\n",
       "  </thead>\n",
       "  <tbody>\n",
       "    <tr>\n",
       "      <th>idx</th>\n",
       "      <td>1.000000</td>\n",
       "      <td>-0.018422</td>\n",
       "      <td>-0.008698</td>\n",
       "      <td>-0.008504</td>\n",
       "      <td>-0.006038</td>\n",
       "    </tr>\n",
       "    <tr>\n",
       "      <th>loss</th>\n",
       "      <td>-0.018422</td>\n",
       "      <td>1.000000</td>\n",
       "      <td>0.090973</td>\n",
       "      <td>0.088458</td>\n",
       "      <td>-0.067922</td>\n",
       "    </tr>\n",
       "    <tr>\n",
       "      <th>n_events</th>\n",
       "      <td>-0.008698</td>\n",
       "      <td>0.090973</td>\n",
       "      <td>1.000000</td>\n",
       "      <td>0.999908</td>\n",
       "      <td>0.464989</td>\n",
       "    </tr>\n",
       "    <tr>\n",
       "      <th>n_edges</th>\n",
       "      <td>-0.008504</td>\n",
       "      <td>0.088458</td>\n",
       "      <td>0.999908</td>\n",
       "      <td>1.000000</td>\n",
       "      <td>0.472136</td>\n",
       "    </tr>\n",
       "    <tr>\n",
       "      <th>n_comps</th>\n",
       "      <td>-0.006038</td>\n",
       "      <td>-0.067922</td>\n",
       "      <td>0.464989</td>\n",
       "      <td>0.472136</td>\n",
       "      <td>1.000000</td>\n",
       "    </tr>\n",
       "  </tbody>\n",
       "</table>\n",
       "</div>"
      ],
      "text/plain": [
       "               idx      loss  n_events   n_edges   n_comps\n",
       "idx       1.000000 -0.018422 -0.008698 -0.008504 -0.006038\n",
       "loss     -0.018422  1.000000  0.090973  0.088458 -0.067922\n",
       "n_events -0.008698  0.090973  1.000000  0.999908  0.464989\n",
       "n_edges  -0.008504  0.088458  0.999908  1.000000  0.472136\n",
       "n_comps  -0.006038 -0.067922  0.464989  0.472136  1.000000"
      ]
     },
     "execution_count": 22,
     "metadata": {},
     "output_type": "execute_result"
    }
   ],
   "source": [
    "st.corr()"
   ]
  },
  {
   "cell_type": "code",
   "execution_count": 25,
   "id": "b8e31cff-6bd7-416a-acd1-0e26fc23815f",
   "metadata": {},
   "outputs": [
    {
     "data": {
      "text/html": [
       "<div>\n",
       "<style scoped>\n",
       "    .dataframe tbody tr th:only-of-type {\n",
       "        vertical-align: middle;\n",
       "    }\n",
       "\n",
       "    .dataframe tbody tr th {\n",
       "        vertical-align: top;\n",
       "    }\n",
       "\n",
       "    .dataframe thead th {\n",
       "        text-align: right;\n",
       "    }\n",
       "</style>\n",
       "<table border=\"1\" class=\"dataframe\">\n",
       "  <thead>\n",
       "    <tr style=\"text-align: right;\">\n",
       "      <th></th>\n",
       "      <th>idx</th>\n",
       "      <th>loss</th>\n",
       "      <th>n_events</th>\n",
       "      <th>n_edges</th>\n",
       "      <th>n_comps</th>\n",
       "    </tr>\n",
       "  </thead>\n",
       "  <tbody>\n",
       "    <tr>\n",
       "      <th>154</th>\n",
       "      <td>1461</td>\n",
       "      <td>0.011497</td>\n",
       "      <td>422</td>\n",
       "      <td>3412</td>\n",
       "      <td>108</td>\n",
       "    </tr>\n",
       "    <tr>\n",
       "      <th>181</th>\n",
       "      <td>21</td>\n",
       "      <td>0.012079</td>\n",
       "      <td>534</td>\n",
       "      <td>5550</td>\n",
       "      <td>99</td>\n",
       "    </tr>\n",
       "    <tr>\n",
       "      <th>379</th>\n",
       "      <td>1412</td>\n",
       "      <td>0.023657</td>\n",
       "      <td>549</td>\n",
       "      <td>5078</td>\n",
       "      <td>120</td>\n",
       "    </tr>\n",
       "    <tr>\n",
       "      <th>562</th>\n",
       "      <td>1624</td>\n",
       "      <td>0.034908</td>\n",
       "      <td>570</td>\n",
       "      <td>5561</td>\n",
       "      <td>118</td>\n",
       "    </tr>\n",
       "    <tr>\n",
       "      <th>769</th>\n",
       "      <td>686</td>\n",
       "      <td>0.048315</td>\n",
       "      <td>696</td>\n",
       "      <td>6857</td>\n",
       "      <td>102</td>\n",
       "    </tr>\n",
       "    <tr>\n",
       "      <th>...</th>\n",
       "      <td>...</td>\n",
       "      <td>...</td>\n",
       "      <td>...</td>\n",
       "      <td>...</td>\n",
       "      <td>...</td>\n",
       "    </tr>\n",
       "    <tr>\n",
       "      <th>639</th>\n",
       "      <td>400</td>\n",
       "      <td>0.038743</td>\n",
       "      <td>30778</td>\n",
       "      <td>488932</td>\n",
       "      <td>173</td>\n",
       "    </tr>\n",
       "    <tr>\n",
       "      <th>1393</th>\n",
       "      <td>1505</td>\n",
       "      <td>0.092319</td>\n",
       "      <td>31490</td>\n",
       "      <td>500175</td>\n",
       "      <td>139</td>\n",
       "    </tr>\n",
       "    <tr>\n",
       "      <th>1622</th>\n",
       "      <td>1666</td>\n",
       "      <td>0.117484</td>\n",
       "      <td>31768</td>\n",
       "      <td>504365</td>\n",
       "      <td>174</td>\n",
       "    </tr>\n",
       "    <tr>\n",
       "      <th>1474</th>\n",
       "      <td>369</td>\n",
       "      <td>0.099139</td>\n",
       "      <td>33464</td>\n",
       "      <td>532531</td>\n",
       "      <td>183</td>\n",
       "    </tr>\n",
       "    <tr>\n",
       "      <th>456</th>\n",
       "      <td>1120</td>\n",
       "      <td>0.026974</td>\n",
       "      <td>35875</td>\n",
       "      <td>571360</td>\n",
       "      <td>195</td>\n",
       "    </tr>\n",
       "  </tbody>\n",
       "</table>\n",
       "<p>1716 rows × 5 columns</p>\n",
       "</div>"
      ],
      "text/plain": [
       "       idx      loss  n_events  n_edges  n_comps\n",
       "154   1461  0.011497       422     3412      108\n",
       "181     21  0.012079       534     5550       99\n",
       "379   1412  0.023657       549     5078      120\n",
       "562   1624  0.034908       570     5561      118\n",
       "769    686  0.048315       696     6857      102\n",
       "...    ...       ...       ...      ...      ...\n",
       "639    400  0.038743     30778   488932      173\n",
       "1393  1505  0.092319     31490   500175      139\n",
       "1622  1666  0.117484     31768   504365      174\n",
       "1474   369  0.099139     33464   532531      183\n",
       "456   1120  0.026974     35875   571360      195\n",
       "\n",
       "[1716 rows x 5 columns]"
      ]
     },
     "execution_count": 25,
     "metadata": {},
     "output_type": "execute_result"
    }
   ],
   "source": [
    "st.sort_values('n_events')"
   ]
  },
  {
   "cell_type": "code",
   "execution_count": 21,
   "id": "8752ea0b-e513-48b3-8f40-116bb1c7a2b0",
   "metadata": {},
   "outputs": [
    {
     "data": {
      "text/html": [
       "<div>\n",
       "<style scoped>\n",
       "    .dataframe tbody tr th:only-of-type {\n",
       "        vertical-align: middle;\n",
       "    }\n",
       "\n",
       "    .dataframe tbody tr th {\n",
       "        vertical-align: top;\n",
       "    }\n",
       "\n",
       "    .dataframe thead th {\n",
       "        text-align: right;\n",
       "    }\n",
       "</style>\n",
       "<table border=\"1\" class=\"dataframe\">\n",
       "  <thead>\n",
       "    <tr style=\"text-align: right;\">\n",
       "      <th></th>\n",
       "      <th>idx</th>\n",
       "      <th>loss</th>\n",
       "      <th>n_events</th>\n",
       "      <th>n_edges</th>\n",
       "      <th>n_comps</th>\n",
       "    </tr>\n",
       "  </thead>\n",
       "  <tbody>\n",
       "    <tr>\n",
       "      <th>1706</th>\n",
       "      <td>818</td>\n",
       "      <td>0.154968</td>\n",
       "      <td>5079</td>\n",
       "      <td>76143</td>\n",
       "      <td>79</td>\n",
       "    </tr>\n",
       "    <tr>\n",
       "      <th>1707</th>\n",
       "      <td>1194</td>\n",
       "      <td>0.157936</td>\n",
       "      <td>6504</td>\n",
       "      <td>95638</td>\n",
       "      <td>73</td>\n",
       "    </tr>\n",
       "    <tr>\n",
       "      <th>1708</th>\n",
       "      <td>1578</td>\n",
       "      <td>0.159691</td>\n",
       "      <td>3846</td>\n",
       "      <td>54395</td>\n",
       "      <td>68</td>\n",
       "    </tr>\n",
       "    <tr>\n",
       "      <th>1709</th>\n",
       "      <td>106</td>\n",
       "      <td>0.164457</td>\n",
       "      <td>27202</td>\n",
       "      <td>432101</td>\n",
       "      <td>201</td>\n",
       "    </tr>\n",
       "    <tr>\n",
       "      <th>1710</th>\n",
       "      <td>1178</td>\n",
       "      <td>0.172058</td>\n",
       "      <td>11070</td>\n",
       "      <td>168052</td>\n",
       "      <td>44</td>\n",
       "    </tr>\n",
       "    <tr>\n",
       "      <th>1711</th>\n",
       "      <td>1218</td>\n",
       "      <td>0.182229</td>\n",
       "      <td>4405</td>\n",
       "      <td>62796</td>\n",
       "      <td>74</td>\n",
       "    </tr>\n",
       "    <tr>\n",
       "      <th>1712</th>\n",
       "      <td>114</td>\n",
       "      <td>0.185119</td>\n",
       "      <td>13004</td>\n",
       "      <td>201909</td>\n",
       "      <td>61</td>\n",
       "    </tr>\n",
       "    <tr>\n",
       "      <th>1713</th>\n",
       "      <td>786</td>\n",
       "      <td>0.198065</td>\n",
       "      <td>21459</td>\n",
       "      <td>339348</td>\n",
       "      <td>171</td>\n",
       "    </tr>\n",
       "    <tr>\n",
       "      <th>1714</th>\n",
       "      <td>1050</td>\n",
       "      <td>0.210468</td>\n",
       "      <td>5766</td>\n",
       "      <td>84971</td>\n",
       "      <td>72</td>\n",
       "    </tr>\n",
       "    <tr>\n",
       "      <th>1715</th>\n",
       "      <td>1266</td>\n",
       "      <td>0.219883</td>\n",
       "      <td>18031</td>\n",
       "      <td>283154</td>\n",
       "      <td>99</td>\n",
       "    </tr>\n",
       "  </tbody>\n",
       "</table>\n",
       "</div>"
      ],
      "text/plain": [
       "       idx      loss  n_events  n_edges  n_comps\n",
       "1706   818  0.154968      5079    76143       79\n",
       "1707  1194  0.157936      6504    95638       73\n",
       "1708  1578  0.159691      3846    54395       68\n",
       "1709   106  0.164457     27202   432101      201\n",
       "1710  1178  0.172058     11070   168052       44\n",
       "1711  1218  0.182229      4405    62796       74\n",
       "1712   114  0.185119     13004   201909       61\n",
       "1713   786  0.198065     21459   339348      171\n",
       "1714  1050  0.210468      5766    84971       72\n",
       "1715  1266  0.219883     18031   283154       99"
      ]
     },
     "execution_count": 21,
     "metadata": {},
     "output_type": "execute_result"
    }
   ],
   "source": [
    "st.iloc[-10:]"
   ]
  },
  {
   "cell_type": "code",
   "execution_count": null,
   "id": "e71c4602-6f24-4c5e-8040-f316e5affce3",
   "metadata": {},
   "outputs": [],
   "source": []
  }
 ],
 "metadata": {
  "kernelspec": {
   "display_name": "Python 3 (ipykernel)",
   "language": "python",
   "name": "python3"
  },
  "language_info": {
   "codemirror_mode": {
    "name": "ipython",
    "version": 3
   },
   "file_extension": ".py",
   "mimetype": "text/x-python",
   "name": "python",
   "nbconvert_exporter": "python",
   "pygments_lexer": "ipython3",
   "version": "3.8.13"
  }
 },
 "nbformat": 4,
 "nbformat_minor": 5
}
