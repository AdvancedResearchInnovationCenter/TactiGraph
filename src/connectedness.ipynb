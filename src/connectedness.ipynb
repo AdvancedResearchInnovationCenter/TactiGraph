{
 "cells": [
  {
   "cell_type": "code",
   "execution_count": 1,
   "id": "ebf6acd3-0181-43bf-8962-2d70e441363e",
   "metadata": {},
   "outputs": [],
   "source": [
    "from imports.ExtractContactCases import ExtractContactCases\n",
    "\n",
    "ex = ExtractContactCases('../data/bags/data2', '../data/extractions/contact_extraction4/')\n",
    "samples = ex.load()"
   ]
  },
  {
   "cell_type": "code",
   "execution_count": 47,
   "id": "09c76d78-7d5e-4db9-881b-47bdc8f6d8ce",
   "metadata": {},
   "outputs": [
    {
     "name": "stdout",
     "output_type": "stream",
     "text": [
      "34151\n",
      "109\n"
     ]
    },
    {
     "data": {
      "text/plain": [
       "Data(x=[4468, 1], edge_index=[2, 33546], y=[1, 2], pos=[4468, 3], edge_attr=[33546, 3])"
      ]
     },
     "execution_count": 47,
     "metadata": {},
     "output_type": "execute_result"
    }
   ],
   "source": [
    "import numpy as np\n",
    "import torch\n",
    "import torch_geometric.transforms as T\n",
    "from torch_geometric.nn.pool import radius_graph, knn_graph\n",
    "from torch_geometric.data import Data, DataLoader, Dataset\n",
    "\n",
    "im_height=260\n",
    "im_width=346\n",
    "\n",
    "temporal_edge_order = True\n",
    "\n",
    "sample_id = 'sample_1'\n",
    "\n",
    "events = np.array(samples[sample_id]['events'])\n",
    "\n",
    "coord1, coord2 = torch.tensor(events[:, 0:2].astype(np.float32)).T \n",
    "ts = events[:, 2]\n",
    "ts = ((ts - ts.min()) / (ts.max() - ts.min())).astype(np.float32)\n",
    "coord3 = torch.tensor(ts)\n",
    "pos = torch.stack((coord1 / im_width, coord2 / im_height, coord3)).T\n",
    "\n",
    "feature = torch.tensor(events[:, 3].astype(np.float32))\n",
    "feature = feature.view(-1, 1)\n",
    "\n",
    "case = samples[sample_id]['case']\n",
    "edge_index = radius_graph(pos, r=0.05, max_num_neighbors=16)\n",
    "all_edges = edge_index.shape[1]\n",
    "\n",
    "if temporal_edge_order:\n",
    "    row, col = edge_index\n",
    "    temp_order_edges = pos[row, 2] <= pos[col, 2]\n",
    "    edge_index = edge_index[:, temp_order_edges]\n",
    "    print(all_edges - edge_index.shape[1])\n",
    "\n",
    "\n",
    "#edge_index = knn_graph(pos, knn)\n",
    "#edge_index, _, mask = remove_isolated_nodes(edge_index=edge_index, num_nodes=feature.shape[0])\n",
    "\n",
    "y = torch.tensor(np.array(ex.cases_dict[case], dtype=np.float32)).reshape(1, -1)\n",
    "\n",
    "transforms = T.Compose([T.Cartesian(cat=False, norm=True), T.LargestConnectedComponents(1)])\n",
    "\n",
    "num_nodes_og = len(feature)\n",
    "data = Data(x=feature, edge_index=edge_index, pos=pos, y=y)\n",
    "data = transforms(data)\n",
    "print(num_nodes_og - data.x.shape[0] )\n",
    "data"
   ]
  },
  {
   "cell_type": "code",
   "execution_count": 12,
   "id": "4679968d-2e17-49f9-b80b-f0e508c8249a",
   "metadata": {},
   "outputs": [],
   "source": [
    "row, col = data.edge_index"
   ]
  },
  {
   "cell_type": "code",
   "execution_count": 18,
   "id": "bc7b0b14-c0a6-47d0-851a-55b423657b9a",
   "metadata": {},
   "outputs": [
    {
     "data": {
      "text/plain": [
       "tensor(47763)"
      ]
     },
     "execution_count": 18,
     "metadata": {},
     "output_type": "execute_result"
    }
   ],
   "source": [
    "sum(data.pos[row, 2] <= data.pos[col, 2])"
   ]
  },
  {
   "cell_type": "code",
   "execution_count": 37,
   "id": "1ce8e9a7-7bd0-4314-b88b-7167b5df703e",
   "metadata": {},
   "outputs": [
    {
     "data": {
      "text/plain": [
       "1"
      ]
     },
     "execution_count": 37,
     "metadata": {},
     "output_type": "execute_result"
    }
   ],
   "source": [
    "from torch_geometric.utils import to_scipy_sparse_matrix, get_num_hops, remove_isolated_nodes\n",
    "from scipy.sparse.csgraph import connected_components, dijkstra\n",
    "\n",
    "#edge_index_, _, mask = remove_isolated_nodes(data.edge_index)\n",
    "adj = to_scipy_sparse_matrix(data.edge_index)\n",
    "n, comps = connected_components(adj)\n",
    "n"
   ]
  },
  {
   "cell_type": "code",
   "execution_count": 4,
   "id": "3098e58c-f6a4-47fd-9c82-f7fcdd2b048c",
   "metadata": {},
   "outputs": [
    {
     "data": {
      "text/plain": [
       "tensor([1, 0, 0,  ..., 0, 0, 0], dtype=torch.uint8)"
      ]
     },
     "execution_count": 4,
     "metadata": {},
     "output_type": "execute_result"
    }
   ],
   "source": [
    "np.logical_not(mask)"
   ]
  },
  {
   "cell_type": "code",
   "execution_count": 38,
   "id": "97a4897c-b1f8-40ad-bd4b-026ab90c7fce",
   "metadata": {},
   "outputs": [
    {
     "data": {
      "text/plain": [
       "(array([0], dtype=int32), array([4468]))"
      ]
     },
     "execution_count": 38,
     "metadata": {},
     "output_type": "execute_result"
    }
   ],
   "source": [
    "np.unique(comps, return_counts=1)"
   ]
  },
  {
   "cell_type": "code",
   "execution_count": 39,
   "id": "06489886-504c-490b-b5f9-237426568355",
   "metadata": {},
   "outputs": [
    {
     "data": {
      "text/plain": [
       "7"
      ]
     },
     "execution_count": 39,
     "metadata": {},
     "output_type": "execute_result"
    }
   ],
   "source": [
    "from models.modules import GraphRes\n",
    "\n",
    "model = GraphRes()\n",
    "get_num_hops(model, )"
   ]
  },
  {
   "cell_type": "code",
   "execution_count": 40,
   "id": "c1522bb4-c398-4551-9243-6585c82eafed",
   "metadata": {},
   "outputs": [],
   "source": [
    "dij = dijkstra(adj)"
   ]
  },
  {
   "cell_type": "code",
   "execution_count": 48,
   "id": "1ae1d232-6b9d-4e63-864a-200618fe92c7",
   "metadata": {},
   "outputs": [
    {
     "data": {
      "text/plain": [
       "(array([2.21461e+05, 5.39728e+05, 7.40924e+05, 6.37836e+05, 2.85997e+05,\n",
       "        1.63375e+05, 3.47170e+04, 5.53900e+03, 1.42400e+03, 2.17000e+02]),\n",
       " array([ 1. ,  4.8,  8.6, 12.4, 16.2, 20. , 23.8, 27.6, 31.4, 35.2, 39. ]),\n",
       " <BarContainer object of 10 artists>)"
      ]
     },
     "execution_count": 48,
     "metadata": {},
     "output_type": "execute_result"
    }
   ],
   "source": [
    "plt.hist(dij[np.logical_and(dij > 0, dij < np.inf)].ravel())"
   ]
  },
  {
   "cell_type": "code",
   "execution_count": 34,
   "id": "b06cbaa6-4583-4e68-ac02-c070403f5a36",
   "metadata": {},
   "outputs": [
    {
     "data": {
      "text/plain": [
       "(15668, 15668)"
      ]
     },
     "execution_count": 34,
     "metadata": {},
     "output_type": "execute_result"
    }
   ],
   "source": [
    "dij.shape"
   ]
  },
  {
   "cell_type": "code",
   "execution_count": 33,
   "id": "34bb7bc8-7001-49a7-8e9f-9efef22994ec",
   "metadata": {},
   "outputs": [
    {
     "data": {
      "text/plain": [
       "' '"
      ]
     },
     "execution_count": 33,
     "metadata": {},
     "output_type": "execute_result"
    }
   ],
   "source": [
    "\" \""
   ]
  },
  {
   "cell_type": "code",
   "execution_count": 8,
   "id": "1d6a02e3-0c8a-4972-9598-ec0fa3c6881e",
   "metadata": {},
   "outputs": [
    {
     "data": {
      "text/plain": [
       "[(0, 1),\n",
       " (1, 2),\n",
       " (2, 6384),\n",
       " (3, 1),\n",
       " (4, 1),\n",
       " (5, 1),\n",
       " (6, 1),\n",
       " (7, 1),\n",
       " (8, 1),\n",
       " (9, 1),\n",
       " (10, 1),\n",
       " (11, 1),\n",
       " (12, 1),\n",
       " (13, 3),\n",
       " (14, 1),\n",
       " (15, 1),\n",
       " (16, 1),\n",
       " (17, 1),\n",
       " (18, 1),\n",
       " (19, 3),\n",
       " (20, 1),\n",
       " (21, 1),\n",
       " (22, 1),\n",
       " (23, 1),\n",
       " (24, 1),\n",
       " (25, 1),\n",
       " (26, 1),\n",
       " (27, 1),\n",
       " (28, 1),\n",
       " (29, 1),\n",
       " (30, 1),\n",
       " (31, 1),\n",
       " (32, 1),\n",
       " (33, 1),\n",
       " (34, 1),\n",
       " (35, 1),\n",
       " (36, 1),\n",
       " (37, 1),\n",
       " (38, 3),\n",
       " (39, 1),\n",
       " (40, 2),\n",
       " (41, 2),\n",
       " (42, 1),\n",
       " (43, 1),\n",
       " (44, 1),\n",
       " (45, 1),\n",
       " (46, 4),\n",
       " (47, 5),\n",
       " (48, 1),\n",
       " (49, 1),\n",
       " (50, 2),\n",
       " (51, 1),\n",
       " (52, 4),\n",
       " (53, 1),\n",
       " (54, 1),\n",
       " (55, 1),\n",
       " (56, 6),\n",
       " (57, 1),\n",
       " (58, 2),\n",
       " (59, 2),\n",
       " (60, 1),\n",
       " (61, 3),\n",
       " (62, 5),\n",
       " (63, 1),\n",
       " (64, 4),\n",
       " (65, 2),\n",
       " (66, 1)]"
      ]
     },
     "execution_count": 8,
     "metadata": {},
     "output_type": "execute_result"
    }
   ],
   "source": [
    "[(i, data.pos[comps==i].shape[0]) for i in np.unique(comps)]"
   ]
  },
  {
   "cell_type": "code",
   "execution_count": 9,
   "id": "bfa5ca43-9dd9-44f4-8b64-ac7d9b1db592",
   "metadata": {},
   "outputs": [],
   "source": [
    "import numpy as np\n",
    "from matplotlib import pyplot as plt\n",
    "\n",
    "%matplotlib tk\n",
    "\n",
    "events_data = events\n",
    "ts = (events[:,2].astype(np.float64) - events[0,2].astype(np.float64))/1e9\n",
    "\n",
    "events_positive = events_data[events_data[:,3]==1, 0:3]\n",
    "\n",
    "events_negative = events_data[events_data[:,3]==0, 0:3]\n",
    "\n",
    "# Visualize events in 3D\n",
    "fig = plt.figure()\n",
    "ax = fig.add_subplot(111, projection='3d')\n",
    "px_pos = events_positive[:,0]\n",
    "py_pos = events_positive[:,1]\n",
    "t_st_pos = ts[events_data[:,3]==1]\n",
    "ax.scatter(px_pos, py_pos, t_st_pos, c=\"blue\", s=5, marker='.')\n",
    "px_neg = events_negative[:,0]\n",
    "py_neg = events_negative[:,1]\n",
    "t_st_neg = ts[events_data[:,3]==0]\n",
    "ax.scatter(px_neg, py_neg, t_st_neg, c=\"blue\", s=5, marker='.')\n",
    "ax.scatter(events[np.logical_not(mask), 0], events[np.logical_not(mask), 1], ts[np.logical_not(mask)], c='red', s=5)\n",
    "plt.show()"
   ]
  },
  {
   "cell_type": "code",
   "execution_count": 22,
   "id": "86195657-a1da-40c2-adf8-e6d23addf059",
   "metadata": {},
   "outputs": [
    {
     "data": {
      "text/plain": [
       "tensor(52)"
      ]
     },
     "execution_count": 22,
     "metadata": {},
     "output_type": "execute_result"
    }
   ],
   "source": [
    "np.logical_not(mask).sum()"
   ]
  },
  {
   "cell_type": "code",
   "execution_count": 108,
   "id": "f9df3cb6-7fca-4c59-9b88-b78144c582c4",
   "metadata": {},
   "outputs": [
    {
     "data": {
      "text/plain": [
       "array([0.        , 0.00061901, 0.00209382, ..., 0.09976704, 0.0997719 ,\n",
       "       0.09980083])"
      ]
     },
     "execution_count": 108,
     "metadata": {},
     "output_type": "execute_result"
    }
   ],
   "source": [
    "(events[:,2].astype(np.float64) - events[0,2].astype(np.float64))/1e9"
   ]
  },
  {
   "cell_type": "code",
   "execution_count": 105,
   "id": "cc316b8e-0db6-431a-b14c-05b30cc45e2a",
   "metadata": {},
   "outputs": [
    {
     "data": {
      "text/plain": [
       "array([1672235585829437634, 1672235585830056634, 1672235585831531634, ...,\n",
       "       1672235585929204634, 1672235585929209634, 1672235585929238634])"
      ]
     },
     "execution_count": 105,
     "metadata": {},
     "output_type": "execute_result"
    }
   ],
   "source": [
    "events[:, 2]"
   ]
  },
  {
   "cell_type": "code",
   "execution_count": 111,
   "id": "796724f5-7462-4e58-9781-e5c07b87dd83",
   "metadata": {},
   "outputs": [
    {
     "ename": "IndexError",
     "evalue": "The shape of the mask [6438] at index 0 does not match the shape of the indexed tensor [6487, 2] at index 0",
     "output_type": "error",
     "traceback": [
      "\u001b[0;31m---------------------------------------------------------------------------\u001b[0m",
      "\u001b[0;31mIndexError\u001b[0m                                Traceback (most recent call last)",
      "Cell \u001b[0;32mIn[111], line 5\u001b[0m\n\u001b[1;32m      2\u001b[0m plt\u001b[38;5;241m.\u001b[39mxlim((\u001b[38;5;241m0\u001b[39m,\u001b[38;5;241m1\u001b[39m))\n\u001b[1;32m      3\u001b[0m plt\u001b[38;5;241m.\u001b[39mylim((\u001b[38;5;241m0\u001b[39m,\u001b[38;5;241m1\u001b[39m))\n\u001b[0;32m----> 5\u001b[0m plt\u001b[38;5;241m.\u001b[39mscatter(\u001b[38;5;241m*\u001b[39m\u001b[43mdata\u001b[49m\u001b[38;5;241;43m.\u001b[39;49m\u001b[43mpos\u001b[49m\u001b[43m[\u001b[49m\u001b[43mcomps\u001b[49m\u001b[38;5;241;43m==\u001b[39;49m\u001b[38;5;241;43m9\u001b[39;49m\u001b[43m,\u001b[49m\u001b[43m \u001b[49m\u001b[43m:\u001b[49m\u001b[38;5;241;43m2\u001b[39;49m\u001b[43m]\u001b[49m\u001b[38;5;241m.\u001b[39mT, c\u001b[38;5;241m=\u001b[39m\u001b[38;5;124m'\u001b[39m\u001b[38;5;124mb\u001b[39m\u001b[38;5;124m'\u001b[39m)\n\u001b[1;32m      6\u001b[0m plt\u001b[38;5;241m.\u001b[39mscatter(\u001b[38;5;241m*\u001b[39mdata\u001b[38;5;241m.\u001b[39mpos[comps\u001b[38;5;241m==\u001b[39m\u001b[38;5;241m27\u001b[39m, :\u001b[38;5;241m2\u001b[39m]\u001b[38;5;241m.\u001b[39mT, c\u001b[38;5;241m=\u001b[39m\u001b[38;5;124m'\u001b[39m\u001b[38;5;124mr\u001b[39m\u001b[38;5;124m'\u001b[39m)\n",
      "\u001b[0;31mIndexError\u001b[0m: The shape of the mask [6438] at index 0 does not match the shape of the indexed tensor [6487, 2] at index 0"
     ]
    }
   ],
   "source": [
    "import matplotlib.pyplot as plt\n",
    "plt.xlim((0,1))\n",
    "plt.ylim((0,1))\n",
    "\n",
    "plt.scatter(*data.pos[comps==9, :2].T, c='b')\n",
    "plt.scatter(*data.pos[comps==27, :2].T, c='r')\n"
   ]
  },
  {
   "cell_type": "code",
   "execution_count": 54,
   "id": "551e8d12-9389-4ae8-8065-fbc0d3b983d3",
   "metadata": {},
   "outputs": [
    {
     "data": {
      "text/plain": [
       "[(0, 1),\n",
       " (1, 1),\n",
       " (2, 1),\n",
       " (3, 1),\n",
       " (4, 1),\n",
       " (5, 1),\n",
       " (6, 1),\n",
       " (7, 1),\n",
       " (8, 1),\n",
       " (9, 2),\n",
       " (10, 1),\n",
       " (11, 1),\n",
       " (12, 4511),\n",
       " (13, 1),\n",
       " (14, 1),\n",
       " (15, 1),\n",
       " (16, 1),\n",
       " (17, 1),\n",
       " (18, 1),\n",
       " (19, 2),\n",
       " (20, 1),\n",
       " (21, 1),\n",
       " (22, 2),\n",
       " (23, 1),\n",
       " (24, 1),\n",
       " (25, 1),\n",
       " (26, 1),\n",
       " (27, 1),\n",
       " (28, 2),\n",
       " (29, 1),\n",
       " (30, 1),\n",
       " (31, 1),\n",
       " (32, 1),\n",
       " (33, 1),\n",
       " (34, 1),\n",
       " (35, 1),\n",
       " (36, 1),\n",
       " (37, 1),\n",
       " (38, 1),\n",
       " (39, 1),\n",
       " (40, 1),\n",
       " (41, 2),\n",
       " (42, 3),\n",
       " (43, 1),\n",
       " (44, 1),\n",
       " (45, 1),\n",
       " (46, 1),\n",
       " (47, 1),\n",
       " (48, 6),\n",
       " (49, 2),\n",
       " (50, 2),\n",
       " (51, 1),\n",
       " (52, 1)]"
      ]
     },
     "execution_count": 54,
     "metadata": {},
     "output_type": "execute_result"
    }
   ],
   "source": [
    "[(i, data.pos[comps==i].shape[0]) for i in np.unique(comps)]"
   ]
  },
  {
   "cell_type": "code",
   "execution_count": 23,
   "id": "76c9c683-c2d8-4be3-ad72-890c1211b7b3",
   "metadata": {},
   "outputs": [
    {
     "data": {
      "text/plain": [
       "53"
      ]
     },
     "execution_count": 23,
     "metadata": {},
     "output_type": "execute_result"
    }
   ],
   "source": []
  },
  {
   "cell_type": "code",
   "execution_count": 22,
   "id": "7a6dd959-66f7-4341-85bb-65201d97e194",
   "metadata": {},
   "outputs": [
    {
     "data": {
      "text/plain": [
       "53"
      ]
     },
     "execution_count": 22,
     "metadata": {},
     "output_type": "execute_result"
    }
   ],
   "source": [
    "n"
   ]
  }
 ],
 "metadata": {
  "kernelspec": {
   "display_name": "Python 3 (ipykernel)",
   "language": "python",
   "name": "python3"
  },
  "language_info": {
   "codemirror_mode": {
    "name": "ipython",
    "version": 3
   },
   "file_extension": ".py",
   "mimetype": "text/x-python",
   "name": "python",
   "nbconvert_exporter": "python",
   "pygments_lexer": "ipython3",
   "version": "3.8.13"
  }
 },
 "nbformat": 4,
 "nbformat_minor": 5
}
