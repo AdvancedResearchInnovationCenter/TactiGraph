{
 "cells": [
  {
   "cell_type": "code",
   "execution_count": 1,
   "id": "e2b6c7ff-9394-485b-820a-248ed49363c7",
   "metadata": {},
   "outputs": [],
   "source": [
    "from imports.ExtractContactCases import ExtractContactCases\n",
    "from imports.TactileDataset import cases_dict\n",
    "\n",
    "import pandas as pd\n",
    "import numpy as np\n",
    "import torch\n",
    "\n",
    "from torch_geometric.data import Data\n",
    "from torch_geometric.transforms import Polar\n",
    "from torch_geometric.nn.pool import radius_graph, knn_graph\n",
    "from torch_geometric.utils import to_undirected\n",
    "\n",
    "\n",
    "from sklearn.model_selection import train_test_split\n",
    "from scipy.spatial.distance import cdist\n",
    "\n",
    "from torch_geometric import seed_everything\n",
    "seed_everything(0)"
   ]
  },
  {
   "cell_type": "code",
   "execution_count": 2,
   "id": "805f57e5-156c-4bfb-89eb-33f7473f79a8",
   "metadata": {},
   "outputs": [],
   "source": [
    "ex = ExtractContactCases('contact_extraction1')\n",
    "samples = ex.load()"
   ]
  },
  {
   "cell_type": "code",
   "execution_count": 3,
   "id": "18c08bcd-9121-45b3-8009-2eaf9f35a854",
   "metadata": {},
   "outputs": [
    {
     "data": {
      "text/html": [
       "<div>\n",
       "<style scoped>\n",
       "    .dataframe tbody tr th:only-of-type {\n",
       "        vertical-align: middle;\n",
       "    }\n",
       "\n",
       "    .dataframe tbody tr th {\n",
       "        vertical-align: top;\n",
       "    }\n",
       "\n",
       "    .dataframe thead th {\n",
       "        text-align: right;\n",
       "    }\n",
       "</style>\n",
       "<table border=\"1\" class=\"dataframe\">\n",
       "  <thead>\n",
       "    <tr style=\"text-align: right;\">\n",
       "      <th></th>\n",
       "      <th>centroid-0</th>\n",
       "      <th>centroid-1</th>\n",
       "      <th>label</th>\n",
       "    </tr>\n",
       "  </thead>\n",
       "  <tbody>\n",
       "    <tr>\n",
       "      <th>0</th>\n",
       "      <td>50.034483</td>\n",
       "      <td>153.551724</td>\n",
       "      <td>2</td>\n",
       "    </tr>\n",
       "    <tr>\n",
       "      <th>1</th>\n",
       "      <td>54.471910</td>\n",
       "      <td>180.449438</td>\n",
       "      <td>3</td>\n",
       "    </tr>\n",
       "    <tr>\n",
       "      <th>2</th>\n",
       "      <td>55.947368</td>\n",
       "      <td>126.750000</td>\n",
       "      <td>4</td>\n",
       "    </tr>\n",
       "    <tr>\n",
       "      <th>3</th>\n",
       "      <td>69.600000</td>\n",
       "      <td>153.566667</td>\n",
       "      <td>5</td>\n",
       "    </tr>\n",
       "    <tr>\n",
       "      <th>4</th>\n",
       "      <td>69.588889</td>\n",
       "      <td>202.411111</td>\n",
       "      <td>6</td>\n",
       "    </tr>\n",
       "  </tbody>\n",
       "</table>\n",
       "</div>"
      ],
      "text/plain": [
       "   centroid-0  centroid-1  label\n",
       "0   50.034483  153.551724      2\n",
       "1   54.471910  180.449438      3\n",
       "2   55.947368  126.750000      4\n",
       "3   69.600000  153.566667      5\n",
       "4   69.588889  202.411111      6"
      ]
     },
     "execution_count": 3,
     "metadata": {},
     "output_type": "execute_result"
    }
   ],
   "source": [
    "centroids_ = pd.read_csv('centroids.csv')\n",
    "cents = centroids_.values[:, :2][:, ::-1]\n",
    "centroids_.head()"
   ]
  },
  {
   "cell_type": "code",
   "execution_count": 4,
   "id": "60d62a6f-a71b-44f9-ada9-e173d9d5cfea",
   "metadata": {},
   "outputs": [],
   "source": [
    "sample_idx = list(samples.keys())\n",
    "cases = [str(samples[s_idx]['case']) for s_idx in sample_idx]\n",
    "\n",
    "train_idx, val_test_idx = train_test_split(sample_idx, test_size=1-0.6, random_state=0, stratify=cases) #fixed across extractions\n",
    "\n",
    "cases = [str(samples[s_idx]['case']) for s_idx in val_test_idx]\n",
    "val_idx, test_idx = train_test_split(val_test_idx,  test_size=0.5, random_state=0, stratify=cases) #fixed across extractions"
   ]
  },
  {
   "cell_type": "code",
   "execution_count": 5,
   "id": "34cee69b-fd1f-4226-a863-40a0b96e5d66",
   "metadata": {},
   "outputs": [],
   "source": [
    "\n",
    "\n",
    "def make_graph(sample, case):\n",
    "    pos = torch.from_numpy(cents.copy().astype(np.float32))\n",
    "\n",
    "    X = sample[:, :2]\n",
    "    d = cdist(X, cents)\n",
    "\n",
    "    event_node_idx = np.argmin(d, axis=-1)\n",
    "    center = (120.537313, 153.835821)\n",
    "    center = np.array(center)\n",
    "\n",
    "    node_features = torch.zeros((53, 4))\n",
    "    for node_idx in range(len(pos)):\n",
    "        events_idx = event_node_idx == node_idx\n",
    "        pos_events_idx = sample[events_idx, 3] == 1\n",
    "        neg_events_idx = sample[events_idx, 3] == 0\n",
    "\n",
    "        n_events = sum(events_idx) #1\n",
    "\n",
    "        n_pos_events = sum(pos_events_idx) #2\n",
    "        n_neg_events = n_events - n_pos_events #3\n",
    "\n",
    "        r = np.linalg.norm(sample[events_idx, :2] - center, axis=-1) \n",
    "        r_pos = np.median(r[pos_events_idx]) if n_pos_events > 0 else 0\n",
    "        r_neg = np.median(r[neg_events_idx]) if n_neg_events > 0 else 0\n",
    "        delta_r = r_pos - r_neg if n_neg_events*n_pos_events > 0 else 0\n",
    "\n",
    "        theta = np.arctan2(cents[node_idx][1] - center[1], cents[node_idx][0] - center[0]) #5\n",
    "\n",
    "        node_features[node_idx, 0] = n_events\n",
    "        node_features[node_idx, 1] = np.linalg.norm(cents[node_idx] - center) \n",
    "        node_features[node_idx, 2] = theta\n",
    "        \n",
    "        node_features[node_idx, 3] = delta_r\n",
    "        #node_features[node_idx, 3] = delta_r\n",
    "        #node_features[node_idx, 4] = theta\n",
    "\n",
    "    edge_index = knn_graph(pos, 6)\n",
    "    edge_index = to_undirected(edge_index)\n",
    "    y = torch.tensor(np.array(cases_dict[case], dtype=np.float32)).reshape(1, -1).reshape(1, -1)\n",
    "    data = Data(x=node_features, edge_index=edge_index, pos=pos, y=y)\n",
    "    row, col = edge_index\n",
    "    \n",
    "    data.edge_attr = torch.stack((\n",
    "        ((node_features[row, 0] - node_features[col, 0]) / node_features[:, 0].max()).abs(), #delta_n_events\n",
    "        (node_features[row, 1] - node_features[col, 1]) / node_features[:, 1].max(), #delta_r,\n",
    "        (node_features[row, 2] - node_features[col, 2]) / node_features[:, 0].max() #delta_theta\n",
    "    )).reshape(-1, 3)\n",
    "    return data"
   ]
  },
  {
   "cell_type": "code",
   "execution_count": 6,
   "id": "1977efdc-8691-42ba-a5ed-89d27b928749",
   "metadata": {},
   "outputs": [],
   "source": [
    "def train_gen():\n",
    "    for sample_idx in train_idx:\n",
    "        sample = np.array(samples[sample_idx]['events'])\n",
    "        case = samples[sample_idx]['case']\n",
    "        data = make_graph(sample, case)\n",
    "        yield data\n",
    "        \n",
    "def val_gen():\n",
    "    for sample_idx in val_idx:\n",
    "        sample = np.array(samples[sample_idx]['events'])\n",
    "        case = samples[sample_idx]['case']\n",
    "        data = make_graph(sample, case)\n",
    "        yield data\n",
    "        \n",
    "        \n",
    "def test_gen():\n",
    "    for sample_idx in test_idx:\n",
    "        sample = np.array(samples[sample_idx]['events'])\n",
    "        case = samples[sample_idx]['case']\n",
    "        data = make_graph(sample, case)\n",
    "        yield data\n",
    "        \n",
    "\n"
   ]
  },
  {
   "cell_type": "code",
   "execution_count": 7,
   "id": "a2daed96-cbd2-4f74-8f37-71d46c63ad14",
   "metadata": {},
   "outputs": [],
   "source": [
    "g2 = next(train_gen())"
   ]
  },
  {
   "cell_type": "raw",
   "id": "41f9603c-e5db-41a2-8bc1-df88a9822d25",
   "metadata": {
    "jupyter": {
     "source_hidden": true
    },
    "tags": []
   },
   "source": [
    "from torch_geometric.nn import GCNConv,SplineConv,BatchNorm,global_mean_pool,global_max_pool\n",
    "\n",
    "class spline(torch.nn.Module):\n",
    "    \n",
    "    def __init__(self):\n",
    "        super(spline, self).__init__()\n",
    "        self.conv1 = SplineConv(3, 32, dim=3, kernel_size=3, degree=3)\n",
    "        self.bn1 = BatchNorm(32)\n",
    "        \n",
    "        self.conv2 = SplineConv(32, 64, dim=3, kernel_size=3, degree=3)\n",
    "        self.bn2 = BatchNorm(64)\n",
    "        \n",
    "        self.fc1 = torch.nn.Linear(64, 16)\n",
    "        self.fc2 = torch.nn.Linear(16, 2)\n",
    "    \n",
    "    def forward(self,data):\n",
    "        data.x = self.conv1(data.x, data.edge_index, data.edge_attr)\n",
    "        data.x = torch.nn.functional.sigmoid(data.x)\n",
    "        data.x = self.bn1(data.x)\n",
    "        \n",
    "        data.x = self.conv2(data.x, data.edge_index, data.edge_attr)\n",
    "        data.x = torch.nn.functional.sigmoid(data.x)\n",
    "        data.x = self.bn2(data.x)\n",
    "        \n",
    "        out = global_max_pool(data.x, batch=None) \n",
    "        \n",
    "        out = self.fc1(out)\n",
    "        out = torch.nn.functional.dropout(out, training=self.training)\n",
    "        out = torch.nn.functional.sigmoid(out)\n",
    "        out = self.fc2(out)\n",
    "        \n",
    "        return out\n"
   ]
  },
  {
   "cell_type": "code",
   "execution_count": 8,
   "id": "fc796160-c102-49fc-b398-7dc403996141",
   "metadata": {},
   "outputs": [
    {
     "data": {
      "text/plain": [
       "Data(x=[1641, 1], edge_index=[2, 52512], y=[2], pos=[1641, 3], edge_attr=[52512, 3])"
      ]
     },
     "execution_count": 8,
     "metadata": {},
     "output_type": "execute_result"
    }
   ],
   "source": [
    "torch.load('/home/hussain/me/projects/tactile/data/legacy/contact_extraction5/train/processed/sample_1.pt')"
   ]
  },
  {
   "cell_type": "code",
   "execution_count": 9,
   "id": "acb9f694-f435-4661-bfb5-50d67e56b4a6",
   "metadata": {},
   "outputs": [
    {
     "data": {
      "text/plain": [
       "torch.Size([362, 3])"
      ]
     },
     "execution_count": 9,
     "metadata": {},
     "output_type": "execute_result"
    }
   ],
   "source": [
    "g2.edge_attr.shape"
   ]
  },
  {
   "cell_type": "code",
   "execution_count": 10,
   "id": "349faec4-c8e1-4b1e-b1a1-513c63103b7e",
   "metadata": {},
   "outputs": [
    {
     "data": {
      "text/plain": [
       "torch.Size([362, 3])"
      ]
     },
     "execution_count": 10,
     "metadata": {},
     "output_type": "execute_result"
    }
   ],
   "source": [
    "g2.edge_attr.shape"
   ]
  },
  {
   "cell_type": "markdown",
   "id": "e004b426-36ae-4c0f-8811-a2145dfc1239",
   "metadata": {},
   "source": [
    "##### g2.edge_attr/"
   ]
  },
  {
   "cell_type": "code",
   "execution_count": 11,
   "id": "3e44c78e-736b-453f-ad7c-10db6fa02e90",
   "metadata": {},
   "outputs": [],
   "source": [
    "from torch_geometric.nn import GCNConv,SplineConv,BatchNorm,global_mean_pool,global_max_pool\n",
    "\n",
    "class spline(torch.nn.Module):\n",
    "    \n",
    "    def __init__(self):\n",
    "        super(spline, self).__init__()\n",
    "        #self.conv1 = SplineConv(3, 32, dim=3, kernel_size=3, degree=3) \n",
    "        self.conv1 = GCNConv(4, 32)\n",
    "        self.bn1 = BatchNorm(32)\n",
    "        \n",
    "        \n",
    "        self.fc1 = torch.nn.Linear(32, 16)\n",
    "        self.fc2 = torch.nn.Linear(16, 2)\n",
    "    \n",
    "    def forward(self,data):\n",
    "        data.edge_attr = data.edge_attr[:, 0]\n",
    "        data.x = self.conv1(data.x, data.edge_index, edge_weight=data.edge_attr)\n",
    "        data.x = torch.nn.functional.sigmoid(data.x)\n",
    "        data.x = self.bn1(data.x)\n",
    "        \n",
    "        \n",
    "        out = global_max_pool(data.x, batch=None) \n",
    "        \n",
    "        out = self.fc1(out)\n",
    "        out = torch.nn.functional.dropout(out, training=self.training)\n",
    "        out = torch.nn.functional.sigmoid(out)\n",
    "        out = self.fc2(out)\n",
    "        \n",
    "        return out\n"
   ]
  },
  {
   "cell_type": "code",
   "execution_count": null,
   "id": "60fc97d9-c24a-4482-a267-3a438615f6bb",
   "metadata": {},
   "outputs": [],
   "source": []
  },
  {
   "cell_type": "code",
   "execution_count": 12,
   "id": "cfda622c-e96f-408a-a322-bf94f9a0bea5",
   "metadata": {},
   "outputs": [],
   "source": [
    "model = spline().cuda()"
   ]
  },
  {
   "cell_type": "code",
   "execution_count": 13,
   "id": "750aa24d-ad52-41fb-b901-ee64bb2b215b",
   "metadata": {},
   "outputs": [],
   "source": [
    "loss_func = torch.nn.L1Loss()\n",
    "n_epochs = 150\n",
    "optimizer = torch.optim.Adam(model.parameters(), lr=0.01, weight_decay=0)\n",
    "#scheduler = torch.optim.lr_scheduler.ReduceLROnPlateau(optimizer, 'min', min_lr=1e-6, patience=25)\n",
    "\n",
    "def validate():\n",
    "    loss = 0\n",
    "    for i, data in enumerate(val_gen()):      \n",
    "        data = data.to('cuda')\n",
    "        end_point = model(data)\n",
    "\n",
    "        loss += loss_func(end_point, data.y).detach().item()\n",
    "    loss /= len(val_idx)\n",
    "    return loss"
   ]
  },
  {
   "cell_type": "code",
   "execution_count": 14,
   "id": "e0dbb762-b3aa-44b9-927c-b4d13f4489e1",
   "metadata": {},
   "outputs": [],
   "source": [
    "def test():\n",
    "    loss = 0\n",
    "    for i, data in enumerate(test_gen()):      \n",
    "        data = data.to('cuda')\n",
    "        end_point = model(data)\n",
    "\n",
    "        loss += loss_func(end_point, data.y).detach().item()\n",
    "    loss /= len(val_idx)\n",
    "    return loss"
   ]
  },
  {
   "cell_type": "code",
   "execution_count": null,
   "id": "9d7019e6-ea3a-4323-b3e0-17b7dff1fba5",
   "metadata": {},
   "outputs": [
    {
     "data": {
      "application/vnd.jupyter.widget-view+json": {
       "model_id": "9a8649919c3f453eab1c8b91efaa7c7d",
       "version_major": 2,
       "version_minor": 0
      },
      "text/plain": [
       "training:   0%|          | 0/150 [00:00<?, ?epoch/s]"
      ]
     },
     "metadata": {},
     "output_type": "display_data"
    },
    {
     "data": {
      "application/vnd.jupyter.widget-view+json": {
       "model_id": "33f35c165cf040cb9bf812ef6fefcb5f",
       "version_major": 2,
       "version_minor": 0
      },
      "text/plain": [
       "  0%|          | 0/386 [00:00<?, ?batch/s]"
      ]
     },
     "metadata": {},
     "output_type": "display_data"
    },
    {
     "name": "stderr",
     "output_type": "stream",
     "text": [
      "/tmp/ipykernel_19654/760933800.py:31: UserWarning: Anomaly Detection has been enabled. This mode will increase the runtime and should only be enabled for debugging.\n",
      "  with torch.autograd.detect_anomaly():\n",
      "/home/hussain/miniconda3/envs/tactile/lib/python3.8/site-packages/torch/nn/functional.py:1960: UserWarning: nn.functional.sigmoid is deprecated. Use torch.sigmoid instead.\n",
      "  warnings.warn(\"nn.functional.sigmoid is deprecated. Use torch.sigmoid instead.\")\n"
     ]
    },
    {
     "data": {
      "application/vnd.jupyter.widget-view+json": {
       "model_id": "a7d163acb1ee4632bb6b33662def83bf",
       "version_major": 2,
       "version_minor": 0
      },
      "text/plain": [
       "  0%|          | 0/386 [00:00<?, ?batch/s]"
      ]
     },
     "metadata": {},
     "output_type": "display_data"
    },
    {
     "data": {
      "application/vnd.jupyter.widget-view+json": {
       "model_id": "2173108f96524f68a305573f90fa6231",
       "version_major": 2,
       "version_minor": 0
      },
      "text/plain": [
       "  0%|          | 0/386 [00:00<?, ?batch/s]"
      ]
     },
     "metadata": {},
     "output_type": "display_data"
    },
    {
     "data": {
      "application/vnd.jupyter.widget-view+json": {
       "model_id": "f07aa03e1c4649829e5d332600f25357",
       "version_major": 2,
       "version_minor": 0
      },
      "text/plain": [
       "  0%|          | 0/386 [00:00<?, ?batch/s]"
      ]
     },
     "metadata": {},
     "output_type": "display_data"
    },
    {
     "data": {
      "application/vnd.jupyter.widget-view+json": {
       "model_id": "e994a239a89f4c19a6023e958074cbe5",
       "version_major": 2,
       "version_minor": 0
      },
      "text/plain": [
       "  0%|          | 0/386 [00:00<?, ?batch/s]"
      ]
     },
     "metadata": {},
     "output_type": "display_data"
    },
    {
     "data": {
      "application/vnd.jupyter.widget-view+json": {
       "model_id": "7c97230e92ad420b8efce7a82da085f7",
       "version_major": 2,
       "version_minor": 0
      },
      "text/plain": [
       "  0%|          | 0/386 [00:00<?, ?batch/s]"
      ]
     },
     "metadata": {},
     "output_type": "display_data"
    },
    {
     "data": {
      "application/vnd.jupyter.widget-view+json": {
       "model_id": "892dbacc94694600b6f57226b7b9c916",
       "version_major": 2,
       "version_minor": 0
      },
      "text/plain": [
       "  0%|          | 0/386 [00:00<?, ?batch/s]"
      ]
     },
     "metadata": {},
     "output_type": "display_data"
    },
    {
     "data": {
      "application/vnd.jupyter.widget-view+json": {
       "model_id": "58e05b16c75048bd92cac9c1ec4a4e51",
       "version_major": 2,
       "version_minor": 0
      },
      "text/plain": [
       "  0%|          | 0/386 [00:00<?, ?batch/s]"
      ]
     },
     "metadata": {},
     "output_type": "display_data"
    },
    {
     "data": {
      "application/vnd.jupyter.widget-view+json": {
       "model_id": "68cd2ea7b57e4e4b82a69eaebd4e8ad7",
       "version_major": 2,
       "version_minor": 0
      },
      "text/plain": [
       "  0%|          | 0/386 [00:00<?, ?batch/s]"
      ]
     },
     "metadata": {},
     "output_type": "display_data"
    },
    {
     "data": {
      "application/vnd.jupyter.widget-view+json": {
       "model_id": "d2eef486e972465db2b797ff724a3850",
       "version_major": 2,
       "version_minor": 0
      },
      "text/plain": [
       "  0%|          | 0/386 [00:00<?, ?batch/s]"
      ]
     },
     "metadata": {},
     "output_type": "display_data"
    },
    {
     "data": {
      "application/vnd.jupyter.widget-view+json": {
       "model_id": "020ae17142bc47ffb5f4554617f2f979",
       "version_major": 2,
       "version_minor": 0
      },
      "text/plain": [
       "  0%|          | 0/386 [00:00<?, ?batch/s]"
      ]
     },
     "metadata": {},
     "output_type": "display_data"
    },
    {
     "data": {
      "application/vnd.jupyter.widget-view+json": {
       "model_id": "a0156e8ed2ae4b1aac64ac4ae100c2d7",
       "version_major": 2,
       "version_minor": 0
      },
      "text/plain": [
       "  0%|          | 0/386 [00:00<?, ?batch/s]"
      ]
     },
     "metadata": {},
     "output_type": "display_data"
    },
    {
     "data": {
      "application/vnd.jupyter.widget-view+json": {
       "model_id": "cd7489ca7aa2454687c9b69884c42070",
       "version_major": 2,
       "version_minor": 0
      },
      "text/plain": [
       "  0%|          | 0/386 [00:00<?, ?batch/s]"
      ]
     },
     "metadata": {},
     "output_type": "display_data"
    },
    {
     "data": {
      "application/vnd.jupyter.widget-view+json": {
       "model_id": "0038b7306f264bdfba2e7b9dbf7abf43",
       "version_major": 2,
       "version_minor": 0
      },
      "text/plain": [
       "  0%|          | 0/386 [00:00<?, ?batch/s]"
      ]
     },
     "metadata": {},
     "output_type": "display_data"
    },
    {
     "data": {
      "application/vnd.jupyter.widget-view+json": {
       "model_id": "f6fe72280923486c8bcfab78a5dc21c7",
       "version_major": 2,
       "version_minor": 0
      },
      "text/plain": [
       "  0%|          | 0/386 [00:00<?, ?batch/s]"
      ]
     },
     "metadata": {},
     "output_type": "display_data"
    },
    {
     "data": {
      "application/vnd.jupyter.widget-view+json": {
       "model_id": "ef870a47418c407a9e292ac3b45d72da",
       "version_major": 2,
       "version_minor": 0
      },
      "text/plain": [
       "  0%|          | 0/386 [00:00<?, ?batch/s]"
      ]
     },
     "metadata": {},
     "output_type": "display_data"
    },
    {
     "data": {
      "application/vnd.jupyter.widget-view+json": {
       "model_id": "e11b450706cf4755b619549f98e5ea74",
       "version_major": 2,
       "version_minor": 0
      },
      "text/plain": [
       "  0%|          | 0/386 [00:00<?, ?batch/s]"
      ]
     },
     "metadata": {},
     "output_type": "display_data"
    },
    {
     "data": {
      "application/vnd.jupyter.widget-view+json": {
       "model_id": "c7227298bd734c6bb9c8a6e12d07b66d",
       "version_major": 2,
       "version_minor": 0
      },
      "text/plain": [
       "  0%|          | 0/386 [00:00<?, ?batch/s]"
      ]
     },
     "metadata": {},
     "output_type": "display_data"
    },
    {
     "data": {
      "application/vnd.jupyter.widget-view+json": {
       "model_id": "7a4fc5096e924849bd278502ff1bf82b",
       "version_major": 2,
       "version_minor": 0
      },
      "text/plain": [
       "  0%|          | 0/386 [00:00<?, ?batch/s]"
      ]
     },
     "metadata": {},
     "output_type": "display_data"
    },
    {
     "data": {
      "application/vnd.jupyter.widget-view+json": {
       "model_id": "f2ed6ad4b1fc426f8dca3fe776f0e217",
       "version_major": 2,
       "version_minor": 0
      },
      "text/plain": [
       "  0%|          | 0/386 [00:00<?, ?batch/s]"
      ]
     },
     "metadata": {},
     "output_type": "display_data"
    },
    {
     "data": {
      "application/vnd.jupyter.widget-view+json": {
       "model_id": "aa1d105210684de2bea2c177a7c5fa56",
       "version_major": 2,
       "version_minor": 0
      },
      "text/plain": [
       "  0%|          | 0/386 [00:00<?, ?batch/s]"
      ]
     },
     "metadata": {},
     "output_type": "display_data"
    },
    {
     "data": {
      "application/vnd.jupyter.widget-view+json": {
       "model_id": "061a557762cd4379a91738331f3b23a1",
       "version_major": 2,
       "version_minor": 0
      },
      "text/plain": [
       "  0%|          | 0/386 [00:00<?, ?batch/s]"
      ]
     },
     "metadata": {},
     "output_type": "display_data"
    },
    {
     "data": {
      "application/vnd.jupyter.widget-view+json": {
       "model_id": "2fc72e10691f436486956a5fb66ceff6",
       "version_major": 2,
       "version_minor": 0
      },
      "text/plain": [
       "  0%|          | 0/386 [00:00<?, ?batch/s]"
      ]
     },
     "metadata": {},
     "output_type": "display_data"
    },
    {
     "data": {
      "application/vnd.jupyter.widget-view+json": {
       "model_id": "37e61ae0bda14fe19ca5d8e087cb072a",
       "version_major": 2,
       "version_minor": 0
      },
      "text/plain": [
       "  0%|          | 0/386 [00:00<?, ?batch/s]"
      ]
     },
     "metadata": {},
     "output_type": "display_data"
    },
    {
     "data": {
      "application/vnd.jupyter.widget-view+json": {
       "model_id": "1076fe6a91034dd9813e4772b4ff5dd4",
       "version_major": 2,
       "version_minor": 0
      },
      "text/plain": [
       "  0%|          | 0/386 [00:00<?, ?batch/s]"
      ]
     },
     "metadata": {},
     "output_type": "display_data"
    },
    {
     "data": {
      "application/vnd.jupyter.widget-view+json": {
       "model_id": "5d3749c5b6ef41a89e92fede6b779fdb",
       "version_major": 2,
       "version_minor": 0
      },
      "text/plain": [
       "  0%|          | 0/386 [00:00<?, ?batch/s]"
      ]
     },
     "metadata": {},
     "output_type": "display_data"
    },
    {
     "data": {
      "application/vnd.jupyter.widget-view+json": {
       "model_id": "3599cfab2bba42939c92b727edbc13cb",
       "version_major": 2,
       "version_minor": 0
      },
      "text/plain": [
       "  0%|          | 0/386 [00:00<?, ?batch/s]"
      ]
     },
     "metadata": {},
     "output_type": "display_data"
    },
    {
     "data": {
      "application/vnd.jupyter.widget-view+json": {
       "model_id": "c5bd037dd0094b8f968a2108309d9921",
       "version_major": 2,
       "version_minor": 0
      },
      "text/plain": [
       "  0%|          | 0/386 [00:00<?, ?batch/s]"
      ]
     },
     "metadata": {},
     "output_type": "display_data"
    },
    {
     "data": {
      "application/vnd.jupyter.widget-view+json": {
       "model_id": "cda80a509d6c482f9028d345222dfc89",
       "version_major": 2,
       "version_minor": 0
      },
      "text/plain": [
       "  0%|          | 0/386 [00:00<?, ?batch/s]"
      ]
     },
     "metadata": {},
     "output_type": "display_data"
    },
    {
     "data": {
      "application/vnd.jupyter.widget-view+json": {
       "model_id": "122f9aeb02334695802f8b64a86c1169",
       "version_major": 2,
       "version_minor": 0
      },
      "text/plain": [
       "  0%|          | 0/386 [00:00<?, ?batch/s]"
      ]
     },
     "metadata": {},
     "output_type": "display_data"
    },
    {
     "data": {
      "application/vnd.jupyter.widget-view+json": {
       "model_id": "18c86af78ce44fa29121cc3eeac3c8dc",
       "version_major": 2,
       "version_minor": 0
      },
      "text/plain": [
       "  0%|          | 0/386 [00:00<?, ?batch/s]"
      ]
     },
     "metadata": {},
     "output_type": "display_data"
    },
    {
     "data": {
      "application/vnd.jupyter.widget-view+json": {
       "model_id": "17479ec28314409e8eae654b11ba3e4b",
       "version_major": 2,
       "version_minor": 0
      },
      "text/plain": [
       "  0%|          | 0/386 [00:00<?, ?batch/s]"
      ]
     },
     "metadata": {},
     "output_type": "display_data"
    },
    {
     "data": {
      "application/vnd.jupyter.widget-view+json": {
       "model_id": "8cb7eb93032f46eeba4061e260db73e7",
       "version_major": 2,
       "version_minor": 0
      },
      "text/plain": [
       "  0%|          | 0/386 [00:00<?, ?batch/s]"
      ]
     },
     "metadata": {},
     "output_type": "display_data"
    },
    {
     "data": {
      "application/vnd.jupyter.widget-view+json": {
       "model_id": "c342315d1eff4cdd9a8df5a6d4192ce4",
       "version_major": 2,
       "version_minor": 0
      },
      "text/plain": [
       "  0%|          | 0/386 [00:00<?, ?batch/s]"
      ]
     },
     "metadata": {},
     "output_type": "display_data"
    },
    {
     "data": {
      "application/vnd.jupyter.widget-view+json": {
       "model_id": "a138a4fd91314da6a708d5287a9900e7",
       "version_major": 2,
       "version_minor": 0
      },
      "text/plain": [
       "  0%|          | 0/386 [00:00<?, ?batch/s]"
      ]
     },
     "metadata": {},
     "output_type": "display_data"
    },
    {
     "data": {
      "application/vnd.jupyter.widget-view+json": {
       "model_id": "aa7f64460c9e48b1b6b90489b388ea84",
       "version_major": 2,
       "version_minor": 0
      },
      "text/plain": [
       "  0%|          | 0/386 [00:00<?, ?batch/s]"
      ]
     },
     "metadata": {},
     "output_type": "display_data"
    },
    {
     "data": {
      "application/vnd.jupyter.widget-view+json": {
       "model_id": "e88c5c416cb14e76ae7823cd27e09ea2",
       "version_major": 2,
       "version_minor": 0
      },
      "text/plain": [
       "  0%|          | 0/386 [00:00<?, ?batch/s]"
      ]
     },
     "metadata": {},
     "output_type": "display_data"
    },
    {
     "data": {
      "application/vnd.jupyter.widget-view+json": {
       "model_id": "db7f510897cd4bd5b7710b16ff5487b9",
       "version_major": 2,
       "version_minor": 0
      },
      "text/plain": [
       "  0%|          | 0/386 [00:00<?, ?batch/s]"
      ]
     },
     "metadata": {},
     "output_type": "display_data"
    },
    {
     "data": {
      "application/vnd.jupyter.widget-view+json": {
       "model_id": "d692d765041248ef8f2827a5da20d1bc",
       "version_major": 2,
       "version_minor": 0
      },
      "text/plain": [
       "  0%|          | 0/386 [00:00<?, ?batch/s]"
      ]
     },
     "metadata": {},
     "output_type": "display_data"
    },
    {
     "data": {
      "application/vnd.jupyter.widget-view+json": {
       "model_id": "38f17da28e164c798bc5b9cd9a110adf",
       "version_major": 2,
       "version_minor": 0
      },
      "text/plain": [
       "  0%|          | 0/386 [00:00<?, ?batch/s]"
      ]
     },
     "metadata": {},
     "output_type": "display_data"
    },
    {
     "data": {
      "application/vnd.jupyter.widget-view+json": {
       "model_id": "56855e278349493a948565ae40dcbbe8",
       "version_major": 2,
       "version_minor": 0
      },
      "text/plain": [
       "  0%|          | 0/386 [00:00<?, ?batch/s]"
      ]
     },
     "metadata": {},
     "output_type": "display_data"
    },
    {
     "data": {
      "application/vnd.jupyter.widget-view+json": {
       "model_id": "1ec830070f3a4bab830f531a99c35cc7",
       "version_major": 2,
       "version_minor": 0
      },
      "text/plain": [
       "  0%|          | 0/386 [00:00<?, ?batch/s]"
      ]
     },
     "metadata": {},
     "output_type": "display_data"
    },
    {
     "data": {
      "application/vnd.jupyter.widget-view+json": {
       "model_id": "449550c0dc164df7a3063794888364b5",
       "version_major": 2,
       "version_minor": 0
      },
      "text/plain": [
       "  0%|          | 0/386 [00:00<?, ?batch/s]"
      ]
     },
     "metadata": {},
     "output_type": "display_data"
    }
   ],
   "source": [
    "from tqdm.auto import trange, tqdm\n",
    "train_losses = []\n",
    "val_losses = []\n",
    "lrs = []\n",
    "\n",
    "\n",
    "\n",
    "for epoch in trange(n_epochs, desc='training', unit='epoch'):\n",
    "    \n",
    "    if epoch == 10:\n",
    "        for param_group in optimizer.param_groups:\n",
    "            param_group['lr'] = 0.001\n",
    "    \n",
    "    if epoch == 60:\n",
    "        for param_group in optimizer.param_groups:\n",
    "            param_group['lr'] = 0.0001\n",
    "\n",
    "    if epoch == 110:\n",
    "        for param_group in optimizer.param_groups:\n",
    "            param_group['lr'] = 0.00001\n",
    "    \n",
    "    \n",
    "    #bunny(epoch)\n",
    "    epoch_loss = 0\n",
    "    lr = optimizer.param_groups[0]['lr']\n",
    "    lrs.append(lr)\n",
    "    val_loss = torch.inf\n",
    "    with tqdm(train_gen(), unit=\"batch\", total=len(train_idx)) as tepoch:\n",
    "        for i, data in enumerate(tepoch):\n",
    "            tepoch.set_description(f\"Epoch {epoch}\")\n",
    "            with torch.autograd.detect_anomaly():\n",
    "                data = data.to('cuda')\n",
    "                optimizer.zero_grad()\n",
    "                end_point = model(data)\n",
    "                loss = loss_func(end_point, data.y)\n",
    "                loss.backward()\n",
    "                optimizer.step()\n",
    "                lr = optimizer.param_groups[0]['lr']\n",
    "\n",
    "                epoch_loss += loss.detach().item()\n",
    "\n",
    "                tepoch.set_postfix({\n",
    "                    'train_loss': epoch_loss / (i + 1), \n",
    "                    'train_loss_degrees': epoch_loss / (i + 1) * 180/np.pi, \n",
    "                    'val_loss': val_losses[epoch - 1] if epoch > 0 else 'na',\n",
    "                    'val_loss_degrees': val_losses[epoch - 1] * 180/np.pi if epoch > 0 else 'na',\n",
    "                    'lr': lr\n",
    "                    })\n",
    "\n",
    "        #scheduler.step(val_loss)\n",
    "        epoch_loss /= len(train_idx)\n",
    "        val_loss = validate()\n",
    "        tepoch.set_postfix({'train_loss': epoch_loss, 'val_loss': val_loss})\n",
    "        train_losses.append(epoch_loss)\n",
    "        val_losses.append(val_loss)\n",
    "        \n"
   ]
  },
  {
   "cell_type": "code",
   "execution_count": null,
   "id": "bc8d1db2-65e5-4e76-9cd9-f2696d60d9f5",
   "metadata": {},
   "outputs": [],
   "source": [
    "import matplotlib.pyplot as plt\n",
    "\n",
    "plt.plot(train_losses)\n",
    "plt.plot(val_losses)\n"
   ]
  },
  {
   "cell_type": "code",
   "execution_count": null,
   "id": "33df8317-c866-4329-a239-51110b4121a0",
   "metadata": {},
   "outputs": [],
   "source": [
    "test()"
   ]
  },
  {
   "cell_type": "code",
   "execution_count": null,
   "id": "6275abe8-66e5-4265-97be-85f820306722",
   "metadata": {},
   "outputs": [],
   "source": [
    "plt.plot(lrs)"
   ]
  },
  {
   "cell_type": "code",
   "execution_count": null,
   "id": "d194fa14-01a5-4a46-9165-4294b6c61c01",
   "metadata": {},
   "outputs": [],
   "source": [
    "model(g1.cuda())"
   ]
  }
 ],
 "metadata": {
  "kernelspec": {
   "display_name": "Python 3 (ipykernel)",
   "language": "python",
   "name": "python3"
  },
  "language_info": {
   "codemirror_mode": {
    "name": "ipython",
    "version": 3
   },
   "file_extension": ".py",
   "mimetype": "text/x-python",
   "name": "python",
   "nbconvert_exporter": "python",
   "pygments_lexer": "ipython3",
   "version": "3.8.13"
  }
 },
 "nbformat": 4,
 "nbformat_minor": 5
}
