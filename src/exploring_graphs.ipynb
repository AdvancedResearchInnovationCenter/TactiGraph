{
 "cells": [
  {
   "cell_type": "code",
   "execution_count": 2,
   "id": "5f290048-15bb-408d-b6de-fbdd27127ea5",
   "metadata": {},
   "outputs": [
    {
     "data": {
      "application/vnd.jupyter.widget-view+json": {
       "model_id": "710805c9fcbc4e54ae095eb819bbd06c",
       "version_major": 2,
       "version_minor": 0
      },
      "text/plain": [
       "parsing bag: 0it [00:00, ?it/s]"
      ]
     },
     "metadata": {},
     "output_type": "display_data"
    },
    {
     "data": {
      "application/vnd.jupyter.widget-view+json": {
       "model_id": "573ad468e310477e993f671afdf81a3f",
       "version_major": 2,
       "version_minor": 0
      },
      "text/plain": [
       "  0%|          | 0/645 [00:00<?, ?it/s]"
      ]
     },
     "metadata": {},
     "output_type": "display_data"
    },
    {
     "ename": "ValueError",
     "evalue": "not enough values to unpack (expected 3, got 2)",
     "output_type": "error",
     "traceback": [
      "\u001b[0;31m---------------------------------------------------------------------------\u001b[0m",
      "\u001b[0;31mValueError\u001b[0m                                Traceback (most recent call last)",
      "Input \u001b[0;32mIn [2]\u001b[0m, in \u001b[0;36m<cell line: 4>\u001b[0;34m()\u001b[0m\n\u001b[1;32m      1\u001b[0m \u001b[38;5;28;01mfrom\u001b[39;00m \u001b[38;5;21;01mimports\u001b[39;00m\u001b[38;5;21;01m.\u001b[39;00m\u001b[38;5;21;01mExtractContactCases\u001b[39;00m \u001b[38;5;28;01mimport\u001b[39;00m ExtractContactCases\n\u001b[1;32m      3\u001b[0m ex \u001b[38;5;241m=\u001b[39m ExtractContactCases(\u001b[38;5;124m'\u001b[39m\u001b[38;5;124m/home/hussain/tactile/data/contact_extraction9/\u001b[39m\u001b[38;5;124m'\u001b[39m, bag_file_name\u001b[38;5;241m=\u001b[39m\u001b[38;5;124m'\u001b[39m\u001b[38;5;124m/home/hussain/tactile/no_frame.bag\u001b[39m\u001b[38;5;124m'\u001b[39m, _keep_raw\u001b[38;5;241m=\u001b[39m\u001b[38;5;28;01mTrue\u001b[39;00m)\n\u001b[0;32m----> 4\u001b[0m \u001b[43mex\u001b[49m\u001b[38;5;241;43m.\u001b[39;49m\u001b[43mextract\u001b[49m\u001b[43m(\u001b[49m\u001b[43m)\u001b[49m\n",
      "File \u001b[0;32m~/tactile/src/imports/ExtractContactCases.py:255\u001b[0m, in \u001b[0;36mExtractContactCases.extract\u001b[0;34m(self)\u001b[0m\n\u001b[1;32m    252\u001b[0m samples\u001b[38;5;241m=\u001b[39m{}\n\u001b[1;32m    254\u001b[0m gen \u001b[38;5;241m=\u001b[39m \u001b[38;5;28mself\u001b[39m\u001b[38;5;241m.\u001b[39msample_generator(label_contact_case, event_arrays) \n\u001b[0;32m--> 255\u001b[0m \u001b[38;5;28;01mfor\u001b[39;00m i, (case, event_array, augmented) \u001b[38;5;129;01min\u001b[39;00m \u001b[38;5;28menumerate\u001b[39m(gen):\n\u001b[1;32m    256\u001b[0m     samples[\u001b[38;5;124mf\u001b[39m\u001b[38;5;124m'\u001b[39m\u001b[38;5;124msample_\u001b[39m\u001b[38;5;132;01m{\u001b[39;00mi\u001b[38;5;241m+\u001b[39m\u001b[38;5;241m1\u001b[39m\u001b[38;5;132;01m}\u001b[39;00m\u001b[38;5;124m'\u001b[39m] \u001b[38;5;241m=\u001b[39m {\n\u001b[1;32m    257\u001b[0m         \u001b[38;5;124m'\u001b[39m\u001b[38;5;124mevents\u001b[39m\u001b[38;5;124m'\u001b[39m: event_array\u001b[38;5;241m.\u001b[39mtolist(),\n\u001b[1;32m    258\u001b[0m         \u001b[38;5;124m'\u001b[39m\u001b[38;5;124mcase\u001b[39m\u001b[38;5;124m'\u001b[39m: case\n\u001b[1;32m    259\u001b[0m         }\n\u001b[1;32m    261\u001b[0m \u001b[38;5;28mprint\u001b[39m(\u001b[38;5;124m\"\u001b[39m\u001b[38;5;124msaving\u001b[39m\u001b[38;5;124m\"\u001b[39m)\n",
      "\u001b[0;31mValueError\u001b[0m: not enough values to unpack (expected 3, got 2)"
     ]
    }
   ],
   "source": [
    "from imports.ExtractContactCases import ExtractContactCases\n",
    "\n",
    "ex = ExtractContactCases('/home/hussain/tactile/data/contact_extraction9/', bag_file_name='/home/hussain/tactile/no_frame.bag', _keep_raw=True)\n",
    "ex.extract()"
   ]
  },
  {
   "cell_type": "code",
   "execution_count": null,
   "id": "9f626e3c-6386-4128-8339-e508bbf78ebb",
   "metadata": {},
   "outputs": [],
   "source": [
    "import numpy as np\n",
    "import seaborn as sns\n",
    "import matplotlib.pyplot as plt\n",
    "\n",
    "def plot(ev):\n",
    "    ev = np.array(ev)\n",
    "    plt.figure(figsize=(5, 5))\n",
    "    \n",
    "    sns.scatterplot( x=ev[:, 0],y=ev[:, 1], hue=ev[:, 3])"
   ]
  },
  {
   "cell_type": "code",
   "execution_count": null,
   "id": "fcbf4501-9785-4a0b-8a2b-472278bd160e",
   "metadata": {},
   "outputs": [],
   "source": [
    "ex.samples['sample_1'].keys()"
   ]
  },
  {
   "cell_type": "code",
   "execution_count": null,
   "id": "4c37bdc4-6f3a-468c-8d4c-0e1c38b8612c",
   "metadata": {},
   "outputs": [],
   "source": [
    "plot(ex.samples['sample_21']['events'])\n",
    "ex.samples['sample_21']['case']"
   ]
  },
  {
   "cell_type": "code",
   "execution_count": null,
   "id": "81a3cf1b-9ae2-4f21-84f4-92c564dc1834",
   "metadata": {},
   "outputs": [],
   "source": [
    "plot(ex.samples['sample_22']['events'])\n",
    "ex.samples['sample_22']['case']"
   ]
  },
  {
   "cell_type": "code",
   "execution_count": null,
   "id": "8c0f654c-3388-4dde-883b-c87822fc3cc3",
   "metadata": {},
   "outputs": [],
   "source": [
    "\n",
    "possible_angle = [0.0174532925, 0.034906585, 0.0523598776, 0.075, 0.095, 0.115, 0.135, 0.15]#\n",
    "N_examples = 17\n",
    "list_of_rotations = [[0, 0, 0]]\n",
    "\n",
    "for i in range(1, N_examples):\n",
    "    theta = i * 2 * np.pi/(N_examples - 1)\n",
    "    for phi in possible_angle:\n",
    "        rx = phi * np.cos(theta)\n",
    "        ry = phi * np.sin(theta)\n",
    "        rotvec = [rx, ry, 0]\n",
    "        list_of_rotations.append(rotvec)\n",
    "\n",
    "cases_dict = {i+1: list_of_rotations[i][:2] for i in range(len(list_of_rotations))}\n",
    "cases_dict[0] = [0, 0]\n",
    "\n",
    "cases_dict"
   ]
  },
  {
   "cell_type": "code",
   "execution_count": 1,
   "id": "d0d78cfc-51a6-438d-af00-57a7339f5665",
   "metadata": {},
   "outputs": [
    {
     "name": "stdout",
     "output_type": "stream",
     "text": [
      "rm -rf /home/hussain/tactile/data/contact_extraction7/train//processed\n"
     ]
    },
    {
     "name": "stderr",
     "output_type": "stream",
     "text": [
      "Processing...\n"
     ]
    },
    {
     "name": "stdout",
     "output_type": "stream",
     "text": [
      "{'train_prop': 0.6, 'augment': False, 'delta_t': 25000000.0, 'margin': -25000000.0, 'max_events_thresh': 2000, 'n': 644, 'kNN': 32, 'node_features': 'all'}\n"
     ]
    },
    {
     "name": "stderr",
     "output_type": "stream",
     "text": [
      "Done!\n"
     ]
    }
   ],
   "source": [
    "from imports.TactileDataset import TactileDataset\n",
    "\n",
    "td = TactileDataset('/home/hussain/tactile/data/contact_extraction7/train/', augment = True, reset = True)"
   ]
  },
  {
   "cell_type": "code",
   "execution_count": 5,
   "id": "73498031-de3c-4e02-a2f3-eb2994559605",
   "metadata": {},
   "outputs": [
    {
     "data": {
      "text/plain": [
       "(1545.6, TactileDataset(1544))"
      ]
     },
     "execution_count": 5,
     "metadata": {},
     "output_type": "execute_result"
    }
   ],
   "source": []
  }
 ],
 "metadata": {
  "kernelspec": {
   "display_name": "Python 3 (ipykernel)",
   "language": "python",
   "name": "python3"
  },
  "language_info": {
   "codemirror_mode": {
    "name": "ipython",
    "version": 3
   },
   "file_extension": ".py",
   "mimetype": "text/x-python",
   "name": "python",
   "nbconvert_exporter": "python",
   "pygments_lexer": "ipython3",
   "version": "3.8.13"
  },
  "vscode": {
   "interpreter": {
    "hash": "34b1c1fd0608eac91ff8ee3b378baa82baa76b865f0fb1b05cc06f1667b6717e"
   }
  }
 },
 "nbformat": 4,
 "nbformat_minor": 5
}
