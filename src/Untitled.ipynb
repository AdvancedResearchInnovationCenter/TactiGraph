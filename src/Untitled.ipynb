{
 "cells": [
  {
   "cell_type": "code",
   "execution_count": 1,
   "id": "ef31b3a3-d4be-4265-9fe3-8f11e40f3275",
   "metadata": {},
   "outputs": [],
   "source": [
    "from imports.ExtractContactCases import ExtractContactCases\n",
    "import math\n",
    "import numpy as np\n",
    "ex = ExtractContactCases(outdir='../data/small/contact_extraction6/', \n",
    "                         possible_angles=[math.radians(9)], \n",
    "                         N_examples=5,\n",
    "                         theta=[np.nan, 0, np.pi/6, np.pi/3, np.pi/2],\n",
    "                         bag_file_name='/home/hussain/catkin_ws/small_example4_heavy_one_phi_4thetas.bag',\n",
    "                         center=(180, 117),\n",
    "                         circle_rad=85,\n",
    "                         n_init_events=-1,\n",
    "                         delta_t=0.075e9,\n",
    "                         margin=-0.025e9\n",
    "                        )"
   ]
  },
  {
   "cell_type": "code",
   "execution_count": 2,
   "id": "e45894ac-972f-454f-90d5-3e351639f674",
   "metadata": {},
   "outputs": [
    {
     "data": {
      "text/plain": [
       "0.07500000000000001"
      ]
     },
     "execution_count": 2,
     "metadata": {},
     "output_type": "execute_result"
    }
   ],
   "source": [
    "0.1-0.025"
   ]
  },
  {
   "cell_type": "code",
   "execution_count": 3,
   "id": "cf2042bd-39b4-4186-afa7-3d6b8faf3890",
   "metadata": {},
   "outputs": [
    {
     "data": {
      "application/vnd.jupyter.widget-view+json": {
       "model_id": "db542db69d2c48069575130f6305cdac",
       "version_major": 2,
       "version_minor": 0
      },
      "text/plain": [
       "parsing bag:   0%|          | 0/36449 [00:00<?, ?msg/s]"
      ]
     },
     "metadata": {},
     "output_type": "display_data"
    },
    {
     "data": {
      "application/vnd.jupyter.widget-view+json": {
       "model_id": "f9d81626d7e74cfc89cb4c78bf073281",
       "version_major": 2,
       "version_minor": 0
      },
      "text/plain": [
       "extracting contact timestamps:   0%|          | 0/13491 [00:00<?, ?it/s]"
      ]
     },
     "metadata": {},
     "output_type": "display_data"
    },
    {
     "data": {
      "application/vnd.jupyter.widget-view+json": {
       "model_id": "d8ba38677caa492e98fe8ffa502890fe",
       "version_major": 2,
       "version_minor": 0
      },
      "text/plain": [
       "extracting event arrays:   0%|          | 0/60 [00:00<?, ?it/s]"
      ]
     },
     "metadata": {},
     "output_type": "display_data"
    },
    {
     "name": "stdout",
     "output_type": "stream",
     "text": [
      "saving\n",
      "45 7 8\n"
     ]
    }
   ],
   "source": [
    "ex.extract()"
   ]
  },
  {
   "cell_type": "code",
   "execution_count": 4,
   "id": "48026d25-abe4-422a-9ecd-6bc644e993dc",
   "metadata": {},
   "outputs": [],
   "source": [
    "samples = ex.load()"
   ]
  },
  {
   "cell_type": "code",
   "execution_count": null,
   "id": "7df304af-d93a-4fcc-943a-5169009af689",
   "metadata": {},
   "outputs": [],
   "source": []
  }
 ],
 "metadata": {
  "kernelspec": {
   "display_name": "Python 3 (ipykernel)",
   "language": "python",
   "name": "python3"
  },
  "language_info": {
   "codemirror_mode": {
    "name": "ipython",
    "version": 3
   },
   "file_extension": ".py",
   "mimetype": "text/x-python",
   "name": "python",
   "nbconvert_exporter": "python",
   "pygments_lexer": "ipython3",
   "version": "3.8.13"
  }
 },
 "nbformat": 4,
 "nbformat_minor": 5
}
