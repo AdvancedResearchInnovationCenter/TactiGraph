{
 "cells": [
  {
   "cell_type": "code",
   "execution_count": 1,
   "id": "ef31b3a3-d4be-4265-9fe3-8f11e40f3275",
   "metadata": {},
   "outputs": [],
   "source": [
    "from imports.ExtractContactCases import ExtractContactCases\n",
    "import math\n",
    "import numpy as np\n",
    "ex = ExtractContactCases(\n",
    "    '../data/bags/data2/',\n",
    "    '/run/user/1000/gvfs/sftp:host=hpc/l/proj/kuin0034/hussain/tactile/data/extractions/20ms_components'\n",
    ")"
   ]
  },
  {
   "cell_type": "code",
   "execution_count": null,
   "id": "1816a176-cff7-4f7f-b80d-2adfb360e667",
   "metadata": {},
   "outputs": [],
   "source": []
  },
  {
   "cell_type": "code",
   "execution_count": 1,
   "id": "01009410-d85b-48a8-818b-c1e19ea325b6",
   "metadata": {},
   "outputs": [
    {
     "name": "stdout",
     "output_type": "stream",
     "text": [
      "dask.array<array, shape=(187519868, 4), dtype=int64, chunksize=(4153282, 4), chunktype=numpy.ndarray>\n",
      "                         ts  contact_status  contact_case  contact_angle_x  \\\n",
      "0       1672235485049392995           False           0.0         0.001636   \n",
      "1       1672235485086052833           False           0.0         0.001678   \n",
      "2       1672235485103664372           False           0.0         0.001699   \n",
      "3       1672235485131136692           False           0.0         0.001646   \n",
      "4       1672235485148841329           False           0.0         0.001657   \n",
      "...                     ...             ...           ...              ...   \n",
      "508727  1672246958274827871           False           0.0         0.176380   \n",
      "508728  1672246958290677711           False           0.0         0.176479   \n",
      "508729  1672246958303181902           False           0.0         0.176448   \n",
      "508730  1672246958333194754           False           0.0         0.176357   \n",
      "508731  1672246958362514493           False           0.0         0.176357   \n",
      "\n",
      "        contact_angle_y  contact_angle_z  \n",
      "0              0.000830         0.002355  \n",
      "1              0.000865         0.002270  \n",
      "2              0.000899         0.002283  \n",
      "3              0.000848         0.002319  \n",
      "4              0.000877         0.002295  \n",
      "...                 ...              ...  \n",
      "508727         0.000774         0.002480  \n",
      "508728         0.000865         0.002503  \n",
      "508729         0.000805         0.002490  \n",
      "508730         0.000800         0.002475  \n",
      "508731         0.000832         0.002501  \n",
      "\n",
      "[508732 rows x 6 columns]\n"
     ]
    },
    {
     "data": {
      "application/vnd.jupyter.widget-view+json": {
       "model_id": "293cbbcf5a3147bbaf174d78ebab4606",
       "version_major": 2,
       "version_minor": 0
      },
      "text/plain": [
       "extracting contact timestamps:   0%|          | 0/508732 [00:00<?, ?it/s]"
      ]
     },
     "metadata": {},
     "output_type": "display_data"
    },
    {
     "data": {
      "application/vnd.jupyter.widget-view+json": {
       "model_id": "bacdf452a84648a9888e86b33873193a",
       "version_major": 2,
       "version_minor": 0
      },
      "text/plain": [
       "extracting event arrays:   0%|          | 0/2292 [00:00<?, ?it/s]"
      ]
     },
     "metadata": {},
     "output_type": "display_data"
    },
    {
     "name": "stdout",
     "output_type": "stream",
     "text": [
      "saving\n",
      "2292 2292\n",
      "{'bag': '/home/hussain/me/projects/tactile/data/bags/data2', 'train_prop': 0.75, 'delta_t': 100000000.0, 'margin': -100000000.0, 'min_n_events': 3500, 'n_init_events': -1, 'downsample_factor': 2, 'center': [180, 117], 'circle_rad': 85, 'case_span': 2660000000.0, 'N_examples': 20, 'possible_angles': [0.017453292519943295, 0.03490658503988659, 0.05235987755982989, 0.06981317007977318, 0.08726646259971647, 0.10471975511965978, 0.12217304763960307, 0.13962634015954636, 0.15707963267948966, 0.17453292519943295], 'theta': 'full', 'augmentations': [], 'n': 2138, 'dropped_cases': 154}\n",
      "{'bag': '/home/hussain/me/projects/tactile/data/bags/data2', 'train_prop': 0.75, 'delta_t': 100000000.0, 'margin': -100000000.0, 'min_n_events': 3500, 'n_init_events': -1, 'downsample_factor': 2, 'center': [180, 117], 'circle_rad': 85, 'case_span': 2660000000.0, 'N_examples': 20, 'possible_angles': [0.017453292519943295, 0.03490658503988659, 0.05235987755982989, 0.06981317007977318, 0.08726646259971647, 0.10471975511965978, 0.12217304763960307, 0.13962634015954636, 0.15707963267948966, 0.17453292519943295], 'theta': 'full', 'augmentations': [], 'n': 2138, 'dropped_cases': 154}\n",
      "{'bag': '/home/hussain/me/projects/tactile/data/bags/data2', 'train_prop': 0.75, 'delta_t': 100000000.0, 'margin': -100000000.0, 'min_n_events': 3500, 'n_init_events': -1, 'downsample_factor': 2, 'center': [180, 117], 'circle_rad': 85, 'case_span': 2660000000.0, 'N_examples': 20, 'possible_angles': [0.017453292519943295, 0.03490658503988659, 0.05235987755982989, 0.06981317007977318, 0.08726646259971647, 0.10471975511965978, 0.12217304763960307, 0.13962634015954636, 0.15707963267948966, 0.17453292519943295], 'theta': 'full', 'augmentations': [], 'n': 2138, 'dropped_cases': 154}\n"
     ]
    },
    {
     "name": "stderr",
     "output_type": "stream",
     "text": [
      "/home/hussain/me/projects/tactile/src/imports/TrainModel.py:39: UserWarning: experiment /home/hussain/me/projects/tactile/results/20ms_components already exists. Press enter to proceed overwriting.\n",
      "  warnings.warn(f'experiment {str(path)} already exists. Press enter to proceed overwriting.')\n"
     ]
    }
   ],
   "source": [
    "\n",
    "from imports.TactileBag import TactileBag\n",
    "\n",
    "tbag = TactileBag('../data/bags/data2')\n",
    "print(tbag.events)\n",
    "print(tbag.parsed_bag)\n",
    "\n",
    "from imports.ExtractContactCases import ExtractContactCases\n",
    "\n",
    "ex = ExtractContactCases(\n",
    "    '../data/bags/data2',\n",
    "    '../data/extractions/20ms_components/',\n",
    "    n_init_events = -1,\n",
    "    margin=-0.1e9,\n",
    "    delta_t=0.1e9,\n",
    "    min_n_events=3500,\n",
    "    down_sample=2\n",
    ")\n",
    "ex.extract()\n",
    "\n",
    "from imports.TactileDataset import TactileDataset\n",
    "from imports.TrainModel import TrainModel\n",
    "from models.modules import GraphRes\n",
    "\n",
    "\n",
    "#from models.modules import GraphRes\n",
    "\n",
    "!rm -rf ../data/extractions/20ms_components/{test,train,val}/processed/*.pt\n",
    "tm = TrainModel(\n",
    "    '../data/extractions/20ms_components/', \n",
    "    GraphRes().cuda(), \n",
    "    lr=0.01, \n",
    "    features='pol', \n",
    "    batch=4, \n",
    "    n_epochs=300, \n",
    "    experiment_name='20ms_components', \n",
    "    desc='20ms_components aegnn small model',\n",
    "    merge_test_val=False\n",
    ")\n"
   ]
  },
  {
   "cell_type": "code",
   "execution_count": 16,
   "id": "7144fd71-8cf4-4f44-ac2d-a91caeda6f61",
   "metadata": {},
   "outputs": [
    {
     "name": "stdout",
     "output_type": "stream",
     "text": [
      "{'bag': '/home/hussain/me/projects/tactile/data/bags/data2', 'train_prop': 0.75, 'delta_t': 100000000.0, 'margin': -100000000.0, 'min_n_events': 3500, 'n_init_events': -1, 'downsample_factor': 2, 'center': [180, 117], 'circle_rad': 85, 'case_span': 2660000000.0, 'N_examples': 20, 'possible_angles': [0.017453292519943295, 0.03490658503988659, 0.05235987755982989, 0.06981317007977318, 0.08726646259971647, 0.10471975511965978, 0.12217304763960307, 0.13962634015954636, 0.15707963267948966, 0.17453292519943295], 'theta': 'full', 'augmentations': [], 'n': 2138, 'dropped_cases': 154}\n"
     ]
    },
    {
     "name": "stderr",
     "output_type": "stream",
     "text": [
      "/home/hussain/me/projects/tactile/src/imports/TrainModel.py:39: UserWarning: experiment /home/hussain/me/projects/tactile/results/20ms_components already exists. Press enter to proceed overwriting.\n",
      "  warnings.warn(f'experiment {str(path)} already exists. Press enter to proceed overwriting.')\n",
      "Processing...\n"
     ]
    },
    {
     "name": "stdout",
     "output_type": "stream",
     "text": [
      "{'N_examples': 20,\n",
      " 'augmentations': [],\n",
      " 'bag': '/home/hussain/me/projects/tactile/data/bags/data2',\n",
      " 'case_span': 2660000000.0,\n",
      " 'center': [180, 117],\n",
      " 'circle_rad': 85,\n",
      " 'delta_t': 100000000.0,\n",
      " 'downsample_factor': 2,\n",
      " 'dropped_cases': 154,\n",
      " 'margin': -100000000.0,\n",
      " 'min_n_events': 3500,\n",
      " 'n': 2138,\n",
      " 'n_init_events': -1,\n",
      " 'node_features': 'pol',\n",
      " 'possible_angles': [0.017453292519943295,\n",
      "                     0.03490658503988659,\n",
      "                     0.05235987755982989,\n",
      "                     0.06981317007977318,\n",
      "                     0.08726646259971647,\n",
      "                     0.10471975511965978,\n",
      "                     0.12217304763960307,\n",
      "                     0.13962634015954636,\n",
      "                     0.15707963267948966,\n",
      "                     0.17453292519943295],\n",
      " 'theta': 'full',\n",
      " 'train_prop': 0.75}\n"
     ]
    },
    {
     "name": "stderr",
     "output_type": "stream",
     "text": [
      "Done!\n",
      "Processing...\n"
     ]
    },
    {
     "name": "stdout",
     "output_type": "stream",
     "text": [
      "{'bag': '/home/hussain/me/projects/tactile/data/bags/data2', 'train_prop': 0.75, 'delta_t': 100000000.0, 'margin': -100000000.0, 'min_n_events': 3500, 'n_init_events': -1, 'downsample_factor': 2, 'center': [180, 117], 'circle_rad': 85, 'case_span': 2660000000.0, 'N_examples': 20, 'possible_angles': [0.017453292519943295, 0.03490658503988659, 0.05235987755982989, 0.06981317007977318, 0.08726646259971647, 0.10471975511965978, 0.12217304763960307, 0.13962634015954636, 0.15707963267948966, 0.17453292519943295], 'theta': 'full', 'augmentations': [], 'n': 2138, 'dropped_cases': 154, 'node_features': 'pol'}\n",
      "{'N_examples': 20,\n",
      " 'augmentations': [],\n",
      " 'bag': '/home/hussain/me/projects/tactile/data/bags/data2',\n",
      " 'case_span': 2660000000.0,\n",
      " 'center': [180, 117],\n",
      " 'circle_rad': 85,\n",
      " 'delta_t': 100000000.0,\n",
      " 'downsample_factor': 2,\n",
      " 'dropped_cases': 154,\n",
      " 'margin': -100000000.0,\n",
      " 'min_n_events': 3500,\n",
      " 'n': 2138,\n",
      " 'n_init_events': -1,\n",
      " 'node_features': 'pol',\n",
      " 'possible_angles': [0.017453292519943295,\n",
      "                     0.03490658503988659,\n",
      "                     0.05235987755982989,\n",
      "                     0.06981317007977318,\n",
      "                     0.08726646259971647,\n",
      "                     0.10471975511965978,\n",
      "                     0.12217304763960307,\n",
      "                     0.13962634015954636,\n",
      "                     0.15707963267948966,\n",
      "                     0.17453292519943295],\n",
      " 'theta': 'full',\n",
      " 'train_prop': 0.75}\n"
     ]
    },
    {
     "name": "stderr",
     "output_type": "stream",
     "text": [
      "Done!\n",
      "Processing...\n"
     ]
    },
    {
     "name": "stdout",
     "output_type": "stream",
     "text": [
      "{'bag': '/home/hussain/me/projects/tactile/data/bags/data2', 'train_prop': 0.75, 'delta_t': 100000000.0, 'margin': -100000000.0, 'min_n_events': 3500, 'n_init_events': -1, 'downsample_factor': 2, 'center': [180, 117], 'circle_rad': 85, 'case_span': 2660000000.0, 'N_examples': 20, 'possible_angles': [0.017453292519943295, 0.03490658503988659, 0.05235987755982989, 0.06981317007977318, 0.08726646259971647, 0.10471975511965978, 0.12217304763960307, 0.13962634015954636, 0.15707963267948966, 0.17453292519943295], 'theta': 'full', 'augmentations': [], 'n': 2138, 'dropped_cases': 154, 'node_features': 'pol'}\n",
      "{'N_examples': 20,\n",
      " 'augmentations': [],\n",
      " 'bag': '/home/hussain/me/projects/tactile/data/bags/data2',\n",
      " 'case_span': 2660000000.0,\n",
      " 'center': [180, 117],\n",
      " 'circle_rad': 85,\n",
      " 'delta_t': 100000000.0,\n",
      " 'downsample_factor': 2,\n",
      " 'dropped_cases': 154,\n",
      " 'margin': -100000000.0,\n",
      " 'min_n_events': 3500,\n",
      " 'n': 2138,\n",
      " 'n_init_events': -1,\n",
      " 'node_features': 'pol',\n",
      " 'possible_angles': [0.017453292519943295,\n",
      "                     0.03490658503988659,\n",
      "                     0.05235987755982989,\n",
      "                     0.06981317007977318,\n",
      "                     0.08726646259971647,\n",
      "                     0.10471975511965978,\n",
      "                     0.12217304763960307,\n",
      "                     0.13962634015954636,\n",
      "                     0.15707963267948966,\n",
      "                     0.17453292519943295],\n",
      " 'theta': 'full',\n",
      " 'train_prop': 0.75}\n"
     ]
    },
    {
     "name": "stderr",
     "output_type": "stream",
     "text": [
      "Done!\n"
     ]
    }
   ],
   "source": [
    "!rm -rf ../data/extractions/20ms_components/{test,train,val}/processed/*.pt\n",
    "tm = TrainModel(\n",
    "    '../data/extractions/20ms_components/', \n",
    "    GraphRes().cuda(), \n",
    "    lr=0.01, \n",
    "    features='pol', \n",
    "    batch=4, \n",
    "    n_epochs=300, \n",
    "    experiment_name='20ms_components', \n",
    "    desc='20ms_components aegnn small model',\n",
    "    merge_test_val=False\n",
    ")"
   ]
  },
  {
   "cell_type": "code",
   "execution_count": 37,
   "id": "f22dd4c1-6e5a-4691-b2a5-ef0c45717482",
   "metadata": {},
   "outputs": [
    {
     "data": {
      "text/plain": [
       "array([0, 3, 7, 8, 9])"
      ]
     },
     "execution_count": 37,
     "metadata": {},
     "output_type": "execute_result"
    }
   ],
   "source": [
    "np.arange(10)[np.array([1, 0, 0, 1, 0, 0, 0, 1, 1, 1]).astype(bool)]"
   ]
  },
  {
   "cell_type": "code",
   "execution_count": 17,
   "id": "e8f127f3-eee0-4eab-9f3c-208ccbc9cbae",
   "metadata": {},
   "outputs": [
    {
     "data": {
      "text/plain": [
       "tensor([[0.4595, 0.3769, 0.1418],\n",
       "        [0.5289, 0.5154, 0.1596],\n",
       "        [0.4798, 0.4615, 0.1616],\n",
       "        ...,\n",
       "        [0.3468, 0.2962, 0.9998],\n",
       "        [0.4306, 0.3115, 1.0000],\n",
       "        [0.3613, 0.5462, 1.0000]])"
      ]
     },
     "execution_count": 17,
     "metadata": {},
     "output_type": "execute_result"
    }
   ],
   "source": [
    "tm.train_data[0].pos"
   ]
  },
  {
   "cell_type": "code",
   "execution_count": 14,
   "id": "7ac220bc-f938-4ffe-a24b-ffeaab08b3a0",
   "metadata": {},
   "outputs": [
    {
     "data": {
      "text/plain": [
       "array([[                119,                 140, 1672235551000504634,\n",
       "                          1],\n",
       "       [                244,                  77, 1672235551001596634,\n",
       "                          1],\n",
       "       [                193,                  56, 1672235551003742634,\n",
       "                          0],\n",
       "       ...,\n",
       "       [                143,                 154, 1672235551198625634,\n",
       "                          1],\n",
       "       [                220,                  88, 1672235551198639634,\n",
       "                          1],\n",
       "       [                189,                  67, 1672235551198643634,\n",
       "                          1]])"
      ]
     },
     "execution_count": 14,
     "metadata": {},
     "output_type": "execute_result"
    }
   ],
   "source": [
    "event_array[idx_downsample]"
   ]
  },
  {
   "cell_type": "code",
   "execution_count": 18,
   "id": "500e4b75-1628-4465-87a2-fe4a086bb8e1",
   "metadata": {},
   "outputs": [
    {
     "data": {
      "application/vnd.jupyter.widget-view+json": {
       "model_id": "53b321a1a6af4aa8b031aef4923b05b9",
       "version_major": 2,
       "version_minor": 0
      },
      "text/plain": [
       "extracting event arrays:   0%|          | 0/2292 [00:00<?, ?it/s]"
      ]
     },
     "metadata": {},
     "output_type": "display_data"
    },
    {
     "name": "stdout",
     "output_type": "stream",
     "text": [
      "[ True  True  True ... False  True  True] (3435,)\n",
      "[False False False ...  True  True False] (8463,)\n",
      "[False False False ...  True False  True] (7364,)\n",
      "[False  True False ...  True False False] (4951,)\n",
      "[ True  True  True ... False  True  True] (5157,)\n",
      "[ True False  True ...  True  True  True] (8774,)\n",
      "[False False False ... False  True  True] (3565,)\n",
      "[ True  True False ...  True False  True] (7363,)\n",
      "[ True False  True ...  True False False] (8614,)\n",
      "[ True False False ...  True False  True] (2737,)\n",
      "[ True False False ... False  True False] (7163,)\n",
      "[False False  True ... False False False] (5939,)\n",
      "[ True False False ...  True False  True] (8353,)\n",
      "[ True False False ...  True  True False] (7339,)\n",
      "[ True False False ...  True False  True] (4045,)\n",
      "[False  True False ... False  True  True] (10433,)\n",
      "[False False  True ... False False  True] (4455,)\n",
      "[ True False False ... False False False] (5060,)\n",
      "[False  True False ...  True False  True] (8394,)\n",
      "[ True False  True ... False  True  True] (6996,)\n",
      "[ True  True False ...  True  True  True] (10042,)\n",
      "[ True  True False ... False  True  True] (4047,)\n",
      "[False False  True ...  True  True  True] (7087,)\n",
      "[False  True  True ...  True False  True] (3287,)\n",
      "[False  True  True ...  True  True  True] (5645,)\n",
      "[False False  True ...  True False False] (11370,)\n",
      "[False False False ...  True  True False] (7931,)\n",
      "[False  True  True ... False False  True] (5408,)\n",
      "[ True  True False ...  True False False] (7839,)\n",
      "[ True  True  True ... False False  True] (4520,)\n",
      "[False  True False ... False False False] (7232,)\n",
      "[ True False False ...  True False False] (8096,)\n",
      "[ True False  True ... False  True False] (3261,)\n",
      "[False  True False ... False False False] (7520,)\n",
      "[False  True  True ... False False False] (2341,)\n"
     ]
    },
    {
     "ename": "KeyboardInterrupt",
     "evalue": "",
     "output_type": "error",
     "traceback": [
      "\u001b[0;31m---------------------------------------------------------------------------\u001b[0m",
      "\u001b[0;31mKeyboardInterrupt\u001b[0m                         Traceback (most recent call last)",
      "Cell \u001b[0;32mIn[18], line 14\u001b[0m\n\u001b[1;32m     12\u001b[0m dropped_cases \u001b[38;5;241m=\u001b[39m \u001b[38;5;241m0\u001b[39m\n\u001b[1;32m     13\u001b[0m \u001b[38;5;28;01mfor\u001b[39;00m i, idx \u001b[38;5;129;01min\u001b[39;00m \u001b[38;5;28menumerate\u001b[39m(tqdm(\u001b[38;5;28mself\u001b[39m\u001b[38;5;241m.\u001b[39mcases_idx, desc\u001b[38;5;241m=\u001b[39m\u001b[38;5;124m'\u001b[39m\u001b[38;5;124mextracting event arrays\u001b[39m\u001b[38;5;124m'\u001b[39m)):\n\u001b[0;32m---> 14\u001b[0m     init_ts_idx \u001b[38;5;241m=\u001b[39m \u001b[38;5;28;43mself\u001b[39;49m\u001b[38;5;241;43m.\u001b[39;49m\u001b[43mev_ts2idx\u001b[49m\u001b[43m(\u001b[49m\u001b[38;5;28;43mself\u001b[39;49m\u001b[38;5;241;43m.\u001b[39;49m\u001b[43mcases_ts\u001b[49m\u001b[43m[\u001b[49m\u001b[43mi\u001b[49m\u001b[43m]\u001b[49m\u001b[43m[\u001b[49m\u001b[38;5;241;43m0\u001b[39;49m\u001b[43m]\u001b[49m\u001b[43m \u001b[49m\u001b[38;5;241;43m+\u001b[39;49m\u001b[43m \u001b[49m\u001b[38;5;28;43mself\u001b[39;49m\u001b[38;5;241;43m.\u001b[39;49m\u001b[43mmargin\u001b[49m\u001b[43m,\u001b[49m\u001b[43m \u001b[49m\u001b[43mguess_idx\u001b[49m\u001b[43m)\u001b[49m\n\u001b[1;32m     15\u001b[0m     ev_idx_init\u001b[38;5;241m.\u001b[39mappend(init_ts_idx)\n\u001b[1;32m     16\u001b[0m     guess_idx \u001b[38;5;241m=\u001b[39m init_ts_idx\n",
      "File \u001b[0;32m~/me/projects/tactile/src/imports/ExtractContactCases.py:630\u001b[0m, in \u001b[0;36mExtractContactCases.ev_ts2idx\u001b[0;34m(self, ts, guess_idx, init_stepsize)\u001b[0m\n\u001b[1;32m    627\u001b[0m search_sorted \u001b[38;5;241m=\u001b[39m \u001b[38;5;28;01mlambda\u001b[39;00m st: da\u001b[38;5;241m.\u001b[39msearchsorted(\u001b[38;5;28mself\u001b[39m\u001b[38;5;241m.\u001b[39mevents[guess_idx:guess_idx\u001b[38;5;241m+\u001b[39mst, \u001b[38;5;241m2\u001b[39m], da\u001b[38;5;241m.\u001b[39marray([ts]))\u001b[38;5;241m.\u001b[39mcompute()[\u001b[38;5;241m0\u001b[39m]\n\u001b[1;32m    628\u001b[0m n_iters \u001b[38;5;241m=\u001b[39m \u001b[38;5;241m0\u001b[39m\n\u001b[0;32m--> 630\u001b[0m out \u001b[38;5;241m=\u001b[39m \u001b[43msearch_sorted\u001b[49m\u001b[43m(\u001b[49m\u001b[43mstepsize\u001b[49m\u001b[43m)\u001b[49m\n\u001b[1;32m    632\u001b[0m \u001b[38;5;28;01mwhile\u001b[39;00m out \u001b[38;5;241m==\u001b[39m stepsize:\n\u001b[1;32m    633\u001b[0m     n_iters \u001b[38;5;241m+\u001b[39m\u001b[38;5;241m=\u001b[39m \u001b[38;5;241m1\u001b[39m\n",
      "File \u001b[0;32m~/me/projects/tactile/src/imports/ExtractContactCases.py:627\u001b[0m, in \u001b[0;36mExtractContactCases.ev_ts2idx.<locals>.<lambda>\u001b[0;34m(st)\u001b[0m\n\u001b[1;32m    625\u001b[0m \u001b[38;5;28;01mdef\u001b[39;00m \u001b[38;5;21mev_ts2idx\u001b[39m(\u001b[38;5;28mself\u001b[39m, ts, guess_idx, init_stepsize\u001b[38;5;241m=\u001b[39m\u001b[38;5;241m50000\u001b[39m):\n\u001b[1;32m    626\u001b[0m     stepsize \u001b[38;5;241m=\u001b[39m init_stepsize\n\u001b[0;32m--> 627\u001b[0m     search_sorted \u001b[38;5;241m=\u001b[39m \u001b[38;5;28;01mlambda\u001b[39;00m st: \u001b[43mda\u001b[49m\u001b[38;5;241;43m.\u001b[39;49m\u001b[43msearchsorted\u001b[49m\u001b[43m(\u001b[49m\u001b[38;5;28;43mself\u001b[39;49m\u001b[38;5;241;43m.\u001b[39;49m\u001b[43mevents\u001b[49m\u001b[43m[\u001b[49m\u001b[43mguess_idx\u001b[49m\u001b[43m:\u001b[49m\u001b[43mguess_idx\u001b[49m\u001b[38;5;241;43m+\u001b[39;49m\u001b[43mst\u001b[49m\u001b[43m,\u001b[49m\u001b[43m \u001b[49m\u001b[38;5;241;43m2\u001b[39;49m\u001b[43m]\u001b[49m\u001b[43m,\u001b[49m\u001b[43m \u001b[49m\u001b[43mda\u001b[49m\u001b[38;5;241;43m.\u001b[39;49m\u001b[43marray\u001b[49m\u001b[43m(\u001b[49m\u001b[43m[\u001b[49m\u001b[43mts\u001b[49m\u001b[43m]\u001b[49m\u001b[43m)\u001b[49m\u001b[43m)\u001b[49m\u001b[38;5;241m.\u001b[39mcompute()[\u001b[38;5;241m0\u001b[39m]\n\u001b[1;32m    628\u001b[0m     n_iters \u001b[38;5;241m=\u001b[39m \u001b[38;5;241m0\u001b[39m\n\u001b[1;32m    630\u001b[0m     out \u001b[38;5;241m=\u001b[39m search_sorted(stepsize)\n",
      "File \u001b[0;32m~/miniconda3/envs/tactile/lib/python3.8/site-packages/dask/array/routines.py:836\u001b[0m, in \u001b[0;36msearchsorted\u001b[0;34m(a, v, side, sorter)\u001b[0m\n\u001b[1;32m    834\u001b[0m a_chunk_offsets \u001b[38;5;241m=\u001b[39m a_chunk_offsets[(\u001b[38;5;28mEllipsis\u001b[39m,) \u001b[38;5;241m+\u001b[39m v\u001b[38;5;241m.\u001b[39mndim \u001b[38;5;241m*\u001b[39m (np\u001b[38;5;241m.\u001b[39mnewaxis,)]\n\u001b[1;32m    835\u001b[0m a_offsets \u001b[38;5;241m=\u001b[39m asarray(a_chunk_offsets, chunks\u001b[38;5;241m=\u001b[39m\u001b[38;5;241m1\u001b[39m)\n\u001b[0;32m--> 836\u001b[0m out \u001b[38;5;241m=\u001b[39m where(\u001b[43mout\u001b[49m\u001b[43m \u001b[49m\u001b[38;5;241;43m<\u001b[39;49m\u001b[43m \u001b[49m\u001b[38;5;241;43m0\u001b[39;49m, out, out \u001b[38;5;241m+\u001b[39m a_offsets)\n\u001b[1;32m    838\u001b[0m \u001b[38;5;66;03m# combine the results from each block (of a)\u001b[39;00m\n\u001b[1;32m    839\u001b[0m out \u001b[38;5;241m=\u001b[39m out\u001b[38;5;241m.\u001b[39mmax(axis\u001b[38;5;241m=\u001b[39m\u001b[38;5;241m0\u001b[39m)\n",
      "File \u001b[0;32m~/miniconda3/envs/tactile/lib/python3.8/site-packages/dask/array/core.py:220\u001b[0m, in \u001b[0;36mcheck_if_handled_given_other.<locals>.wrapper\u001b[0;34m(self, other)\u001b[0m\n\u001b[1;32m    218\u001b[0m     \u001b[38;5;28;01mreturn\u001b[39;00m \u001b[38;5;28mNotImplemented\u001b[39m\n\u001b[1;32m    219\u001b[0m \u001b[38;5;28;01melse\u001b[39;00m:\n\u001b[0;32m--> 220\u001b[0m     \u001b[38;5;28;01mreturn\u001b[39;00m \u001b[43mf\u001b[49m\u001b[43m(\u001b[49m\u001b[38;5;28;43mself\u001b[39;49m\u001b[43m,\u001b[49m\u001b[43m \u001b[49m\u001b[43mother\u001b[49m\u001b[43m)\u001b[49m\n",
      "File \u001b[0;32m~/miniconda3/envs/tactile/lib/python3.8/site-packages/dask/array/core.py:2267\u001b[0m, in \u001b[0;36mArray.__lt__\u001b[0;34m(self, other)\u001b[0m\n\u001b[1;32m   2265\u001b[0m \u001b[38;5;129m@check_if_handled_given_other\u001b[39m\n\u001b[1;32m   2266\u001b[0m \u001b[38;5;28;01mdef\u001b[39;00m \u001b[38;5;21m__lt__\u001b[39m(\u001b[38;5;28mself\u001b[39m, other):\n\u001b[0;32m-> 2267\u001b[0m     \u001b[38;5;28;01mreturn\u001b[39;00m \u001b[43melemwise\u001b[49m\u001b[43m(\u001b[49m\u001b[43moperator\u001b[49m\u001b[38;5;241;43m.\u001b[39;49m\u001b[43mlt\u001b[49m\u001b[43m,\u001b[49m\u001b[43m \u001b[49m\u001b[38;5;28;43mself\u001b[39;49m\u001b[43m,\u001b[49m\u001b[43m \u001b[49m\u001b[43mother\u001b[49m\u001b[43m)\u001b[49m\n",
      "File \u001b[0;32m~/miniconda3/envs/tactile/lib/python3.8/site-packages/dask/array/core.py:4700\u001b[0m, in \u001b[0;36melemwise\u001b[0;34m(op, out, where, dtype, name, *args, **kwargs)\u001b[0m\n\u001b[1;32m   4697\u001b[0m     blockwise_kwargs[\u001b[38;5;124m\"\u001b[39m\u001b[38;5;124menforce_dtype_function\u001b[39m\u001b[38;5;124m\"\u001b[39m] \u001b[38;5;241m=\u001b[39m op\n\u001b[1;32m   4698\u001b[0m     op \u001b[38;5;241m=\u001b[39m _enforce_dtype\n\u001b[0;32m-> 4700\u001b[0m result \u001b[38;5;241m=\u001b[39m \u001b[43mblockwise\u001b[49m\u001b[43m(\u001b[49m\n\u001b[1;32m   4701\u001b[0m \u001b[43m    \u001b[49m\u001b[43mop\u001b[49m\u001b[43m,\u001b[49m\n\u001b[1;32m   4702\u001b[0m \u001b[43m    \u001b[49m\u001b[43mexpr_inds\u001b[49m\u001b[43m,\u001b[49m\n\u001b[1;32m   4703\u001b[0m \u001b[43m    \u001b[49m\u001b[38;5;241;43m*\u001b[39;49m\u001b[43mconcat\u001b[49m\u001b[43m(\u001b[49m\n\u001b[1;32m   4704\u001b[0m \u001b[43m        \u001b[49m\u001b[43m(\u001b[49m\u001b[43ma\u001b[49m\u001b[43m,\u001b[49m\u001b[43m \u001b[49m\u001b[38;5;28;43mtuple\u001b[39;49m\u001b[43m(\u001b[49m\u001b[38;5;28;43mrange\u001b[39;49m\u001b[43m(\u001b[49m\u001b[43ma\u001b[49m\u001b[38;5;241;43m.\u001b[39;49m\u001b[43mndim\u001b[49m\u001b[43m)\u001b[49m\u001b[43m[\u001b[49m\u001b[43m:\u001b[49m\u001b[43m:\u001b[49m\u001b[38;5;241;43m-\u001b[39;49m\u001b[38;5;241;43m1\u001b[39;49m\u001b[43m]\u001b[49m\u001b[43m)\u001b[49m\u001b[43m \u001b[49m\u001b[38;5;28;43;01mif\u001b[39;49;00m\u001b[43m \u001b[49m\u001b[38;5;129;43;01mnot\u001b[39;49;00m\u001b[43m \u001b[49m\u001b[43mis_scalar_for_elemwise\u001b[49m\u001b[43m(\u001b[49m\u001b[43ma\u001b[49m\u001b[43m)\u001b[49m\u001b[43m \u001b[49m\u001b[38;5;28;43;01melse\u001b[39;49;00m\u001b[43m \u001b[49m\u001b[38;5;28;43;01mNone\u001b[39;49;00m\u001b[43m)\u001b[49m\n\u001b[1;32m   4705\u001b[0m \u001b[43m        \u001b[49m\u001b[38;5;28;43;01mfor\u001b[39;49;00m\u001b[43m \u001b[49m\u001b[43ma\u001b[49m\u001b[43m \u001b[49m\u001b[38;5;129;43;01min\u001b[39;49;00m\u001b[43m \u001b[49m\u001b[43margs\u001b[49m\n\u001b[1;32m   4706\u001b[0m \u001b[43m    \u001b[49m\u001b[43m)\u001b[49m\u001b[43m,\u001b[49m\n\u001b[1;32m   4707\u001b[0m \u001b[43m    \u001b[49m\u001b[38;5;241;43m*\u001b[39;49m\u001b[38;5;241;43m*\u001b[39;49m\u001b[43mblockwise_kwargs\u001b[49m\u001b[43m,\u001b[49m\n\u001b[1;32m   4708\u001b[0m \u001b[43m\u001b[49m\u001b[43m)\u001b[49m\n\u001b[1;32m   4710\u001b[0m \u001b[38;5;28;01mreturn\u001b[39;00m handle_out(out, result)\n",
      "File \u001b[0;32m~/miniconda3/envs/tactile/lib/python3.8/site-packages/dask/array/blockwise.py:283\u001b[0m, in \u001b[0;36mblockwise\u001b[0;34m(func, out_ind, name, token, dtype, adjust_chunks, new_axes, align_arrays, concatenate, meta, *args, **kwargs)\u001b[0m\n\u001b[1;32m    280\u001b[0m \u001b[38;5;28;01mif\u001b[39;00m meta \u001b[38;5;129;01mis\u001b[39;00m \u001b[38;5;28;01mNone\u001b[39;00m:\n\u001b[1;32m    281\u001b[0m     \u001b[38;5;28;01mfrom\u001b[39;00m \u001b[38;5;21;01mdask\u001b[39;00m\u001b[38;5;21;01m.\u001b[39;00m\u001b[38;5;21;01marray\u001b[39;00m\u001b[38;5;21;01m.\u001b[39;00m\u001b[38;5;21;01mutils\u001b[39;00m \u001b[38;5;28;01mimport\u001b[39;00m compute_meta\n\u001b[0;32m--> 283\u001b[0m     meta \u001b[38;5;241m=\u001b[39m \u001b[43mcompute_meta\u001b[49m\u001b[43m(\u001b[49m\u001b[43mfunc\u001b[49m\u001b[43m,\u001b[49m\u001b[43m \u001b[49m\u001b[43mdtype\u001b[49m\u001b[43m,\u001b[49m\u001b[43m \u001b[49m\u001b[38;5;241;43m*\u001b[39;49m\u001b[43margs\u001b[49m\u001b[43m[\u001b[49m\u001b[43m:\u001b[49m\u001b[43m:\u001b[49m\u001b[38;5;241;43m2\u001b[39;49m\u001b[43m]\u001b[49m\u001b[43m,\u001b[49m\u001b[43m \u001b[49m\u001b[38;5;241;43m*\u001b[39;49m\u001b[38;5;241;43m*\u001b[39;49m\u001b[43mkwargs\u001b[49m\u001b[43m)\u001b[49m\n\u001b[1;32m    284\u001b[0m \u001b[38;5;28;01mreturn\u001b[39;00m new_da_object(graph, out, chunks, meta\u001b[38;5;241m=\u001b[39mmeta, dtype\u001b[38;5;241m=\u001b[39mdtype)\n",
      "File \u001b[0;32m~/miniconda3/envs/tactile/lib/python3.8/site-packages/dask/array/utils.py:136\u001b[0m, in \u001b[0;36mcompute_meta\u001b[0;34m(func, _dtype, *args, **kwargs)\u001b[0m\n\u001b[1;32m    133\u001b[0m \u001b[38;5;28;01melse\u001b[39;00m:\n\u001b[1;32m    134\u001b[0m     \u001b[38;5;28;01mtry\u001b[39;00m:\n\u001b[1;32m    135\u001b[0m         \u001b[38;5;66;03m# some reduction functions need to know they are computing meta\u001b[39;00m\n\u001b[0;32m--> 136\u001b[0m         \u001b[38;5;28;01mif\u001b[39;00m \u001b[43mhas_keyword\u001b[49m\u001b[43m(\u001b[49m\u001b[43mfunc\u001b[49m\u001b[43m,\u001b[49m\u001b[43m \u001b[49m\u001b[38;5;124;43m\"\u001b[39;49m\u001b[38;5;124;43mcomputing_meta\u001b[39;49m\u001b[38;5;124;43m\"\u001b[39;49m\u001b[43m)\u001b[49m:\n\u001b[1;32m    137\u001b[0m             kwargs_meta[\u001b[38;5;124m\"\u001b[39m\u001b[38;5;124mcomputing_meta\u001b[39m\u001b[38;5;124m\"\u001b[39m] \u001b[38;5;241m=\u001b[39m \u001b[38;5;28;01mTrue\u001b[39;00m\n\u001b[1;32m    138\u001b[0m         meta \u001b[38;5;241m=\u001b[39m func(\u001b[38;5;241m*\u001b[39margs_meta, \u001b[38;5;241m*\u001b[39m\u001b[38;5;241m*\u001b[39mkwargs_meta)\n",
      "File \u001b[0;32m~/miniconda3/envs/tactile/lib/python3.8/site-packages/dask/utils.py:1729\u001b[0m, in \u001b[0;36mhas_keyword\u001b[0;34m(func, keyword)\u001b[0m\n\u001b[1;32m   1727\u001b[0m \u001b[38;5;28;01mdef\u001b[39;00m \u001b[38;5;21mhas_keyword\u001b[39m(func, keyword):\n\u001b[1;32m   1728\u001b[0m     \u001b[38;5;28;01mtry\u001b[39;00m:\n\u001b[0;32m-> 1729\u001b[0m         \u001b[38;5;28;01mreturn\u001b[39;00m keyword \u001b[38;5;129;01min\u001b[39;00m \u001b[43minspect\u001b[49m\u001b[38;5;241;43m.\u001b[39;49m\u001b[43msignature\u001b[49m\u001b[43m(\u001b[49m\u001b[43mfunc\u001b[49m\u001b[43m)\u001b[49m\u001b[38;5;241m.\u001b[39mparameters\n\u001b[1;32m   1730\u001b[0m     \u001b[38;5;28;01mexcept\u001b[39;00m \u001b[38;5;167;01mException\u001b[39;00m:\n\u001b[1;32m   1731\u001b[0m         \u001b[38;5;28;01mreturn\u001b[39;00m \u001b[38;5;28;01mFalse\u001b[39;00m\n",
      "File \u001b[0;32m~/miniconda3/envs/tactile/lib/python3.8/inspect.py:3105\u001b[0m, in \u001b[0;36msignature\u001b[0;34m(obj, follow_wrapped)\u001b[0m\n\u001b[1;32m   3103\u001b[0m \u001b[38;5;28;01mdef\u001b[39;00m \u001b[38;5;21msignature\u001b[39m(obj, \u001b[38;5;241m*\u001b[39m, follow_wrapped\u001b[38;5;241m=\u001b[39m\u001b[38;5;28;01mTrue\u001b[39;00m):\n\u001b[1;32m   3104\u001b[0m     \u001b[38;5;124;03m\"\"\"Get a signature object for the passed callable.\"\"\"\u001b[39;00m\n\u001b[0;32m-> 3105\u001b[0m     \u001b[38;5;28;01mreturn\u001b[39;00m \u001b[43mSignature\u001b[49m\u001b[38;5;241;43m.\u001b[39;49m\u001b[43mfrom_callable\u001b[49m\u001b[43m(\u001b[49m\u001b[43mobj\u001b[49m\u001b[43m,\u001b[49m\u001b[43m \u001b[49m\u001b[43mfollow_wrapped\u001b[49m\u001b[38;5;241;43m=\u001b[39;49m\u001b[43mfollow_wrapped\u001b[49m\u001b[43m)\u001b[49m\n",
      "File \u001b[0;32m~/miniconda3/envs/tactile/lib/python3.8/inspect.py:2854\u001b[0m, in \u001b[0;36mSignature.from_callable\u001b[0;34m(cls, obj, follow_wrapped)\u001b[0m\n\u001b[1;32m   2851\u001b[0m \u001b[38;5;129m@classmethod\u001b[39m\n\u001b[1;32m   2852\u001b[0m \u001b[38;5;28;01mdef\u001b[39;00m \u001b[38;5;21mfrom_callable\u001b[39m(\u001b[38;5;28mcls\u001b[39m, obj, \u001b[38;5;241m*\u001b[39m, follow_wrapped\u001b[38;5;241m=\u001b[39m\u001b[38;5;28;01mTrue\u001b[39;00m):\n\u001b[1;32m   2853\u001b[0m     \u001b[38;5;124;03m\"\"\"Constructs Signature for the given callable object.\"\"\"\u001b[39;00m\n\u001b[0;32m-> 2854\u001b[0m     \u001b[38;5;28;01mreturn\u001b[39;00m \u001b[43m_signature_from_callable\u001b[49m\u001b[43m(\u001b[49m\u001b[43mobj\u001b[49m\u001b[43m,\u001b[49m\u001b[43m \u001b[49m\u001b[43msigcls\u001b[49m\u001b[38;5;241;43m=\u001b[39;49m\u001b[38;5;28;43mcls\u001b[39;49m\u001b[43m,\u001b[49m\n\u001b[1;32m   2855\u001b[0m \u001b[43m                                    \u001b[49m\u001b[43mfollow_wrapper_chains\u001b[49m\u001b[38;5;241;43m=\u001b[39;49m\u001b[43mfollow_wrapped\u001b[49m\u001b[43m)\u001b[49m\n",
      "File \u001b[0;32m~/miniconda3/envs/tactile/lib/python3.8/inspect.py:2308\u001b[0m, in \u001b[0;36m_signature_from_callable\u001b[0;34m(obj, follow_wrapper_chains, skip_bound_arg, sigcls)\u001b[0m\n\u001b[1;32m   2304\u001b[0m     \u001b[38;5;28;01mreturn\u001b[39;00m _signature_from_function(sigcls, obj,\n\u001b[1;32m   2305\u001b[0m                                     skip_bound_arg\u001b[38;5;241m=\u001b[39mskip_bound_arg)\n\u001b[1;32m   2307\u001b[0m \u001b[38;5;28;01mif\u001b[39;00m _signature_is_builtin(obj):\n\u001b[0;32m-> 2308\u001b[0m     \u001b[38;5;28;01mreturn\u001b[39;00m \u001b[43m_signature_from_builtin\u001b[49m\u001b[43m(\u001b[49m\u001b[43msigcls\u001b[49m\u001b[43m,\u001b[49m\u001b[43m \u001b[49m\u001b[43mobj\u001b[49m\u001b[43m,\u001b[49m\n\u001b[1;32m   2309\u001b[0m \u001b[43m                                   \u001b[49m\u001b[43mskip_bound_arg\u001b[49m\u001b[38;5;241;43m=\u001b[39;49m\u001b[43mskip_bound_arg\u001b[49m\u001b[43m)\u001b[49m\n\u001b[1;32m   2311\u001b[0m \u001b[38;5;28;01mif\u001b[39;00m \u001b[38;5;28misinstance\u001b[39m(obj, functools\u001b[38;5;241m.\u001b[39mpartial):\n\u001b[1;32m   2312\u001b[0m     wrapped_sig \u001b[38;5;241m=\u001b[39m _signature_from_callable(\n\u001b[1;32m   2313\u001b[0m         obj\u001b[38;5;241m.\u001b[39mfunc,\n\u001b[1;32m   2314\u001b[0m         follow_wrapper_chains\u001b[38;5;241m=\u001b[39mfollow_wrapper_chains,\n\u001b[1;32m   2315\u001b[0m         skip_bound_arg\u001b[38;5;241m=\u001b[39mskip_bound_arg,\n\u001b[1;32m   2316\u001b[0m         sigcls\u001b[38;5;241m=\u001b[39msigcls)\n",
      "File \u001b[0;32m~/miniconda3/envs/tactile/lib/python3.8/inspect.py:2121\u001b[0m, in \u001b[0;36m_signature_from_builtin\u001b[0;34m(cls, func, skip_bound_arg)\u001b[0m\n\u001b[1;32m   2118\u001b[0m \u001b[38;5;28;01mif\u001b[39;00m \u001b[38;5;129;01mnot\u001b[39;00m s:\n\u001b[1;32m   2119\u001b[0m     \u001b[38;5;28;01mraise\u001b[39;00m \u001b[38;5;167;01mValueError\u001b[39;00m(\u001b[38;5;124m\"\u001b[39m\u001b[38;5;124mno signature found for builtin \u001b[39m\u001b[38;5;132;01m{!r}\u001b[39;00m\u001b[38;5;124m\"\u001b[39m\u001b[38;5;241m.\u001b[39mformat(func))\n\u001b[0;32m-> 2121\u001b[0m \u001b[38;5;28;01mreturn\u001b[39;00m \u001b[43m_signature_fromstr\u001b[49m\u001b[43m(\u001b[49m\u001b[38;5;28;43mcls\u001b[39;49m\u001b[43m,\u001b[49m\u001b[43m \u001b[49m\u001b[43mfunc\u001b[49m\u001b[43m,\u001b[49m\u001b[43m \u001b[49m\u001b[43ms\u001b[49m\u001b[43m,\u001b[49m\u001b[43m \u001b[49m\u001b[43mskip_bound_arg\u001b[49m\u001b[43m)\u001b[49m\n",
      "File \u001b[0;32m~/miniconda3/envs/tactile/lib/python3.8/inspect.py:1986\u001b[0m, in \u001b[0;36m_signature_fromstr\u001b[0;34m(cls, obj, s, skip_bound_arg)\u001b[0m\n\u001b[1;32m   1983\u001b[0m program \u001b[38;5;241m=\u001b[39m \u001b[38;5;124m\"\u001b[39m\u001b[38;5;124mdef foo\u001b[39m\u001b[38;5;124m\"\u001b[39m \u001b[38;5;241m+\u001b[39m clean_signature \u001b[38;5;241m+\u001b[39m \u001b[38;5;124m\"\u001b[39m\u001b[38;5;124m: pass\u001b[39m\u001b[38;5;124m\"\u001b[39m\n\u001b[1;32m   1985\u001b[0m \u001b[38;5;28;01mtry\u001b[39;00m:\n\u001b[0;32m-> 1986\u001b[0m     module \u001b[38;5;241m=\u001b[39m \u001b[43mast\u001b[49m\u001b[38;5;241;43m.\u001b[39;49m\u001b[43mparse\u001b[49m\u001b[43m(\u001b[49m\u001b[43mprogram\u001b[49m\u001b[43m)\u001b[49m\n\u001b[1;32m   1987\u001b[0m \u001b[38;5;28;01mexcept\u001b[39;00m \u001b[38;5;167;01mSyntaxError\u001b[39;00m:\n\u001b[1;32m   1988\u001b[0m     module \u001b[38;5;241m=\u001b[39m \u001b[38;5;28;01mNone\u001b[39;00m\n",
      "File \u001b[0;32m~/miniconda3/envs/tactile/lib/python3.8/ast.py:37\u001b[0m, in \u001b[0;36mparse\u001b[0;34m(source, filename, mode, type_comments, feature_version)\u001b[0m\n\u001b[1;32m     30\u001b[0m \u001b[38;5;28;01mdef\u001b[39;00m \u001b[38;5;21mparse\u001b[39m(source, filename\u001b[38;5;241m=\u001b[39m\u001b[38;5;124m'\u001b[39m\u001b[38;5;124m<unknown>\u001b[39m\u001b[38;5;124m'\u001b[39m, mode\u001b[38;5;241m=\u001b[39m\u001b[38;5;124m'\u001b[39m\u001b[38;5;124mexec\u001b[39m\u001b[38;5;124m'\u001b[39m, \u001b[38;5;241m*\u001b[39m,\n\u001b[1;32m     31\u001b[0m           type_comments\u001b[38;5;241m=\u001b[39m\u001b[38;5;28;01mFalse\u001b[39;00m, feature_version\u001b[38;5;241m=\u001b[39m\u001b[38;5;28;01mNone\u001b[39;00m):\n\u001b[1;32m     32\u001b[0m     \u001b[38;5;124;03m\"\"\"\u001b[39;00m\n\u001b[1;32m     33\u001b[0m \u001b[38;5;124;03m    Parse the source into an AST node.\u001b[39;00m\n\u001b[1;32m     34\u001b[0m \u001b[38;5;124;03m    Equivalent to compile(source, filename, mode, PyCF_ONLY_AST).\u001b[39;00m\n\u001b[1;32m     35\u001b[0m \u001b[38;5;124;03m    Pass type_comments=True to get back type comments where the syntax allows.\u001b[39;00m\n\u001b[1;32m     36\u001b[0m \u001b[38;5;124;03m    \"\"\"\u001b[39;00m\n\u001b[0;32m---> 37\u001b[0m     flags \u001b[38;5;241m=\u001b[39m \u001b[43mPyCF_ONLY_AST\u001b[49m\n\u001b[1;32m     38\u001b[0m     \u001b[38;5;28;01mif\u001b[39;00m type_comments:\n\u001b[1;32m     39\u001b[0m         flags \u001b[38;5;241m|\u001b[39m\u001b[38;5;241m=\u001b[39m PyCF_TYPE_COMMENTS\n",
      "\u001b[0;31mKeyboardInterrupt\u001b[0m: "
     ]
    }
   ],
   "source": [
    "from tqdm.auto import tqdm\n",
    "import numpy as np\n",
    "\n",
    "self=ex\n",
    "\n",
    "dist_from_center = lambda x, y: np.sqrt((x - self.center[0])**2 + (y - self.center[1])**2)\n",
    "event_arrays = []\n",
    "ev_idx_init = []\n",
    "label_contact_case = []\n",
    "\n",
    "guess_idx = 0\n",
    "dropped_cases = 0\n",
    "for i, idx in enumerate(tqdm(self.cases_idx, desc='extracting event arrays')):\n",
    "    init_ts_idx = self.ev_ts2idx(self.cases_ts[i][0] + self.margin, guess_idx)\n",
    "    ev_idx_init.append(init_ts_idx)\n",
    "    guess_idx = init_ts_idx\n",
    "    fin_ts_idx = self.ev_ts2idx(self.cases_ts[i][0] + self.delta_t, guess_idx)#da.searchsorted(events[:, 2], da.array([cases_ts[i][0] + delta_t]))\n",
    "    guess_idx = fin_ts_idx\n",
    "    if fin_ts_idx - init_ts_idx + 1 < self.min_n_events:\n",
    "        dropped_cases += 1\n",
    "        continue    \n",
    "    else:\n",
    "        event_array = self.events[init_ts_idx:fin_ts_idx+1].compute()\n",
    "        in_circle = dist_from_center(event_array[:, 0], event_array[:, 1]) < self.circle_rad  \n",
    "        event_array = event_array[in_circle, :][:self.n_init_events]\n",
    "        idx_downsample = np.random.choice([0, 1], event_array.shape[0], p=np.array([self.down_sample-1, 1]) / self.down_sample).astype(bool)\n",
    "        print(idx_downsample, np.unique(event_array[idx_downsample, :]).shape)\n",
    "        event_arrays.append(event_array[idx_downsample])\n",
    "        label_contact_case.append(self.cases[i])\n",
    "\n"
   ]
  },
  {
   "cell_type": "code",
   "execution_count": 22,
   "id": "4ab9e956-6335-4fd0-9b78-187d39dc9855",
   "metadata": {},
   "outputs": [
    {
     "name": "stdout",
     "output_type": "stream",
     "text": [
      "torch.Size([9262])\n",
      "torch.Size([4847])\n",
      "torch.Size([5728])\n",
      "torch.Size([10110])\n",
      "torch.Size([8882])\n",
      "torch.Size([6254])\n",
      "torch.Size([2121])\n",
      "torch.Size([11757])\n",
      "torch.Size([11657])\n",
      "torch.Size([10514])\n",
      "torch.Size([3815])\n",
      "torch.Size([6064])\n",
      "torch.Size([1894])\n",
      "torch.Size([8492])\n",
      "torch.Size([8898])\n",
      "torch.Size([14306])\n",
      "torch.Size([3049])\n",
      "torch.Size([5921])\n",
      "torch.Size([7209])\n",
      "torch.Size([9532])\n",
      "torch.Size([8740])\n",
      "torch.Size([7826])\n",
      "torch.Size([9876])\n",
      "torch.Size([6115])\n",
      "torch.Size([11246])\n",
      "torch.Size([3991])\n",
      "torch.Size([6810])\n",
      "torch.Size([6059])\n",
      "torch.Size([10021])\n",
      "torch.Size([10055])\n",
      "torch.Size([10891])\n",
      "torch.Size([7386])\n",
      "torch.Size([7364])\n",
      "torch.Size([6648])\n",
      "torch.Size([3377])\n",
      "torch.Size([13992])\n",
      "torch.Size([5854])\n",
      "torch.Size([8115])\n",
      "torch.Size([2604])\n",
      "torch.Size([5261])\n",
      "torch.Size([3930])\n",
      "torch.Size([9422])\n",
      "torch.Size([3358])\n",
      "torch.Size([4790])\n",
      "torch.Size([4492])\n",
      "torch.Size([3292])\n",
      "torch.Size([1855])\n",
      "torch.Size([4385])\n",
      "torch.Size([4483])\n",
      "torch.Size([9353])\n",
      "torch.Size([5585])\n",
      "torch.Size([4274])\n",
      "torch.Size([2215])\n",
      "torch.Size([5628])\n",
      "torch.Size([8728])\n",
      "torch.Size([7176])\n",
      "torch.Size([4554])\n",
      "torch.Size([7374])\n",
      "torch.Size([11427])\n",
      "torch.Size([3528])\n",
      "torch.Size([5658])\n",
      "torch.Size([3405])\n",
      "torch.Size([3851])\n",
      "torch.Size([6627])\n",
      "torch.Size([9296])\n",
      "torch.Size([5465])\n",
      "torch.Size([3945])\n",
      "torch.Size([8491])\n",
      "torch.Size([2325])\n",
      "torch.Size([6112])\n",
      "torch.Size([4375])\n",
      "torch.Size([4922])\n",
      "torch.Size([10457])\n",
      "torch.Size([5979])\n",
      "torch.Size([6517])\n",
      "torch.Size([6225])\n",
      "torch.Size([7856])\n",
      "torch.Size([5394])\n",
      "torch.Size([8381])\n",
      "torch.Size([5456])\n",
      "torch.Size([8003])\n",
      "torch.Size([1826])\n",
      "torch.Size([6558])\n",
      "torch.Size([7255])\n",
      "torch.Size([5097])\n",
      "torch.Size([6761])\n",
      "torch.Size([6989])\n",
      "torch.Size([6889])\n",
      "torch.Size([5767])\n",
      "torch.Size([4092])\n",
      "torch.Size([8422])\n",
      "torch.Size([5120])\n",
      "torch.Size([3470])\n",
      "torch.Size([2506])\n",
      "torch.Size([5080])\n",
      "torch.Size([9229])\n",
      "torch.Size([8300])\n",
      "torch.Size([7651])\n",
      "torch.Size([2515])\n",
      "torch.Size([3821])\n",
      "torch.Size([8148])\n",
      "torch.Size([3884])\n",
      "torch.Size([6634])\n",
      "torch.Size([3859])\n",
      "torch.Size([7356])\n",
      "torch.Size([8076])\n",
      "torch.Size([6681])\n",
      "torch.Size([3483])\n",
      "torch.Size([3585])\n",
      "torch.Size([4059])\n",
      "torch.Size([5750])\n",
      "torch.Size([6530])\n",
      "torch.Size([2126])\n",
      "torch.Size([5802])\n",
      "torch.Size([1683])\n",
      "torch.Size([5320])\n",
      "torch.Size([3240])\n",
      "torch.Size([8101])\n",
      "torch.Size([5705])\n",
      "torch.Size([6508])\n",
      "torch.Size([8144])\n",
      "torch.Size([8722])\n",
      "torch.Size([10604])\n",
      "torch.Size([7769])\n",
      "torch.Size([2841])\n",
      "torch.Size([4759])\n",
      "torch.Size([13398])\n",
      "torch.Size([7085])\n",
      "torch.Size([6501])\n",
      "torch.Size([5393])\n",
      "torch.Size([2860])\n",
      "torch.Size([9680])\n",
      "torch.Size([2034])\n",
      "torch.Size([3192])\n",
      "torch.Size([10214])\n",
      "torch.Size([10711])\n",
      "torch.Size([5093])\n",
      "torch.Size([4211])\n",
      "torch.Size([10229])\n",
      "torch.Size([10170])\n",
      "torch.Size([3414])\n",
      "torch.Size([7462])\n",
      "torch.Size([9084])\n",
      "torch.Size([6298])\n",
      "torch.Size([6310])\n",
      "torch.Size([4706])\n",
      "torch.Size([2166])\n",
      "torch.Size([2025])\n",
      "torch.Size([12856])\n",
      "torch.Size([8399])\n",
      "torch.Size([1944])\n",
      "torch.Size([1850])\n",
      "torch.Size([8712])\n",
      "torch.Size([7509])\n",
      "torch.Size([10214])\n",
      "torch.Size([12321])\n",
      "torch.Size([6285])\n",
      "torch.Size([7104])\n",
      "torch.Size([13216])\n",
      "torch.Size([6788])\n",
      "torch.Size([5454])\n",
      "torch.Size([10134])\n",
      "torch.Size([4579])\n",
      "torch.Size([10939])\n",
      "torch.Size([5715])\n",
      "torch.Size([5950])\n",
      "torch.Size([7257])\n",
      "torch.Size([5980])\n",
      "torch.Size([1919])\n",
      "torch.Size([6113])\n",
      "torch.Size([6452])\n",
      "torch.Size([3867])\n",
      "torch.Size([8412])\n",
      "torch.Size([5394])\n",
      "torch.Size([7570])\n",
      "torch.Size([6572])\n",
      "torch.Size([7785])\n",
      "torch.Size([4577])\n",
      "torch.Size([8248])\n",
      "torch.Size([13899])\n",
      "torch.Size([13463])\n",
      "torch.Size([10746])\n",
      "torch.Size([11203])\n",
      "torch.Size([3693])\n",
      "torch.Size([6745])\n",
      "torch.Size([4636])\n",
      "torch.Size([5779])\n",
      "torch.Size([5904])\n",
      "torch.Size([5673])\n",
      "torch.Size([6796])\n",
      "torch.Size([7640])\n",
      "torch.Size([15121])\n",
      "torch.Size([4105])\n",
      "torch.Size([7303])\n",
      "torch.Size([8052])\n",
      "torch.Size([8755])\n",
      "torch.Size([2367])\n",
      "torch.Size([7881])\n",
      "torch.Size([8403])\n",
      "torch.Size([6012])\n",
      "torch.Size([3921])\n",
      "torch.Size([9012])\n",
      "torch.Size([8467])\n",
      "torch.Size([4181])\n",
      "torch.Size([3441])\n",
      "torch.Size([6804])\n",
      "torch.Size([7693])\n",
      "torch.Size([3611])\n",
      "torch.Size([2169])\n",
      "torch.Size([7403])\n",
      "torch.Size([10455])\n",
      "torch.Size([4194])\n",
      "torch.Size([4168])\n",
      "torch.Size([11182])\n",
      "torch.Size([9474])\n",
      "torch.Size([11635])\n",
      "torch.Size([5700])\n",
      "torch.Size([4698])\n",
      "torch.Size([5041])\n",
      "torch.Size([6494])\n",
      "torch.Size([4864])\n",
      "torch.Size([9971])\n",
      "torch.Size([7972])\n",
      "torch.Size([9691])\n",
      "torch.Size([1965])\n",
      "torch.Size([3830])\n",
      "torch.Size([7576])\n",
      "torch.Size([4856])\n",
      "torch.Size([5464])\n",
      "torch.Size([4138])\n",
      "torch.Size([6382])\n",
      "torch.Size([5521])\n",
      "torch.Size([2338])\n",
      "torch.Size([4277])\n",
      "torch.Size([5493])\n",
      "torch.Size([2300])\n",
      "torch.Size([14583])\n",
      "torch.Size([3737])\n",
      "torch.Size([6024])\n",
      "torch.Size([2742])\n",
      "torch.Size([11959])\n",
      "torch.Size([8955])\n",
      "torch.Size([7856])\n",
      "torch.Size([12418])\n",
      "torch.Size([8052])\n",
      "torch.Size([11310])\n",
      "torch.Size([11729])\n",
      "torch.Size([4698])\n",
      "torch.Size([5833])\n",
      "torch.Size([6448])\n",
      "torch.Size([4720])\n",
      "torch.Size([5687])\n",
      "torch.Size([8235])\n",
      "torch.Size([5871])\n",
      "torch.Size([2917])\n",
      "torch.Size([4778])\n",
      "torch.Size([7298])\n",
      "torch.Size([4002])\n",
      "torch.Size([9689])\n",
      "torch.Size([1780])\n",
      "torch.Size([10541])\n",
      "torch.Size([5089])\n",
      "torch.Size([5526])\n",
      "torch.Size([3894])\n",
      "torch.Size([4417])\n",
      "torch.Size([1902])\n",
      "torch.Size([7838])\n",
      "torch.Size([9099])\n",
      "torch.Size([6507])\n",
      "torch.Size([5343])\n",
      "torch.Size([13235])\n",
      "torch.Size([2705])\n",
      "torch.Size([10302])\n",
      "torch.Size([12711])\n",
      "torch.Size([10130])\n",
      "torch.Size([3722])\n",
      "torch.Size([11211])\n",
      "torch.Size([6162])\n",
      "torch.Size([3308])\n",
      "torch.Size([7621])\n",
      "torch.Size([8599])\n",
      "torch.Size([3560])\n",
      "torch.Size([7009])\n",
      "torch.Size([1774])\n",
      "torch.Size([9664])\n",
      "torch.Size([10590])\n",
      "torch.Size([5025])\n",
      "torch.Size([2721])\n",
      "torch.Size([4708])\n",
      "torch.Size([7338])\n",
      "torch.Size([5870])\n",
      "torch.Size([4437])\n",
      "torch.Size([5498])\n",
      "torch.Size([3201])\n",
      "torch.Size([2408])\n",
      "torch.Size([1865])\n",
      "torch.Size([3712])\n",
      "torch.Size([4129])\n",
      "torch.Size([4300])\n",
      "torch.Size([9329])\n",
      "torch.Size([5076])\n",
      "torch.Size([2722])\n",
      "torch.Size([5450])\n",
      "torch.Size([5916])\n",
      "torch.Size([11911])\n",
      "torch.Size([4825])\n",
      "torch.Size([3528])\n",
      "torch.Size([3318])\n",
      "torch.Size([7802])\n",
      "torch.Size([5835])\n",
      "torch.Size([6080])\n",
      "torch.Size([2295])\n",
      "torch.Size([4520])\n",
      "torch.Size([3383])\n",
      "torch.Size([12851])\n",
      "torch.Size([12097])\n",
      "torch.Size([9006])\n",
      "torch.Size([9144])\n",
      "torch.Size([3186])\n",
      "torch.Size([2332])\n",
      "torch.Size([7008])\n",
      "torch.Size([7768])\n",
      "torch.Size([3926])\n",
      "torch.Size([4349])\n",
      "torch.Size([5387])\n",
      "torch.Size([6501])\n",
      "torch.Size([7052])\n",
      "torch.Size([4334])\n",
      "torch.Size([2314])\n",
      "torch.Size([8151])\n",
      "torch.Size([8742])\n",
      "torch.Size([5127])\n",
      "torch.Size([6650])\n",
      "torch.Size([5218])\n",
      "torch.Size([4030])\n",
      "torch.Size([4732])\n",
      "torch.Size([2613])\n",
      "torch.Size([10831])\n",
      "torch.Size([4607])\n",
      "torch.Size([4005])\n",
      "torch.Size([5255])\n",
      "torch.Size([9841])\n",
      "torch.Size([4143])\n",
      "torch.Size([7767])\n",
      "torch.Size([7561])\n",
      "torch.Size([8647])\n",
      "torch.Size([4276])\n",
      "torch.Size([8071])\n",
      "torch.Size([7073])\n",
      "torch.Size([3198])\n",
      "torch.Size([6416])\n",
      "torch.Size([8581])\n",
      "torch.Size([10191])\n",
      "torch.Size([4998])\n",
      "torch.Size([7985])\n",
      "torch.Size([5409])\n",
      "torch.Size([6625])\n",
      "torch.Size([5968])\n",
      "torch.Size([8679])\n",
      "torch.Size([5038])\n",
      "torch.Size([4052])\n",
      "torch.Size([6409])\n",
      "torch.Size([5289])\n",
      "torch.Size([10038])\n",
      "torch.Size([2446])\n",
      "torch.Size([6750])\n",
      "torch.Size([5903])\n",
      "torch.Size([7943])\n",
      "torch.Size([6298])\n",
      "torch.Size([6229])\n",
      "torch.Size([7801])\n",
      "torch.Size([6022])\n",
      "torch.Size([7370])\n",
      "torch.Size([3556])\n",
      "torch.Size([7309])\n",
      "torch.Size([9461])\n",
      "torch.Size([4324])\n",
      "torch.Size([7272])\n",
      "torch.Size([2261])\n",
      "torch.Size([4437])\n",
      "torch.Size([2497])\n",
      "torch.Size([6346])\n",
      "torch.Size([9556])\n",
      "torch.Size([4784])\n",
      "torch.Size([5356])\n",
      "torch.Size([7480])\n",
      "torch.Size([5086])\n",
      "torch.Size([5533])\n",
      "torch.Size([9091])\n",
      "torch.Size([8141])\n",
      "torch.Size([1915])\n",
      "torch.Size([6507])\n",
      "torch.Size([13172])\n",
      "torch.Size([7934])\n",
      "torch.Size([2513])\n",
      "torch.Size([3685])\n",
      "torch.Size([9402])\n",
      "torch.Size([5071])\n",
      "torch.Size([6684])\n",
      "torch.Size([6190])\n"
     ]
    },
    {
     "ename": "KeyboardInterrupt",
     "evalue": "",
     "output_type": "error",
     "traceback": [
      "\u001b[0;31m---------------------------------------------------------------------------\u001b[0m",
      "\u001b[0;31mKeyboardInterrupt\u001b[0m                         Traceback (most recent call last)",
      "Cell \u001b[0;32mIn[22], line 4\u001b[0m\n\u001b[1;32m      2\u001b[0m bad \u001b[38;5;241m=\u001b[39m []\n\u001b[1;32m      3\u001b[0m \u001b[38;5;28;01mfor\u001b[39;00m i \u001b[38;5;129;01min\u001b[39;00m \u001b[38;5;28mrange\u001b[39m(\u001b[38;5;28mlen\u001b[39m(tm\u001b[38;5;241m.\u001b[39mtrain_data)):\n\u001b[0;32m----> 4\u001b[0m     \u001b[38;5;28mprint\u001b[39m(torch\u001b[38;5;241m.\u001b[39munique(\u001b[43mtm\u001b[49m\u001b[38;5;241;43m.\u001b[39;49m\u001b[43mtrain_data\u001b[49m\u001b[43m[\u001b[49m\u001b[43mi\u001b[49m\u001b[43m]\u001b[49m\u001b[38;5;241m.\u001b[39mpos)\u001b[38;5;241m.\u001b[39mshape)\n\u001b[1;32m      5\u001b[0m     \u001b[38;5;28;01mif\u001b[39;00m torch\u001b[38;5;241m.\u001b[39many(torch\u001b[38;5;241m.\u001b[39misnan(tm\u001b[38;5;241m.\u001b[39mtrain_data[i]\u001b[38;5;241m.\u001b[39mpos)):\n\u001b[1;32m      6\u001b[0m         bad\u001b[38;5;241m.\u001b[39mappend(i)\n",
      "File \u001b[0;32m~/miniconda3/envs/tactile/lib/python3.8/site-packages/torch_geometric/data/dataset.py:197\u001b[0m, in \u001b[0;36mDataset.__getitem__\u001b[0;34m(self, idx)\u001b[0m\n\u001b[1;32m    187\u001b[0m \u001b[38;5;124mr\u001b[39m\u001b[38;5;124;03m\"\"\"In case :obj:`idx` is of type integer, will return the data object\u001b[39;00m\n\u001b[1;32m    188\u001b[0m \u001b[38;5;124;03mat index :obj:`idx` (and transforms it in case :obj:`transform` is\u001b[39;00m\n\u001b[1;32m    189\u001b[0m \u001b[38;5;124;03mpresent).\u001b[39;00m\n\u001b[1;32m    190\u001b[0m \u001b[38;5;124;03mIn case :obj:`idx` is a slicing object, *e.g.*, :obj:`[2:5]`, a list, a\u001b[39;00m\n\u001b[1;32m    191\u001b[0m \u001b[38;5;124;03mtuple, or a :obj:`torch.Tensor` or :obj:`np.ndarray` of type long or\u001b[39;00m\n\u001b[1;32m    192\u001b[0m \u001b[38;5;124;03mbool, will return a subset of the dataset at the specified indices.\"\"\"\u001b[39;00m\n\u001b[1;32m    193\u001b[0m \u001b[38;5;28;01mif\u001b[39;00m (\u001b[38;5;28misinstance\u001b[39m(idx, (\u001b[38;5;28mint\u001b[39m, np\u001b[38;5;241m.\u001b[39minteger))\n\u001b[1;32m    194\u001b[0m         \u001b[38;5;129;01mor\u001b[39;00m (\u001b[38;5;28misinstance\u001b[39m(idx, Tensor) \u001b[38;5;129;01mand\u001b[39;00m idx\u001b[38;5;241m.\u001b[39mdim() \u001b[38;5;241m==\u001b[39m \u001b[38;5;241m0\u001b[39m)\n\u001b[1;32m    195\u001b[0m         \u001b[38;5;129;01mor\u001b[39;00m (\u001b[38;5;28misinstance\u001b[39m(idx, np\u001b[38;5;241m.\u001b[39mndarray) \u001b[38;5;129;01mand\u001b[39;00m np\u001b[38;5;241m.\u001b[39misscalar(idx))):\n\u001b[0;32m--> 197\u001b[0m     data \u001b[38;5;241m=\u001b[39m \u001b[38;5;28;43mself\u001b[39;49m\u001b[38;5;241;43m.\u001b[39;49m\u001b[43mget\u001b[49m\u001b[43m(\u001b[49m\u001b[38;5;28;43mself\u001b[39;49m\u001b[38;5;241;43m.\u001b[39;49m\u001b[43mindices\u001b[49m\u001b[43m(\u001b[49m\u001b[43m)\u001b[49m\u001b[43m[\u001b[49m\u001b[43midx\u001b[49m\u001b[43m]\u001b[49m\u001b[43m)\u001b[49m\n\u001b[1;32m    198\u001b[0m     data \u001b[38;5;241m=\u001b[39m data \u001b[38;5;28;01mif\u001b[39;00m \u001b[38;5;28mself\u001b[39m\u001b[38;5;241m.\u001b[39mtransform \u001b[38;5;129;01mis\u001b[39;00m \u001b[38;5;28;01mNone\u001b[39;00m \u001b[38;5;28;01melse\u001b[39;00m \u001b[38;5;28mself\u001b[39m\u001b[38;5;241m.\u001b[39mtransform(data)\n\u001b[1;32m    199\u001b[0m     \u001b[38;5;28;01mreturn\u001b[39;00m data\n",
      "File \u001b[0;32m~/me/projects/tactile/src/imports/TactileDataset.py:249\u001b[0m, in \u001b[0;36mTactileDataset.get\u001b[0;34m(self, idx)\u001b[0m\n\u001b[1;32m    246\u001b[0m \u001b[38;5;28;01mdef\u001b[39;00m \u001b[38;5;21mget\u001b[39m(\u001b[38;5;28mself\u001b[39m, idx):\n\u001b[1;32m    247\u001b[0m     \u001b[38;5;66;03m# print(\"I'm in get \", self.processed_dir)\u001b[39;00m\n\u001b[0;32m--> 249\u001b[0m     data \u001b[38;5;241m=\u001b[39m \u001b[43mtorch\u001b[49m\u001b[38;5;241;43m.\u001b[39;49m\u001b[43mload\u001b[49m\u001b[43m(\u001b[49m\u001b[38;5;28;43mself\u001b[39;49m\u001b[38;5;241;43m.\u001b[39;49m\u001b[43mroot\u001b[49m\u001b[43m \u001b[49m\u001b[38;5;241;43m/\u001b[39;49m\u001b[43m \u001b[49m\u001b[38;5;124;43m'\u001b[39;49m\u001b[38;5;124;43mprocessed\u001b[39;49m\u001b[38;5;124;43m'\u001b[39;49m\u001b[43m \u001b[49m\u001b[38;5;241;43m/\u001b[39;49m\u001b[43m \u001b[49m\u001b[38;5;124;43mf\u001b[39;49m\u001b[38;5;124;43m'\u001b[39;49m\u001b[38;5;124;43msample_\u001b[39;49m\u001b[38;5;132;43;01m{\u001b[39;49;00m\u001b[43midx\u001b[49m\u001b[38;5;241;43m+\u001b[39;49m\u001b[38;5;241;43m1\u001b[39;49m\u001b[38;5;132;43;01m}\u001b[39;49;00m\u001b[38;5;124;43m.pt\u001b[39;49m\u001b[38;5;124;43m'\u001b[39;49m\u001b[43m)\u001b[49m\n\u001b[1;32m    250\u001b[0m     \u001b[38;5;28;01mreturn\u001b[39;00m data\n",
      "File \u001b[0;32m~/miniconda3/envs/tactile/lib/python3.8/site-packages/torch/serialization.py:712\u001b[0m, in \u001b[0;36mload\u001b[0;34m(f, map_location, pickle_module, **pickle_load_args)\u001b[0m\n\u001b[1;32m    710\u001b[0m             opened_file\u001b[38;5;241m.\u001b[39mseek(orig_position)\n\u001b[1;32m    711\u001b[0m             \u001b[38;5;28;01mreturn\u001b[39;00m torch\u001b[38;5;241m.\u001b[39mjit\u001b[38;5;241m.\u001b[39mload(opened_file)\n\u001b[0;32m--> 712\u001b[0m         \u001b[38;5;28;01mreturn\u001b[39;00m \u001b[43m_load\u001b[49m\u001b[43m(\u001b[49m\u001b[43mopened_zipfile\u001b[49m\u001b[43m,\u001b[49m\u001b[43m \u001b[49m\u001b[43mmap_location\u001b[49m\u001b[43m,\u001b[49m\u001b[43m \u001b[49m\u001b[43mpickle_module\u001b[49m\u001b[43m,\u001b[49m\u001b[43m \u001b[49m\u001b[38;5;241;43m*\u001b[39;49m\u001b[38;5;241;43m*\u001b[39;49m\u001b[43mpickle_load_args\u001b[49m\u001b[43m)\u001b[49m\n\u001b[1;32m    713\u001b[0m \u001b[38;5;28;01mreturn\u001b[39;00m _legacy_load(opened_file, map_location, pickle_module, \u001b[38;5;241m*\u001b[39m\u001b[38;5;241m*\u001b[39mpickle_load_args)\n",
      "File \u001b[0;32m~/miniconda3/envs/tactile/lib/python3.8/site-packages/torch/serialization.py:1049\u001b[0m, in \u001b[0;36m_load\u001b[0;34m(zip_file, map_location, pickle_module, pickle_file, **pickle_load_args)\u001b[0m\n\u001b[1;32m   1047\u001b[0m unpickler \u001b[38;5;241m=\u001b[39m UnpicklerWrapper(data_file, \u001b[38;5;241m*\u001b[39m\u001b[38;5;241m*\u001b[39mpickle_load_args)\n\u001b[1;32m   1048\u001b[0m unpickler\u001b[38;5;241m.\u001b[39mpersistent_load \u001b[38;5;241m=\u001b[39m persistent_load\n\u001b[0;32m-> 1049\u001b[0m result \u001b[38;5;241m=\u001b[39m \u001b[43munpickler\u001b[49m\u001b[38;5;241;43m.\u001b[39;49m\u001b[43mload\u001b[49m\u001b[43m(\u001b[49m\u001b[43m)\u001b[49m\n\u001b[1;32m   1051\u001b[0m torch\u001b[38;5;241m.\u001b[39m_utils\u001b[38;5;241m.\u001b[39m_validate_loaded_sparse_tensors()\n\u001b[1;32m   1053\u001b[0m \u001b[38;5;28;01mreturn\u001b[39;00m result\n",
      "File \u001b[0;32m~/miniconda3/envs/tactile/lib/python3.8/pickle.py:1212\u001b[0m, in \u001b[0;36m_Unpickler.load\u001b[0;34m(self)\u001b[0m\n\u001b[1;32m   1210\u001b[0m             \u001b[38;5;28;01mraise\u001b[39;00m \u001b[38;5;167;01mEOFError\u001b[39;00m\n\u001b[1;32m   1211\u001b[0m         \u001b[38;5;28;01massert\u001b[39;00m \u001b[38;5;28misinstance\u001b[39m(key, bytes_types)\n\u001b[0;32m-> 1212\u001b[0m         \u001b[43mdispatch\u001b[49m\u001b[43m[\u001b[49m\u001b[43mkey\u001b[49m\u001b[43m[\u001b[49m\u001b[38;5;241;43m0\u001b[39;49m\u001b[43m]\u001b[49m\u001b[43m]\u001b[49m\u001b[43m(\u001b[49m\u001b[38;5;28;43mself\u001b[39;49m\u001b[43m)\u001b[49m\n\u001b[1;32m   1213\u001b[0m \u001b[38;5;28;01mexcept\u001b[39;00m _Stop \u001b[38;5;28;01mas\u001b[39;00m stopinst:\n\u001b[1;32m   1214\u001b[0m     \u001b[38;5;28;01mreturn\u001b[39;00m stopinst\u001b[38;5;241m.\u001b[39mvalue\n",
      "File \u001b[0;32m~/miniconda3/envs/tactile/lib/python3.8/pickle.py:1253\u001b[0m, in \u001b[0;36m_Unpickler.load_binpersid\u001b[0;34m(self)\u001b[0m\n\u001b[1;32m   1251\u001b[0m \u001b[38;5;28;01mdef\u001b[39;00m \u001b[38;5;21mload_binpersid\u001b[39m(\u001b[38;5;28mself\u001b[39m):\n\u001b[1;32m   1252\u001b[0m     pid \u001b[38;5;241m=\u001b[39m \u001b[38;5;28mself\u001b[39m\u001b[38;5;241m.\u001b[39mstack\u001b[38;5;241m.\u001b[39mpop()\n\u001b[0;32m-> 1253\u001b[0m     \u001b[38;5;28mself\u001b[39m\u001b[38;5;241m.\u001b[39mappend(\u001b[38;5;28;43mself\u001b[39;49m\u001b[38;5;241;43m.\u001b[39;49m\u001b[43mpersistent_load\u001b[49m\u001b[43m(\u001b[49m\u001b[43mpid\u001b[49m\u001b[43m)\u001b[49m)\n",
      "File \u001b[0;32m~/miniconda3/envs/tactile/lib/python3.8/site-packages/torch/serialization.py:1019\u001b[0m, in \u001b[0;36m_load.<locals>.persistent_load\u001b[0;34m(saved_id)\u001b[0m\n\u001b[1;32m   1017\u001b[0m \u001b[38;5;28;01mif\u001b[39;00m key \u001b[38;5;129;01mnot\u001b[39;00m \u001b[38;5;129;01min\u001b[39;00m loaded_storages:\n\u001b[1;32m   1018\u001b[0m     nbytes \u001b[38;5;241m=\u001b[39m numel \u001b[38;5;241m*\u001b[39m torch\u001b[38;5;241m.\u001b[39m_utils\u001b[38;5;241m.\u001b[39m_element_size(dtype)\n\u001b[0;32m-> 1019\u001b[0m     \u001b[43mload_tensor\u001b[49m\u001b[43m(\u001b[49m\u001b[43mdtype\u001b[49m\u001b[43m,\u001b[49m\u001b[43m \u001b[49m\u001b[43mnbytes\u001b[49m\u001b[43m,\u001b[49m\u001b[43m \u001b[49m\u001b[43mkey\u001b[49m\u001b[43m,\u001b[49m\u001b[43m \u001b[49m\u001b[43m_maybe_decode_ascii\u001b[49m\u001b[43m(\u001b[49m\u001b[43mlocation\u001b[49m\u001b[43m)\u001b[49m\u001b[43m)\u001b[49m\n\u001b[1;32m   1021\u001b[0m \u001b[38;5;28;01mreturn\u001b[39;00m loaded_storages[key]\n",
      "File \u001b[0;32m~/miniconda3/envs/tactile/lib/python3.8/site-packages/torch/serialization.py:997\u001b[0m, in \u001b[0;36m_load.<locals>.load_tensor\u001b[0;34m(dtype, numel, key, location)\u001b[0m\n\u001b[1;32m    994\u001b[0m \u001b[38;5;28;01mdef\u001b[39;00m \u001b[38;5;21mload_tensor\u001b[39m(dtype, numel, key, location):\n\u001b[1;32m    995\u001b[0m     name \u001b[38;5;241m=\u001b[39m \u001b[38;5;124mf\u001b[39m\u001b[38;5;124m'\u001b[39m\u001b[38;5;124mdata/\u001b[39m\u001b[38;5;132;01m{\u001b[39;00mkey\u001b[38;5;132;01m}\u001b[39;00m\u001b[38;5;124m'\u001b[39m\n\u001b[0;32m--> 997\u001b[0m     storage \u001b[38;5;241m=\u001b[39m \u001b[43mzip_file\u001b[49m\u001b[38;5;241;43m.\u001b[39;49m\u001b[43mget_storage_from_record\u001b[49m\u001b[43m(\u001b[49m\u001b[43mname\u001b[49m\u001b[43m,\u001b[49m\u001b[43m \u001b[49m\u001b[43mnumel\u001b[49m\u001b[43m,\u001b[49m\u001b[43m \u001b[49m\u001b[43mtorch\u001b[49m\u001b[38;5;241;43m.\u001b[39;49m\u001b[43m_UntypedStorage\u001b[49m\u001b[43m)\u001b[49m\u001b[38;5;241m.\u001b[39mstorage()\u001b[38;5;241m.\u001b[39m_untyped()\n\u001b[1;32m    998\u001b[0m     \u001b[38;5;66;03m# TODO: Once we decide to break serialization FC, we can\u001b[39;00m\n\u001b[1;32m    999\u001b[0m     \u001b[38;5;66;03m# stop wrapping with _TypedStorage\u001b[39;00m\n\u001b[1;32m   1000\u001b[0m     loaded_storages[key] \u001b[38;5;241m=\u001b[39m torch\u001b[38;5;241m.\u001b[39mstorage\u001b[38;5;241m.\u001b[39m_TypedStorage(\n\u001b[1;32m   1001\u001b[0m         wrap_storage\u001b[38;5;241m=\u001b[39mrestore_location(storage, location),\n\u001b[1;32m   1002\u001b[0m         dtype\u001b[38;5;241m=\u001b[39mdtype)\n",
      "\u001b[0;31mKeyboardInterrupt\u001b[0m: "
     ]
    }
   ],
   "source": [
    "import torch\n",
    "bad = []\n",
    "for i in range(len(tm.train_data)):\n",
    "    print(torch.unique(tm.train_data[i].pos).shape)\n",
    "    if torch.any(torch.isnan(tm.train_data[i].pos)):\n",
    "        bad.append(i)\n",
    "        print(len(bad))"
   ]
  },
  {
   "cell_type": "code",
   "execution_count": 20,
   "id": "ac200a10-ca97-4c8c-8edf-f46dd5753be5",
   "metadata": {},
   "outputs": [
    {
     "data": {
      "text/plain": [
       "[]"
      ]
     },
     "execution_count": 20,
     "metadata": {},
     "output_type": "execute_result"
    }
   ],
   "source": [
    "bad"
   ]
  },
  {
   "cell_type": "code",
   "execution_count": 13,
   "id": "273add47-b97d-441e-90d4-c04d0640b860",
   "metadata": {},
   "outputs": [
    {
     "data": {
      "text/plain": [
       "Data(x=[1, 1], edge_index=[2, 0], y=[1, 2], pos=[1, 3], edge_attr=[0, 3])"
      ]
     },
     "execution_count": 13,
     "metadata": {},
     "output_type": "execute_result"
    }
   ],
   "source": [
    "tm.train_data[bad[0]]"
   ]
  },
  {
   "cell_type": "code",
   "execution_count": 15,
   "id": "365376f6-7dec-45ac-ba96-b5ade75f5e3f",
   "metadata": {},
   "outputs": [
    {
     "ename": "KeyError",
     "evalue": "'sample_6238'",
     "output_type": "error",
     "traceback": [
      "\u001b[0;31m---------------------------------------------------------------------------\u001b[0m",
      "\u001b[0;31mKeyError\u001b[0m                                  Traceback (most recent call last)",
      "Cell \u001b[0;32mIn[15], line 2\u001b[0m\n\u001b[1;32m      1\u001b[0m samples \u001b[38;5;241m=\u001b[39m ex\u001b[38;5;241m.\u001b[39mload_train()\n\u001b[0;32m----> 2\u001b[0m \u001b[43msamples\u001b[49m\u001b[43m[\u001b[49m\u001b[38;5;124;43m\"\u001b[39;49m\u001b[38;5;124;43msample_6238\u001b[39;49m\u001b[38;5;124;43m\"\u001b[39;49m\u001b[43m]\u001b[49m\n",
      "\u001b[0;31mKeyError\u001b[0m: 'sample_6238'"
     ]
    }
   ],
   "source": [
    "samples = ex.load_train()"
   ]
  },
  {
   "cell_type": "code",
   "execution_count": 26,
   "id": "dc74946c-a992-413d-83ab-f5b824c6838b",
   "metadata": {},
   "outputs": [
    {
     "data": {
      "text/plain": [
       "<matplotlib.collections.PathCollection at 0x7f5f09fb2850>"
      ]
     },
     "execution_count": 26,
     "metadata": {},
     "output_type": "execute_result"
    },
    {
     "data": {
      "image/png": "[encoded data removed]",
      "text/plain": [
       "<Figure size 640x480 with 1 Axes>"
      ]
     },
     "metadata": {},
     "output_type": "display_data"
    }
   ],
   "source": [
    "import numpy as np\n",
    "import matplotlib.pyplot as plt\n",
    "\n",
    "plt.scatter(*np.array(samples['sample_1']['events'])[:, :2].T)"
   ]
  },
  {
   "cell_type": "code",
   "execution_count": 2,
   "id": "7df304af-d93a-4fcc-943a-5169009af689",
   "metadata": {},
   "outputs": [
    {
     "name": "stdout",
     "output_type": "stream",
     "text": [
      "{'bag': '/l/proj/kuin0034/hussain/tactile/data/bags/data1', 'train_prop': 0.75, 'delta_t': 100000000.0, 'margin': -100000000.0, 'min_n_events': 3500, 'n_init_events': -1, 'downsample_factor': 2, 'center': [180, 117], 'circle_rad': 85, 'case_span': 2660000000.0, 'N_examples': 20, 'possible_angles': [0.017453292519943295, 0.03490658503988659, 0.05235987755982989, 0.06981317007977318, 0.08726646259971647, 0.10471975511965978, 0.12217304763960307, 0.13962634015954636, 0.15707963267948966, 0.17453292519943295], 'theta': 'full', 'augmentations': [], 'n': 2138, 'dropped_cases': 154, 'node_features': 'pol'}\n"
     ]
    }
   ],
   "source": [
    "from imports.TactileDataset import TactileDataset\n",
    "\n",
    "train = TactileDataset(ex.outdir / 'train')"
   ]
  },
  {
   "cell_type": "code",
   "execution_count": 19,
   "id": "ea95ef42-1fc8-47c2-a6dc-9fb2f323ec35",
   "metadata": {},
   "outputs": [
    {
     "name": "stdout",
     "output_type": "stream",
     "text": [
      "{'bag': '/l/proj/kuin0034/hussain/tactile/data/bags/data1', 'train_prop': 0.75, 'delta_t': 100000000.0, 'margin': -100000000.0, 'min_n_events': 3500, 'n_init_events': -1, 'center': [180, 117], 'circle_rad': 85, 'case_span': 2660000000.0, 'N_examples': 20, 'possible_angles': [0.017453292519943295, 0.03490658503988659, 0.05235987755982989, 0.06981317007977318, 0.08726646259971647, 0.10471975511965978, 0.12217304763960307, 0.13962634015954636, 0.15707963267948966, 0.17453292519943295], 'theta': 'full', 'augmentations': [], 'n': 2138, 'dropped_cases': 154}\n"
     ]
    }
   ],
   "source": [
    "other = TactileDataset('../data/extractions/20ms_allevents/train/')"
   ]
  },
  {
   "cell_type": "code",
   "execution_count": 21,
   "id": "71157ea0-05e2-4dfd-a1ab-deca7843b4ef",
   "metadata": {},
   "outputs": [
    {
     "data": {
      "text/plain": [
       "Data(x=[10853, 1], edge_index=[2, 169514], y=[1, 2], pos=[10853, 3], edge_attr=[169514, 3])"
      ]
     },
     "execution_count": 21,
     "metadata": {},
     "output_type": "execute_result"
    }
   ],
   "source": [
    "other_sample = other[0]\n",
    "other_sample"
   ]
  },
  {
   "cell_type": "code",
   "execution_count": 24,
   "id": "c4f1b835-a4b8-4d6f-bf09-676174973278",
   "metadata": {},
   "outputs": [
    {
     "data": {
      "text/plain": [
       "tensor([[1.],\n",
       "        [0.],\n",
       "        [1.],\n",
       "        ...,\n",
       "        [1.],\n",
       "        [0.],\n",
       "        [0.]])"
      ]
     },
     "execution_count": 24,
     "metadata": {},
     "output_type": "execute_result"
    }
   ],
   "source": [
    "other_sample.x"
   ]
  },
  {
   "cell_type": "code",
   "execution_count": 28,
   "id": "e6248de1-ca97-411f-8786-9a394ee0e9eb",
   "metadata": {},
   "outputs": [
    {
     "data": {
      "text/plain": [
       "Data(x=[9512, 1], edge_index=[2, 150000], y=[1, 2], pos=[9512, 3], edge_attr=[150000, 3])"
      ]
     },
     "execution_count": 28,
     "metadata": {},
     "output_type": "execute_result"
    }
   ],
   "source": [
    "from torch_geometric.transforms import LargestConnectedComponents\n",
    "l = LargestConnectedComponents()\n",
    "l(other_sample)"
   ]
  },
  {
   "cell_type": "code",
   "execution_count": 17,
   "id": "317429d5-a146-4eed-b887-2c2288e69804",
   "metadata": {},
   "outputs": [
    {
     "data": {
      "text/plain": [
       "Data(x=[3818, 1], edge_index=[2, 125961], y=[1, 2], pos=[3818, 3], edge_attr=[125961, 3])"
      ]
     },
     "execution_count": 17,
     "metadata": {},
     "output_type": "execute_result"
    }
   ],
   "source": [
    "sample = train[10].cuda()\n",
    "sample"
   ]
  },
  {
   "cell_type": "code",
   "execution_count": 18,
   "id": "4a9a7415-11b6-482a-9870-185b2fd5af0a",
   "metadata": {},
   "outputs": [
    {
     "data": {
      "text/plain": [
       "tensor(3818., device='cuda:0')"
      ]
     },
     "execution_count": 18,
     "metadata": {},
     "output_type": "execute_result"
    }
   ],
   "source": [
    "sample.x.sum()"
   ]
  },
  {
   "cell_type": "code",
   "execution_count": 5,
   "id": "20bee153-3291-4000-9210-2201ec18c4ac",
   "metadata": {},
   "outputs": [
    {
     "data": {
      "text/plain": [
       "GraphRes(\n",
       "  (conv1): SplineConv(1, 8, dim=3)\n",
       "  (norm1): BatchNorm(8)\n",
       "  (conv2): SplineConv(8, 16, dim=3)\n",
       "  (norm2): BatchNorm(16)\n",
       "  (conv3): SplineConv(16, 16, dim=3)\n",
       "  (norm3): BatchNorm(16)\n",
       "  (conv4): SplineConv(16, 16, dim=3)\n",
       "  (norm4): BatchNorm(16)\n",
       "  (conv5): SplineConv(16, 32, dim=3)\n",
       "  (norm5): BatchNorm(32)\n",
       "  (pool5): MaxPooling(voxel_size=[0.046242774566473986, 0.046153846153846156])\n",
       "  (conv6): SplineConv(32, 32, dim=3)\n",
       "  (norm6): BatchNorm(32)\n",
       "  (conv7): SplineConv(32, 32, dim=3)\n",
       "  (norm7): BatchNorm(32)\n",
       "  (pool7): MaxPoolingX(voxel_size=0.25, size=16)\n",
       "  (fc): Linear(in_features=512, out_features=2, bias=False)\n",
       ")"
      ]
     },
     "execution_count": 5,
     "metadata": {},
     "output_type": "execute_result"
    }
   ],
   "source": [
    "from models.modules import GraphRes\n",
    "\n",
    "model = GraphRes().cuda()\n",
    "model"
   ]
  },
  {
   "cell_type": "code",
   "execution_count": 12,
   "id": "bab44ec5-0d4a-4fcb-9922-e08cc87e800d",
   "metadata": {},
   "outputs": [
    {
     "data": {
      "text/plain": [
       "tensor([0.], device='cuda:0')"
      ]
     },
     "execution_count": 12,
     "metadata": {},
     "output_type": "execute_result"
    }
   ],
   "source": []
  },
  {
   "cell_type": "code",
   "execution_count": 8,
   "id": "fa86f3ee-e759-4a5a-9155-8057c63a2b9d",
   "metadata": {},
   "outputs": [
    {
     "ename": "RuntimeError",
     "evalue": "CUDA error: invalid configuration argument\nCUDA kernel errors might be asynchronously reported at some other API call,so the stacktrace below might be incorrect.\nFor debugging consider passing CUDA_LAUNCH_BLOCKING=1.",
     "output_type": "error",
     "traceback": [
      "\u001b[0;31m---------------------------------------------------------------------------\u001b[0m",
      "\u001b[0;31mRuntimeError\u001b[0m                              Traceback (most recent call last)",
      "Cell \u001b[0;32mIn[8], line 1\u001b[0m\n\u001b[0;32m----> 1\u001b[0m \u001b[43mmodel\u001b[49m\u001b[43m(\u001b[49m\u001b[43msample\u001b[49m\u001b[43m)\u001b[49m\n",
      "File \u001b[0;32m~/miniconda3/envs/tactile/lib/python3.8/site-packages/torch/nn/modules/module.py:1130\u001b[0m, in \u001b[0;36mModule._call_impl\u001b[0;34m(self, *input, **kwargs)\u001b[0m\n\u001b[1;32m   1126\u001b[0m \u001b[38;5;66;03m# If we don't have any hooks, we want to skip the rest of the logic in\u001b[39;00m\n\u001b[1;32m   1127\u001b[0m \u001b[38;5;66;03m# this function, and just call forward.\u001b[39;00m\n\u001b[1;32m   1128\u001b[0m \u001b[38;5;28;01mif\u001b[39;00m \u001b[38;5;129;01mnot\u001b[39;00m (\u001b[38;5;28mself\u001b[39m\u001b[38;5;241m.\u001b[39m_backward_hooks \u001b[38;5;129;01mor\u001b[39;00m \u001b[38;5;28mself\u001b[39m\u001b[38;5;241m.\u001b[39m_forward_hooks \u001b[38;5;129;01mor\u001b[39;00m \u001b[38;5;28mself\u001b[39m\u001b[38;5;241m.\u001b[39m_forward_pre_hooks \u001b[38;5;129;01mor\u001b[39;00m _global_backward_hooks\n\u001b[1;32m   1129\u001b[0m         \u001b[38;5;129;01mor\u001b[39;00m _global_forward_hooks \u001b[38;5;129;01mor\u001b[39;00m _global_forward_pre_hooks):\n\u001b[0;32m-> 1130\u001b[0m     \u001b[38;5;28;01mreturn\u001b[39;00m \u001b[43mforward_call\u001b[49m\u001b[43m(\u001b[49m\u001b[38;5;241;43m*\u001b[39;49m\u001b[38;5;28;43minput\u001b[39;49m\u001b[43m,\u001b[49m\u001b[43m \u001b[49m\u001b[38;5;241;43m*\u001b[39;49m\u001b[38;5;241;43m*\u001b[39;49m\u001b[43mkwargs\u001b[49m\u001b[43m)\u001b[49m\n\u001b[1;32m   1131\u001b[0m \u001b[38;5;66;03m# Do not call functions when jit is used\u001b[39;00m\n\u001b[1;32m   1132\u001b[0m full_backward_hooks, non_full_backward_hooks \u001b[38;5;241m=\u001b[39m [], []\n",
      "File \u001b[0;32m~/me/projects/tactile/src/models/modules.py:119\u001b[0m, in \u001b[0;36mGraphRes.forward\u001b[0;34m(self, data)\u001b[0m\n\u001b[1;32m    116\u001b[0m data \u001b[38;5;241m=\u001b[39m \u001b[38;5;28mself\u001b[39m\u001b[38;5;241m.\u001b[39mpool5(data\u001b[38;5;241m.\u001b[39mx, pos\u001b[38;5;241m=\u001b[39mdata\u001b[38;5;241m.\u001b[39mpos, batch\u001b[38;5;241m=\u001b[39mdata\u001b[38;5;241m.\u001b[39mbatch, edge_index\u001b[38;5;241m=\u001b[39mdata\u001b[38;5;241m.\u001b[39medge_index, return_data_obj\u001b[38;5;241m=\u001b[39m\u001b[38;5;28;01mTrue\u001b[39;00m)\n\u001b[1;32m    118\u001b[0m x_sc \u001b[38;5;241m=\u001b[39m data\u001b[38;5;241m.\u001b[39mx\u001b[38;5;241m.\u001b[39mclone()\n\u001b[0;32m--> 119\u001b[0m data\u001b[38;5;241m.\u001b[39mx \u001b[38;5;241m=\u001b[39m elu(\u001b[38;5;28;43mself\u001b[39;49m\u001b[38;5;241;43m.\u001b[39;49m\u001b[43mconv6\u001b[49m\u001b[43m(\u001b[49m\u001b[43mdata\u001b[49m\u001b[38;5;241;43m.\u001b[39;49m\u001b[43mx\u001b[49m\u001b[43m,\u001b[49m\u001b[43m \u001b[49m\u001b[43mdata\u001b[49m\u001b[38;5;241;43m.\u001b[39;49m\u001b[43medge_index\u001b[49m\u001b[43m,\u001b[49m\u001b[43m \u001b[49m\u001b[43mdata\u001b[49m\u001b[38;5;241;43m.\u001b[39;49m\u001b[43medge_attr\u001b[49m\u001b[43m)\u001b[49m)\n\u001b[1;32m    120\u001b[0m data\u001b[38;5;241m.\u001b[39mx \u001b[38;5;241m=\u001b[39m \u001b[38;5;28mself\u001b[39m\u001b[38;5;241m.\u001b[39mnorm6(data\u001b[38;5;241m.\u001b[39mx)\n\u001b[1;32m    121\u001b[0m data\u001b[38;5;241m.\u001b[39mx \u001b[38;5;241m=\u001b[39m elu(\u001b[38;5;28mself\u001b[39m\u001b[38;5;241m.\u001b[39mconv7(data\u001b[38;5;241m.\u001b[39mx, data\u001b[38;5;241m.\u001b[39medge_index, data\u001b[38;5;241m.\u001b[39medge_attr))\n",
      "File \u001b[0;32m~/miniconda3/envs/tactile/lib/python3.8/site-packages/torch/nn/modules/module.py:1130\u001b[0m, in \u001b[0;36mModule._call_impl\u001b[0;34m(self, *input, **kwargs)\u001b[0m\n\u001b[1;32m   1126\u001b[0m \u001b[38;5;66;03m# If we don't have any hooks, we want to skip the rest of the logic in\u001b[39;00m\n\u001b[1;32m   1127\u001b[0m \u001b[38;5;66;03m# this function, and just call forward.\u001b[39;00m\n\u001b[1;32m   1128\u001b[0m \u001b[38;5;28;01mif\u001b[39;00m \u001b[38;5;129;01mnot\u001b[39;00m (\u001b[38;5;28mself\u001b[39m\u001b[38;5;241m.\u001b[39m_backward_hooks \u001b[38;5;129;01mor\u001b[39;00m \u001b[38;5;28mself\u001b[39m\u001b[38;5;241m.\u001b[39m_forward_hooks \u001b[38;5;129;01mor\u001b[39;00m \u001b[38;5;28mself\u001b[39m\u001b[38;5;241m.\u001b[39m_forward_pre_hooks \u001b[38;5;129;01mor\u001b[39;00m _global_backward_hooks\n\u001b[1;32m   1129\u001b[0m         \u001b[38;5;129;01mor\u001b[39;00m _global_forward_hooks \u001b[38;5;129;01mor\u001b[39;00m _global_forward_pre_hooks):\n\u001b[0;32m-> 1130\u001b[0m     \u001b[38;5;28;01mreturn\u001b[39;00m \u001b[43mforward_call\u001b[49m\u001b[43m(\u001b[49m\u001b[38;5;241;43m*\u001b[39;49m\u001b[38;5;28;43minput\u001b[39;49m\u001b[43m,\u001b[49m\u001b[43m \u001b[49m\u001b[38;5;241;43m*\u001b[39;49m\u001b[38;5;241;43m*\u001b[39;49m\u001b[43mkwargs\u001b[49m\u001b[43m)\u001b[49m\n\u001b[1;32m   1131\u001b[0m \u001b[38;5;66;03m# Do not call functions when jit is used\u001b[39;00m\n\u001b[1;32m   1132\u001b[0m full_backward_hooks, non_full_backward_hooks \u001b[38;5;241m=\u001b[39m [], []\n",
      "File \u001b[0;32m~/miniconda3/envs/tactile/lib/python3.8/site-packages/torch_geometric/nn/conv/spline_conv.py:138\u001b[0m, in \u001b[0;36mSplineConv.forward\u001b[0;34m(self, x, edge_index, edge_attr, size)\u001b[0m\n\u001b[1;32m    133\u001b[0m     warnings\u001b[38;5;241m.\u001b[39mwarn(\n\u001b[1;32m    134\u001b[0m         \u001b[38;5;124m'\u001b[39m\u001b[38;5;124mWe do not recommend using the non-optimized CPU version of \u001b[39m\u001b[38;5;124m'\u001b[39m\n\u001b[1;32m    135\u001b[0m         \u001b[38;5;124m'\u001b[39m\u001b[38;5;124m`SplineConv`. If possible, please move your data to GPU.\u001b[39m\u001b[38;5;124m'\u001b[39m)\n\u001b[1;32m    137\u001b[0m \u001b[38;5;66;03m# propagate_type: (x: OptPairTensor, edge_attr: OptTensor)\u001b[39;00m\n\u001b[0;32m--> 138\u001b[0m out \u001b[38;5;241m=\u001b[39m \u001b[38;5;28;43mself\u001b[39;49m\u001b[38;5;241;43m.\u001b[39;49m\u001b[43mpropagate\u001b[49m\u001b[43m(\u001b[49m\u001b[43medge_index\u001b[49m\u001b[43m,\u001b[49m\u001b[43m \u001b[49m\u001b[43mx\u001b[49m\u001b[38;5;241;43m=\u001b[39;49m\u001b[43mx\u001b[49m\u001b[43m,\u001b[49m\u001b[43m \u001b[49m\u001b[43medge_attr\u001b[49m\u001b[38;5;241;43m=\u001b[39;49m\u001b[43medge_attr\u001b[49m\u001b[43m,\u001b[49m\u001b[43m \u001b[49m\u001b[43msize\u001b[49m\u001b[38;5;241;43m=\u001b[39;49m\u001b[43msize\u001b[49m\u001b[43m)\u001b[49m\n\u001b[1;32m    140\u001b[0m x_r \u001b[38;5;241m=\u001b[39m x[\u001b[38;5;241m1\u001b[39m]\n\u001b[1;32m    141\u001b[0m \u001b[38;5;28;01mif\u001b[39;00m x_r \u001b[38;5;129;01mis\u001b[39;00m \u001b[38;5;129;01mnot\u001b[39;00m \u001b[38;5;28;01mNone\u001b[39;00m \u001b[38;5;129;01mand\u001b[39;00m \u001b[38;5;28mself\u001b[39m\u001b[38;5;241m.\u001b[39mroot_weight:\n",
      "File \u001b[0;32m~/miniconda3/envs/tactile/lib/python3.8/site-packages/torch_geometric/nn/conv/message_passing.py:391\u001b[0m, in \u001b[0;36mMessagePassing.propagate\u001b[0;34m(self, edge_index, size, **kwargs)\u001b[0m\n\u001b[1;32m    388\u001b[0m     \u001b[38;5;28;01mif\u001b[39;00m res \u001b[38;5;129;01mis\u001b[39;00m \u001b[38;5;129;01mnot\u001b[39;00m \u001b[38;5;28;01mNone\u001b[39;00m:\n\u001b[1;32m    389\u001b[0m         aggr_kwargs \u001b[38;5;241m=\u001b[39m res[\u001b[38;5;241m0\u001b[39m] \u001b[38;5;28;01mif\u001b[39;00m \u001b[38;5;28misinstance\u001b[39m(res, \u001b[38;5;28mtuple\u001b[39m) \u001b[38;5;28;01melse\u001b[39;00m res\n\u001b[0;32m--> 391\u001b[0m out \u001b[38;5;241m=\u001b[39m \u001b[38;5;28;43mself\u001b[39;49m\u001b[38;5;241;43m.\u001b[39;49m\u001b[43maggregate\u001b[49m\u001b[43m(\u001b[49m\u001b[43mout\u001b[49m\u001b[43m,\u001b[49m\u001b[43m \u001b[49m\u001b[38;5;241;43m*\u001b[39;49m\u001b[38;5;241;43m*\u001b[39;49m\u001b[43maggr_kwargs\u001b[49m\u001b[43m)\u001b[49m\n\u001b[1;32m    393\u001b[0m \u001b[38;5;28;01mfor\u001b[39;00m hook \u001b[38;5;129;01min\u001b[39;00m \u001b[38;5;28mself\u001b[39m\u001b[38;5;241m.\u001b[39m_aggregate_forward_hooks\u001b[38;5;241m.\u001b[39mvalues():\n\u001b[1;32m    394\u001b[0m     res \u001b[38;5;241m=\u001b[39m hook(\u001b[38;5;28mself\u001b[39m, (aggr_kwargs, ), out)\n",
      "File \u001b[0;32m~/miniconda3/envs/tactile/lib/python3.8/site-packages/torch_geometric/nn/conv/message_passing.py:514\u001b[0m, in \u001b[0;36mMessagePassing.aggregate\u001b[0;34m(self, inputs, index, ptr, dim_size)\u001b[0m\n\u001b[1;32m    501\u001b[0m \u001b[38;5;28;01mdef\u001b[39;00m \u001b[38;5;21maggregate\u001b[39m(\u001b[38;5;28mself\u001b[39m, inputs: Tensor, index: Tensor,\n\u001b[1;32m    502\u001b[0m               ptr: Optional[Tensor] \u001b[38;5;241m=\u001b[39m \u001b[38;5;28;01mNone\u001b[39;00m,\n\u001b[1;32m    503\u001b[0m               dim_size: Optional[\u001b[38;5;28mint\u001b[39m] \u001b[38;5;241m=\u001b[39m \u001b[38;5;28;01mNone\u001b[39;00m) \u001b[38;5;241m-\u001b[39m\u001b[38;5;241m>\u001b[39m Tensor:\n\u001b[1;32m    504\u001b[0m     \u001b[38;5;124mr\u001b[39m\u001b[38;5;124;03m\"\"\"Aggregates messages from neighbors as\u001b[39;00m\n\u001b[1;32m    505\u001b[0m \u001b[38;5;124;03m    :math:`\\square_{j \\in \\mathcal{N}(i)}`.\u001b[39;00m\n\u001b[1;32m    506\u001b[0m \n\u001b[0;32m   (...)\u001b[0m\n\u001b[1;32m    512\u001b[0m \u001b[38;5;124;03m    as specified in :meth:`__init__` by the :obj:`aggr` argument.\u001b[39;00m\n\u001b[1;32m    513\u001b[0m \u001b[38;5;124;03m    \"\"\"\u001b[39;00m\n\u001b[0;32m--> 514\u001b[0m     \u001b[38;5;28;01mreturn\u001b[39;00m \u001b[38;5;28;43mself\u001b[39;49m\u001b[38;5;241;43m.\u001b[39;49m\u001b[43maggr_module\u001b[49m\u001b[43m(\u001b[49m\u001b[43minputs\u001b[49m\u001b[43m,\u001b[49m\u001b[43m \u001b[49m\u001b[43mindex\u001b[49m\u001b[43m,\u001b[49m\u001b[43m \u001b[49m\u001b[43mptr\u001b[49m\u001b[38;5;241;43m=\u001b[39;49m\u001b[43mptr\u001b[49m\u001b[43m,\u001b[49m\u001b[43m \u001b[49m\u001b[43mdim_size\u001b[49m\u001b[38;5;241;43m=\u001b[39;49m\u001b[43mdim_size\u001b[49m\u001b[43m,\u001b[49m\n\u001b[1;32m    515\u001b[0m \u001b[43m                            \u001b[49m\u001b[43mdim\u001b[49m\u001b[38;5;241;43m=\u001b[39;49m\u001b[38;5;28;43mself\u001b[39;49m\u001b[38;5;241;43m.\u001b[39;49m\u001b[43mnode_dim\u001b[49m\u001b[43m)\u001b[49m\n",
      "File \u001b[0;32m~/miniconda3/envs/tactile/lib/python3.8/site-packages/torch_geometric/nn/aggr/base.py:114\u001b[0m, in \u001b[0;36mAggregation.__call__\u001b[0;34m(self, x, index, ptr, dim_size, dim, **kwargs)\u001b[0m\n\u001b[1;32m    109\u001b[0m     \u001b[38;5;28;01melif\u001b[39;00m index\u001b[38;5;241m.\u001b[39mnumel() \u001b[38;5;241m>\u001b[39m \u001b[38;5;241m0\u001b[39m \u001b[38;5;129;01mand\u001b[39;00m dim_size \u001b[38;5;241m<\u001b[39m\u001b[38;5;241m=\u001b[39m \u001b[38;5;28mint\u001b[39m(index\u001b[38;5;241m.\u001b[39mmax()):\n\u001b[1;32m    110\u001b[0m         \u001b[38;5;28;01mraise\u001b[39;00m \u001b[38;5;167;01mValueError\u001b[39;00m(\u001b[38;5;124mf\u001b[39m\u001b[38;5;124m\"\u001b[39m\u001b[38;5;124mEncountered invalid \u001b[39m\u001b[38;5;124m'\u001b[39m\u001b[38;5;124mdim_size\u001b[39m\u001b[38;5;124m'\u001b[39m\u001b[38;5;124m (got \u001b[39m\u001b[38;5;124m\"\u001b[39m\n\u001b[1;32m    111\u001b[0m                          \u001b[38;5;124mf\u001b[39m\u001b[38;5;124m\"\u001b[39m\u001b[38;5;124m'\u001b[39m\u001b[38;5;132;01m{\u001b[39;00mdim_size\u001b[38;5;132;01m}\u001b[39;00m\u001b[38;5;124m'\u001b[39m\u001b[38;5;124m but expected \u001b[39m\u001b[38;5;124m\"\u001b[39m\n\u001b[1;32m    112\u001b[0m                          \u001b[38;5;124mf\u001b[39m\u001b[38;5;124m\"\u001b[39m\u001b[38;5;124m>= \u001b[39m\u001b[38;5;124m'\u001b[39m\u001b[38;5;132;01m{\u001b[39;00m\u001b[38;5;28mint\u001b[39m(index\u001b[38;5;241m.\u001b[39mmax()) \u001b[38;5;241m+\u001b[39m \u001b[38;5;241m1\u001b[39m\u001b[38;5;132;01m}\u001b[39;00m\u001b[38;5;124m'\u001b[39m\u001b[38;5;124m)\u001b[39m\u001b[38;5;124m\"\u001b[39m)\n\u001b[0;32m--> 114\u001b[0m \u001b[38;5;28;01mreturn\u001b[39;00m \u001b[38;5;28;43msuper\u001b[39;49m\u001b[43m(\u001b[49m\u001b[43m)\u001b[49m\u001b[38;5;241;43m.\u001b[39;49m\u001b[38;5;21;43m__call__\u001b[39;49m\u001b[43m(\u001b[49m\u001b[43mx\u001b[49m\u001b[43m,\u001b[49m\u001b[43m \u001b[49m\u001b[43mindex\u001b[49m\u001b[43m,\u001b[49m\u001b[43m \u001b[49m\u001b[43mptr\u001b[49m\u001b[43m,\u001b[49m\u001b[43m \u001b[49m\u001b[43mdim_size\u001b[49m\u001b[43m,\u001b[49m\u001b[43m \u001b[49m\u001b[43mdim\u001b[49m\u001b[43m,\u001b[49m\u001b[43m \u001b[49m\u001b[38;5;241;43m*\u001b[39;49m\u001b[38;5;241;43m*\u001b[39;49m\u001b[43mkwargs\u001b[49m\u001b[43m)\u001b[49m\n",
      "File \u001b[0;32m~/miniconda3/envs/tactile/lib/python3.8/site-packages/torch/nn/modules/module.py:1130\u001b[0m, in \u001b[0;36mModule._call_impl\u001b[0;34m(self, *input, **kwargs)\u001b[0m\n\u001b[1;32m   1126\u001b[0m \u001b[38;5;66;03m# If we don't have any hooks, we want to skip the rest of the logic in\u001b[39;00m\n\u001b[1;32m   1127\u001b[0m \u001b[38;5;66;03m# this function, and just call forward.\u001b[39;00m\n\u001b[1;32m   1128\u001b[0m \u001b[38;5;28;01mif\u001b[39;00m \u001b[38;5;129;01mnot\u001b[39;00m (\u001b[38;5;28mself\u001b[39m\u001b[38;5;241m.\u001b[39m_backward_hooks \u001b[38;5;129;01mor\u001b[39;00m \u001b[38;5;28mself\u001b[39m\u001b[38;5;241m.\u001b[39m_forward_hooks \u001b[38;5;129;01mor\u001b[39;00m \u001b[38;5;28mself\u001b[39m\u001b[38;5;241m.\u001b[39m_forward_pre_hooks \u001b[38;5;129;01mor\u001b[39;00m _global_backward_hooks\n\u001b[1;32m   1129\u001b[0m         \u001b[38;5;129;01mor\u001b[39;00m _global_forward_hooks \u001b[38;5;129;01mor\u001b[39;00m _global_forward_pre_hooks):\n\u001b[0;32m-> 1130\u001b[0m     \u001b[38;5;28;01mreturn\u001b[39;00m \u001b[43mforward_call\u001b[49m\u001b[43m(\u001b[49m\u001b[38;5;241;43m*\u001b[39;49m\u001b[38;5;28;43minput\u001b[39;49m\u001b[43m,\u001b[49m\u001b[43m \u001b[49m\u001b[38;5;241;43m*\u001b[39;49m\u001b[38;5;241;43m*\u001b[39;49m\u001b[43mkwargs\u001b[49m\u001b[43m)\u001b[49m\n\u001b[1;32m   1131\u001b[0m \u001b[38;5;66;03m# Do not call functions when jit is used\u001b[39;00m\n\u001b[1;32m   1132\u001b[0m full_backward_hooks, non_full_backward_hooks \u001b[38;5;241m=\u001b[39m [], []\n",
      "File \u001b[0;32m~/miniconda3/envs/tactile/lib/python3.8/site-packages/torch_geometric/nn/aggr/basic.py:34\u001b[0m, in \u001b[0;36mMeanAggregation.forward\u001b[0;34m(self, x, index, ptr, dim_size, dim)\u001b[0m\n\u001b[1;32m     31\u001b[0m \u001b[38;5;28;01mdef\u001b[39;00m \u001b[38;5;21mforward\u001b[39m(\u001b[38;5;28mself\u001b[39m, x: Tensor, index: Optional[Tensor] \u001b[38;5;241m=\u001b[39m \u001b[38;5;28;01mNone\u001b[39;00m,\n\u001b[1;32m     32\u001b[0m             ptr: Optional[Tensor] \u001b[38;5;241m=\u001b[39m \u001b[38;5;28;01mNone\u001b[39;00m, dim_size: Optional[\u001b[38;5;28mint\u001b[39m] \u001b[38;5;241m=\u001b[39m \u001b[38;5;28;01mNone\u001b[39;00m,\n\u001b[1;32m     33\u001b[0m             dim: \u001b[38;5;28mint\u001b[39m \u001b[38;5;241m=\u001b[39m \u001b[38;5;241m-\u001b[39m\u001b[38;5;241m2\u001b[39m) \u001b[38;5;241m-\u001b[39m\u001b[38;5;241m>\u001b[39m Tensor:\n\u001b[0;32m---> 34\u001b[0m     \u001b[38;5;28;01mreturn\u001b[39;00m \u001b[38;5;28;43mself\u001b[39;49m\u001b[38;5;241;43m.\u001b[39;49m\u001b[43mreduce\u001b[49m\u001b[43m(\u001b[49m\u001b[43mx\u001b[49m\u001b[43m,\u001b[49m\u001b[43m \u001b[49m\u001b[43mindex\u001b[49m\u001b[43m,\u001b[49m\u001b[43m \u001b[49m\u001b[43mptr\u001b[49m\u001b[43m,\u001b[49m\u001b[43m \u001b[49m\u001b[43mdim_size\u001b[49m\u001b[43m,\u001b[49m\u001b[43m \u001b[49m\u001b[43mdim\u001b[49m\u001b[43m,\u001b[49m\u001b[43m \u001b[49m\u001b[43mreduce\u001b[49m\u001b[38;5;241;43m=\u001b[39;49m\u001b[38;5;124;43m'\u001b[39;49m\u001b[38;5;124;43mmean\u001b[39;49m\u001b[38;5;124;43m'\u001b[39;49m\u001b[43m)\u001b[49m\n",
      "File \u001b[0;32m~/miniconda3/envs/tactile/lib/python3.8/site-packages/torch_geometric/nn/aggr/base.py:153\u001b[0m, in \u001b[0;36mAggregation.reduce\u001b[0;34m(self, x, index, ptr, dim_size, dim, reduce)\u001b[0m\n\u001b[1;32m    150\u001b[0m     \u001b[38;5;28;01mreturn\u001b[39;00m segment_csr(x, ptr, reduce\u001b[38;5;241m=\u001b[39mreduce)\n\u001b[1;32m    152\u001b[0m \u001b[38;5;28;01massert\u001b[39;00m index \u001b[38;5;129;01mis\u001b[39;00m \u001b[38;5;129;01mnot\u001b[39;00m \u001b[38;5;28;01mNone\u001b[39;00m\n\u001b[0;32m--> 153\u001b[0m \u001b[38;5;28;01mreturn\u001b[39;00m \u001b[43mscatter\u001b[49m\u001b[43m(\u001b[49m\u001b[43mx\u001b[49m\u001b[43m,\u001b[49m\u001b[43m \u001b[49m\u001b[43mindex\u001b[49m\u001b[43m,\u001b[49m\u001b[43m \u001b[49m\u001b[43mdim\u001b[49m\u001b[38;5;241;43m=\u001b[39;49m\u001b[43mdim\u001b[49m\u001b[43m,\u001b[49m\u001b[43m \u001b[49m\u001b[43mdim_size\u001b[49m\u001b[38;5;241;43m=\u001b[39;49m\u001b[43mdim_size\u001b[49m\u001b[43m,\u001b[49m\u001b[43m \u001b[49m\u001b[43mreduce\u001b[49m\u001b[38;5;241;43m=\u001b[39;49m\u001b[43mreduce\u001b[49m\u001b[43m)\u001b[49m\n",
      "File \u001b[0;32m~/miniconda3/envs/tactile/lib/python3.8/site-packages/torch_geometric/utils/scatter.py:64\u001b[0m, in \u001b[0;36mscatter\u001b[0;34m(src, index, dim, out, dim_size, reduce)\u001b[0m\n\u001b[1;32m     61\u001b[0m \u001b[38;5;28;01mdef\u001b[39;00m \u001b[38;5;21mscatter\u001b[39m(src: Tensor, index: Tensor, dim: \u001b[38;5;28mint\u001b[39m \u001b[38;5;241m=\u001b[39m \u001b[38;5;241m-\u001b[39m\u001b[38;5;241m1\u001b[39m,\n\u001b[1;32m     62\u001b[0m             out: Optional[Tensor] \u001b[38;5;241m=\u001b[39m \u001b[38;5;28;01mNone\u001b[39;00m, dim_size: Optional[\u001b[38;5;28mint\u001b[39m] \u001b[38;5;241m=\u001b[39m \u001b[38;5;28;01mNone\u001b[39;00m,\n\u001b[1;32m     63\u001b[0m             reduce: \u001b[38;5;28mstr\u001b[39m \u001b[38;5;241m=\u001b[39m \u001b[38;5;124m\"\u001b[39m\u001b[38;5;124msum\u001b[39m\u001b[38;5;124m\"\u001b[39m) \u001b[38;5;241m-\u001b[39m\u001b[38;5;241m>\u001b[39m Tensor:\n\u001b[0;32m---> 64\u001b[0m     \u001b[38;5;28;01mreturn\u001b[39;00m \u001b[43mtorch_scatter\u001b[49m\u001b[38;5;241;43m.\u001b[39;49m\u001b[43mscatter\u001b[49m\u001b[43m(\u001b[49m\u001b[43msrc\u001b[49m\u001b[43m,\u001b[49m\u001b[43m \u001b[49m\u001b[43mindex\u001b[49m\u001b[43m,\u001b[49m\u001b[43m \u001b[49m\u001b[43mdim\u001b[49m\u001b[43m,\u001b[49m\u001b[43m \u001b[49m\u001b[43mout\u001b[49m\u001b[43m,\u001b[49m\u001b[43m \u001b[49m\u001b[43mdim_size\u001b[49m\u001b[43m,\u001b[49m\u001b[43m \u001b[49m\u001b[43mreduce\u001b[49m\u001b[43m)\u001b[49m\n",
      "File \u001b[0;32m~/miniconda3/envs/tactile/lib/python3.8/site-packages/torch_scatter/scatter.py:156\u001b[0m, in \u001b[0;36mscatter\u001b[0;34m(src, index, dim, out, dim_size, reduce)\u001b[0m\n\u001b[1;32m    154\u001b[0m     \u001b[38;5;28;01mreturn\u001b[39;00m scatter_mul(src, index, dim, out, dim_size)\n\u001b[1;32m    155\u001b[0m \u001b[38;5;28;01melif\u001b[39;00m reduce \u001b[38;5;241m==\u001b[39m \u001b[38;5;124m'\u001b[39m\u001b[38;5;124mmean\u001b[39m\u001b[38;5;124m'\u001b[39m:\n\u001b[0;32m--> 156\u001b[0m     \u001b[38;5;28;01mreturn\u001b[39;00m \u001b[43mscatter_mean\u001b[49m\u001b[43m(\u001b[49m\u001b[43msrc\u001b[49m\u001b[43m,\u001b[49m\u001b[43m \u001b[49m\u001b[43mindex\u001b[49m\u001b[43m,\u001b[49m\u001b[43m \u001b[49m\u001b[43mdim\u001b[49m\u001b[43m,\u001b[49m\u001b[43m \u001b[49m\u001b[43mout\u001b[49m\u001b[43m,\u001b[49m\u001b[43m \u001b[49m\u001b[43mdim_size\u001b[49m\u001b[43m)\u001b[49m\n\u001b[1;32m    157\u001b[0m \u001b[38;5;28;01melif\u001b[39;00m reduce \u001b[38;5;241m==\u001b[39m \u001b[38;5;124m'\u001b[39m\u001b[38;5;124mmin\u001b[39m\u001b[38;5;124m'\u001b[39m:\n\u001b[1;32m    158\u001b[0m     \u001b[38;5;28;01mreturn\u001b[39;00m scatter_min(src, index, dim, out, dim_size)[\u001b[38;5;241m0\u001b[39m]\n",
      "File \u001b[0;32m~/miniconda3/envs/tactile/lib/python3.8/site-packages/torch_scatter/scatter.py:41\u001b[0m, in \u001b[0;36mscatter_mean\u001b[0;34m(src, index, dim, out, dim_size)\u001b[0m\n\u001b[1;32m     38\u001b[0m \u001b[38;5;28;01mdef\u001b[39;00m \u001b[38;5;21mscatter_mean\u001b[39m(src: torch\u001b[38;5;241m.\u001b[39mTensor, index: torch\u001b[38;5;241m.\u001b[39mTensor, dim: \u001b[38;5;28mint\u001b[39m \u001b[38;5;241m=\u001b[39m \u001b[38;5;241m-\u001b[39m\u001b[38;5;241m1\u001b[39m,\n\u001b[1;32m     39\u001b[0m                  out: Optional[torch\u001b[38;5;241m.\u001b[39mTensor] \u001b[38;5;241m=\u001b[39m \u001b[38;5;28;01mNone\u001b[39;00m,\n\u001b[1;32m     40\u001b[0m                  dim_size: Optional[\u001b[38;5;28mint\u001b[39m] \u001b[38;5;241m=\u001b[39m \u001b[38;5;28;01mNone\u001b[39;00m) \u001b[38;5;241m-\u001b[39m\u001b[38;5;241m>\u001b[39m torch\u001b[38;5;241m.\u001b[39mTensor:\n\u001b[0;32m---> 41\u001b[0m     out \u001b[38;5;241m=\u001b[39m \u001b[43mscatter_sum\u001b[49m\u001b[43m(\u001b[49m\u001b[43msrc\u001b[49m\u001b[43m,\u001b[49m\u001b[43m \u001b[49m\u001b[43mindex\u001b[49m\u001b[43m,\u001b[49m\u001b[43m \u001b[49m\u001b[43mdim\u001b[49m\u001b[43m,\u001b[49m\u001b[43m \u001b[49m\u001b[43mout\u001b[49m\u001b[43m,\u001b[49m\u001b[43m \u001b[49m\u001b[43mdim_size\u001b[49m\u001b[43m)\u001b[49m\n\u001b[1;32m     42\u001b[0m     dim_size \u001b[38;5;241m=\u001b[39m out\u001b[38;5;241m.\u001b[39msize(dim)\n\u001b[1;32m     44\u001b[0m     index_dim \u001b[38;5;241m=\u001b[39m dim\n",
      "File \u001b[0;32m~/miniconda3/envs/tactile/lib/python3.8/site-packages/torch_scatter/scatter.py:20\u001b[0m, in \u001b[0;36mscatter_sum\u001b[0;34m(src, index, dim, out, dim_size)\u001b[0m\n\u001b[1;32m     18\u001b[0m     \u001b[38;5;28;01melse\u001b[39;00m:\n\u001b[1;32m     19\u001b[0m         size[dim] \u001b[38;5;241m=\u001b[39m \u001b[38;5;28mint\u001b[39m(index\u001b[38;5;241m.\u001b[39mmax()) \u001b[38;5;241m+\u001b[39m \u001b[38;5;241m1\u001b[39m\n\u001b[0;32m---> 20\u001b[0m     out \u001b[38;5;241m=\u001b[39m \u001b[43mtorch\u001b[49m\u001b[38;5;241;43m.\u001b[39;49m\u001b[43mzeros\u001b[49m\u001b[43m(\u001b[49m\u001b[43msize\u001b[49m\u001b[43m,\u001b[49m\u001b[43m \u001b[49m\u001b[43mdtype\u001b[49m\u001b[38;5;241;43m=\u001b[39;49m\u001b[43msrc\u001b[49m\u001b[38;5;241;43m.\u001b[39;49m\u001b[43mdtype\u001b[49m\u001b[43m,\u001b[49m\u001b[43m \u001b[49m\u001b[43mdevice\u001b[49m\u001b[38;5;241;43m=\u001b[39;49m\u001b[43msrc\u001b[49m\u001b[38;5;241;43m.\u001b[39;49m\u001b[43mdevice\u001b[49m\u001b[43m)\u001b[49m\n\u001b[1;32m     21\u001b[0m     \u001b[38;5;28;01mreturn\u001b[39;00m out\u001b[38;5;241m.\u001b[39mscatter_add_(dim, index, src)\n\u001b[1;32m     22\u001b[0m \u001b[38;5;28;01melse\u001b[39;00m:\n",
      "\u001b[0;31mRuntimeError\u001b[0m: CUDA error: invalid configuration argument\nCUDA kernel errors might be asynchronously reported at some other API call,so the stacktrace below might be incorrect.\nFor debugging consider passing CUDA_LAUNCH_BLOCKING=1."
     ]
    }
   ],
   "source": [
    "model(sample)"
   ]
  }
 ],
 "metadata": {
  "kernelspec": {
   "display_name": "Python 3 (ipykernel)",
   "language": "python",
   "name": "python3"
  },
  "language_info": {
   "codemirror_mode": {
    "name": "ipython",
    "version": 3
   },
   "file_extension": ".py",
   "mimetype": "text/x-python",
   "name": "python",
   "nbconvert_exporter": "python",
   "pygments_lexer": "ipython3",
   "version": "3.8.13"
  }
 },
 "nbformat": 4,
 "nbformat_minor": 5
}
