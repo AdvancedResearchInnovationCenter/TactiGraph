{
 "cells": [
  {
   "cell_type": "code",
   "execution_count": 1,
   "id": "f03a775c-0f7f-4e83-972a-cf01a07d7105",
   "metadata": {},
   "outputs": [
    {
     "data": {
      "text/plain": [
       "Data(x=[4, 1], edge_index=[2, 4], pos=[4, 2], edge_attr=[4, 1])"
      ]
     },
     "execution_count": 1,
     "metadata": {},
     "output_type": "execute_result"
    }
   ],
   "source": [
    "from torch_geometric.nn import GCNConv, SplineConv\n",
    "from torch_geometric import seed_everything\n",
    "import torch\n",
    "import torch_geometric as pyg\n",
    "import numpy as np\n",
    "\n",
    "pos = np.array([[0, 0], [0, 1], [1, 0], [1, 1]]).astype(np.float32)\n",
    "x = np.array([1, 2, 3, 4]).reshape(-1, 1).astype(np.float32)\n",
    "edge_index = np.array([[0, 1], [1, 2], [2, 3], [3, 0]]).T\n",
    "\n",
    "pos = torch.tensor(pos)\n",
    "x = torch.tensor(x)\n",
    "edge_index = torch.tensor(edge_index)\n",
    "data = pyg.data.Data(x, edge_index, pos = pos)\n",
    "\n",
    "data = pyg.transforms.Distance()(data)\n",
    "data"
   ]
  },
  {
   "cell_type": "markdown",
   "id": "682f2f92-376e-4b43-bcd0-2b54869aa0c1",
   "metadata": {},
   "source": [
    "### GCNs are rotation invariant"
   ]
  },
  {
   "cell_type": "code",
   "execution_count": 2,
   "id": "6d388c4f-021b-4e12-839a-48e52856a74a",
   "metadata": {},
   "outputs": [],
   "source": [
    "def rotate_graph(data, theta):\n",
    "    theta = np.radians(theta)\n",
    "    c, s = np.cos(theta), np.sin(theta)\n",
    "    R = np.array(((c, -s), (s, c)))\n",
    "    \n",
    "    rot_pos = torch.tensor((R@pos.numpy().T).T.astype(np.float32))\n",
    "\n",
    "    rotated = pyg.data.Data(data.x, data.edge_index, pos = rot_pos)\n",
    "    if data.edge_attr.shape[-1] == 1:\n",
    "        rotated = pyg.transforms.Distance()(rotated)\n",
    "    else: \n",
    "        rotated = pyg.transforms.Cartesian(norm=True, cat=False)(rotated)\n",
    "    return rotated"
   ]
  },
  {
   "cell_type": "code",
   "execution_count": 3,
   "id": "c0482f99-d116-4e10-b6e3-b4d57a6f10f7",
   "metadata": {},
   "outputs": [
    {
     "data": {
      "text/plain": [
       "tensor([[2.4760],\n",
       "        [1.4441],\n",
       "        [2.3994],\n",
       "        [3.2438]], grad_fn=<AddBackward0>)"
      ]
     },
     "execution_count": 3,
     "metadata": {},
     "output_type": "execute_result"
    }
   ],
   "source": [
    "seed_everything(0)\n",
    "gc = GCNConv(1, 1)\n",
    "gc(data.x, data.edge_index, data.edge_attr)"
   ]
  },
  {
   "cell_type": "code",
   "execution_count": 4,
   "id": "2caf2ddb-a705-4371-a2fb-778063fb2659",
   "metadata": {},
   "outputs": [
    {
     "data": {
      "text/plain": [
       "tensor([[2.4760],\n",
       "        [1.4441],\n",
       "        [2.3994],\n",
       "        [3.2438]], grad_fn=<AddBackward0>)"
      ]
     },
     "execution_count": 4,
     "metadata": {},
     "output_type": "execute_result"
    }
   ],
   "source": [
    "rotated = rotate_graph(data, 30)\n",
    "gc(rotated.x, rotated.edge_index, rotated.edge_attr)"
   ]
  },
  {
   "cell_type": "code",
   "execution_count": 5,
   "id": "f9edd36d-1f04-4414-bfb9-03c7af6448c9",
   "metadata": {},
   "outputs": [],
   "source": [
    "data = pyg.transforms.Cartesian(norm=True, cat=False)(data)"
   ]
  },
  {
   "cell_type": "code",
   "execution_count": 6,
   "id": "f445ad06-060d-4c27-8434-2442f0cf71cc",
   "metadata": {},
   "outputs": [
    {
     "name": "stderr",
     "output_type": "stream",
     "text": [
      "/home/hussain/miniconda3/envs/tactile38/lib/python3.8/site-packages/torch_geometric/nn/conv/spline_conv.py:133: UserWarning: We do not recommend using the non-optimized CPU version of `SplineConv`. If possible, please move your data to GPU.\n",
      "  warnings.warn(\n"
     ]
    },
    {
     "data": {
      "text/plain": [
       "tensor([[0.9901],\n",
       "        [1.6638],\n",
       "        [3.0486],\n",
       "        [3.1803]], grad_fn=<AddBackward0>)"
      ]
     },
     "execution_count": 6,
     "metadata": {},
     "output_type": "execute_result"
    }
   ],
   "source": [
    "seed_everything(0)\n",
    "sc = SplineConv(1, 1, 2, 5)\n",
    "\n",
    "sc(data.x, data.edge_index, data.edge_attr)"
   ]
  },
  {
   "cell_type": "code",
   "execution_count": 7,
   "id": "a36af3d5-58ac-4d8d-af38-c4e496e6fe68",
   "metadata": {},
   "outputs": [
    {
     "data": {
      "text/plain": [
       "tensor([[1.1142],\n",
       "        [1.8102],\n",
       "        [2.7647],\n",
       "        [3.6195]], grad_fn=<AddBackward0>)"
      ]
     },
     "execution_count": 7,
     "metadata": {},
     "output_type": "execute_result"
    }
   ],
   "source": [
    "rotated = rotate_graph(data, 30)\n",
    "sc(rotated.x, rotated.edge_index, rotated.edge_attr)"
   ]
  },
  {
   "cell_type": "code",
   "execution_count": null,
   "id": "9a208175-9434-4b60-9f51-0e8866c0568e",
   "metadata": {},
   "outputs": [],
   "source": []
  }
 ],
 "metadata": {
  "kernelspec": {
   "display_name": "Python 3 (ipykernel)",
   "language": "python",
   "name": "python3"
  },
  "language_info": {
   "codemirror_mode": {
    "name": "ipython",
    "version": 3
   },
   "file_extension": ".py",
   "mimetype": "text/x-python",
   "name": "python",
   "nbconvert_exporter": "python",
   "pygments_lexer": "ipython3",
   "version": "3.8.13"
  }
 },
 "nbformat": 4,
 "nbformat_minor": 5
}
