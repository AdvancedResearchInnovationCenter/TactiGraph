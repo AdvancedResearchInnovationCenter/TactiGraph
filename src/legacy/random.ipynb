{
 "cells": [
  {
   "cell_type": "code",
   "execution_count": 1,
   "id": "f03a775c-0f7f-4e83-972a-cf01a07d7105",
   "metadata": {},
   "outputs": [
    {
     "data": {
      "text/plain": [
       "Data(x=[4, 1], edge_index=[2, 4], pos=[4, 2], edge_attr=[4, 1])"
      ]
     },
     "execution_count": 1,
     "metadata": {},
     "output_type": "execute_result"
    }
   ],
   "source": [
    "from torch_geometric.nn import GCNConv, SplineConv\n",
    "from torch_geometric import seed_everything\n",
    "import torch\n",
    "import torch_geometric as pyg\n",
    "import numpy as np\n",
    "\n",
    "pos = np.array([[0, 0], [0, 1], [1, 0], [1, 1]]).astype(np.float32)\n",
    "x = np.array([1, 2, 3, 4]).reshape(-1, 1).astype(np.float32)\n",
    "edge_index = np.array([[0, 1], [1, 2], [2, 3], [3, 0]]).T\n",
    "\n",
    "pos = torch.tensor(pos)\n",
    "x = torch.tensor(x)\n",
    "edge_index = torch.tensor(edge_index)\n",
    "data = pyg.data.Data(x, edge_index, pos = pos)\n",
    "\n",
    "data = pyg.transforms.Distance()(data)\n",
    "data"
   ]
  },
  {
   "cell_type": "markdown",
   "id": "682f2f92-376e-4b43-bcd0-2b54869aa0c1",
   "metadata": {},
   "source": [
    "### GCNs are rotation invariant"
   ]
  },
  {
   "cell_type": "code",
   "execution_count": 28,
   "id": "6d388c4f-021b-4e12-839a-48e52856a74a",
   "metadata": {},
   "outputs": [],
   "source": [
    "def rotate_graph(data, theta):\n",
    "    theta = np.radians(theta)\n",
    "    c, s = np.cos(theta), np.sin(theta)\n",
    "    R = np.array(((c, -s), (s, c)))\n",
    "    \n",
    "    rot_pos = torch.tensor((R@data.pos[:,:2].numpy().T).T.astype(np.float32))\n",
    "\n",
    "    rotated = pyg.data.Data(data.x, data.edge_index, pos = rot_pos)\n",
    "    return rotated"
   ]
  },
  {
   "cell_type": "code",
   "execution_count": 3,
   "id": "c0482f99-d116-4e10-b6e3-b4d57a6f10f7",
   "metadata": {},
   "outputs": [
    {
     "data": {
      "text/plain": [
       "tensor([[2.4760],\n",
       "        [1.4441],\n",
       "        [2.3994],\n",
       "        [3.2438]], grad_fn=<AddBackward0>)"
      ]
     },
     "execution_count": 3,
     "metadata": {},
     "output_type": "execute_result"
    }
   ],
   "source": [
    "seed_everything(0)\n",
    "gc = GCNConv(1, 1)\n",
    "gc(data.x, data.edge_index, data.edge_attr)"
   ]
  },
  {
   "cell_type": "code",
   "execution_count": 4,
   "id": "2caf2ddb-a705-4371-a2fb-778063fb2659",
   "metadata": {},
   "outputs": [
    {
     "data": {
      "text/plain": [
       "tensor([[2.4760],\n",
       "        [1.4441],\n",
       "        [2.3994],\n",
       "        [3.2438]], grad_fn=<AddBackward0>)"
      ]
     },
     "execution_count": 4,
     "metadata": {},
     "output_type": "execute_result"
    }
   ],
   "source": [
    "rotated = rotate_graph(data, 30)\n",
    "gc(rotated.x, rotated.edge_index, rotated.edge_attr)"
   ]
  },
  {
   "cell_type": "code",
   "execution_count": 5,
   "id": "f9edd36d-1f04-4414-bfb9-03c7af6448c9",
   "metadata": {},
   "outputs": [],
   "source": [
    "data = pyg.transforms.Cartesian(norm=True, cat=False)(data)"
   ]
  },
  {
   "cell_type": "code",
   "execution_count": 6,
   "id": "f445ad06-060d-4c27-8434-2442f0cf71cc",
   "metadata": {},
   "outputs": [
    {
     "name": "stderr",
     "output_type": "stream",
     "text": [
      "/home/hussain/miniconda3/envs/tactile38/lib/python3.8/site-packages/torch_geometric/nn/conv/spline_conv.py:133: UserWarning: We do not recommend using the non-optimized CPU version of `SplineConv`. If possible, please move your data to GPU.\n",
      "  warnings.warn(\n"
     ]
    },
    {
     "data": {
      "text/plain": [
       "tensor([[0.9901],\n",
       "        [1.6638],\n",
       "        [3.0486],\n",
       "        [3.1803]], grad_fn=<AddBackward0>)"
      ]
     },
     "execution_count": 6,
     "metadata": {},
     "output_type": "execute_result"
    }
   ],
   "source": [
    "seed_everything(0)\n",
    "sc = SplineConv(1, 1, 2, 5)\n",
    "\n",
    "sc(data.x, data.edge_index, data.edge_attr)"
   ]
  },
  {
   "cell_type": "code",
   "execution_count": 7,
   "id": "a36af3d5-58ac-4d8d-af38-c4e496e6fe68",
   "metadata": {},
   "outputs": [
    {
     "data": {
      "text/plain": [
       "tensor([[1.1142],\n",
       "        [1.8102],\n",
       "        [2.7647],\n",
       "        [3.6195]], grad_fn=<AddBackward0>)"
      ]
     },
     "execution_count": 7,
     "metadata": {},
     "output_type": "execute_result"
    }
   ],
   "source": [
    "rotated = rotate_graph(data, 30)\n",
    "sc(rotated.x, rotated.edge_index, rotated.edge_attr)"
   ]
  },
  {
   "cell_type": "code",
   "execution_count": 94,
   "id": "9a208175-9434-4b60-9f51-0e8866c0568e",
   "metadata": {},
   "outputs": [
    {
     "data": {
      "text/plain": [
       "<torch_geometric.loader.dataloader.DataLoader at 0x7f5ce01af880>"
      ]
     },
     "execution_count": 94,
     "metadata": {},
     "output_type": "execute_result"
    }
   ],
   "source": [
    "from imports.TactileDataset import TactileDataset\n",
    "from torch_geometric.loader import DataLoader\n",
    "\n",
    "td = TactileDataset('/home/hussain/tactile/data/contact_extraction5/train/', )\n",
    "dl = DataLoader(td, batch_size=20)\n",
    "dl"
   ]
  },
  {
   "cell_type": "code",
   "execution_count": 106,
   "id": "e61d30ae-c6dc-4846-bab8-fe09f8f603e1",
   "metadata": {},
   "outputs": [
    {
     "data": {
      "text/plain": [
       "DataBatch(x=[31206, 1], edge_index=[2, 998592], y=[40], pos=[31206, 3], edge_attr=[998592, 3], batch=[31206], ptr=[21])"
      ]
     },
     "execution_count": 106,
     "metadata": {},
     "output_type": "execute_result"
    }
   ],
   "source": [
    "it_sample = next(iter(dl))\n",
    "it_sample"
   ]
  },
  {
   "cell_type": "code",
   "execution_count": 107,
   "id": "ad5f370d-b92a-4229-8576-678caff5dcb7",
   "metadata": {},
   "outputs": [],
   "source": [
    "im_height=260\n",
    "im_width=346\n",
    "\n",
    "circle_center=(173, 130)"
   ]
  },
  {
   "cell_type": "code",
   "execution_count": 108,
   "id": "f710ae71-7061-47d8-975f-6228f9a66150",
   "metadata": {},
   "outputs": [
    {
     "data": {
      "text/plain": [
       "(0.5, 0.5)"
      ]
     },
     "execution_count": 108,
     "metadata": {},
     "output_type": "execute_result"
    }
   ],
   "source": [
    "center_norm = (173 / im_width, 130/ im_height)\n",
    "center_norm"
   ]
  },
  {
   "cell_type": "code",
   "execution_count": 109,
   "id": "488bc697-428a-4ab0-8a37-b7d5836c3cbe",
   "metadata": {},
   "outputs": [
    {
     "data": {
      "text/plain": [
       "Data(x=[1880, 1], edge_index=[2, 60160], y=[2], pos=[1880, 3], edge_attr=[60160, 3])"
      ]
     },
     "execution_count": 109,
     "metadata": {},
     "output_type": "execute_result"
    }
   ],
   "source": [
    "sample = td.get(10)\n",
    "sample"
   ]
  },
  {
   "cell_type": "code",
   "execution_count": 110,
   "id": "117c8390-4f78-47f5-823b-fd1202be5638",
   "metadata": {},
   "outputs": [
    {
     "data": {
      "text/plain": [
       "tensor([[0.5925, 0.5538],\n",
       "        [0.2717, 0.5692],\n",
       "        [0.6474, 0.5654],\n",
       "        ...,\n",
       "        [0.4480, 0.6923],\n",
       "        [0.4422, 0.6885],\n",
       "        [0.3121, 0.3885]])"
      ]
     },
     "execution_count": 110,
     "metadata": {},
     "output_type": "execute_result"
    }
   ],
   "source": [
    "sample.pos[:,:2]"
   ]
  },
  {
   "cell_type": "code",
   "execution_count": 111,
   "id": "360b3d5f-2423-4ec3-be31-2c647fb7dcec",
   "metadata": {},
   "outputs": [],
   "source": [
    "def rotate_graph(data, theta):\n",
    "    theta = np.radians(theta)\n",
    "    c, s = np.cos(theta), np.sin(theta)\n",
    "    R = np.array(((c, -s), (s, c)))\n",
    "    \n",
    "    rot_pos = torch.tensor((R@data.pos[:,:2].numpy().T).T.astype(np.float32))\n",
    "\n",
    "    rotated = pyg.data.Data(data.x, data.edge_index, pos = rot_pos)\n",
    "    return rotated"
   ]
  },
  {
   "cell_type": "code",
   "execution_count": 112,
   "id": "4ace2174-9b37-498e-bfd2-669833392747",
   "metadata": {},
   "outputs": [
    {
     "data": {
      "text/plain": [
       "<matplotlib.collections.PathCollection at 0x7f5cdfd80490>"
      ]
     },
     "execution_count": 112,
     "metadata": {},
     "output_type": "execute_result"
    },
    {
     "data": {
      "image/png": "[encoded data removed]",
      "text/plain": [
       "<Figure size 500x500 with 1 Axes>"
      ]
     },
     "metadata": {},
     "output_type": "display_data"
    }
   ],
   "source": [
    "import matplotlib.pyplot as plt\n",
    "plt.figure(figsize=(5, 5))\n",
    "plt.scatter(it_sample.pos[:, 0], it_sample.pos[:, 1])"
   ]
  },
  {
   "cell_type": "code",
   "execution_count": 113,
   "id": "b9725d01-de77-48ed-907d-8dac77d4592a",
   "metadata": {},
   "outputs": [],
   "source": [
    "centered = it_sample\n",
    "centered.pos = it_sample.pos[:, :2] - torch.mean(it_sample.pos[:, :2], axis=0)"
   ]
  },
  {
   "cell_type": "code",
   "execution_count": 115,
   "id": "054075d5-cf95-47fa-a4cb-f756c2be4ff8",
   "metadata": {},
   "outputs": [
    {
     "data": {
      "text/plain": [
       "<matplotlib.collections.PathCollection at 0x7f5ce06d3370>"
      ]
     },
     "execution_count": 115,
     "metadata": {},
     "output_type": "execute_result"
    },
    {
     "data": {
      "image/png": "[encoded data removed]",
      "text/plain": [
       "<Figure size 500x500 with 1 Axes>"
      ]
     },
     "metadata": {},
     "output_type": "display_data"
    }
   ],
   "source": [
    "plt.figure(figsize=(5, 5))\n",
    "\n",
    "plt.scatter(*centered.pos.T)\n",
    "plt.scatter(*torch.mean(centered.pos[:, :2], axis=0), c='r')\n",
    "#plt.scatter([0], [0], c='g')"
   ]
  },
  {
   "cell_type": "code",
   "execution_count": null,
   "id": "a2f2d7d3-7a7b-44e0-b96b-177e6938f509",
   "metadata": {},
   "outputs": [],
   "source": []
  },
  {
   "cell_type": "code",
   "execution_count": 117,
   "id": "17b0e326-1529-4698-b7f9-b048de0815e5",
   "metadata": {},
   "outputs": [
    {
     "data": {
      "text/plain": [
       "tensor([2.2248e-08, 4.9539e-08])"
      ]
     },
     "execution_count": 117,
     "metadata": {},
     "output_type": "execute_result"
    }
   ],
   "source": [
    "torch.mean(centered.pos[:, :2], axis=0)"
   ]
  },
  {
   "cell_type": "code",
   "execution_count": 127,
   "id": "ae93ed83-4539-47a1-b739-1c17bc8eb38e",
   "metadata": {},
   "outputs": [
    {
     "data": {
      "text/plain": [
       "Data(x=[31206, 1], edge_index=[2, 998592], pos=[31206, 2])"
      ]
     },
     "execution_count": 127,
     "metadata": {},
     "output_type": "execute_result"
    }
   ],
   "source": [
    "rot_sample = rotate_graph(centered, 45)\n",
    "rot_sample"
   ]
  },
  {
   "cell_type": "code",
   "execution_count": 128,
   "id": "3a144f0f-d96d-44ef-b1e5-9d2d99466ae5",
   "metadata": {},
   "outputs": [
    {
     "data": {
      "text/plain": [
       "<matplotlib.collections.PathCollection at 0x7f5cdfb61df0>"
      ]
     },
     "execution_count": 128,
     "metadata": {},
     "output_type": "execute_result"
    },
    {
     "data": {
      "image/png": "[encoded data removed]",
      "text/plain": [
       "<Figure size 500x500 with 1 Axes>"
      ]
     },
     "metadata": {},
     "output_type": "display_data"
    }
   ],
   "source": [
    "plt.figure(figsize=(5, 5))\n",
    "\n",
    "plt.scatter(rot_sample.pos[:, 0], rot_sample.pos[:, 1])"
   ]
  },
  {
   "cell_type": "code",
   "execution_count": null,
   "id": "27bbd97c-ffbb-43f2-91a4-591f23bc13f0",
   "metadata": {},
   "outputs": [],
   "source": []
  },
  {
   "cell_type": "code",
   "execution_count": 11,
   "id": "89651aa0-f098-4583-99cf-c5641594f67e",
   "metadata": {},
   "outputs": [
    {
     "data": {
      "text/plain": [
       "tensor([[3.4104e-01, 3.3846e-01, 0.0000e+00],\n",
       "        [5.0289e-01, 2.6923e-01, 5.9344e-05],\n",
       "        [3.9884e-01, 3.5769e-01, 5.3409e-03],\n",
       "        ...,\n",
       "        [4.9711e-01, 5.1538e-01, 9.9656e-01],\n",
       "        [5.7225e-01, 3.2308e-01, 9.9941e-01],\n",
       "        [3.8728e-01, 6.4231e-01, 1.0000e+00]])"
      ]
     },
     "execution_count": 11,
     "metadata": {},
     "output_type": "execute_result"
    }
   ],
   "source": [
    "from torch"
   ]
  },
  {
   "cell_type": "code",
   "execution_count": 135,
   "id": "1e5aaada-cd73-4cd3-93be-35d3044bbf3d",
   "metadata": {},
   "outputs": [
    {
     "data": {
      "text/plain": [
       "array([[ 6.123234e-17,  1.000000e+00],\n",
       "       [-1.000000e+00,  6.123234e-17],\n",
       "       [-6.123234e-17, -1.000000e+00]])"
      ]
     },
     "execution_count": 135,
     "metadata": {},
     "output_type": "execute_result"
    }
   ],
   "source": [
    "x = np.array([[1, 0], [0, 1], [-1, 0]])\n",
    "theta = 90\n",
    "theta = np.radians(theta)\n",
    "c, s = np.cos(theta), np.sin(theta)\n",
    "R = np.array(((c, -s), (s, c)))\n",
    "\n",
    "(R @ x.T).T"
   ]
  },
  {
   "cell_type": "code",
   "execution_count": 144,
   "id": "393d5880-5d4d-4035-a1bc-6e321f6dcbd8",
   "metadata": {},
   "outputs": [
    {
     "data": {
      "text/plain": [
       "array([[ 6.123234e-17, -1.000000e+00],\n",
       "       [ 1.000000e+00,  6.123234e-17]])"
      ]
     },
     "execution_count": 144,
     "metadata": {},
     "output_type": "execute_result"
    }
   ],
   "source": [
    "R"
   ]
  },
  {
   "cell_type": "code",
   "execution_count": 152,
   "id": "c08bd383-20b0-4116-97af-57091d6cb796",
   "metadata": {},
   "outputs": [
    {
     "data": {
      "text/plain": [
       "array([0.08776855, 0.03635493], dtype=float32)"
      ]
     },
     "execution_count": 152,
     "metadata": {},
     "output_type": "execute_result"
    }
   ],
   "source": [
    "sample.y.numpy()"
   ]
  },
  {
   "cell_type": "code",
   "execution_count": 153,
   "id": "9708c3d8-91a0-4f11-9eb9-9fdc93440e26",
   "metadata": {
    "collapsed": true,
    "jupyter": {
     "outputs_hidden": true
    },
    "tags": []
   },
   "outputs": [
    {
     "data": {
      "text/plain": [
       "array([[-8.77685547e-02, -3.63549255e-02],\n",
       "       [-7.16438150e-02, -2.96758396e-02],\n",
       "       [-5.55190753e-02, -2.29967537e-02],\n",
       "       [-3.93943354e-02, -1.63176678e-02],\n",
       "       [-1.84775897e-02, -7.65366806e-03],\n",
       "       [ 9.01072245e-10,  5.91218338e-10],\n",
       "       [ 1.84775916e-02,  7.65366924e-03],\n",
       "       [ 3.69551822e-02,  1.53073379e-02],\n",
       "       [ 5.08133752e-02,  2.10475894e-02],\n",
       "       [-7.54272132e-02, -2.40135840e-02],\n",
       "       [-6.30858717e-02, -1.16722425e-02],\n",
       "       [-5.07445302e-02,  6.69099030e-04],\n",
       "       [-3.47355461e-02,  1.66780831e-02],\n",
       "       [-2.05934105e-02,  3.08202187e-02],\n",
       "       [-6.45127485e-03,  4.49623544e-02],\n",
       "       [ 7.69086077e-03,  5.91044900e-02],\n",
       "       [ 1.82974625e-02,  6.97110917e-02],\n",
       "       [-8.10894688e-02, -2.02301858e-02],\n",
       "       [-7.44103829e-02, -4.10544605e-03],\n",
       "       [-6.77312970e-02,  1.20192938e-02],\n",
       "       [-5.90672973e-02,  3.29360395e-02],\n",
       "       [-5.14136286e-02,  5.14136301e-02],\n",
       "       [-4.37599600e-02,  6.98912208e-02],\n",
       "       [-3.61062913e-02,  8.83688114e-02],\n",
       "       [-3.03660398e-02,  1.02227004e-01],\n",
       "       [-8.77685547e-02, -1.89016330e-02],\n",
       "       [-8.77685547e-02, -1.44834048e-03],\n",
       "       [-8.77685547e-02,  1.60049521e-02],\n",
       "       [-8.77685547e-02,  3.86450745e-02],\n",
       "       [-8.77685547e-02,  5.86450745e-02],\n",
       "       [-8.77685547e-02,  7.86450745e-02],\n",
       "       [-8.77685547e-02,  9.86450745e-02],\n",
       "       [-8.77685547e-02,  1.13645075e-01],\n",
       "       [-9.44476406e-02, -2.02301858e-02],\n",
       "       [-1.01126726e-01, -4.10544605e-03],\n",
       "       [-1.07805812e-01,  1.20192938e-02],\n",
       "       [-1.16469812e-01,  3.29360395e-02],\n",
       "       [-1.24123481e-01,  5.14136301e-02],\n",
       "       [-1.31777149e-01,  6.98912208e-02],\n",
       "       [-1.39430818e-01,  8.83688114e-02],\n",
       "       [-1.45171070e-01,  1.02227004e-01],\n",
       "       [-1.00109896e-01, -2.40135840e-02],\n",
       "       [-1.12451238e-01, -1.16722425e-02],\n",
       "       [-1.24792579e-01,  6.69099030e-04],\n",
       "       [-1.40801563e-01,  1.66780831e-02],\n",
       "       [-1.54943699e-01,  3.08202187e-02],\n",
       "       [-1.69085835e-01,  4.49623544e-02],\n",
       "       [-1.83227970e-01,  5.91044900e-02],\n",
       "       [-1.93834572e-01,  6.97110917e-02],\n",
       "       [-1.03893294e-01, -2.96758396e-02],\n",
       "       [-1.20018034e-01, -2.29967537e-02],\n",
       "       [-1.36142774e-01, -1.63176678e-02],\n",
       "       [-1.57059520e-01, -7.65366806e-03],\n",
       "       [-1.75537110e-01,  5.91218345e-10],\n",
       "       [-1.94014701e-01,  7.65366924e-03],\n",
       "       [-2.12492292e-01,  1.53073379e-02],\n",
       "       [-2.26350485e-01,  2.10475894e-02],\n",
       "       [-1.05221847e-01, -3.63549255e-02],\n",
       "       [-1.22675140e-01, -3.63549255e-02],\n",
       "       [-1.40128432e-01, -3.63549255e-02],\n",
       "       [-1.62768555e-01, -3.63549255e-02],\n",
       "       [-1.82768555e-01, -3.63549255e-02],\n",
       "       [-2.02768555e-01, -3.63549255e-02],\n",
       "       [-2.22768555e-01, -3.63549255e-02],\n",
       "       [-2.37768555e-01, -3.63549255e-02],\n",
       "       [-1.03893294e-01, -4.30340114e-02],\n",
       "       [-1.20018034e-01, -4.97130972e-02],\n",
       "       [-1.36142774e-01, -5.63921832e-02],\n",
       "       [-1.57059520e-01, -6.50561829e-02],\n",
       "       [-1.75537110e-01, -7.27098516e-02],\n",
       "       [-1.94014701e-01, -8.03635202e-02],\n",
       "       [-2.12492292e-01, -8.80171889e-02],\n",
       "       [-2.26350485e-01, -9.37574403e-02],\n",
       "       [-1.00109896e-01, -4.86962670e-02],\n",
       "       [-1.12451238e-01, -6.10376084e-02],\n",
       "       [-1.24792579e-01, -7.33789500e-02],\n",
       "       [-1.40801563e-01, -8.93879341e-02],\n",
       "       [-1.54943699e-01, -1.03530070e-01],\n",
       "       [-1.69085835e-01, -1.17672205e-01],\n",
       "       [-1.83227970e-01, -1.31814341e-01],\n",
       "       [-1.93834572e-01, -1.42420943e-01],\n",
       "       [-9.44476406e-02, -5.24796652e-02],\n",
       "       [-1.01126726e-01, -6.86044049e-02],\n",
       "       [-1.07805812e-01, -8.47291447e-02],\n",
       "       [-1.16469812e-01, -1.05645890e-01],\n",
       "       [-1.24123481e-01, -1.24123481e-01],\n",
       "       [-1.31777149e-01, -1.42601072e-01],\n",
       "       [-1.39430818e-01, -1.61078662e-01],\n",
       "       [-1.45171070e-01, -1.74936855e-01],\n",
       "       [-8.77685547e-02, -5.38082180e-02],\n",
       "       [-8.77685547e-02, -7.12615105e-02],\n",
       "       [-8.77685547e-02, -8.87148031e-02],\n",
       "       [-8.77685547e-02, -1.11354925e-01],\n",
       "       [-8.77685547e-02, -1.31354925e-01],\n",
       "       [-8.77685547e-02, -1.51354925e-01],\n",
       "       [-8.77685547e-02, -1.71354925e-01],\n",
       "       [-8.77685547e-02, -1.86354925e-01],\n",
       "       [-8.10894688e-02, -5.24796652e-02],\n",
       "       [-7.44103829e-02, -6.86044049e-02],\n",
       "       [-6.77312970e-02, -8.47291447e-02],\n",
       "       [-5.90672973e-02, -1.05645890e-01],\n",
       "       [-5.14136286e-02, -1.24123481e-01],\n",
       "       [-4.37599600e-02, -1.42601072e-01],\n",
       "       [-3.61062913e-02, -1.61078662e-01],\n",
       "       [-3.03660398e-02, -1.74936855e-01],\n",
       "       [-7.54272132e-02, -4.86962670e-02],\n",
       "       [-6.30858717e-02, -6.10376084e-02],\n",
       "       [-5.07445302e-02, -7.33789500e-02],\n",
       "       [-3.47355461e-02, -8.93879341e-02],\n",
       "       [-2.05934105e-02, -1.03530070e-01],\n",
       "       [-6.45127485e-03, -1.17672205e-01],\n",
       "       [ 7.69086077e-03, -1.31814341e-01],\n",
       "       [ 1.82974625e-02, -1.42420943e-01],\n",
       "       [-7.16438150e-02, -4.30340114e-02],\n",
       "       [-5.55190753e-02, -4.97130972e-02],\n",
       "       [-3.93943354e-02, -5.63921832e-02],\n",
       "       [-1.84775897e-02, -6.50561829e-02],\n",
       "       [ 9.01072217e-10, -7.27098516e-02],\n",
       "       [ 1.84775916e-02, -8.03635202e-02],\n",
       "       [ 3.69551822e-02, -8.80171889e-02],\n",
       "       [ 5.08133752e-02, -9.37574403e-02],\n",
       "       [-7.03152622e-02, -3.63549255e-02],\n",
       "       [-5.28619697e-02, -3.63549255e-02],\n",
       "       [-3.54086771e-02, -3.63549255e-02],\n",
       "       [-1.27685547e-02, -3.63549255e-02],\n",
       "       [ 7.23144531e-03, -3.63549255e-02],\n",
       "       [ 2.72314453e-02, -3.63549255e-02],\n",
       "       [ 4.72314453e-02, -3.63549255e-02],\n",
       "       [ 6.22314453e-02, -3.63549255e-02]])"
      ]
     },
     "execution_count": 153,
     "metadata": {},
     "output_type": "execute_result"
    }
   ],
   "source": [
    "np.array(list_of_rotations)[:, :2] - sample.y.numpy()"
   ]
  },
  {
   "cell_type": "code",
   "execution_count": null,
   "id": "c6b5958e-b705-43fe-a4b6-ec716d17662d",
   "metadata": {},
   "outputs": [],
   "source": []
  },
  {
   "cell_type": "code",
   "execution_count": 146,
   "id": "53b0032e-cc01-4a8a-9006-407a0df936dd",
   "metadata": {},
   "outputs": [],
   "source": [
    "def updateContactStatus(list_of_current_contact_status, rotation_angle):\n",
    "    theta = np.radians(rotation_angle)\n",
    "    list_of_rotated_contact_status = []\n",
    "    \n",
    "    c, s = np.cos(theta), np.sin(theta)\n",
    "    rot_mat = np.array([[c, -s], [s, c]])\n",
    "    \n",
    "    for contact_status in list_of_current_contact_status:\n",
    "        if contact_status == 0:\n",
    "            list_of_rotated_contact_status.append(0)\n",
    "        else:\n",
    "            current_rotation = list_of_rotations[int(contact_status)-1]\n",
    "            rotated_contact_status = np.matmul(rot_mat, current_rotation[0:2])\n",
    "            best_rot_diff = 100\n",
    "            best_rot_idx = 1\n",
    "            i = 1\n",
    "            for rot in list_of_rotations:\n",
    "                diff_vals = np.sqrt( np.power(rot[0] - rotated_contact_status[0], 2) +  np.power(rot[1] - rotated_contact_status[1], 2))\n",
    "                if best_rot_diff > diff_vals:\n",
    "                    best_rot_diff = diff_vals\n",
    "                    best_rot_idx = i\n",
    "                i = i + 1\n",
    "\n",
    "            list_of_rotated_contact_status.append(best_rot_idx)\n",
    "\n",
    "\n",
    "    return list_of_rotated_contact_status"
   ]
  },
  {
   "cell_type": "code",
   "execution_count": 147,
   "id": "133671e1-ea4f-43d7-a483-c29b4acd1a84",
   "metadata": {},
   "outputs": [],
   "source": [
    "possible_angle = [0.0174532925, 0.034906585, 0.0523598776, 0.075, 0.095, 0.115, 0.135, 0.15]#\n",
    "N_examples = 17\n",
    "list_of_rotations = [[0, 0, 0]]\n",
    "\n",
    "for i in range(1, N_examples):\n",
    "    theta = i * 2 * np.pi/(N_examples - 1)\n",
    "    for phi in possible_angle:\n",
    "        rx = phi * np.cos(theta)\n",
    "        ry = phi * np.sin(theta)\n",
    "        rotvec = [rx, ry, 0]\n",
    "        list_of_rotations.append(rotvec)"
   ]
  },
  {
   "cell_type": "code",
   "execution_count": 148,
   "id": "10b578e3-21ec-4025-b3a4-549aa46b37e8",
   "metadata": {},
   "outputs": [
    {
     "data": {
      "text/plain": [
       "[33, 33]"
      ]
     },
     "execution_count": 148,
     "metadata": {},
     "output_type": "execute_result"
    }
   ],
   "source": [
    "updateContactStatus(sample.y, 90)"
   ]
  },
  {
   "cell_type": "code",
   "execution_count": 155,
   "id": "416a4f57-2a49-46a9-a268-6a399d80ae87",
   "metadata": {},
   "outputs": [
    {
     "data": {
      "text/plain": [
       "array([0.08776855, 0.03635493], dtype=float32)"
      ]
     },
     "execution_count": 155,
     "metadata": {},
     "output_type": "execute_result"
    }
   ],
   "source": [
    "\n",
    "theta = np.radians(90)\n",
    "list_of_rotated_contact_status = []\n",
    "\n",
    "c, s = np.cos(theta), np.sin(theta)\n",
    "rot_mat = np.array([[c, -s], [s, c]])\n",
    "\n"
   ]
  },
  {
   "cell_type": "code",
   "execution_count": 167,
   "id": "7bf8cbad-8a0d-4147-a22e-055e4daf0866",
   "metadata": {},
   "outputs": [
    {
     "data": {
      "text/plain": [
       "array([0.08776855, 0.03635493], dtype=float32)"
      ]
     },
     "execution_count": 167,
     "metadata": {},
     "output_type": "execute_result"
    }
   ],
   "source": [
    "sample.y.numpy()"
   ]
  },
  {
   "cell_type": "code",
   "execution_count": 170,
   "id": "52ea3b9f-a8d1-44ab-98b1-96cc85ee3b85",
   "metadata": {},
   "outputs": [
    {
     "data": {
      "text/plain": [
       "[0.08776855558857224, 0.03635492607468353, 0]"
      ]
     },
     "execution_count": 170,
     "metadata": {},
     "output_type": "execute_result"
    }
   ],
   "source": [
    "rotated_contact_status = sample.y.numpy() #rot_mat @ sample.y.numpy()\n",
    "rotated_contact_status\n",
    "\n",
    "best_rot_diff = 100\n",
    "best_rot_idx = 1\n",
    "i = 1\n",
    "for rot in list_of_rotations:\n",
    "    diff_vals = np.sqrt( np.power(rot[0] - rotated_contact_status[0], 2) +  np.power(rot[1] - rotated_contact_status[1], 2))\n",
    "    if best_rot_diff > diff_vals:\n",
    "        best_rot_diff = diff_vals\n",
    "        best_rot_idx = i\n",
    "    i = i + 1\n",
    "list_of_rotations[best_rot_idx-1]"
   ]
  },
  {
   "cell_type": "code",
   "execution_count": 162,
   "id": "b06a8682-8153-43cf-aac7-058bc6327881",
   "metadata": {},
   "outputs": [
    {
     "data": {
      "text/plain": [
       "[-0.044008594721985324, 0.10624614623879798, 0]"
      ]
     },
     "execution_count": 162,
     "metadata": {},
     "output_type": "execute_result"
    }
   ],
   "source": [
    "\tx\ty\n",
    "93834\t-0.035865240052627416\t-0.03597525083034619"
   ]
  },
  {
   "cell_type": "code",
   "execution_count": 179,
   "id": "0afa86f4-689b-47ab-a032-ee500d46389c",
   "metadata": {},
   "outputs": [
    {
     "name": "stdout",
     "output_type": "stream",
     "text": [
      "-0.035865240052627416 -0.03597525083034619 -5.3156907365631555e-05\n"
     ]
    }
   ],
   "source": [
    "best_rot_diff = 100\n",
    "best_rot_idx = 1\n",
    "i = 1\n",
    "x, y, z = -0.035865240052627416, -0.03597525083034619, -5.3156907365631555e-05\n",
    "print(x, y, z)\n",
    "for rot in list_of_rotations:\n",
    "    diff_vals = np.sqrt(np.power(rot[0] - x, 2) +  np.power(rot[1] - y, 2) + np.power(rot[2] - z, 2))\n",
    "    if best_rot_diff > diff_vals:\n",
    "        best_rot_diff = diff_vals\n",
    "        best_rot_idx = i\n",
    "    i = i + 1"
   ]
  },
  {
   "cell_type": "code",
   "execution_count": 180,
   "id": "a0a650cc-2143-45e2-856e-aceb9ab6e898",
   "metadata": {},
   "outputs": [
    {
     "data": {
      "text/plain": [
       "[-0.03702402451305762, -0.037024024513057606, 0]"
      ]
     },
     "execution_count": 180,
     "metadata": {},
     "output_type": "execute_result"
    }
   ],
   "source": [
    "list_of_rotations[best_rot_idx-1]"
   ]
  },
  {
   "cell_type": "code",
   "execution_count": 182,
   "id": "a9c3242f-2b92-4302-9aa8-5457b16f6c69",
   "metadata": {},
   "outputs": [
    {
     "data": {
      "text/plain": [
       "76"
      ]
     },
     "execution_count": 182,
     "metadata": {},
     "output_type": "execute_result"
    }
   ],
   "source": [
    "best_rot_idx"
   ]
  },
  {
   "cell_type": "code",
   "execution_count": 183,
   "id": "8e5a295b-4849-49da-bd79-3e11b875109a",
   "metadata": {},
   "outputs": [
    {
     "data": {
      "text/plain": [
       "[-0.03702402451305762, -0.037024024513057606]"
      ]
     },
     "execution_count": 183,
     "metadata": {},
     "output_type": "execute_result"
    }
   ],
   "source": [
    "\n",
    "cases_dict = {i+1: list_of_rotations[i][:2] for i in range(len(list_of_rotations))}\n",
    "cases_dict[0] = [0, 0]\n",
    "\n",
    "cases_dict[76]"
   ]
  },
  {
   "cell_type": "code",
   "execution_count": 3,
   "id": "2d12ad04-d9db-41ac-9c2d-16f1ecf88c2f",
   "metadata": {},
   "outputs": [],
   "source": [
    "import torch\n",
    "from torch_geometric.data import Data\n",
    "\n",
    "edge_index = torch.tensor([[0, 1, 1],\n",
    "                           [1, 0, 2]], dtype=torch.long)\n",
    "x = torch.tensor([[-1], [0], [1]], dtype=torch.float)\n",
    "\n",
    "data = Data(x=x, edge_index=edge_index)"
   ]
  },
  {
   "cell_type": "code",
   "execution_count": 2,
   "id": "08b45a80-5e2b-4a90-8da2-ae2999d332b0",
   "metadata": {},
   "outputs": [
    {
     "data": {
      "text/plain": [
       "Data(x=[3, 1], edge_index=[2, 4])"
      ]
     },
     "execution_count": 2,
     "metadata": {},
     "output_type": "execute_result"
    }
   ],
   "source": [
    "data"
   ]
  },
  {
   "cell_type": "code",
   "execution_count": 5,
   "id": "ddb0d688-9b33-4034-a2d8-9a1216a4326c",
   "metadata": {},
   "outputs": [
    {
     "data": {
      "text/plain": [
       "tensor([[[0., 1., 0.],\n",
       "         [1., 0., 1.],\n",
       "         [0., 0., 0.]]])"
      ]
     },
     "execution_count": 5,
     "metadata": {},
     "output_type": "execute_result"
    }
   ],
   "source": [
    "from torch_geometric.utils import to_dense_adj\n",
    "\n",
    "to_dense_adj(data.edge_index)"
   ]
  }
 ],
 "metadata": {
  "kernelspec": {
   "display_name": "Python 3 (ipykernel)",
   "language": "python",
   "name": "python3"
  },
  "language_info": {
   "codemirror_mode": {
    "name": "ipython",
    "version": 3
   },
   "file_extension": ".py",
   "mimetype": "text/x-python",
   "name": "python",
   "nbconvert_exporter": "python",
   "pygments_lexer": "ipython3",
   "version": "3.8.13"
  }
 },
 "nbformat": 4,
 "nbformat_minor": 5
}
