{
 "cells": [
  {
   "cell_type": "code",
   "execution_count": 1,
   "id": "53502128-2757-492b-b0e6-6762ab726017",
   "metadata": {},
   "outputs": [
    {
     "name": "stdout",
     "output_type": "stream",
     "text": [
      "129\n",
      "386\n",
      "129\n"
     ]
    }
   ],
   "source": [
    "import json\n",
    "\n",
    "with open('../data/contact_extraction1/test/raw/contact_cases.json', 'r') as f:\n",
    "    test = json.load(f)\n",
    "    print(len(test))\n",
    "    \n",
    "with open('../data/contact_extraction1/train/raw/contact_cases.json', 'r') as f:\n",
    "    train = json.load(f)\n",
    "    print(len(train))\n",
    "    \n",
    "with open('../data/contact_extraction1/val/raw/contact_cases.json', 'r') as f:\n",
    "    val = json.load(f)\n",
    "    print(len(val))"
   ]
  },
  {
   "cell_type": "code",
   "execution_count": 11,
   "id": "8eadac87-e701-498a-a1f4-04961b29b876",
   "metadata": {},
   "outputs": [],
   "source": [
    "samples = {}\n",
    "i = 1\n",
    "for subset in [train, test, val]:\n",
    "    for idx, sample in subset.items():\n",
    "        samples[f'sample_{i}'] = sample\n",
    "        i += 1"
   ]
  },
  {
   "cell_type": "code",
   "execution_count": 2,
   "id": "bb5d3d9f-120b-4699-9fe9-061378372505",
   "metadata": {},
   "outputs": [
    {
     "ename": "NameError",
     "evalue": "name 'train_test_split' is not defined",
     "output_type": "error",
     "traceback": [
      "\u001b[0;31m---------------------------------------------------------------------------\u001b[0m",
      "\u001b[0;31mNameError\u001b[0m                                 Traceback (most recent call last)",
      "Input \u001b[0;32mIn [2]\u001b[0m, in \u001b[0;36m<cell line: 1>\u001b[0;34m()\u001b[0m\n\u001b[0;32m----> 1\u001b[0m \u001b[43mtrain_test_split\u001b[49m(\u001b[38;5;28mlist\u001b[39m(samples\u001b[38;5;241m.\u001b[39mkeys()), train_size\u001b[38;5;241m=\u001b[39m\u001b[38;5;241m0.6\u001b[39m, stratify\u001b[38;5;241m=\u001b[39mcases)\n",
      "\u001b[0;31mNameError\u001b[0m: name 'train_test_split' is not defined"
     ]
    }
   ],
   "source": [
    "train_test_split(list(samples.keys()), train_size=0.6, stratify=cases)"
   ]
  },
  {
   "cell_type": "code",
   "execution_count": 14,
   "id": "2a2639d5-f085-4bbb-b3b8-ef048dcdbc36",
   "metadata": {},
   "outputs": [],
   "source": [
    "cases_train = [sample['case'] for _, sample in train.items()]\n",
    "cases_test = [sample['case'] for _, sample in test.items()]\n",
    "cases_val = [sample['case'] for _, sample in val.items()]"
   ]
  },
  {
   "cell_type": "code",
   "execution_count": 31,
   "id": "015704f4-acc7-47de-b74c-03f92085b41c",
   "metadata": {},
   "outputs": [
    {
     "data": {
      "text/plain": [
       "((array([  1,   2,   3,   4,   6,   7,   8,  10,  13,  14,  15,  16,  18,\n",
       "          19,  20,  21,  23,  24,  26,  27,  29,  35,  36,  38,  42,  46,\n",
       "          47,  48,  49,  50,  51,  53,  54,  55,  56,  57,  60,  61,  62,\n",
       "          63,  64,  66,  67,  68,  69,  71,  72,  73,  74,  76,  77,  78,\n",
       "          79,  80,  81,  83,  84,  85,  86,  87,  88,  89,  92,  93,  94,\n",
       "          96,  99, 100, 101, 102, 105, 106, 107, 109, 112, 115, 116, 117,\n",
       "         118, 119, 120, 126, 128, 129]),\n",
       "  array([2, 1, 2, 2, 1, 1, 1, 3, 2, 1, 1, 2, 1, 1, 1, 1, 1, 1, 1, 1, 1, 2,\n",
       "         2, 1, 1, 2, 2, 1, 2, 2, 1, 1, 1, 1, 1, 2, 1, 1, 2, 1, 2, 1, 2, 3,\n",
       "         1, 1, 3, 2, 1, 1, 1, 2, 3, 2, 2, 1, 1, 2, 2, 1, 2, 2, 1, 1, 1, 1,\n",
       "         1, 3, 2, 3, 3, 1, 1, 2, 2, 1, 4, 1, 1, 1, 1, 2, 1, 2])),\n",
       " 129)"
      ]
     },
     "execution_count": 31,
     "metadata": {},
     "output_type": "execute_result"
    }
   ],
   "source": [
    "import numpy as np\n",
    "np.unique(cases_val, return_counts=True), len(cases_val)"
   ]
  },
  {
   "cell_type": "code",
   "execution_count": 136,
   "id": "e2bc2177-dd91-4d10-8644-65694766a073",
   "metadata": {},
   "outputs": [],
   "source": [
    "tr, va = train_test_split(cases[:, 0], stratify=cases[:, 1], train_size=0.6)"
   ]
  },
  {
   "cell_type": "code",
   "execution_count": 138,
   "id": "25e4304e-ffbf-457f-8f10-2a463a2dddab",
   "metadata": {},
   "outputs": [],
   "source": [
    "cases_tr = [samples[idx]['case'] for idx in tr]\n",
    "cases_va = [samples[idx]['case'] for idx in va]"
   ]
  },
  {
   "cell_type": "code",
   "execution_count": 139,
   "id": "805e0401-6a48-4d1f-a908-97070a8d6280",
   "metadata": {},
   "outputs": [
    {
     "data": {
      "text/plain": [
       "((array([  1,   2,   3,   4,   5,   6,   7,   8,   9,  10,  11,  12,  13,\n",
       "          14,  15,  16,  17,  18,  19,  20,  21,  22,  23,  24,  25,  26,\n",
       "          27,  28,  29,  30,  31,  32,  33,  34,  35,  36,  37,  38,  39,\n",
       "          40,  41,  42,  43,  44,  45,  46,  47,  48,  49,  50,  51,  52,\n",
       "          53,  54,  55,  56,  57,  58,  59,  60,  61,  62,  63,  64,  65,\n",
       "          66,  67,  68,  69,  70,  71,  72,  73,  74,  75,  76,  77,  78,\n",
       "          79,  80,  81,  82,  83,  84,  85,  86,  87,  88,  89,  90,  91,\n",
       "          92,  93,  94,  95,  96,  97,  98,  99, 100, 101, 102, 103, 104,\n",
       "         105, 106, 107, 108, 109, 110, 111, 112, 113, 114, 115, 116, 117,\n",
       "         118, 119, 120, 121, 122, 123, 124, 125, 126, 127, 128, 129]),\n",
       "  array([3, 3, 3, 3, 3, 3, 3, 3, 3, 3, 3, 3, 3, 3, 3, 3, 3, 3, 3, 3, 3, 3,\n",
       "         3, 3, 3, 3, 3, 3, 3, 3, 3, 3, 3, 3, 3, 3, 3, 3, 3, 3, 3, 3, 3, 3,\n",
       "         2, 3, 3, 3, 3, 3, 3, 3, 3, 3, 3, 3, 3, 3, 3, 3, 3, 3, 3, 3, 3, 3,\n",
       "         3, 3, 3, 3, 3, 3, 3, 3, 3, 3, 3, 3, 3, 3, 3, 3, 3, 3, 3, 3, 3, 3,\n",
       "         3, 3, 3, 3, 3, 3, 3, 3, 3, 3, 3, 3, 3, 3, 3, 3, 3, 3, 3, 3, 3, 3,\n",
       "         3, 3, 3, 3, 3, 3, 3, 3, 3, 3, 3, 3, 3, 3, 3, 3, 3, 3, 3])),\n",
       " (array([  1,   2,   3,   4,   5,   6,   7,   8,   9,  10,  11,  12,  13,\n",
       "          14,  15,  16,  17,  18,  19,  20,  21,  22,  23,  24,  25,  26,\n",
       "          27,  28,  29,  30,  31,  32,  33,  34,  35,  36,  37,  38,  39,\n",
       "          40,  41,  42,  43,  44,  45,  46,  47,  48,  49,  50,  51,  52,\n",
       "          53,  54,  55,  56,  57,  58,  59,  60,  61,  62,  63,  64,  65,\n",
       "          66,  67,  68,  69,  70,  71,  72,  73,  74,  75,  76,  77,  78,\n",
       "          79,  80,  81,  82,  83,  84,  85,  86,  87,  88,  89,  90,  91,\n",
       "          92,  93,  94,  95,  96,  97,  98,  99, 100, 101, 102, 103, 104,\n",
       "         105, 106, 107, 108, 109, 110, 111, 112, 113, 114, 115, 116, 117,\n",
       "         118, 119, 120, 121, 122, 123, 124, 125, 126, 127, 128, 129]),\n",
       "  array([2, 2, 2, 2, 2, 2, 2, 2, 2, 2, 2, 2, 2, 2, 2, 2, 2, 2, 2, 2, 2, 2,\n",
       "         2, 2, 2, 2, 2, 2, 2, 2, 2, 2, 2, 2, 2, 2, 2, 2, 2, 2, 2, 2, 2, 2,\n",
       "         2, 2, 2, 2, 2, 2, 2, 2, 2, 2, 2, 2, 2, 2, 2, 2, 2, 2, 2, 2, 2, 2,\n",
       "         2, 2, 2, 2, 2, 2, 2, 2, 2, 2, 2, 2, 2, 2, 2, 2, 2, 2, 2, 2, 2, 2,\n",
       "         2, 2, 2, 2, 2, 2, 2, 2, 2, 2, 2, 2, 2, 2, 2, 2, 2, 2, 2, 2, 2, 2,\n",
       "         2, 2, 2, 2, 2, 2, 2, 2, 2, 2, 2, 2, 2, 2, 2, 2, 2, 2, 2])))"
      ]
     },
     "execution_count": 139,
     "metadata": {},
     "output_type": "execute_result"
    }
   ],
   "source": [
    "np.unique(cases_tr, return_counts=1), np.unique(cases_va, return_counts=1)"
   ]
  },
  {
   "cell_type": "code",
   "execution_count": 132,
   "id": "c59d22e7-46d8-44b9-9390-7413245c708a",
   "metadata": {},
   "outputs": [
    {
     "data": {
      "text/plain": [
       "(array([3., 4., 4., 4., 4., 3., 4., 4., 4., 4., 4., 3., 3., 4., 4., 4., 4.,\n",
       "        4., 4., 3., 4., 4., 4., 3., 4., 4., 4., 3., 4., 3., 4., 3., 4., 4.,\n",
       "        4., 4., 3., 4., 3., 4., 3., 4., 4., 4., 3., 4., 4., 4., 3., 4., 4.,\n",
       "        3., 3., 4., 4., 4., 3., 4., 4., 3., 4., 3., 4., 3., 4., 3., 4., 4.,\n",
       "        4., 4., 4., 3., 4., 4., 4., 4., 4., 4., 4., 4., 4., 4., 4., 3., 4.,\n",
       "        4., 3., 4., 3., 4., 4., 4., 4., 4., 4., 4., 4., 4., 4., 4., 4., 4.,\n",
       "        4., 4., 4., 4., 4., 4., 4., 4., 3., 4., 4., 3., 4., 3., 4., 4., 3.,\n",
       "        4., 4., 4., 3., 3., 3., 4., 4., 7.]),\n",
       " array([  1.,   2.,   3.,   4.,   5.,   6.,   7.,   8.,   9.,  10.,  11.,\n",
       "         12.,  13.,  14.,  15.,  16.,  17.,  18.,  19.,  20.,  21.,  22.,\n",
       "         23.,  24.,  25.,  26.,  27.,  28.,  29.,  30.,  31.,  32.,  33.,\n",
       "         34.,  35.,  36.,  37.,  38.,  39.,  40.,  41.,  42.,  43.,  44.,\n",
       "         45.,  46.,  47.,  48.,  49.,  50.,  51.,  52.,  53.,  54.,  55.,\n",
       "         56.,  57.,  58.,  59.,  60.,  61.,  62.,  63.,  64.,  65.,  66.,\n",
       "         67.,  68.,  69.,  70.,  71.,  72.,  73.,  74.,  75.,  76.,  77.,\n",
       "         78.,  79.,  80.,  81.,  82.,  83.,  84.,  85.,  86.,  87.,  88.,\n",
       "         89.,  90.,  91.,  92.,  93.,  94.,  95.,  96.,  97.,  98.,  99.,\n",
       "        100., 101., 102., 103., 104., 105., 106., 107., 108., 109., 110.,\n",
       "        111., 112., 113., 114., 115., 116., 117., 118., 119., 120., 121.,\n",
       "        122., 123., 124., 125., 126., 127., 128., 129.]),\n",
       " <a list of 128 Patch objects>)"
      ]
     },
     "execution_count": 132,
     "metadata": {},
     "output_type": "execute_result"
    },
    {
     "data": {
      "image/png": "[encoded data removed]",
      "text/plain": [
       "<Figure size 640x480 with 1 Axes>"
      ]
     },
     "metadata": {},
     "output_type": "display_data"
    }
   ],
   "source": [
    "plt.hist(cases_tr, bins=128)"
   ]
  },
  {
   "cell_type": "code",
   "execution_count": 32,
   "id": "eebe172e-6a05-4658-a780-388c381611b1",
   "metadata": {},
   "outputs": [
    {
     "data": {
      "text/plain": [
       "<matplotlib.legend.Legend at 0x7f008b4795b0>"
      ]
     },
     "execution_count": 32,
     "metadata": {},
     "output_type": "execute_result"
    },
    {
     "data": {
      "image/png": "[encoded data removed]",
      "text/plain": [
       "<Figure size 640x480 with 1 Axes>"
      ]
     },
     "metadata": {},
     "output_type": "display_data"
    }
   ],
   "source": [
    "import matplotlib.pyplot as plt\n",
    "\n",
    "plt.hist(cases_train, bins=128, label='train')\n",
    "plt.hist(cases_test, label='test', bins=128)\n",
    "plt.hist(cases_val, label='val', bins=128)\n",
    "\n",
    "plt.legend()"
   ]
  },
  {
   "cell_type": "code",
   "execution_count": 50,
   "id": "07e0d535-54a5-400b-b399-d7106b55e192",
   "metadata": {},
   "outputs": [],
   "source": [
    "cases = [(sample_id, sample['case']) for sample_id, sample in samples.items()]\n",
    "cases = np.array(cases)"
   ]
  },
  {
   "cell_type": "code",
   "execution_count": 66,
   "id": "de3b0b27-d09a-44b8-bc1e-5787f794984e",
   "metadata": {},
   "outputs": [
    {
     "data": {
      "text/plain": [
       "array(['sample_88', 'sample_140', 'sample_402', 'sample_529',\n",
       "       'sample_627'], dtype='<U21')"
      ]
     },
     "execution_count": 66,
     "metadata": {},
     "output_type": "execute_result"
    }
   ],
   "source": [
    "idx_case = cases[np.where(cases[:, 1] == str(i))[0], 0]\n",
    "idx_case"
   ]
  },
  {
   "cell_type": "code",
   "execution_count": 119,
   "id": "693a7b63-6a9a-44ca-98e7-1f3403907b63",
   "metadata": {},
   "outputs": [
    {
     "data": {
      "text/plain": [
       "[array(['sample_402', 'sample_140', 'sample_529'], dtype='<U21'),\n",
       " array(['sample_88', 'sample_627'], dtype='<U21')]"
      ]
     },
     "execution_count": 119,
     "metadata": {},
     "output_type": "execute_result"
    }
   ],
   "source": [
    "train_test_split(idx_case, train_size=0.6)"
   ]
  },
  {
   "cell_type": "code",
   "execution_count": 67,
   "id": "b1a64fd2-3e65-429c-8d77-e6c4d3ab699b",
   "metadata": {},
   "outputs": [],
   "source": [
    "from sklearn.model_selection import train_test_split\n",
    "train_idx = []\n",
    "val_idx = []\n",
    "test_idx = []\n",
    "for i in range(1, 130):\n",
    "    idx_case = cases[np.where(cases[:, 1] == str(i))[0], 0]\n",
    "    tr, val_te = train_test_split(idx_case)"
   ]
  }
 ],
 "metadata": {
  "kernelspec": {
   "display_name": "Python 3 (ipykernel)",
   "language": "python",
   "name": "python3"
  },
  "language_info": {
   "codemirror_mode": {
    "name": "ipython",
    "version": 3
   },
   "file_extension": ".py",
   "mimetype": "text/x-python",
   "name": "python",
   "nbconvert_exporter": "python",
   "pygments_lexer": "ipython3",
   "version": "3.8.13"
  },
  "vscode": {
   "interpreter": {
    "hash": "34b1c1fd0608eac91ff8ee3b378baa82baa76b865f0fb1b05cc06f1667b6717e"
   }
  }
 },
 "nbformat": 4,
 "nbformat_minor": 5
}
