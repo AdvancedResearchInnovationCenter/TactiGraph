{
 "cells": [
  {
   "cell_type": "code",
   "execution_count": null,
   "id": "666c746c-ab81-4a4f-820a-d12cd61dd1b7",
   "metadata": {},
   "outputs": [
    {
     "ename": "KeyboardInterrupt",
     "evalue": "",
     "output_type": "error",
     "traceback": [
      "\u001b[0;31m---------------------------------------------------------------------------\u001b[0m",
      "\u001b[0;31mKeyboardInterrupt\u001b[0m                         Traceback (most recent call last)",
      "Input \u001b[0;32mIn [1]\u001b[0m, in \u001b[0;36m<cell line: 1>\u001b[0;34m()\u001b[0m\n\u001b[0;32m----> 1\u001b[0m \u001b[38;5;28;01mimport\u001b[39;00m \u001b[38;5;21;01mbagpy\u001b[39;00m\n\u001b[1;32m      2\u001b[0m \u001b[38;5;28;01mfrom\u001b[39;00m \u001b[38;5;21;01mbagpy\u001b[39;00m \u001b[38;5;28;01mimport\u001b[39;00m bagreader\n\u001b[1;32m      4\u001b[0m br \u001b[38;5;241m=\u001b[39m bagreader(\u001b[38;5;124m'\u001b[39m\u001b[38;5;124m/data/dataset_ENVTACT_new2.bag\u001b[39m\u001b[38;5;124m'\u001b[39m)\n",
      "File \u001b[0;32m~/miniconda3/envs/torch/lib/python3.8/site-packages/bagpy/__init__.py:6\u001b[0m, in \u001b[0;36m<module>\u001b[0;34m\u001b[0m\n\u001b[1;32m      1\u001b[0m \u001b[38;5;66;03m# Initial Date: March 2, 2020\u001b[39;00m\n\u001b[1;32m      2\u001b[0m \u001b[38;5;66;03m# Author: Rahul Bhadani\u001b[39;00m\n\u001b[1;32m      3\u001b[0m \u001b[38;5;66;03m# Copyright (c)  Rahul Bhadani, Arizona Board of Regents\u001b[39;00m\n\u001b[1;32m      4\u001b[0m \u001b[38;5;66;03m# All rights reserved.\u001b[39;00m\n\u001b[0;32m----> 6\u001b[0m \u001b[38;5;28;01mfrom\u001b[39;00m \u001b[38;5;21;01m.\u001b[39;00m\u001b[38;5;21;01mbagreader\u001b[39;00m \u001b[38;5;28;01mimport\u001b[39;00m bagreader\n\u001b[1;32m      7\u001b[0m \u001b[38;5;28;01mfrom\u001b[39;00m \u001b[38;5;21;01m.\u001b[39;00m\u001b[38;5;21;01mbagreader\u001b[39;00m \u001b[38;5;28;01mimport\u001b[39;00m animate_timeseries\n\u001b[1;32m      8\u001b[0m \u001b[38;5;28;01mfrom\u001b[39;00m \u001b[38;5;21;01m.\u001b[39;00m\u001b[38;5;21;01mbagreader\u001b[39;00m \u001b[38;5;28;01mimport\u001b[39;00m create_fig\n",
      "File \u001b[0;32m~/miniconda3/envs/torch/lib/python3.8/site-packages/bagpy/bagreader.py:53\u001b[0m, in \u001b[0;36m<module>\u001b[0;34m\u001b[0m\n\u001b[1;32m     51\u001b[0m \u001b[38;5;28;01mimport\u001b[39;00m \u001b[38;5;21;01mnumpy\u001b[39;00m  \u001b[38;5;28;01mas\u001b[39;00m \u001b[38;5;21;01mnp\u001b[39;00m\n\u001b[1;32m     52\u001b[0m \u001b[38;5;28;01mimport\u001b[39;00m \u001b[38;5;21;01mpandas\u001b[39;00m \u001b[38;5;28;01mas\u001b[39;00m \u001b[38;5;21;01mpd\u001b[39;00m\n\u001b[0;32m---> 53\u001b[0m \u001b[38;5;28;01mimport\u001b[39;00m \u001b[38;5;21;01mmatplotlib\u001b[39;00m\u001b[38;5;21;01m.\u001b[39;00m\u001b[38;5;21;01mpyplot\u001b[39;00m \u001b[38;5;28;01mas\u001b[39;00m \u001b[38;5;21;01mplt\u001b[39;00m\n\u001b[1;32m     54\u001b[0m \u001b[38;5;28;01mimport\u001b[39;00m \u001b[38;5;21;01mseaborn\u001b[39;00m \u001b[38;5;28;01mas\u001b[39;00m \u001b[38;5;21;01msea\u001b[39;00m\n\u001b[1;32m     55\u001b[0m \u001b[38;5;28;01mimport\u001b[39;00m \u001b[38;5;21;01mpickle\u001b[39;00m\n",
      "File \u001b[0;32m~/miniconda3/envs/torch/lib/python3.8/site-packages/matplotlib/__init__.py:109\u001b[0m, in \u001b[0;36m<module>\u001b[0;34m\u001b[0m\n\u001b[1;32m    105\u001b[0m \u001b[38;5;28;01mfrom\u001b[39;00m \u001b[38;5;21;01mpackaging\u001b[39;00m\u001b[38;5;21;01m.\u001b[39;00m\u001b[38;5;21;01mversion\u001b[39;00m \u001b[38;5;28;01mimport\u001b[39;00m parse \u001b[38;5;28;01mas\u001b[39;00m parse_version\n\u001b[1;32m    107\u001b[0m \u001b[38;5;66;03m# cbook must import matplotlib only within function\u001b[39;00m\n\u001b[1;32m    108\u001b[0m \u001b[38;5;66;03m# definitions, so it is safe to import from it here.\u001b[39;00m\n\u001b[0;32m--> 109\u001b[0m \u001b[38;5;28;01mfrom\u001b[39;00m \u001b[38;5;21;01m.\u001b[39;00m \u001b[38;5;28;01mimport\u001b[39;00m _api, _version, cbook, docstring, rcsetup\n\u001b[1;32m    110\u001b[0m \u001b[38;5;28;01mfrom\u001b[39;00m \u001b[38;5;21;01mmatplotlib\u001b[39;00m\u001b[38;5;21;01m.\u001b[39;00m\u001b[38;5;21;01mcbook\u001b[39;00m \u001b[38;5;28;01mimport\u001b[39;00m MatplotlibDeprecationWarning, sanitize_sequence\n\u001b[1;32m    111\u001b[0m \u001b[38;5;28;01mfrom\u001b[39;00m \u001b[38;5;21;01mmatplotlib\u001b[39;00m\u001b[38;5;21;01m.\u001b[39;00m\u001b[38;5;21;01mcbook\u001b[39;00m \u001b[38;5;28;01mimport\u001b[39;00m mplDeprecation  \u001b[38;5;66;03m# deprecated\u001b[39;00m\n",
      "File \u001b[0;32m~/miniconda3/envs/torch/lib/python3.8/site-packages/matplotlib/rcsetup.py:27\u001b[0m, in \u001b[0;36m<module>\u001b[0;34m\u001b[0m\n\u001b[1;32m     25\u001b[0m \u001b[38;5;28;01mfrom\u001b[39;00m \u001b[38;5;21;01mmatplotlib\u001b[39;00m \u001b[38;5;28;01mimport\u001b[39;00m _api, cbook\n\u001b[1;32m     26\u001b[0m \u001b[38;5;28;01mfrom\u001b[39;00m \u001b[38;5;21;01mmatplotlib\u001b[39;00m\u001b[38;5;21;01m.\u001b[39;00m\u001b[38;5;21;01mcbook\u001b[39;00m \u001b[38;5;28;01mimport\u001b[39;00m ls_mapper\n\u001b[0;32m---> 27\u001b[0m \u001b[38;5;28;01mfrom\u001b[39;00m \u001b[38;5;21;01mmatplotlib\u001b[39;00m\u001b[38;5;21;01m.\u001b[39;00m\u001b[38;5;21;01mcolors\u001b[39;00m \u001b[38;5;28;01mimport\u001b[39;00m Colormap, is_color_like\n\u001b[1;32m     28\u001b[0m \u001b[38;5;28;01mfrom\u001b[39;00m \u001b[38;5;21;01mmatplotlib\u001b[39;00m\u001b[38;5;21;01m.\u001b[39;00m\u001b[38;5;21;01mfontconfig_pattern\u001b[39;00m \u001b[38;5;28;01mimport\u001b[39;00m parse_fontconfig_pattern\n\u001b[1;32m     29\u001b[0m \u001b[38;5;28;01mfrom\u001b[39;00m \u001b[38;5;21;01mmatplotlib\u001b[39;00m\u001b[38;5;21;01m.\u001b[39;00m\u001b[38;5;21;01m_enums\u001b[39;00m \u001b[38;5;28;01mimport\u001b[39;00m JoinStyle, CapStyle\n",
      "File \u001b[0;32m~/miniconda3/envs/torch/lib/python3.8/site-packages/matplotlib/colors.py:52\u001b[0m, in \u001b[0;36m<module>\u001b[0;34m\u001b[0m\n\u001b[1;32m     50\u001b[0m \u001b[38;5;28;01mimport\u001b[39;00m \u001b[38;5;21;01mre\u001b[39;00m\n\u001b[1;32m     51\u001b[0m \u001b[38;5;28;01mfrom\u001b[39;00m \u001b[38;5;21;01mPIL\u001b[39;00m \u001b[38;5;28;01mimport\u001b[39;00m Image\n\u001b[0;32m---> 52\u001b[0m \u001b[38;5;28;01mfrom\u001b[39;00m \u001b[38;5;21;01mPIL\u001b[39;00m\u001b[38;5;21;01m.\u001b[39;00m\u001b[38;5;21;01mPngImagePlugin\u001b[39;00m \u001b[38;5;28;01mimport\u001b[39;00m PngInfo\n\u001b[1;32m     54\u001b[0m \u001b[38;5;28;01mimport\u001b[39;00m \u001b[38;5;21;01mmatplotlib\u001b[39;00m \u001b[38;5;28;01mas\u001b[39;00m \u001b[38;5;21;01mmpl\u001b[39;00m\n\u001b[1;32m     55\u001b[0m \u001b[38;5;28;01mimport\u001b[39;00m \u001b[38;5;21;01mnumpy\u001b[39;00m \u001b[38;5;28;01mas\u001b[39;00m \u001b[38;5;21;01mnp\u001b[39;00m\n",
      "File \u001b[0;32m~/miniconda3/envs/torch/lib/python3.8/site-packages/PIL/PngImagePlugin.py:120\u001b[0m, in \u001b[0;36m<module>\u001b[0;34m\u001b[0m\n\u001b[1;32m    112\u001b[0m     \u001b[38;5;124;03m\"\"\"\u001b[39;00m\n\u001b[1;32m    113\u001b[0m \u001b[38;5;124;03m    This frame’s modified region is reverted to the previous frame’s contents before\u001b[39;00m\n\u001b[1;32m    114\u001b[0m \u001b[38;5;124;03m    rendering the next frame.\u001b[39;00m\n\u001b[1;32m    115\u001b[0m \u001b[38;5;124;03m    See :ref:`Saving APNG sequences<apng-saving>`.\u001b[39;00m\n\u001b[1;32m    116\u001b[0m \u001b[38;5;124;03m    \"\"\"\u001b[39;00m\n\u001b[1;32m    119\u001b[0m \u001b[38;5;66;03m# APNG frame blend modes\u001b[39;00m\n\u001b[0;32m--> 120\u001b[0m \u001b[38;5;28;01mclass\u001b[39;00m \u001b[38;5;21;01mBlend\u001b[39;00m(IntEnum):\n\u001b[1;32m    121\u001b[0m     OP_SOURCE \u001b[38;5;241m=\u001b[39m \u001b[38;5;241m0\u001b[39m\n\u001b[1;32m    122\u001b[0m     \u001b[38;5;124;03m\"\"\"\u001b[39;00m\n\u001b[1;32m    123\u001b[0m \u001b[38;5;124;03m    All color components of this frame, including alpha, overwrite the previous output\u001b[39;00m\n\u001b[1;32m    124\u001b[0m \u001b[38;5;124;03m    image contents.\u001b[39;00m\n\u001b[1;32m    125\u001b[0m \u001b[38;5;124;03m    See :ref:`Saving APNG sequences<apng-saving>`.\u001b[39;00m\n\u001b[1;32m    126\u001b[0m \u001b[38;5;124;03m    \"\"\"\u001b[39;00m\n",
      "File \u001b[0;32m~/miniconda3/envs/torch/lib/python3.8/enum.py:265\u001b[0m, in \u001b[0;36mEnumMeta.__new__\u001b[0;34m(metacls, cls, bases, classdict)\u001b[0m\n\u001b[1;32m    262\u001b[0m \u001b[38;5;66;03m# performance boost for any member that would not shadow\u001b[39;00m\n\u001b[1;32m    263\u001b[0m \u001b[38;5;66;03m# a DynamicClassAttribute\u001b[39;00m\n\u001b[1;32m    264\u001b[0m \u001b[38;5;28;01mif\u001b[39;00m member_name \u001b[38;5;129;01mnot\u001b[39;00m \u001b[38;5;129;01min\u001b[39;00m dynamic_attributes:\n\u001b[0;32m--> 265\u001b[0m     \u001b[38;5;28;43msetattr\u001b[39;49m\u001b[43m(\u001b[49m\u001b[43menum_class\u001b[49m\u001b[43m,\u001b[49m\u001b[43m \u001b[49m\u001b[43mmember_name\u001b[49m\u001b[43m,\u001b[49m\u001b[43m \u001b[49m\u001b[43menum_member\u001b[49m\u001b[43m)\u001b[49m\n\u001b[1;32m    266\u001b[0m \u001b[38;5;66;03m# now add to _member_map_\u001b[39;00m\n\u001b[1;32m    267\u001b[0m enum_class\u001b[38;5;241m.\u001b[39m_member_map_[member_name] \u001b[38;5;241m=\u001b[39m enum_member\n",
      "File \u001b[0;32m~/miniconda3/envs/torch/lib/python3.8/enum.py:428\u001b[0m, in \u001b[0;36mEnumMeta.__setattr__\u001b[0;34m(cls, name, value)\u001b[0m\n\u001b[1;32m    426\u001b[0m \u001b[38;5;28;01mif\u001b[39;00m name \u001b[38;5;129;01min\u001b[39;00m member_map:\n\u001b[1;32m    427\u001b[0m     \u001b[38;5;28;01mraise\u001b[39;00m \u001b[38;5;167;01mAttributeError\u001b[39;00m(\u001b[38;5;124m'\u001b[39m\u001b[38;5;124mCannot reassign members.\u001b[39m\u001b[38;5;124m'\u001b[39m)\n\u001b[0;32m--> 428\u001b[0m \u001b[38;5;28;43msuper\u001b[39;49m\u001b[43m(\u001b[49m\u001b[43m)\u001b[49m\u001b[38;5;241;43m.\u001b[39;49m\u001b[38;5;21;43m__setattr__\u001b[39;49m(name, value)\n",
      "\u001b[0;31mKeyboardInterrupt\u001b[0m: "
     ]
    }
   ],
   "source": [
    "import bagpy\n",
    "from bagpy import bagreader\n",
    "\n",
    "br = bagreader('/data/dataset_ENVTACT_new2.bag')"
   ]
  },
  {
   "cell_type": "code",
   "execution_count": 4,
   "id": "8c165331-bbe6-4f19-97b7-66b6d9ab4565",
   "metadata": {},
   "outputs": [
    {
     "data": {
      "application/vnd.jupyter.widget-view+json": {
       "model_id": "e672f7874c7f4698be9c760b695f9811",
       "version_major": 2,
       "version_minor": 0
      },
      "text/plain": [
       "0it [00:00, ?it/s]"
      ]
     },
     "metadata": {},
     "output_type": "display_data"
    },
    {
     "ename": "ModuleNotFoundError",
     "evalue": "No module named 'cv_bridge.boost'",
     "output_type": "error",
     "traceback": [
      "\u001b[0;31m---------------------------------------------------------------------------\u001b[0m",
      "\u001b[0;31mModuleNotFoundError\u001b[0m                       Traceback (most recent call last)",
      "Input \u001b[0;32mIn [4]\u001b[0m, in \u001b[0;36m<cell line: 37>\u001b[0;34m()\u001b[0m\n\u001b[1;32m     33\u001b[0m     bag\u001b[38;5;241m.\u001b[39mclose()\n\u001b[1;32m     35\u001b[0m     \u001b[38;5;28;01mreturn\u001b[39;00m\n\u001b[0;32m---> 37\u001b[0m \u001b[43mmain\u001b[49m\u001b[43m(\u001b[49m\u001b[43m)\u001b[49m\n",
      "Input \u001b[0;32mIn [4]\u001b[0m, in \u001b[0;36mmain\u001b[0;34m()\u001b[0m\n\u001b[1;32m     24\u001b[0m count \u001b[38;5;241m=\u001b[39m \u001b[38;5;241m0\u001b[39m\n\u001b[1;32m     25\u001b[0m \u001b[38;5;28;01mfor\u001b[39;00m topic, msg, t \u001b[38;5;129;01min\u001b[39;00m tqdm(bag\u001b[38;5;241m.\u001b[39mread_messages(topics\u001b[38;5;241m=\u001b[39m[image_topic])):\n\u001b[0;32m---> 26\u001b[0m     cv_img \u001b[38;5;241m=\u001b[39m \u001b[43mbridge\u001b[49m\u001b[38;5;241;43m.\u001b[39;49m\u001b[43mimgmsg_to_cv2\u001b[49m\u001b[43m(\u001b[49m\u001b[43mmsg\u001b[49m\u001b[43m,\u001b[49m\u001b[43m \u001b[49m\u001b[43mdesired_encoding\u001b[49m\u001b[38;5;241;43m=\u001b[39;49m\u001b[38;5;124;43m\"\u001b[39;49m\u001b[38;5;124;43mpassthrough\u001b[39;49m\u001b[38;5;124;43m\"\u001b[39;49m\u001b[43m)\u001b[49m\n\u001b[1;32m     28\u001b[0m     cv2\u001b[38;5;241m.\u001b[39mimwrite(os\u001b[38;5;241m.\u001b[39mpath\u001b[38;5;241m.\u001b[39mjoin(output_dir, \u001b[38;5;124m\"\u001b[39m\u001b[38;5;124mframe\u001b[39m\u001b[38;5;132;01m%06i\u001b[39;00m\u001b[38;5;124m.png\u001b[39m\u001b[38;5;124m\"\u001b[39m \u001b[38;5;241m%\u001b[39m count), cv_img)\n\u001b[1;32m     29\u001b[0m     \u001b[38;5;28mprint\u001b[39m(\u001b[38;5;124m\"\u001b[39m\u001b[38;5;124mWrote image \u001b[39m\u001b[38;5;132;01m%i\u001b[39;00m\u001b[38;5;124m\"\u001b[39m \u001b[38;5;241m%\u001b[39m count)\n",
      "File \u001b[0;32m~/miniconda3/envs/torch/lib/python3.8/site-packages/cv_bridge/core.py:169\u001b[0m, in \u001b[0;36mCvBridge.imgmsg_to_cv2\u001b[0;34m(self, img_msg, desired_encoding)\u001b[0m\n\u001b[1;32m    148\u001b[0m \u001b[38;5;124;03m\"\"\"\u001b[39;00m\n\u001b[1;32m    149\u001b[0m \u001b[38;5;124;03mConvert a sensor_msgs::Image message to an OpenCV :cpp:type:`cv::Mat`.\u001b[39;00m\n\u001b[1;32m    150\u001b[0m \n\u001b[0;32m   (...)\u001b[0m\n\u001b[1;32m    166\u001b[0m \u001b[38;5;124;03mIf the image only has one channel, the shape has size 2 (width and height)\u001b[39;00m\n\u001b[1;32m    167\u001b[0m \u001b[38;5;124;03m\"\"\"\u001b[39;00m\n\u001b[1;32m    168\u001b[0m \u001b[38;5;28;01mimport\u001b[39;00m \u001b[38;5;21;01mnumpy\u001b[39;00m \u001b[38;5;28;01mas\u001b[39;00m \u001b[38;5;21;01mnp\u001b[39;00m\n\u001b[0;32m--> 169\u001b[0m dtype, n_channels \u001b[38;5;241m=\u001b[39m \u001b[38;5;28;43mself\u001b[39;49m\u001b[38;5;241;43m.\u001b[39;49m\u001b[43mencoding_to_dtype_with_channels\u001b[49m\u001b[43m(\u001b[49m\u001b[43mimg_msg\u001b[49m\u001b[38;5;241;43m.\u001b[39;49m\u001b[43mencoding\u001b[49m\u001b[43m)\u001b[49m\n\u001b[1;32m    170\u001b[0m dtype \u001b[38;5;241m=\u001b[39m np\u001b[38;5;241m.\u001b[39mdtype(dtype)\n\u001b[1;32m    171\u001b[0m dtype \u001b[38;5;241m=\u001b[39m dtype\u001b[38;5;241m.\u001b[39mnewbyteorder(\u001b[38;5;124m'\u001b[39m\u001b[38;5;124m>\u001b[39m\u001b[38;5;124m'\u001b[39m \u001b[38;5;28;01mif\u001b[39;00m img_msg\u001b[38;5;241m.\u001b[39mis_bigendian \u001b[38;5;28;01melse\u001b[39;00m \u001b[38;5;124m'\u001b[39m\u001b[38;5;124m<\u001b[39m\u001b[38;5;124m'\u001b[39m)\n",
      "File \u001b[0;32m~/miniconda3/envs/torch/lib/python3.8/site-packages/cv_bridge/core.py:104\u001b[0m, in \u001b[0;36mCvBridge.encoding_to_dtype_with_channels\u001b[0;34m(self, encoding)\u001b[0m\n\u001b[1;32m    103\u001b[0m \u001b[38;5;28;01mdef\u001b[39;00m \u001b[38;5;21mencoding_to_dtype_with_channels\u001b[39m(\u001b[38;5;28mself\u001b[39m, encoding):\n\u001b[0;32m--> 104\u001b[0m     \u001b[38;5;28;01mreturn\u001b[39;00m \u001b[38;5;28mself\u001b[39m\u001b[38;5;241m.\u001b[39mcvtype2_to_dtype_with_channels(\u001b[38;5;28;43mself\u001b[39;49m\u001b[38;5;241;43m.\u001b[39;49m\u001b[43mencoding_to_cvtype2\u001b[49m\u001b[43m(\u001b[49m\u001b[43mencoding\u001b[49m\u001b[43m)\u001b[49m)\n",
      "File \u001b[0;32m~/miniconda3/envs/torch/lib/python3.8/site-packages/cv_bridge/core.py:96\u001b[0m, in \u001b[0;36mCvBridge.encoding_to_cvtype2\u001b[0;34m(self, encoding)\u001b[0m\n\u001b[1;32m     95\u001b[0m \u001b[38;5;28;01mdef\u001b[39;00m \u001b[38;5;21mencoding_to_cvtype2\u001b[39m(\u001b[38;5;28mself\u001b[39m, encoding):\n\u001b[0;32m---> 96\u001b[0m     \u001b[38;5;28;01mfrom\u001b[39;00m \u001b[38;5;21;01mcv_bridge\u001b[39;00m\u001b[38;5;21;01m.\u001b[39;00m\u001b[38;5;21;01mboost\u001b[39;00m\u001b[38;5;21;01m.\u001b[39;00m\u001b[38;5;21;01mcv_bridge_boost\u001b[39;00m \u001b[38;5;28;01mimport\u001b[39;00m getCvType\n\u001b[1;32m     98\u001b[0m     \u001b[38;5;28;01mtry\u001b[39;00m:\n\u001b[1;32m     99\u001b[0m         \u001b[38;5;28;01mreturn\u001b[39;00m getCvType(encoding)\n",
      "\u001b[0;31mModuleNotFoundError\u001b[0m: No module named 'cv_bridge.boost'"
     ]
    }
   ],
   "source": [
    "import os\n",
    "import argparse\n",
    "\n",
    "import cv2\n",
    "\n",
    "import rosbag\n",
    "from sensor_msgs.msg import Image\n",
    "from tqdm.auto import tqdm\n",
    "from cv_bridge import CvBridge\n",
    "\n",
    "bag_file = '/data/dataset_ENVTACT_new2.bag'\n",
    "output_dir = '/data/dataset_ENVTACT_new2/raw_images/'\n",
    "image_topic = '/dvs/image_raw'\n",
    "\n",
    "def main():\n",
    "    \"\"\"Extract a folder of images from a rosbag.\n",
    "    \"\"\"\n",
    "\n",
    "    #print \"Extract images from %s on topic %s into %s\" % (args.bag_file,\n",
    "      #                                                    args.image_topic, args.output_dir)\n",
    "\n",
    "    bag = rosbag.Bag(bag_file, \"r\")\n",
    "    bridge = CvBridge()\n",
    "    count = 0\n",
    "    for topic, msg, t in tqdm(bag.read_messages(topics=[image_topic])):\n",
    "        cv_img = bridge.imgmsg_to_cv2(msg, desired_encoding=\"passthrough\")\n",
    "\n",
    "        cv2.imwrite(os.path.join(output_dir, \"frame%06i.png\" % count), cv_img)\n",
    "        print(\"Wrote image %i\" % count)\n",
    "\n",
    "        count += 1\n",
    "\n",
    "    bag.close()\n",
    "\n",
    "    return\n",
    "\n",
    "main()"
   ]
  },
  {
   "cell_type": "code",
   "execution_count": 3,
   "id": "5da92c9f-e89b-409d-963a-3ff1ced99191",
   "metadata": {},
   "outputs": [],
   "source": [
    "import tqdm"
   ]
  },
  {
   "cell_type": "code",
   "execution_count": 3,
   "id": "01a4fcb4-3ff3-455d-8328-608cd7cb2a4d",
   "metadata": {},
   "outputs": [
    {
     "data": {
      "text/html": [
       "<div>\n",
       "<style scoped>\n",
       "    .dataframe tbody tr th:only-of-type {\n",
       "        vertical-align: middle;\n",
       "    }\n",
       "\n",
       "    .dataframe tbody tr th {\n",
       "        vertical-align: top;\n",
       "    }\n",
       "\n",
       "    .dataframe thead th {\n",
       "        text-align: right;\n",
       "    }\n",
       "</style>\n",
       "<table border=\"1\" class=\"dataframe\">\n",
       "  <thead>\n",
       "    <tr style=\"text-align: right;\">\n",
       "      <th></th>\n",
       "      <th>Topics</th>\n",
       "      <th>Types</th>\n",
       "      <th>Message Count</th>\n",
       "      <th>Frequency</th>\n",
       "    </tr>\n",
       "  </thead>\n",
       "  <tbody>\n",
       "    <tr>\n",
       "      <th>0</th>\n",
       "      <td>/contact_angle</td>\n",
       "      <td>geometry_msgs/Vector3</td>\n",
       "      <td>161245</td>\n",
       "      <td>50.002432</td>\n",
       "    </tr>\n",
       "    <tr>\n",
       "      <th>1</th>\n",
       "      <td>/contact_status</td>\n",
       "      <td>std_msgs/Bool</td>\n",
       "      <td>161245</td>\n",
       "      <td>50.001836</td>\n",
       "    </tr>\n",
       "    <tr>\n",
       "      <th>2</th>\n",
       "      <td>/dvs/events</td>\n",
       "      <td>dvs_msgs/EventArray</td>\n",
       "      <td>97207</td>\n",
       "      <td>32.432024</td>\n",
       "    </tr>\n",
       "    <tr>\n",
       "      <th>3</th>\n",
       "      <td>/dvs/image_raw</td>\n",
       "      <td>sensor_msgs/Image</td>\n",
       "      <td>74760</td>\n",
       "      <td>24.748953</td>\n",
       "    </tr>\n",
       "    <tr>\n",
       "      <th>4</th>\n",
       "      <td>/sensor_depth</td>\n",
       "      <td>std_msgs/Float64</td>\n",
       "      <td>161245</td>\n",
       "      <td>50.002432</td>\n",
       "    </tr>\n",
       "  </tbody>\n",
       "</table>\n",
       "</div>"
      ],
      "text/plain": [
       "            Topics                  Types  Message Count  Frequency\n",
       "0   /contact_angle  geometry_msgs/Vector3         161245  50.002432\n",
       "1  /contact_status          std_msgs/Bool         161245  50.001836\n",
       "2      /dvs/events    dvs_msgs/EventArray          97207  32.432024\n",
       "3   /dvs/image_raw      sensor_msgs/Image          74760  24.748953\n",
       "4    /sensor_depth       std_msgs/Float64         161245  50.002432"
      ]
     },
     "execution_count": 3,
     "metadata": {},
     "output_type": "execute_result"
    }
   ],
   "source": [
    "br.topic_table"
   ]
  },
  {
   "cell_type": "code",
   "execution_count": 3,
   "id": "e0a31933-2441-469a-81fb-f0b6536d840e",
   "metadata": {},
   "outputs": [],
   "source": [
    "raw=br.message_by_topic('/dvs/image_raw')"
   ]
  },
  {
   "cell_type": "code",
   "execution_count": 3,
   "id": "b38ae475-5179-4f85-86c1-cfe02f726e32",
   "metadata": {},
   "outputs": [
    {
     "name": "stdout",
     "output_type": "stream",
     "text": [
      "65\n",
      "[[0, 0, 0], [0.01234134148078231, 0.012341341480782309, 0], [0.02468268296156462, 0.024682682961564617, 0], [0.03702402451305761, 0.037024024513057606, 0], [0.053033008588991064, 0.05303300858899106, 0], [0.06717514421272203, 0.06717514421272201, 0], [0.08131727983645297, 0.08131727983645295, 0], [0.09545941546018392, 0.09545941546018391, 0], [0.10606601717798213, 0.10606601717798211, 0], [1.0687059397353753e-18, 0.0174532925, 0], [2.1374118794707506e-18, 0.034906585, 0], [3.2061178253293598e-18, 0.0523598776, 0], [4.592425496802574e-18, 0.075, 0], [5.817072295949928e-18, 0.095, 0], [7.04171909509728e-18, 0.115, 0], [8.266365894244634e-18, 0.135, 0], [9.184850993605149e-18, 0.15, 0], [-0.012341341480782309, 0.01234134148078231, 0], [-0.024682682961564617, 0.02468268296156462, 0], [-0.037024024513057606, 0.03702402451305761, 0], [-0.05303300858899106, 0.053033008588991064, 0], [-0.06717514421272201, 0.06717514421272203, 0], [-0.08131727983645295, 0.08131727983645297, 0], [-0.09545941546018391, 0.09545941546018392, 0], [-0.10606601717798211, 0.10606601717798213, 0], [-0.0174532925, 2.1374118794707506e-18, 0], [-0.034906585, 4.274823758941501e-18, 0], [-0.0523598776, 6.4122356506587196e-18, 0], [-0.075, 9.184850993605149e-18, 0], [-0.095, 1.1634144591899856e-17, 0], [-0.115, 1.408343819019456e-17, 0], [-0.135, 1.653273178848927e-17, 0], [-0.15, 1.8369701987210297e-17, 0], [-0.012341341480782312, -0.012341341480782309, 0], [-0.024682682961564624, -0.024682682961564617, 0], [-0.03702402451305762, -0.037024024513057606, 0], [-0.05303300858899108, -0.05303300858899106, 0], [-0.06717514421272203, -0.06717514421272201, 0], [-0.08131727983645298, -0.08131727983645295, 0], [-0.09545941546018394, -0.09545941546018391, 0], [-0.10606601717798216, -0.10606601717798211, 0], [-3.2061178192061255e-18, -0.0174532925, 0], [-6.412235638412251e-18, -0.034906585, 0], [-9.618353475988079e-18, -0.0523598776, 0], [-1.3777276490407722e-17, -0.075, 0], [-1.745121688784978e-17, -0.095, 0], [-2.1125157285291842e-17, -0.115, 0], [-2.4799097682733903e-17, -0.135, 0], [-2.7554552980815445e-17, -0.15, 0], [0.012341341480782307, -0.012341341480782312, 0], [0.024682682961564614, -0.024682682961564624, 0], [0.0370240245130576, -0.03702402451305762, 0], [0.05303300858899105, -0.05303300858899108, 0], [0.067175144212722, -0.06717514421272203, 0], [0.08131727983645295, -0.08131727983645298, 0], [0.0954594154601839, -0.09545941546018394, 0], [0.1060660171779821, -0.10606601717798216, 0], [0.0174532925, -4.274823758941501e-18, 0], [0.034906585, -8.549647517883002e-18, 0], [0.0523598776, -1.2824471301317439e-17, 0], [0.075, -1.8369701987210297e-17, 0], [0.095, -2.3268289183799712e-17, 0], [0.115, -2.816687638038912e-17, 0], [0.135, -3.306546357697854e-17, 0], [0.15, -3.6739403974420595e-17, 0]]\n"
     ]
    }
   ],
   "source": [
    "import numpy as np\n",
    "possible_angle = [0.0174532925, 0.034906585, 0.0523598776, 0.075, 0.095, 0.115, 0.135, 0.15]#[0.075, 0.15]#\n",
    "N_examples = 9\n",
    "list_of_rotations = [[0, 0, 0]]\n",
    "\n",
    "for i in range(1, N_examples):\n",
    "    theta = i * 2 * np.pi/(N_examples - 1)\n",
    "    for phi in possible_angle:\n",
    "        rx = phi * np.cos(theta)\n",
    "        ry = phi * np.sin(theta)\n",
    "        rotvec = [rx, ry, 0]\n",
    "        list_of_rotations.append(rotvec)\n",
    "\n",
    "print(len(list_of_rotations))\n",
    "print(list_of_rotations)"
   ]
  },
  {
   "cell_type": "code",
   "execution_count": 1,
   "id": "ee82766d-049b-4ee8-aaee-5f102c835aa1",
   "metadata": {},
   "outputs": [
    {
     "data": {
      "text/html": [
       "<div>\n",
       "<style scoped>\n",
       "    .dataframe tbody tr th:only-of-type {\n",
       "        vertical-align: middle;\n",
       "    }\n",
       "\n",
       "    .dataframe tbody tr th {\n",
       "        vertical-align: top;\n",
       "    }\n",
       "\n",
       "    .dataframe thead th {\n",
       "        text-align: right;\n",
       "    }\n",
       "</style>\n",
       "<table border=\"1\" class=\"dataframe\">\n",
       "  <thead>\n",
       "    <tr style=\"text-align: right;\">\n",
       "      <th></th>\n",
       "      <th>Time</th>\n",
       "      <th>x</th>\n",
       "      <th>y</th>\n",
       "      <th>z</th>\n",
       "    </tr>\n",
       "  </thead>\n",
       "  <tbody>\n",
       "    <tr>\n",
       "      <th>0</th>\n",
       "      <td>1.662379e+09</td>\n",
       "      <td>0.000001</td>\n",
       "      <td>-0.000029</td>\n",
       "      <td>-0.000053</td>\n",
       "    </tr>\n",
       "    <tr>\n",
       "      <th>1</th>\n",
       "      <td>1.662379e+09</td>\n",
       "      <td>-0.000007</td>\n",
       "      <td>-0.000037</td>\n",
       "      <td>-0.000113</td>\n",
       "    </tr>\n",
       "    <tr>\n",
       "      <th>2</th>\n",
       "      <td>1.662379e+09</td>\n",
       "      <td>-0.000041</td>\n",
       "      <td>-0.000098</td>\n",
       "      <td>-0.000125</td>\n",
       "    </tr>\n",
       "    <tr>\n",
       "      <th>3</th>\n",
       "      <td>1.662379e+09</td>\n",
       "      <td>-0.000057</td>\n",
       "      <td>-0.000104</td>\n",
       "      <td>-0.000137</td>\n",
       "    </tr>\n",
       "    <tr>\n",
       "      <th>4</th>\n",
       "      <td>1.662379e+09</td>\n",
       "      <td>-0.000056</td>\n",
       "      <td>-0.000117</td>\n",
       "      <td>-0.000101</td>\n",
       "    </tr>\n",
       "    <tr>\n",
       "      <th>...</th>\n",
       "      <td>...</td>\n",
       "      <td>...</td>\n",
       "      <td>...</td>\n",
       "      <td>...</td>\n",
       "    </tr>\n",
       "    <tr>\n",
       "      <th>161240</th>\n",
       "      <td>1.662382e+09</td>\n",
       "      <td>0.149937</td>\n",
       "      <td>-0.000095</td>\n",
       "      <td>0.000147</td>\n",
       "    </tr>\n",
       "    <tr>\n",
       "      <th>161241</th>\n",
       "      <td>1.662382e+09</td>\n",
       "      <td>0.149976</td>\n",
       "      <td>-0.000013</td>\n",
       "      <td>0.000146</td>\n",
       "    </tr>\n",
       "    <tr>\n",
       "      <th>161242</th>\n",
       "      <td>1.662382e+09</td>\n",
       "      <td>0.149975</td>\n",
       "      <td>-0.000027</td>\n",
       "      <td>0.000047</td>\n",
       "    </tr>\n",
       "    <tr>\n",
       "      <th>161243</th>\n",
       "      <td>1.662382e+09</td>\n",
       "      <td>0.150002</td>\n",
       "      <td>0.000029</td>\n",
       "      <td>0.000105</td>\n",
       "    </tr>\n",
       "    <tr>\n",
       "      <th>161244</th>\n",
       "      <td>1.662382e+09</td>\n",
       "      <td>0.150025</td>\n",
       "      <td>0.000058</td>\n",
       "      <td>0.000114</td>\n",
       "    </tr>\n",
       "  </tbody>\n",
       "</table>\n",
       "<p>161245 rows × 4 columns</p>\n",
       "</div>"
      ],
      "text/plain": [
       "                Time         x         y         z\n",
       "0       1.662379e+09  0.000001 -0.000029 -0.000053\n",
       "1       1.662379e+09 -0.000007 -0.000037 -0.000113\n",
       "2       1.662379e+09 -0.000041 -0.000098 -0.000125\n",
       "3       1.662379e+09 -0.000057 -0.000104 -0.000137\n",
       "4       1.662379e+09 -0.000056 -0.000117 -0.000101\n",
       "...              ...       ...       ...       ...\n",
       "161240  1.662382e+09  0.149937 -0.000095  0.000147\n",
       "161241  1.662382e+09  0.149976 -0.000013  0.000146\n",
       "161242  1.662382e+09  0.149975 -0.000027  0.000047\n",
       "161243  1.662382e+09  0.150002  0.000029  0.000105\n",
       "161244  1.662382e+09  0.150025  0.000058  0.000114\n",
       "\n",
       "[161245 rows x 4 columns]"
      ]
     },
     "execution_count": 1,
     "metadata": {},
     "output_type": "execute_result"
    }
   ],
   "source": [
    "import pandas as pd\n",
    "import matplotlib.pyplot as plt\n",
    "\n",
    "contact_angle = pd.read_csv('/data/dataset_ENVTACT_new2/contact_angle.csv')\n",
    "contact_angle"
   ]
  },
  {
   "cell_type": "code",
   "execution_count": 7,
   "id": "c90b0a7a",
   "metadata": {},
   "outputs": [
    {
     "name": "stderr",
     "output_type": "stream",
     "text": [
      "161245it [00:40, 4017.67it/s]\n"
     ]
    }
   ],
   "source": [
    "from tqdm.auto import tqdm\n",
    "min_idx = []\n",
    "for idx, row in tqdm(contact_angle.iterrows()):\n",
    "    ts, x, y, z = row\n",
    "    coord = np.array([x, y, z])\n",
    "    euc_dist_rot = [(rot - coord).dot(rot - coord) for rot in list_of_rotations]\n",
    "    min_euc_idx = np.argmin(euc_dist_rot)\n",
    "    min_idx.append(min_euc_idx)\n",
    "\n"
   ]
  },
  {
   "cell_type": "code",
   "execution_count": 10,
   "id": "952b0678",
   "metadata": {},
   "outputs": [
    {
     "data": {
      "text/plain": [
       "(array([ 0,  1,  2,  3,  4,  5,  6,  7,  8,  9, 10, 11, 12, 13, 14, 15, 16,\n",
       "        17, 18, 19, 20, 21, 22, 23, 24, 25, 26, 27, 28, 29, 30, 31, 32, 33,\n",
       "        34, 35, 36, 37, 38, 39, 40, 41, 42, 43, 44, 45, 46, 47, 48, 49, 50,\n",
       "        51, 52, 53, 54, 55, 56, 57, 58, 59, 60, 61, 62, 63, 64]),\n",
       " array([     0,   1392,   2637,   3881,   5138,   6378,   7633,   8923,\n",
       "         20115,  21369,  22624,  23870,  25128,  26405,  27622,  29062,\n",
       "         40078,  41349,  42581,  43836,  45084,  46336,  47588,  50079,\n",
       "         60081,  61359,  62635,  63838,  65092,  66341,  67591,  69528,\n",
       "         80069,  81340,  82575,  83823,  85077,  86329,  87580,  88833,\n",
       "        100060, 101332, 102564, 103815, 105067, 106318, 107570, 108883,\n",
       "        120059, 121330, 122555, 123807, 125059, 126310, 127562, 130055,\n",
       "        140049,   1396,   2634,   3875,   5127,   6408,   7630,  10127,\n",
       "        160007]))"
      ]
     },
     "execution_count": 10,
     "metadata": {},
     "output_type": "execute_result"
    }
   ],
   "source": [
    "np.unique(min_idx, True)"
   ]
  },
  {
   "cell_type": "code",
   "execution_count": 8,
   "id": "7a608ed5",
   "metadata": {},
   "outputs": [
    {
     "data": {
      "text/plain": [
       "(array([18144., 13930., 18481., 16138., 15148., 18072., 13615., 16708.,\n",
       "        14630., 16379.]),\n",
       " array([ 0. ,  6.4, 12.8, 19.2, 25.6, 32. , 38.4, 44.8, 51.2, 57.6, 64. ]),\n",
       " <BarContainer object of 10 artists>)"
      ]
     },
     "execution_count": 8,
     "metadata": {},
     "output_type": "execute_result"
    },
    {
     "data": {
      "image/png": "[encoded data removed]",
      "text/plain": [
       "<Figure size 640x480 with 1 Axes>"
      ]
     },
     "metadata": {},
     "output_type": "display_data"
    }
   ],
   "source": [
    "plt.hist(min_idx)"
   ]
  }
 ],
 "metadata": {
  "kernelspec": {
   "display_name": "Python 3.8.13 ('tactile')",
   "language": "python",
   "name": "python3"
  },
  "language_info": {
   "codemirror_mode": {
    "name": "ipython",
    "version": 3
   },
   "file_extension": ".py",
   "mimetype": "text/x-python",
   "name": "python",
   "nbconvert_exporter": "python",
   "pygments_lexer": "ipython3",
   "version": "3.8.13"
  },
  "vscode": {
   "interpreter": {
    "hash": "34b1c1fd0608eac91ff8ee3b378baa82baa76b865f0fb1b05cc06f1667b6717e"
   }
  }
 },
 "nbformat": 4,
 "nbformat_minor": 5
}
