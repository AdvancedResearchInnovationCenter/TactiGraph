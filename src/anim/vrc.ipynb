{
 "cells": [
  {
   "cell_type": "code",
   "execution_count": 2,
   "id": "7d106dd0-ca43-400d-970d-bf15fefd37bf",
   "metadata": {},
   "outputs": [],
   "source": [
    "import numpy as np\n",
    "import matplotlib.pyplot as plt\n",
    "from itertools import combinations\n",
    "import tqdm\n",
    "\n",
    "d = lambda x0, y0, x1, y1: np.sqrt((x0-x1)**2 + (y0-y1)**2)\n",
    "\n",
    "def get_points_within(eps, X, Y):\n",
    "    points_in_range = [] \n",
    "\n",
    "    for x0, y0 in zip(X, Y):\n",
    "        points_in_range.append([])\n",
    "        for x1, y1 in zip(X, Y):\n",
    "            if d(x0, y0, x1, y1) <= eps:\n",
    "                points_in_range[-1].append((x1, y1))\n",
    "    \n",
    "    return points_in_range"
   ]
  },
  {
   "cell_type": "code",
   "execution_count": 3,
   "id": "0a9fe9be-399a-4323-b79a-050eae52652d",
   "metadata": {},
   "outputs": [
    {
     "name": "stdout",
     "output_type": "stream",
     "text": [
      "{'N_examples': 5,\n",
      " 'augmentations': [],\n",
      " 'bag': '/home/hussain/me/projects/tactile/data/bags/small3',\n",
      " 'case_span': 2660000000.0,\n",
      " 'center': (180, 117),\n",
      " 'circle_rad': 85,\n",
      " 'delta_t': 75000000.0,\n",
      " 'margin': -25000000.0,\n",
      " 'min_n_events': 750,\n",
      " 'n_init_events': 7000,\n",
      " 'possible_angles': [0.15707963267948966],\n",
      " 'theta': [0, 0, 0.5235987755982988, 1.0471975511965976, 1.5707963267948966],\n",
      " 'train_prop': 0.75}\n"
     ]
    }
   ],
   "source": [
    "import sys\n",
    "sys.path.append('..')\n",
    "from imports.ExtractContactCases import ExtractContactCases\n",
    "from imports.EventArrayAugmention import *\n",
    "import math\n",
    "import numpy as np\n",
    "from pprint import pprint\n",
    "\n",
    "ex = ExtractContactCases(\n",
    "    tactile_bag_dir='../../data/bags/small3/',\n",
    "    outdir='../../data/small/contact_extraction6',\n",
    "    n_init_events=7000,\n",
    ")\n",
    "\n",
    "pprint(ex.params)"
   ]
  },
  {
   "cell_type": "code",
   "execution_count": 4,
   "id": "a3a9f7ae-e79b-4e81-8491-aafed21e91db",
   "metadata": {},
   "outputs": [],
   "source": [
    "sampel = ex.load()['sample_1']"
   ]
  },
  {
   "cell_type": "code",
   "execution_count": 13,
   "id": "f319449e-d676-4e75-8805-d36c01d4524b",
   "metadata": {},
   "outputs": [
    {
     "data": {
      "text/plain": [
       "array([12151,  7244,  8652, ...,  8616,  3751, 13064])"
      ]
     },
     "execution_count": 13,
     "metadata": {},
     "output_type": "execute_result"
    }
   ],
   "source": [
    "evs_idx = np.random.choice(np.arange(len(sampel['events'])), size=2000)\n",
    "evs_idx"
   ]
  },
  {
   "cell_type": "code",
   "execution_count": 15,
   "id": "937b17f9-3488-4fb6-bc00-d2e48f126b48",
   "metadata": {},
   "outputs": [],
   "source": [
    "X, Y = np.array(sampel['events'])[evs_idx, :2].T\n"
   ]
  },
  {
   "cell_type": "code",
   "execution_count": 18,
   "id": "a86a3a65-54f9-45c8-bb44-c2d36c82812d",
   "metadata": {},
   "outputs": [],
   "source": [
    "def makeframe(eps, j):\n",
    "    np.random.seed(123)\n",
    "    n = 50\n",
    "    fig, axs = plt.subplots(1, 1, figsize=(20, 20))\n",
    "    r = 1 + 0.1*np.random.randn(n)\n",
    "    theta = 2*np.pi*np.random.random(n)\n",
    "\n",
    "    circles = [plt.Circle((x, y), eps, color='blue', fill=True, alpha=0.3) for x, y in zip(X, Y)]\n",
    "    points_in_range = get_points_within(eps, X, Y)\n",
    "    \n",
    "    for i, circle in enumerate(circles):\n",
    "        axs.add_patch(circle)\n",
    "        dim_of_simp = len(points_in_range[i]) \n",
    "        if dim_of_simp > 1:\n",
    "            for couple in combinations(points_in_range[i], 2):\n",
    "                X_ = [couple[0][0], couple[1][0]]\n",
    "                Y_ = [couple[0][1], couple[1][1]]\n",
    "\n",
    "                plt.plot(X_, Y_, color=\"red\")\n",
    "                #plt.plot(x_edge, y_edge)\n",
    "\n",
    "    points_in_range\n",
    "\n",
    "    plt.scatter(X, Y, color=\"black\", s=100)\n",
    "    m = 10\n",
    "    plt.xlim((X.min() - m, X.max() + m))\n",
    "    plt.ylim((Y.min() - m, Y.max() + m))\n",
    "    #plt.savefig(f\"vrc/anim/frame_{j}.png\")\n",
    "    #plt.close()"
   ]
  },
  {
   "cell_type": "code",
   "execution_count": null,
   "id": "dcc1bd15-f1ae-46eb-bd01-738d4bc5fd67",
   "metadata": {},
   "outputs": [],
   "source": [
    "makeframe(10, 0)"
   ]
  },
  {
   "cell_type": "code",
   "execution_count": 3,
   "id": "c6df089b-86cd-492d-96fa-6d2f549aa078",
   "metadata": {},
   "outputs": [
    {
     "name": "stderr",
     "output_type": "stream",
     "text": [
      "60it [02:27,  2.46s/it]\n"
     ]
    }
   ],
   "source": [
    "for i, eps in tqdm.tqdm(enumerate(np.linspace(0, 0.8, 60))):\n",
    "    makeframe(eps, i)"
   ]
  },
  {
   "cell_type": "code",
   "execution_count": 4,
   "id": "a7133e17-c93e-4e1b-bf5c-2d4d3018eb3e",
   "metadata": {},
   "outputs": [],
   "source": [
    "import os\n",
    "\n",
    "key = lambda filename: int(filename[6:][:-4])\n",
    "sorted_listdir = lambda directory: sorted(os.listdir(directory), key=key)\n"
   ]
  },
  {
   "cell_type": "code",
   "execution_count": 5,
   "id": "f1253ef9-00ae-476f-8022-e5aa42b37878",
   "metadata": {},
   "outputs": [
    {
     "name": "stderr",
     "output_type": "stream",
     "text": [
      "100%|██████████| 60/60 [00:02<00:00, 20.58it/s]\n"
     ]
    }
   ],
   "source": [
    "import imageio\n",
    "images = []\n",
    "for filename in tqdm.tqdm(sorted_listdir(\"vrc/anim/\")):\n",
    "    images.append(imageio.imread(\"vrc/anim/\" + filename))\n",
    "imageio.mimsave('vrc/anim.gif', images, duration=0.1)"
   ]
  },
  {
   "cell_type": "code",
   "execution_count": null,
   "id": "ce93e085-6a8b-4291-8a72-c916f76e7048",
   "metadata": {},
   "outputs": [],
   "source": [
    "if dim_of_simp > 2:\n",
    "                for throuple in combinations(points_in_range[i], 3):\n",
    "                    Xs = [point[0] for point in throuple]\n",
    "                    Ys = [point[1] for point in throuple]\n",
    "\n",
    "                    ymin_i = np.argmin(Ys)\n",
    "                    ymax_i = np.argmax(Ys)\n",
    "\n",
    "                    xmin_i = np.argmin(Xs)\n",
    "                    xmax_i = np.argmax(Xs)\n",
    "\n",
    "                    if not (ymax_i in [xmin_i, xmax_i]):\n",
    "                        def y_func(x):\n",
    "                            if x <= Xs[ymax_i]:\n",
    "                                return (Ys[ymax_i] - Ys[xmin_i])/(Xs[ymax_i] - Xs[xmin_i])*(x - Xs[xmin_i]) + Ys[xmin_i]\n",
    "                            elif x > Xs[ymax_i]:\n",
    "                                return (Ys[ymax_i] - Ys[xmax_i])/(Xs[ymax_i] - Xs[xmax_i])*(x - Xs[xmax_i]) + Ys[xmax_i]\n",
    "\n",
    "                        x_top = np.linspace(Xs[xmin_i], Xs[xmax_i], num=20)\n",
    "                        y_top = [y_func(x) for x in x_top]\n",
    "                        \n",
    "                        \n",
    "                        y_bot = (Ys[xmin_i] - Ys[xmax_i])/(Xs[xmin_i] - Xs[xmax_i])*(x_top - Xs[xmax_i]) + Ys[xmax_i]\n",
    "                        \n",
    "                        plt.fill_between(x_top, y_top, y_bot, color=\"red\", alpha=dim_of_simp*(1/10))\n",
    "                    else:\n",
    "                        x_top = np.linspace(Xs[xmin_i], Xs[xmax_i], num=20)\n",
    "                        y_top = (Ys[xmax_i] - Ys[xmin_i])/(Xs[xmax_i] - Xs[xmin_i])*(x_top - Xs[xmin_i]) + Ys[xmin_i]\n",
    "                        \n",
    "                        def y_func(x):\n",
    "                            if x <= Xs[ymin_i]:\n",
    "                                return (Ys[ymin_i] - Ys[xmin_i])/(Xs[ymin_i] - Xs[xmin_i])*(x - Xs[xmin_i]) + Ys[xmin_i]\n",
    "                            elif x > Xs[ymin_i]:\n",
    "                                return (Ys[ymin_i] - Ys[xmax_i])/(Xs[ymin_i] - Xs[xmax_i])*(x - Xs[xmax_i]) + Ys[xmax_i]\n",
    "                            \n",
    "                        y_bot = [y_func(x) for x in x_top]\n",
    "                        plt.plot(x_top, y_bot, color=\"blue\")\n",
    "                        plt.fill_between(x_top, y_top, y_bot, color=\"red\", alpha=dim_of_simp*(1/10))\n"
   ]
  }
 ],
 "metadata": {
  "kernelspec": {
   "display_name": "Python 3 (ipykernel)",
   "language": "python",
   "name": "python3"
  },
  "language_info": {
   "codemirror_mode": {
    "name": "ipython",
    "version": 3
   },
   "file_extension": ".py",
   "mimetype": "text/x-python",
   "name": "python",
   "nbconvert_exporter": "python",
   "pygments_lexer": "ipython3",
   "version": "3.8.13"
  }
 },
 "nbformat": 4,
 "nbformat_minor": 5
}
