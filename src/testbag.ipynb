{
 "cells": [
  {
   "cell_type": "code",
   "execution_count": 11,
   "id": "8f9fb4e5-b559-4d8c-8408-526da641ade5",
   "metadata": {},
   "outputs": [],
   "source": [
    "from imports.TactileBag import TactileBag\n",
    "\n",
    "tbag = TactileBag('../data/bags/small3')"
   ]
  },
  {
   "cell_type": "code",
   "execution_count": 12,
   "id": "1e0abc2e-bce1-412e-a6b8-9c39b3d372d5",
   "metadata": {},
   "outputs": [
    {
     "ename": "Exception",
     "evalue": "Bag not parsed yet. Call parse before loading.",
     "output_type": "error",
     "traceback": [
      "\u001b[0;31m---------------------------------------------------------------------------\u001b[0m",
      "\u001b[0;31mException\u001b[0m                                 Traceback (most recent call last)",
      "Cell \u001b[0;32mIn[12], line 1\u001b[0m\n\u001b[0;32m----> 1\u001b[0m \u001b[43mtbag\u001b[49m\u001b[38;5;241;43m.\u001b[39;49m\u001b[43mparsed_bag\u001b[49m\u001b[38;5;241m.\u001b[39mvalues[:, \u001b[38;5;241m-\u001b[39m\u001b[38;5;241m3\u001b[39m:]\n",
      "File \u001b[0;32m~/me/projects/tactile/src/imports/TactileBag.py:131\u001b[0m, in \u001b[0;36mTactileBag.parsed_bag\u001b[0;34m(self)\u001b[0m\n\u001b[1;32m    128\u001b[0m \u001b[38;5;129m@property\u001b[39m\n\u001b[1;32m    129\u001b[0m \u001b[38;5;28;01mdef\u001b[39;00m \u001b[38;5;21mparsed_bag\u001b[39m(\u001b[38;5;28mself\u001b[39m):\n\u001b[1;32m    130\u001b[0m     \u001b[38;5;28;01mif\u001b[39;00m \u001b[38;5;129;01mnot\u001b[39;00m \u001b[38;5;28mself\u001b[39m\u001b[38;5;241m.\u001b[39mis_parsed():\n\u001b[0;32m--> 131\u001b[0m         \u001b[38;5;28;43mself\u001b[39;49m\u001b[38;5;241;43m.\u001b[39;49m\u001b[43mparse_exception\u001b[49m\u001b[43m(\u001b[49m\u001b[43m)\u001b[49m\n\u001b[1;32m    132\u001b[0m     \u001b[38;5;28;01mreturn\u001b[39;00m pd\u001b[38;5;241m.\u001b[39mread_csv(\u001b[38;5;28mself\u001b[39m\u001b[38;5;241m.\u001b[39mpath \u001b[38;5;241m/\u001b[39m \u001b[38;5;124m'\u001b[39m\u001b[38;5;124mparsed_bag.csv\u001b[39m\u001b[38;5;124m'\u001b[39m)\n",
      "File \u001b[0;32m~/me/projects/tactile/src/imports/TactileBag.py:110\u001b[0m, in \u001b[0;36mTactileBag.parse_exception\u001b[0;34m(self)\u001b[0m\n\u001b[1;32m    109\u001b[0m \u001b[38;5;28;01mdef\u001b[39;00m \u001b[38;5;21mparse_exception\u001b[39m(\u001b[38;5;28mself\u001b[39m):\n\u001b[0;32m--> 110\u001b[0m     \u001b[38;5;28;01mraise\u001b[39;00m \u001b[38;5;167;01mException\u001b[39;00m(\u001b[38;5;124m'\u001b[39m\u001b[38;5;124mBag not parsed yet. Call parse before loading.\u001b[39m\u001b[38;5;124m'\u001b[39m)\n",
      "\u001b[0;31mException\u001b[0m: Bag not parsed yet. Call parse before loading."
     ]
    }
   ],
   "source": [
    "tbag.parsed_bag.values[:, -3:]"
   ]
  },
  {
   "cell_type": "code",
   "execution_count": 13,
   "id": "fff840df-5f8e-4c91-9d37-ce9f9cb544f3",
   "metadata": {},
   "outputs": [
    {
     "data": {
      "application/vnd.jupyter.widget-view+json": {
       "model_id": "c5e3e3c82a8e489d96a971fa8251a26b",
       "version_major": 2,
       "version_minor": 0
      },
      "text/plain": [
       "parsing events:   0%|          | 0/18529 [00:00<?, ?msg/s]"
      ]
     },
     "metadata": {},
     "output_type": "display_data"
    },
    {
     "data": {
      "application/vnd.jupyter.widget-view+json": {
       "model_id": "607269085b2b4c5c89a08f9df9efbbb5",
       "version_major": 2,
       "version_minor": 0
      },
      "text/plain": [
       "parsing other:   0%|          | 0/55320 [00:00<?, ?msg/s]"
      ]
     },
     "metadata": {},
     "output_type": "display_data"
    }
   ],
   "source": [
    "import math\n",
    "tbag.parse(possible_angles=[math.radians(9)], N_examples=5, theta=[0, 0, math.pi/6, math.pi/3, math.pi/2], N_iters=12)"
   ]
  },
  {
   "cell_type": "code",
   "execution_count": 3,
   "id": "3af39dab-3c10-4fdd-a344-b5e00b8a360f",
   "metadata": {},
   "outputs": [],
   "source": [
    "from imports.ExtractContactCases import ExtractContactCases\n",
    "\n",
    "ex = ExtractContactCases('../data/bags/small1/', '../data/small/contact_extraction10')"
   ]
  },
  {
   "cell_type": "code",
   "execution_count": 4,
   "id": "0e89d762-904c-412d-b412-27fbffab10ba",
   "metadata": {},
   "outputs": [
    {
     "data": {
      "application/vnd.jupyter.widget-view+json": {
       "model_id": "235a6609924046bf9f0eb5caf26ab84a",
       "version_major": 2,
       "version_minor": 0
      },
      "text/plain": [
       "extracting contact timestamps:   0%|          | 0/13167 [00:00<?, ?it/s]"
      ]
     },
     "metadata": {},
     "output_type": "display_data"
    },
    {
     "data": {
      "application/vnd.jupyter.widget-view+json": {
       "model_id": "8f0831143dd44e738cc083365a9abaee",
       "version_major": 2,
       "version_minor": 0
      },
      "text/plain": [
       "extracting contact timestamps:   0%|          | 0/60 [00:00<?, ?it/s]"
      ]
     },
     "metadata": {},
     "output_type": "display_data"
    },
    {
     "name": "stdout",
     "output_type": "stream",
     "text": [
      "saving\n"
     ]
    }
   ],
   "source": [
    "ex.extract()"
   ]
  },
  {
   "cell_type": "code",
   "execution_count": null,
   "id": "91a2a225-283d-4cc6-bc53-c5f9e4294dc1",
   "metadata": {},
   "outputs": [],
   "source": []
  }
 ],
 "metadata": {
  "kernelspec": {
   "display_name": "Python 3 (ipykernel)",
   "language": "python",
   "name": "python3"
  },
  "language_info": {
   "codemirror_mode": {
    "name": "ipython",
    "version": 3
   },
   "file_extension": ".py",
   "mimetype": "text/x-python",
   "name": "python",
   "nbconvert_exporter": "python",
   "pygments_lexer": "ipython3",
   "version": "3.8.13"
  }
 },
 "nbformat": 4,
 "nbformat_minor": 5
}
