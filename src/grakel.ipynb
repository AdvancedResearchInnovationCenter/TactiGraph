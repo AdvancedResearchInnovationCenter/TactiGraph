{
 "cells": [
  {
   "cell_type": "code",
   "execution_count": 1,
   "id": "2a129dd5-e694-4c4b-a206-4b7b277ba991",
   "metadata": {},
   "outputs": [],
   "source": [
    "from imports.TactileDataset import TactileDataset\n",
    "from torch_geometric.transforms import Distance\n",
    "td = TactileDataset('/home/hussain/me/projects/tactile/data/legacy/contact_extraction9/train/', transform=Distance())"
   ]
  },
  {
   "cell_type": "code",
   "execution_count": 2,
   "id": "6ea2485f-d19c-4040-afdb-54612f790a88",
   "metadata": {},
   "outputs": [
    {
     "data": {
      "text/plain": [
       "tensor(715.)"
      ]
     },
     "execution_count": 2,
     "metadata": {},
     "output_type": "execute_result"
    }
   ],
   "source": [
    "td.get(1).x[:, 0].sum()"
   ]
  },
  {
   "cell_type": "code",
   "execution_count": 3,
   "id": "00d43955-dd8a-4cf0-91a8-e6f4f038edf6",
   "metadata": {},
   "outputs": [],
   "source": [
    "import networkx as nx\n",
    "from torch_geometric.utils import to_networkx\n",
    "from tqdm.auto import tqdm\n",
    "from time import time\n",
    "from grakel.kernels import NeighborhoodSubgraphPairwiseDistance, RandomWalkLabeled\n",
    "from sklearn.svm import SVC\n",
    "from sklearn.metrics import accuracy_score\n"
   ]
  },
  {
   "cell_type": "code",
   "execution_count": 4,
   "id": "13efb858-8840-4247-afc7-aa46ac8e3a4e",
   "metadata": {},
   "outputs": [],
   "source": [
    "td_100 = []\n",
    "i=0\n",
    "for g in td:\n",
    "    if i == 100:\n",
    "        break\n",
    "    td_100.append(g)\n",
    "    i+=1"
   ]
  },
  {
   "cell_type": "code",
   "execution_count": 5,
   "id": "d750e94d-1a24-44b7-90f2-318cbbc0ea89",
   "metadata": {},
   "outputs": [
    {
     "data": {
      "application/vnd.jupyter.widget-view+json": {
       "model_id": "45d4e1c8a9574003b9b053dad8b2db71",
       "version_major": 2,
       "version_minor": 0
      },
      "text/plain": [
       "  0%|          | 0/100 [00:00<?, ?it/s]"
      ]
     },
     "metadata": {},
     "output_type": "display_data"
    }
   ],
   "source": [
    "nx_td = []\n",
    "i = 0\n",
    "for g in tqdm(td_100):\n",
    "    nx_g = to_networkx(g, to_undirected=True)\n",
    "    nx.set_node_attributes(nx_g, {n: {'pol': pol} for n, pol in zip(nx_g.nodes, g.x.numpy()[:, 0])})\n",
    "    nx.set_edge_attributes(nx_g, {e: {'d': d} for e, d in zip(nx_g.edges, g.edge_attr.numpy())})\n",
    "    nx_td.append(nx_g)\n"
   ]
  },
  {
   "cell_type": "code",
   "execution_count": 6,
   "id": "1be2f7fb-5ce5-4524-986b-7cb5d2e02e17",
   "metadata": {},
   "outputs": [],
   "source": [
    "from grakel.utils import graph_from_networkx\n",
    "grakel_td = graph_from_networkx(nx_td, node_labels_tag='pol', edge_labels_tag='d')\n"
   ]
  },
  {
   "cell_type": "code",
   "execution_count": 7,
   "id": "43f052f1-ad44-4413-868c-e0df9253bd24",
   "metadata": {},
   "outputs": [],
   "source": [
    "y = [g.y.numpy() for g in td_100]\n"
   ]
  },
  {
   "cell_type": "code",
   "execution_count": 12,
   "id": "35dca1ae-036e-4491-a0b8-2337e924e0b4",
   "metadata": {},
   "outputs": [
    {
     "data": {
      "text/plain": [
       "11.366310511893696"
      ]
     },
     "execution_count": 12,
     "metadata": {},
     "output_type": "execute_result"
    }
   ],
   "source": [
    "(time() - t0)/3600"
   ]
  },
  {
   "cell_type": "code",
   "execution_count": 8,
   "id": "126b43c2-0cd4-40b9-996b-5286daddac99",
   "metadata": {},
   "outputs": [
    {
     "name": "stdout",
     "output_type": "stream",
     "text": [
      "Computing kernel matrics\n",
      "\n"
     ]
    },
    {
     "ename": "KeyboardInterrupt",
     "evalue": "",
     "output_type": "error",
     "traceback": [
      "\u001b[0;31m---------------------------------------------------------------------------\u001b[0m",
      "\u001b[0;31mKeyboardInterrupt\u001b[0m                         Traceback (most recent call last)",
      "Input \u001b[0;32mIn [8]\u001b[0m, in \u001b[0;36m<cell line: 5>\u001b[0;34m()\u001b[0m\n\u001b[1;32m      3\u001b[0m \u001b[38;5;28mprint\u001b[39m(\u001b[38;5;124m\"\u001b[39m\u001b[38;5;124mComputing kernel matrics\u001b[39m\u001b[38;5;130;01m\\n\u001b[39;00m\u001b[38;5;124m\"\u001b[39m)\n\u001b[1;32m      4\u001b[0m t0 \u001b[38;5;241m=\u001b[39m time()\n\u001b[0;32m----> 5\u001b[0m K_train \u001b[38;5;241m=\u001b[39m \u001b[43mgk\u001b[49m\u001b[38;5;241;43m.\u001b[39;49m\u001b[43mfit_transform\u001b[49m\u001b[43m(\u001b[49m\u001b[43mgrakel_td\u001b[49m\u001b[43m)\u001b[49m\n\u001b[1;32m      6\u001b[0m \u001b[38;5;28mprint\u001b[39m(\u001b[38;5;124m\"\u001b[39m\u001b[38;5;124mdone in \u001b[39m\u001b[38;5;132;01m%0.3f\u001b[39;00m\u001b[38;5;124ms\u001b[39m\u001b[38;5;130;01m\\n\u001b[39;00m\u001b[38;5;124m\"\u001b[39m \u001b[38;5;241m%\u001b[39m (time() \u001b[38;5;241m-\u001b[39m t0))\n",
      "File \u001b[0;32m~/miniconda3/envs/tactile/lib/python3.8/site-packages/grakel/kernels/kernel.py:198\u001b[0m, in \u001b[0;36mKernel.fit_transform\u001b[0;34m(self, X)\u001b[0m\n\u001b[1;32m    195\u001b[0m \u001b[38;5;28mself\u001b[39m\u001b[38;5;241m.\u001b[39mfit(X)\n\u001b[1;32m    197\u001b[0m \u001b[38;5;66;03m# Transform - calculate kernel matrix\u001b[39;00m\n\u001b[0;32m--> 198\u001b[0m km \u001b[38;5;241m=\u001b[39m \u001b[38;5;28;43mself\u001b[39;49m\u001b[38;5;241;43m.\u001b[39;49m\u001b[43m_calculate_kernel_matrix\u001b[49m\u001b[43m(\u001b[49m\u001b[43m)\u001b[49m\n\u001b[1;32m    200\u001b[0m \u001b[38;5;28mself\u001b[39m\u001b[38;5;241m.\u001b[39m_X_diag \u001b[38;5;241m=\u001b[39m np\u001b[38;5;241m.\u001b[39mdiagonal(km)\n\u001b[1;32m    201\u001b[0m \u001b[38;5;28;01mif\u001b[39;00m \u001b[38;5;28mself\u001b[39m\u001b[38;5;241m.\u001b[39mnormalize:\n",
      "File \u001b[0;32m~/miniconda3/envs/tactile/lib/python3.8/site-packages/grakel/kernels/kernel.py:246\u001b[0m, in \u001b[0;36mKernel._calculate_kernel_matrix\u001b[0;34m(self, Y)\u001b[0m\n\u001b[1;32m    241\u001b[0m             \u001b[38;5;28;01mreturn\u001b[39;00m k_to_ij_triangular(k, dim)\n\u001b[1;32m    243\u001b[0m         split \u001b[38;5;241m=\u001b[39m [\u001b[38;5;28miter\u001b[39m(((i, j), (\u001b[38;5;28mself\u001b[39m\u001b[38;5;241m.\u001b[39mX[i], \u001b[38;5;28mself\u001b[39m\u001b[38;5;241m.\u001b[39mX[j])) \u001b[38;5;28;01mfor\u001b[39;00m i, j \u001b[38;5;129;01min\u001b[39;00m\n\u001b[1;32m    244\u001b[0m                  \u001b[38;5;28mmap\u001b[39m(kij, \u001b[38;5;28mrange\u001b[39m(\u001b[38;5;241m*\u001b[39mrg))) \u001b[38;5;28;01mfor\u001b[39;00m rg \u001b[38;5;129;01min\u001b[39;00m indexes(n_jobs, nsamples)]\n\u001b[0;32m--> 246\u001b[0m         \u001b[38;5;28;43mself\u001b[39;49m\u001b[38;5;241;43m.\u001b[39;49m\u001b[43m_parallel\u001b[49m\u001b[43m(\u001b[49m\u001b[43mjoblib\u001b[49m\u001b[38;5;241;43m.\u001b[39;49m\u001b[43mdelayed\u001b[49m\u001b[43m(\u001b[49m\u001b[43massign\u001b[49m\u001b[43m)\u001b[49m\u001b[43m(\u001b[49m\u001b[43ms\u001b[49m\u001b[43m,\u001b[49m\u001b[43m \u001b[49m\u001b[43mK\u001b[49m\u001b[43m,\u001b[49m\u001b[43m \u001b[49m\u001b[38;5;28;43mself\u001b[39;49m\u001b[38;5;241;43m.\u001b[39;49m\u001b[43mpairwise_operation\u001b[49m\u001b[43m)\u001b[49m\u001b[43m \u001b[49m\u001b[38;5;28;43;01mfor\u001b[39;49;00m\u001b[43m \u001b[49m\u001b[43ms\u001b[49m\u001b[43m \u001b[49m\u001b[38;5;129;43;01min\u001b[39;49;00m\u001b[43m \u001b[49m\u001b[43msplit\u001b[49m\u001b[43m)\u001b[49m\n\u001b[1;32m    247\u001b[0m     K \u001b[38;5;241m=\u001b[39m np\u001b[38;5;241m.\u001b[39mtriu(K) \u001b[38;5;241m+\u001b[39m np\u001b[38;5;241m.\u001b[39mtriu(K, \u001b[38;5;241m1\u001b[39m)\u001b[38;5;241m.\u001b[39mT\n\u001b[1;32m    249\u001b[0m \u001b[38;5;28;01melse\u001b[39;00m:\n",
      "File \u001b[0;32m~/miniconda3/envs/tactile/lib/python3.8/site-packages/joblib/parallel.py:1098\u001b[0m, in \u001b[0;36mParallel.__call__\u001b[0;34m(self, iterable)\u001b[0m\n\u001b[1;32m   1095\u001b[0m     \u001b[38;5;28mself\u001b[39m\u001b[38;5;241m.\u001b[39m_iterating \u001b[38;5;241m=\u001b[39m \u001b[38;5;28;01mFalse\u001b[39;00m\n\u001b[1;32m   1097\u001b[0m \u001b[38;5;28;01mwith\u001b[39;00m \u001b[38;5;28mself\u001b[39m\u001b[38;5;241m.\u001b[39m_backend\u001b[38;5;241m.\u001b[39mretrieval_context():\n\u001b[0;32m-> 1098\u001b[0m     \u001b[38;5;28;43mself\u001b[39;49m\u001b[38;5;241;43m.\u001b[39;49m\u001b[43mretrieve\u001b[49m\u001b[43m(\u001b[49m\u001b[43m)\u001b[49m\n\u001b[1;32m   1099\u001b[0m \u001b[38;5;66;03m# Make sure that we get a last message telling us we are done\u001b[39;00m\n\u001b[1;32m   1100\u001b[0m elapsed_time \u001b[38;5;241m=\u001b[39m time\u001b[38;5;241m.\u001b[39mtime() \u001b[38;5;241m-\u001b[39m \u001b[38;5;28mself\u001b[39m\u001b[38;5;241m.\u001b[39m_start_time\n",
      "File \u001b[0;32m~/miniconda3/envs/tactile/lib/python3.8/site-packages/joblib/parallel.py:975\u001b[0m, in \u001b[0;36mParallel.retrieve\u001b[0;34m(self)\u001b[0m\n\u001b[1;32m    973\u001b[0m \u001b[38;5;28;01mtry\u001b[39;00m:\n\u001b[1;32m    974\u001b[0m     \u001b[38;5;28;01mif\u001b[39;00m \u001b[38;5;28mgetattr\u001b[39m(\u001b[38;5;28mself\u001b[39m\u001b[38;5;241m.\u001b[39m_backend, \u001b[38;5;124m'\u001b[39m\u001b[38;5;124msupports_timeout\u001b[39m\u001b[38;5;124m'\u001b[39m, \u001b[38;5;28;01mFalse\u001b[39;00m):\n\u001b[0;32m--> 975\u001b[0m         \u001b[38;5;28mself\u001b[39m\u001b[38;5;241m.\u001b[39m_output\u001b[38;5;241m.\u001b[39mextend(\u001b[43mjob\u001b[49m\u001b[38;5;241;43m.\u001b[39;49m\u001b[43mget\u001b[49m\u001b[43m(\u001b[49m\u001b[43mtimeout\u001b[49m\u001b[38;5;241;43m=\u001b[39;49m\u001b[38;5;28;43mself\u001b[39;49m\u001b[38;5;241;43m.\u001b[39;49m\u001b[43mtimeout\u001b[49m\u001b[43m)\u001b[49m)\n\u001b[1;32m    976\u001b[0m     \u001b[38;5;28;01melse\u001b[39;00m:\n\u001b[1;32m    977\u001b[0m         \u001b[38;5;28mself\u001b[39m\u001b[38;5;241m.\u001b[39m_output\u001b[38;5;241m.\u001b[39mextend(job\u001b[38;5;241m.\u001b[39mget())\n",
      "File \u001b[0;32m~/miniconda3/envs/tactile/lib/python3.8/multiprocessing/pool.py:765\u001b[0m, in \u001b[0;36mApplyResult.get\u001b[0;34m(self, timeout)\u001b[0m\n\u001b[1;32m    764\u001b[0m \u001b[38;5;28;01mdef\u001b[39;00m \u001b[38;5;21mget\u001b[39m(\u001b[38;5;28mself\u001b[39m, timeout\u001b[38;5;241m=\u001b[39m\u001b[38;5;28;01mNone\u001b[39;00m):\n\u001b[0;32m--> 765\u001b[0m     \u001b[38;5;28;43mself\u001b[39;49m\u001b[38;5;241;43m.\u001b[39;49m\u001b[43mwait\u001b[49m\u001b[43m(\u001b[49m\u001b[43mtimeout\u001b[49m\u001b[43m)\u001b[49m\n\u001b[1;32m    766\u001b[0m     \u001b[38;5;28;01mif\u001b[39;00m \u001b[38;5;129;01mnot\u001b[39;00m \u001b[38;5;28mself\u001b[39m\u001b[38;5;241m.\u001b[39mready():\n\u001b[1;32m    767\u001b[0m         \u001b[38;5;28;01mraise\u001b[39;00m \u001b[38;5;167;01mTimeoutError\u001b[39;00m\n",
      "File \u001b[0;32m~/miniconda3/envs/tactile/lib/python3.8/multiprocessing/pool.py:762\u001b[0m, in \u001b[0;36mApplyResult.wait\u001b[0;34m(self, timeout)\u001b[0m\n\u001b[1;32m    761\u001b[0m \u001b[38;5;28;01mdef\u001b[39;00m \u001b[38;5;21mwait\u001b[39m(\u001b[38;5;28mself\u001b[39m, timeout\u001b[38;5;241m=\u001b[39m\u001b[38;5;28;01mNone\u001b[39;00m):\n\u001b[0;32m--> 762\u001b[0m     \u001b[38;5;28;43mself\u001b[39;49m\u001b[38;5;241;43m.\u001b[39;49m\u001b[43m_event\u001b[49m\u001b[38;5;241;43m.\u001b[39;49m\u001b[43mwait\u001b[49m\u001b[43m(\u001b[49m\u001b[43mtimeout\u001b[49m\u001b[43m)\u001b[49m\n",
      "File \u001b[0;32m~/miniconda3/envs/tactile/lib/python3.8/threading.py:558\u001b[0m, in \u001b[0;36mEvent.wait\u001b[0;34m(self, timeout)\u001b[0m\n\u001b[1;32m    556\u001b[0m signaled \u001b[38;5;241m=\u001b[39m \u001b[38;5;28mself\u001b[39m\u001b[38;5;241m.\u001b[39m_flag\n\u001b[1;32m    557\u001b[0m \u001b[38;5;28;01mif\u001b[39;00m \u001b[38;5;129;01mnot\u001b[39;00m signaled:\n\u001b[0;32m--> 558\u001b[0m     signaled \u001b[38;5;241m=\u001b[39m \u001b[38;5;28;43mself\u001b[39;49m\u001b[38;5;241;43m.\u001b[39;49m\u001b[43m_cond\u001b[49m\u001b[38;5;241;43m.\u001b[39;49m\u001b[43mwait\u001b[49m\u001b[43m(\u001b[49m\u001b[43mtimeout\u001b[49m\u001b[43m)\u001b[49m\n\u001b[1;32m    559\u001b[0m \u001b[38;5;28;01mreturn\u001b[39;00m signaled\n",
      "File \u001b[0;32m~/miniconda3/envs/tactile/lib/python3.8/threading.py:302\u001b[0m, in \u001b[0;36mCondition.wait\u001b[0;34m(self, timeout)\u001b[0m\n\u001b[1;32m    300\u001b[0m \u001b[38;5;28;01mtry\u001b[39;00m:    \u001b[38;5;66;03m# restore state no matter what (e.g., KeyboardInterrupt)\u001b[39;00m\n\u001b[1;32m    301\u001b[0m     \u001b[38;5;28;01mif\u001b[39;00m timeout \u001b[38;5;129;01mis\u001b[39;00m \u001b[38;5;28;01mNone\u001b[39;00m:\n\u001b[0;32m--> 302\u001b[0m         \u001b[43mwaiter\u001b[49m\u001b[38;5;241;43m.\u001b[39;49m\u001b[43macquire\u001b[49m\u001b[43m(\u001b[49m\u001b[43m)\u001b[49m\n\u001b[1;32m    303\u001b[0m         gotit \u001b[38;5;241m=\u001b[39m \u001b[38;5;28;01mTrue\u001b[39;00m\n\u001b[1;32m    304\u001b[0m     \u001b[38;5;28;01melse\u001b[39;00m:\n",
      "\u001b[0;31mKeyboardInterrupt\u001b[0m: "
     ]
    }
   ],
   "source": [
    "gk = RandomWalkLabeled(n_jobs=2)\n",
    "\n",
    "print(\"Computing kernel matrics\\n\")\n",
    "t0 = time()\n",
    "K_train = gk.fit_transform(grakel_td)\n",
    "print(\"done in %0.3fs\\n\" % (time() - t0))"
   ]
  },
  {
   "cell_type": "code",
   "execution_count": 15,
   "id": "267bb15b-48ca-46c8-8af8-21892161ef49",
   "metadata": {},
   "outputs": [],
   "source": [
    "class Y():\n",
    "    \n",
    "    def __init__(self, a, b, c):\n",
    "        self.a = a\n",
    "        self.b = b\n",
    "        self.c = c\n",
    "        \n",
    "    def rm(self):\n",
    "        delattr(self, 'a')\n",
    "        "
   ]
  },
  {
   "cell_type": "code",
   "execution_count": 16,
   "id": "d09fa62d-3a19-48d1-b4e0-c7edb9b95d05",
   "metadata": {},
   "outputs": [],
   "source": [
    "y=Y(1, 2, 3)"
   ]
  },
  {
   "cell_type": "code",
   "execution_count": 17,
   "id": "800899e9-3ec0-41c1-a943-80027755989d",
   "metadata": {},
   "outputs": [],
   "source": [
    "y.rm()"
   ]
  },
  {
   "cell_type": "code",
   "execution_count": 18,
   "id": "f3291771-56ca-4a62-a97d-45c12fe577fd",
   "metadata": {},
   "outputs": [
    {
     "ename": "AttributeError",
     "evalue": "'Y' object has no attribute 'a'",
     "output_type": "error",
     "traceback": [
      "\u001b[0;31m---------------------------------------------------------------------------\u001b[0m",
      "\u001b[0;31mAttributeError\u001b[0m                            Traceback (most recent call last)",
      "Input \u001b[0;32mIn [18]\u001b[0m, in \u001b[0;36m<cell line: 1>\u001b[0;34m()\u001b[0m\n\u001b[0;32m----> 1\u001b[0m \u001b[43my\u001b[49m\u001b[38;5;241;43m.\u001b[39;49m\u001b[43ma\u001b[49m\n",
      "\u001b[0;31mAttributeError\u001b[0m: 'Y' object has no attribute 'a'"
     ]
    }
   ],
   "source": [
    "y.a"
   ]
  },
  {
   "cell_type": "code",
   "execution_count": 2,
   "id": "3449f0e8-a2f7-4803-b88d-2cdc849f045d",
   "metadata": {},
   "outputs": [
    {
     "data": {
      "text/plain": [
       "PosixPath('/home/hussain/me/projects/tactile/data/bags/dataset_ENVTACT_new2.bag')"
      ]
     },
     "execution_count": 2,
     "metadata": {},
     "output_type": "execute_result"
    }
   ],
   "source": [
    "from pathlib import Path\n",
    "Path(\"../data/bags/dataset_ENVTACT_new2.bag\").resolve()"
   ]
  },
  {
   "cell_type": "code",
   "execution_count": 1,
   "id": "be9048a6-d46d-442a-9559-330643832034",
   "metadata": {},
   "outputs": [
    {
     "data": {
      "application/vnd.jupyter.widget-view+json": {
       "model_id": "cd11aa10ca074a30a1800d5152a97f82",
       "version_major": 2,
       "version_minor": 0
      },
      "text/plain": [
       "parsing bag:   0%|          | 0/419697 [00:00<?, ?msg/s]"
      ]
     },
     "metadata": {},
     "output_type": "display_data"
    },
    {
     "data": {
      "application/vnd.jupyter.widget-view+json": {
       "model_id": "a785ce26b8d24914bb33a586a8d22673",
       "version_major": 2,
       "version_minor": 0
      },
      "text/plain": [
       "extracting contact timestamps:   0%|          | 0/161245 [00:00<?, ?it/s]"
      ]
     },
     "metadata": {},
     "output_type": "display_data"
    },
    {
     "data": {
      "application/vnd.jupyter.widget-view+json": {
       "model_id": "496b4fc529e5410fae19bb509cbe7222",
       "version_major": 2,
       "version_minor": 0
      },
      "text/plain": [
       "extracting event arrays:   0%|          | 0/645 [00:00<?, ?it/s]"
      ]
     },
     "metadata": {},
     "output_type": "display_data"
    },
    {
     "name": "stdout",
     "output_type": "stream",
     "text": [
      "saving\n"
     ]
    }
   ],
   "source": [
    "from imports.ExtractContactCases import ExtractContactCases\n",
    "\n",
    "ex = ExtractContactCases('/home/hussain/me/projects/tactile/data/extractions/contact_extraction1/', '../data/bags/dataset_ENVTACT_new2.bag')\n",
    "ex.extract()"
   ]
  },
  {
   "cell_type": "code",
   "execution_count": 2,
   "id": "503edd04-46f7-4fff-ba21-ff60cc1a4ca6",
   "metadata": {},
   "outputs": [],
   "source": [
    "s=ex.load()"
   ]
  },
  {
   "cell_type": "code",
   "execution_count": 2,
   "id": "0bc73e8d-1287-4747-8ace-0d6be47a35be",
   "metadata": {},
   "outputs": [
    {
     "data": {
      "text/plain": [
       "['_ExtractContactCases__save',\n",
       " '__class__',\n",
       " '__delattr__',\n",
       " '__dict__',\n",
       " '__dir__',\n",
       " '__doc__',\n",
       " '__eq__',\n",
       " '__format__',\n",
       " '__ge__',\n",
       " '__getattribute__',\n",
       " '__gt__',\n",
       " '__hash__',\n",
       " '__init__',\n",
       " '__init_subclass__',\n",
       " '__le__',\n",
       " '__lt__',\n",
       " '__module__',\n",
       " '__ne__',\n",
       " '__new__',\n",
       " '__reduce__',\n",
       " '__reduce_ex__',\n",
       " '__repr__',\n",
       " '__setattr__',\n",
       " '__sizeof__',\n",
       " '__str__',\n",
       " '__subclasshook__',\n",
       " '__weakref__',\n",
       " '_save',\n",
       " 'bag_file_name',\n",
       " 'case_span',\n",
       " 'cases',\n",
       " 'cases_idx',\n",
       " 'cases_ts',\n",
       " 'center',\n",
       " 'circle_rad',\n",
       " 'delta_t',\n",
       " 'dist_from_center',\n",
       " 'events',\n",
       " 'extract',\n",
       " 'find_case',\n",
       " 'find_ts_idx',\n",
       " 'keep_interm',\n",
       " 'look_ahead_big',\n",
       " 'margin',\n",
       " 'max_events_thresh',\n",
       " 'outdir',\n",
       " 'params',\n",
       " 'parse_bag',\n",
       " 'parsed',\n",
       " 'train_prop']"
      ]
     },
     "execution_count": 2,
     "metadata": {},
     "output_type": "execute_result"
    }
   ],
   "source": [
    "dir(ex)"
   ]
  },
  {
   "cell_type": "code",
   "execution_count": null,
   "id": "21cb8076-e9ad-4bd5-b13f-0ee8dfb8d098",
   "metadata": {},
   "outputs": [],
   "source": []
  }
 ],
 "metadata": {
  "kernelspec": {
   "display_name": "Python 3 (ipykernel)",
   "language": "python",
   "name": "python3"
  },
  "language_info": {
   "codemirror_mode": {
    "name": "ipython",
    "version": 3
   },
   "file_extension": ".py",
   "mimetype": "text/x-python",
   "name": "python",
   "nbconvert_exporter": "python",
   "pygments_lexer": "ipython3",
   "version": "3.8.13"
  }
 },
 "nbformat": 4,
 "nbformat_minor": 5
}
