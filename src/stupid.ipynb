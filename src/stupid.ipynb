{
 "cells": [
  {
   "cell_type": "code",
   "execution_count": 1,
   "id": "c9f38d08-3cd9-42d5-83ce-08a5bb0a6c89",
   "metadata": {},
   "outputs": [],
   "source": [
    "from imports.ExtractContactCases import ExtractContactCases\n",
    "\n",
    "ex = ExtractContactCases('contact_extraction1')\n",
    "samples = ex.load()"
   ]
  },
  {
   "cell_type": "code",
   "execution_count": 2,
   "id": "addd6adc-5e41-4420-8b0f-3a9e20561602",
   "metadata": {},
   "outputs": [
    {
     "data": {
      "text/html": [
       "<div>\n",
       "<style scoped>\n",
       "    .dataframe tbody tr th:only-of-type {\n",
       "        vertical-align: middle;\n",
       "    }\n",
       "\n",
       "    .dataframe tbody tr th {\n",
       "        vertical-align: top;\n",
       "    }\n",
       "\n",
       "    .dataframe thead th {\n",
       "        text-align: right;\n",
       "    }\n",
       "</style>\n",
       "<table border=\"1\" class=\"dataframe\">\n",
       "  <thead>\n",
       "    <tr style=\"text-align: right;\">\n",
       "      <th></th>\n",
       "      <th>centroid-0</th>\n",
       "      <th>centroid-1</th>\n",
       "      <th>label</th>\n",
       "    </tr>\n",
       "  </thead>\n",
       "  <tbody>\n",
       "    <tr>\n",
       "      <th>0</th>\n",
       "      <td>50.034483</td>\n",
       "      <td>153.551724</td>\n",
       "      <td>2</td>\n",
       "    </tr>\n",
       "    <tr>\n",
       "      <th>1</th>\n",
       "      <td>54.471910</td>\n",
       "      <td>180.449438</td>\n",
       "      <td>3</td>\n",
       "    </tr>\n",
       "    <tr>\n",
       "      <th>2</th>\n",
       "      <td>55.947368</td>\n",
       "      <td>126.750000</td>\n",
       "      <td>4</td>\n",
       "    </tr>\n",
       "    <tr>\n",
       "      <th>3</th>\n",
       "      <td>69.600000</td>\n",
       "      <td>153.566667</td>\n",
       "      <td>5</td>\n",
       "    </tr>\n",
       "    <tr>\n",
       "      <th>4</th>\n",
       "      <td>69.588889</td>\n",
       "      <td>202.411111</td>\n",
       "      <td>6</td>\n",
       "    </tr>\n",
       "  </tbody>\n",
       "</table>\n",
       "</div>"
      ],
      "text/plain": [
       "   centroid-0  centroid-1  label\n",
       "0   50.034483  153.551724      2\n",
       "1   54.471910  180.449438      3\n",
       "2   55.947368  126.750000      4\n",
       "3   69.600000  153.566667      5\n",
       "4   69.588889  202.411111      6"
      ]
     },
     "execution_count": 2,
     "metadata": {},
     "output_type": "execute_result"
    }
   ],
   "source": [
    "import pandas as pd\n",
    "import numpy as np\n",
    "\n",
    "centroids_ = pd.read_csv('centroids.csv')\n",
    "centroids_.head()"
   ]
  },
  {
   "cell_type": "code",
   "execution_count": 3,
   "id": "aa001c59-4ac9-494b-a283-0d8c07b144b8",
   "metadata": {},
   "outputs": [
    {
     "data": {
      "text/plain": [
       "array([[153.55172414,  50.03448276],\n",
       "       [180.4494382 ,  54.47191011],\n",
       "       [126.75      ,  55.94736842],\n",
       "       [153.56666667,  69.6       ],\n",
       "       [202.41111111,  69.58888889],\n",
       "       [104.85714286,  71.85714286],\n",
       "       [173.04123711,  72.40206186],\n",
       "       [134.4       ,  73.45555556],\n",
       "       [190.61832061,  83.54961832],\n",
       "       [118.56818182,  85.32954545],\n",
       "       [154.        ,  86.        ],\n",
       "       [170.94736842,  90.13157895],\n",
       "       [136.64705882,  91.38823529],\n",
       "       [219.09333333,  92.90666667],\n",
       "       [ 89.42696629,  94.30337079],\n",
       "       [201.71764706,  99.54117647],\n",
       "       [106.66666667, 101.37333333],\n",
       "       [154.94594595, 103.10810811],\n",
       "       [183.75675676, 103.04054054],\n",
       "       [124.41975309, 103.7654321 ],\n",
       "       [142.60294118, 108.98529412],\n",
       "       [166.88461538, 108.48076923],\n",
       "       [171.36923077, 120.04615385],\n",
       "       [189.        , 120.29333333],\n",
       "       [225.        , 118.        ],\n",
       "       [137.10294118, 120.41176471],\n",
       "       [155.29310345, 120.29310345],\n",
       "       [205.89393939, 120.59090909],\n",
       "       [ 84.39285714, 122.        ],\n",
       "       [102.88764045, 121.76404494],\n",
       "       [120.        , 121.3125    ],\n",
       "       [142.17808219, 132.17808219],\n",
       "       [167.10666667, 132.2       ],\n",
       "       [124.57692308, 138.25641026],\n",
       "       [155.0625    , 137.0625    ],\n",
       "       [185.03947368, 137.94736842],\n",
       "       [201.65217391, 140.14492754],\n",
       "       [108.39393939, 141.07575758],\n",
       "       [220.5       , 144.60869565],\n",
       "       [ 90.85858586, 148.44444444],\n",
       "       [172.90804598, 151.08045977],\n",
       "       [137.74358974, 151.42307692],\n",
       "       [118.95798319, 157.70588235],\n",
       "       [155.14473684, 156.46052632],\n",
       "       [190.89333333, 157.06666667],\n",
       "       [175.37301587, 167.79365079],\n",
       "       [134.93859649, 168.43859649],\n",
       "       [107.09615385, 169.05769231],\n",
       "       [155.34821429, 171.34821429],\n",
       "       [203.5       , 169.5       ],\n",
       "       [181.65      , 183.56      ],\n",
       "       [128.81395349, 184.6627907 ],\n",
       "       [155.42957746, 188.20422535]])"
      ]
     },
     "execution_count": 3,
     "metadata": {},
     "output_type": "execute_result"
    }
   ],
   "source": [
    "cents = centroids_.values[:, :2][:, ::-1]\n",
    "cents"
   ]
  },
  {
   "cell_type": "code",
   "execution_count": 4,
   "id": "ed00b8b7-7478-43cc-a22d-0efe6c5a6587",
   "metadata": {},
   "outputs": [],
   "source": [
    "from sklearn.model_selection import train_test_split\n",
    "from torch_geometric import seed_everything\n",
    "seed_everything(0)\n",
    "\n",
    "sample_idx = list(samples.keys())\n",
    "cases = [str(samples[s_idx]['case']) for s_idx in sample_idx]\n",
    "\n",
    "train_idx, val_test_idx = train_test_split(sample_idx, test_size=1-0.6, random_state=0) #fixed across extractions\n",
    "\n",
    "cases = [str(samples[s_idx]['case']) for s_idx in val_test_idx]\n",
    "val_idx, test_idx = train_test_split(val_test_idx,  test_size=0.5, random_state=0) #fixed across extractions"
   ]
  },
  {
   "cell_type": "code",
   "execution_count": 5,
   "id": "96833548-de58-483a-b755-2ac1c4186186",
   "metadata": {},
   "outputs": [],
   "source": [
    "from scipy.spatial.distance import cdist\n",
    "from imports.TactileDataset import cases_dict, list_of_rotations\n",
    "\n",
    "X_train = np.zeros((len(train_idx), 53))\n",
    "y_train = np.zeros((len(train_idx), 2))\n",
    "\n",
    "for i, sample_idx in enumerate(train_idx):\n",
    "    pos = np.array(samples[sample_idx]['events'])[:, :2]\n",
    "    d = cdist(pos, cents)\n",
    "    event_node_idx = np.argmin(d, axis=-1)\n",
    "    for node_idx in range(len(cents)):\n",
    "        events_idx = event_node_idx == node_idx\n",
    "        X_train[i, node_idx] = sum(events_idx)\n",
    "    y_train[i] = cases_dict[samples[sample_idx]['case']]"
   ]
  },
  {
   "cell_type": "code",
   "execution_count": null,
   "id": "f811ff32-b320-435e-8139-a3d4012ba0f3",
   "metadata": {},
   "outputs": [],
   "source": []
  },
  {
   "cell_type": "code",
   "execution_count": 6,
   "id": "246677f0-e25d-4ec5-a7ff-4e7c33cee9d9",
   "metadata": {},
   "outputs": [],
   "source": [
    "X_val = np.zeros((len(val_idx), 53))\n",
    "y_val = np.zeros((len(val_idx), 2))\n",
    "\n",
    "for i, sample_idx in enumerate(val_idx):\n",
    "    pos = np.array(samples[sample_idx]['events'])[:, :2]\n",
    "    d = cdist(pos, cents)\n",
    "    event_node_idx = np.argmin(d, axis=-1)\n",
    "    for node_idx in range(len(cents)):\n",
    "        events_idx = event_node_idx == node_idx\n",
    "        X_val[i, node_idx] = sum(events_idx)\n",
    "    y_val[i] = cases_dict[samples[sample_idx]['case']]"
   ]
  },
  {
   "cell_type": "code",
   "execution_count": 7,
   "id": "3195706d-7f8f-4a2c-a73d-bda802dbddfe",
   "metadata": {},
   "outputs": [
    {
     "data": {
      "text/html": [
       "<style>#sk-container-id-1 {color: black;background-color: white;}#sk-container-id-1 pre{padding: 0;}#sk-container-id-1 div.sk-toggleable {background-color: white;}#sk-container-id-1 label.sk-toggleable__label {cursor: pointer;display: block;width: 100%;margin-bottom: 0;padding: 0.3em;box-sizing: border-box;text-align: center;}#sk-container-id-1 label.sk-toggleable__label-arrow:before {content: \"▸\";float: left;margin-right: 0.25em;color: #696969;}#sk-container-id-1 label.sk-toggleable__label-arrow:hover:before {color: black;}#sk-container-id-1 div.sk-estimator:hover label.sk-toggleable__label-arrow:before {color: black;}#sk-container-id-1 div.sk-toggleable__content {max-height: 0;max-width: 0;overflow: hidden;text-align: left;background-color: #f0f8ff;}#sk-container-id-1 div.sk-toggleable__content pre {margin: 0.2em;color: black;border-radius: 0.25em;background-color: #f0f8ff;}#sk-container-id-1 input.sk-toggleable__control:checked~div.sk-toggleable__content {max-height: 200px;max-width: 100%;overflow: auto;}#sk-container-id-1 input.sk-toggleable__control:checked~label.sk-toggleable__label-arrow:before {content: \"▾\";}#sk-container-id-1 div.sk-estimator input.sk-toggleable__control:checked~label.sk-toggleable__label {background-color: #d4ebff;}#sk-container-id-1 div.sk-label input.sk-toggleable__control:checked~label.sk-toggleable__label {background-color: #d4ebff;}#sk-container-id-1 input.sk-hidden--visually {border: 0;clip: rect(1px 1px 1px 1px);clip: rect(1px, 1px, 1px, 1px);height: 1px;margin: -1px;overflow: hidden;padding: 0;position: absolute;width: 1px;}#sk-container-id-1 div.sk-estimator {font-family: monospace;background-color: #f0f8ff;border: 1px dotted black;border-radius: 0.25em;box-sizing: border-box;margin-bottom: 0.5em;}#sk-container-id-1 div.sk-estimator:hover {background-color: #d4ebff;}#sk-container-id-1 div.sk-parallel-item::after {content: \"\";width: 100%;border-bottom: 1px solid gray;flex-grow: 1;}#sk-container-id-1 div.sk-label:hover label.sk-toggleable__label {background-color: #d4ebff;}#sk-container-id-1 div.sk-serial::before {content: \"\";position: absolute;border-left: 1px solid gray;box-sizing: border-box;top: 0;bottom: 0;left: 50%;z-index: 0;}#sk-container-id-1 div.sk-serial {display: flex;flex-direction: column;align-items: center;background-color: white;padding-right: 0.2em;padding-left: 0.2em;position: relative;}#sk-container-id-1 div.sk-item {position: relative;z-index: 1;}#sk-container-id-1 div.sk-parallel {display: flex;align-items: stretch;justify-content: center;background-color: white;position: relative;}#sk-container-id-1 div.sk-item::before, #sk-container-id-1 div.sk-parallel-item::before {content: \"\";position: absolute;border-left: 1px solid gray;box-sizing: border-box;top: 0;bottom: 0;left: 50%;z-index: -1;}#sk-container-id-1 div.sk-parallel-item {display: flex;flex-direction: column;z-index: 1;position: relative;background-color: white;}#sk-container-id-1 div.sk-parallel-item:first-child::after {align-self: flex-end;width: 50%;}#sk-container-id-1 div.sk-parallel-item:last-child::after {align-self: flex-start;width: 50%;}#sk-container-id-1 div.sk-parallel-item:only-child::after {width: 0;}#sk-container-id-1 div.sk-dashed-wrapped {border: 1px dashed gray;margin: 0 0.4em 0.5em 0.4em;box-sizing: border-box;padding-bottom: 0.4em;background-color: white;}#sk-container-id-1 div.sk-label label {font-family: monospace;font-weight: bold;display: inline-block;line-height: 1.2em;}#sk-container-id-1 div.sk-label-container {text-align: center;}#sk-container-id-1 div.sk-container {/* jupyter's `normalize.less` sets `[hidden] { display: none; }` but bootstrap.min.css set `[hidden] { display: none !important; }` so we also need the `!important` here to be able to override the default hidden behavior on the sphinx rendered scikit-learn.org. See: https://github.com/scikit-learn/scikit-learn/issues/21755 */display: inline-block !important;position: relative;}#sk-container-id-1 div.sk-text-repr-fallback {display: none;}</style><div id=\"sk-container-id-1\" class=\"sk-top-container\"><div class=\"sk-text-repr-fallback\"><pre>XGBRegressor(base_score=0.5, booster=&#x27;gbtree&#x27;, callbacks=None,\n",
       "             colsample_bylevel=1, colsample_bynode=1, colsample_bytree=1,\n",
       "             early_stopping_rounds=None, enable_categorical=False,\n",
       "             eval_metric=None, feature_types=None, gamma=0, gpu_id=-1,\n",
       "             grow_policy=&#x27;depthwise&#x27;, importance_type=None,\n",
       "             interaction_constraints=&#x27;&#x27;, learning_rate=0.300000012, max_bin=256,\n",
       "             max_cat_threshold=64, max_cat_to_onehot=4, max_delta_step=0,\n",
       "             max_depth=3, max_leaves=0, min_child_weight=1, missing=nan,\n",
       "             monotone_constraints=&#x27;()&#x27;, n_estimators=300, n_jobs=0,\n",
       "             num_parallel_tree=1, predictor=&#x27;auto&#x27;, random_state=0, ...)</pre><b>In a Jupyter environment, please rerun this cell to show the HTML representation or trust the notebook. <br />On GitHub, the HTML representation is unable to render, please try loading this page with nbviewer.org.</b></div><div class=\"sk-container\" hidden><div class=\"sk-item\"><div class=\"sk-estimator sk-toggleable\"><input class=\"sk-toggleable__control sk-hidden--visually\" id=\"sk-estimator-id-1\" type=\"checkbox\" checked><label for=\"sk-estimator-id-1\" class=\"sk-toggleable__label sk-toggleable__label-arrow\">XGBRegressor</label><div class=\"sk-toggleable__content\"><pre>XGBRegressor(base_score=0.5, booster=&#x27;gbtree&#x27;, callbacks=None,\n",
       "             colsample_bylevel=1, colsample_bynode=1, colsample_bytree=1,\n",
       "             early_stopping_rounds=None, enable_categorical=False,\n",
       "             eval_metric=None, feature_types=None, gamma=0, gpu_id=-1,\n",
       "             grow_policy=&#x27;depthwise&#x27;, importance_type=None,\n",
       "             interaction_constraints=&#x27;&#x27;, learning_rate=0.300000012, max_bin=256,\n",
       "             max_cat_threshold=64, max_cat_to_onehot=4, max_delta_step=0,\n",
       "             max_depth=3, max_leaves=0, min_child_weight=1, missing=nan,\n",
       "             monotone_constraints=&#x27;()&#x27;, n_estimators=300, n_jobs=0,\n",
       "             num_parallel_tree=1, predictor=&#x27;auto&#x27;, random_state=0, ...)</pre></div></div></div></div></div>"
      ],
      "text/plain": [
       "XGBRegressor(base_score=0.5, booster='gbtree', callbacks=None,\n",
       "             colsample_bylevel=1, colsample_bynode=1, colsample_bytree=1,\n",
       "             early_stopping_rounds=None, enable_categorical=False,\n",
       "             eval_metric=None, feature_types=None, gamma=0, gpu_id=-1,\n",
       "             grow_policy='depthwise', importance_type=None,\n",
       "             interaction_constraints='', learning_rate=0.300000012, max_bin=256,\n",
       "             max_cat_threshold=64, max_cat_to_onehot=4, max_delta_step=0,\n",
       "             max_depth=3, max_leaves=0, min_child_weight=1, missing=nan,\n",
       "             monotone_constraints='()', n_estimators=300, n_jobs=0,\n",
       "             num_parallel_tree=1, predictor='auto', random_state=0, ...)"
      ]
     },
     "execution_count": 7,
     "metadata": {},
     "output_type": "execute_result"
    }
   ],
   "source": [
    "import xgboost as xgb\n",
    "\n",
    "reg = xgb.XGBRegressor(n_estimators=300, max_depth=3)\n",
    "reg.fit(X_train, y_train)"
   ]
  },
  {
   "cell_type": "code",
   "execution_count": 8,
   "id": "6bb9c065-8fb6-42d9-a3e1-ce1331698671",
   "metadata": {},
   "outputs": [
    {
     "data": {
      "text/plain": [
       "0.032738284623992524"
      ]
     },
     "execution_count": 8,
     "metadata": {},
     "output_type": "execute_result"
    }
   ],
   "source": [
    "np.degrees(np.mean(np.abs(reg.predict(X_train) - y_train)))"
   ]
  },
  {
   "cell_type": "code",
   "execution_count": 9,
   "id": "64ec7f52-cc84-4e2f-bbae-199c332ad659",
   "metadata": {},
   "outputs": [
    {
     "data": {
      "text/plain": [
       "0.8712706492813038"
      ]
     },
     "execution_count": 9,
     "metadata": {},
     "output_type": "execute_result"
    }
   ],
   "source": [
    "np.degrees(np.mean(np.abs(reg.predict(X_val) - y_val)))"
   ]
  },
  {
   "cell_type": "code",
   "execution_count": 10,
   "id": "a01c3609-69ac-472f-9ec2-250e9567011b",
   "metadata": {},
   "outputs": [
    {
     "data": {
      "text/plain": [
       "array([[-3.22494794e-02,  1.33581718e-02],\n",
       "       [-4.40085947e-02,  1.06246146e-01],\n",
       "       [ 2.46826830e-02, -2.46826830e-02],\n",
       "       [-2.11251573e-17, -1.15000000e-01],\n",
       "       [-1.15000000e-01,  1.40834382e-17]])"
      ]
     },
     "execution_count": 10,
     "metadata": {},
     "output_type": "execute_result"
    }
   ],
   "source": [
    "y_val[:5]"
   ]
  },
  {
   "cell_type": "code",
   "execution_count": 11,
   "id": "481bf679-ced9-4b5b-a20e-39a6bdb8e10e",
   "metadata": {},
   "outputs": [
    {
     "data": {
      "text/plain": [
       "array([[-0.04112528, -0.01394902],\n",
       "       [-0.04515317,  0.11426168],\n",
       "       [ 0.01290818, -0.02871226],\n",
       "       [ 0.00038571, -0.11486316],\n",
       "       [-0.13163242,  0.00991047]], dtype=float32)"
      ]
     },
     "execution_count": 11,
     "metadata": {},
     "output_type": "execute_result"
    }
   ],
   "source": [
    "reg.predict(X_val)[:5]"
   ]
  },
  {
   "cell_type": "code",
   "execution_count": 12,
   "id": "39b6328c-06e4-4159-9833-82a411553139",
   "metadata": {},
   "outputs": [
    {
     "data": {
      "text/plain": [
       "4.793908873520726"
      ]
     },
     "execution_count": 12,
     "metadata": {},
     "output_type": "execute_result"
    }
   ],
   "source": [
    "np.degrees(np.max(np.abs(reg.predict(X_val) - y_val)))"
   ]
  },
  {
   "cell_type": "code",
   "execution_count": 13,
   "id": "f2de5b38-2017-4b90-86d9-d704d9a0ad6a",
   "metadata": {},
   "outputs": [
    {
     "data": {
      "text/plain": [
       "0.7170014188113919"
      ]
     },
     "execution_count": 13,
     "metadata": {},
     "output_type": "execute_result"
    }
   ],
   "source": [
    "np.degrees(np.median(np.abs(reg.predict(X_val) - y_val)))"
   ]
  },
  {
   "cell_type": "code",
   "execution_count": null,
   "id": "075c0b18-3132-4bf3-85ef-fe3c21680276",
   "metadata": {},
   "outputs": [],
   "source": []
  },
  {
   "cell_type": "code",
   "execution_count": 14,
   "id": "361ecf98-3212-4bc4-b713-8edcea26a9a8",
   "metadata": {},
   "outputs": [
    {
     "data": {
      "text/plain": [
       "(array([93., 69., 48., 24., 16.,  5.,  1.,  1.,  0.,  1.]),\n",
       " array([0.00784051, 0.48644735, 0.96505418, 1.44366102, 1.92226786,\n",
       "        2.40087469, 2.87948153, 3.35808836, 3.8366952 , 4.31530204,\n",
       "        4.79390887]),\n",
       " <BarContainer object of 10 artists>)"
      ]
     },
     "execution_count": 14,
     "metadata": {},
     "output_type": "execute_result"
    },
    {
     "data": {
      "image/png": "[encoded data removed]",
      "text/plain": [
       "<Figure size 640x480 with 1 Axes>"
      ]
     },
     "metadata": {},
     "output_type": "display_data"
    }
   ],
   "source": [
    "import matplotlib.pyplot as plt\n",
    "\n",
    "plt.hist(np.degrees(np.abs(reg.predict(X_val) - y_val).ravel()))"
   ]
  },
  {
   "cell_type": "code",
   "execution_count": null,
   "id": "815b29cb-0d80-4924-b38e-fbe491c52213",
   "metadata": {},
   "outputs": [],
   "source": []
  },
  {
   "cell_type": "code",
   "execution_count": 15,
   "id": "c301b725-612e-4e50-bf9f-e8d06c7bb965",
   "metadata": {},
   "outputs": [],
   "source": [
    "sample = samples['sample_101']"
   ]
  },
  {
   "cell_type": "code",
   "execution_count": 16,
   "id": "3def0315-3718-46db-90ad-4e48ca3349e0",
   "metadata": {},
   "outputs": [],
   "source": [
    "angle = 180\n",
    "ev_arr = np.array(sample['events'])\n",
    "label = sample['case']\n",
    "\n",
    "theta = np.radians(angle)\n",
    "c, s = np.cos(theta), np.sin(theta)\n",
    "R = np.array(((c, -s), (s, c)))\n",
    "\n",
    "ev_arr = np.array(ev_arr)\n",
    "centered = ev_arr[:, :2] - np.array((158, 121))\n",
    "rot_ev = (R @ centered.T).T + np.array((158, 121))\n"
   ]
  },
  {
   "cell_type": "code",
   "execution_count": 17,
   "id": "9c3d6003-f933-4666-9a21-34c3defb39c6",
   "metadata": {},
   "outputs": [
    {
     "data": {
      "text/plain": [
       "array([[                153,                  67, 1662379237704126638,\n",
       "                          0],\n",
       "       [                168,                 106, 1662379237704213638,\n",
       "                          0],\n",
       "       [                189,                 141, 1662379237704393638,\n",
       "                          0],\n",
       "       [                151,                  72, 1662379237704459638,\n",
       "                          1],\n",
       "       [                114,                  82, 1662379237704464638,\n",
       "                          0]])"
      ]
     },
     "execution_count": 17,
     "metadata": {},
     "output_type": "execute_result"
    }
   ],
   "source": [
    "ev_arr[:5,:]"
   ]
  },
  {
   "cell_type": "code",
   "execution_count": 18,
   "id": "4dfe1421-e9b0-4308-ab3e-6be61ea31283",
   "metadata": {},
   "outputs": [
    {
     "data": {
      "text/plain": [
       "array([[                163,                 175, 1662379237704126638,\n",
       "                          0],\n",
       "       [                148,                 136, 1662379237704213638,\n",
       "                          0],\n",
       "       [                127,                 101, 1662379237704393638,\n",
       "                          0],\n",
       "       [                165,                 170, 1662379237704459638,\n",
       "                          1],\n",
       "       [                202,                 160, 1662379237704464638,\n",
       "                          0]])"
      ]
     },
     "execution_count": 18,
     "metadata": {},
     "output_type": "execute_result"
    }
   ],
   "source": [
    "np.concatenate([rot_ev.astype(int), ev_arr[:, 2:]], -1)[:5,:]"
   ]
  },
  {
   "cell_type": "code",
   "execution_count": 19,
   "id": "30d6eb2d-52ca-4c89-acdf-41cc6cef239c",
   "metadata": {},
   "outputs": [
    {
     "data": {
      "text/plain": [
       "array([202., 160.])"
      ]
     },
     "execution_count": 19,
     "metadata": {},
     "output_type": "execute_result"
    }
   ],
   "source": [
    "centered = ev_arr[4,:2] - np.array((158, 121))\n",
    "(R @ centered.T).T + np.array((158, 121))"
   ]
  },
  {
   "cell_type": "code",
   "execution_count": 20,
   "id": "fbf9d08e-6b48-48bf-81b9-a85efc663700",
   "metadata": {},
   "outputs": [
    {
     "data": {
      "text/plain": [
       "[0.028701257427381735, 0.06929096493834651]"
      ]
     },
     "execution_count": 20,
     "metadata": {},
     "output_type": "execute_result"
    }
   ],
   "source": [
    "cases_dict[label]"
   ]
  },
  {
   "cell_type": "code",
   "execution_count": 21,
   "id": "f7190c8c-e51e-4505-ac5c-79f1a5a94f82",
   "metadata": {},
   "outputs": [
    {
     "data": {
      "text/plain": [
       "array([[-1.0000000e+00,  1.2246468e-16],\n",
       "       [-1.2246468e-16, -1.0000000e+00]])"
      ]
     },
     "execution_count": 21,
     "metadata": {},
     "output_type": "execute_result"
    }
   ],
   "source": [
    "import math\n",
    "rotation_angle=180\n",
    "rot_mat_ = np.array([ \n",
    "    [math.cos(rotation_angle*math.pi/180), math.sin(rotation_angle*math.pi/180)], \n",
    "    [-math.sin(rotation_angle*math.pi/180), math.cos(rotation_angle*math.pi/180)] \n",
    "])\n",
    "rot_mat_"
   ]
  },
  {
   "cell_type": "code",
   "execution_count": null,
   "id": "42581948-3dbe-4912-b23a-532cf0fcf708",
   "metadata": {},
   "outputs": [],
   "source": []
  },
  {
   "cell_type": "code",
   "execution_count": 22,
   "id": "a09c0c30-45c6-4762-afab-7cec021c80e3",
   "metadata": {},
   "outputs": [
    {
     "data": {
      "text/plain": [
       "array([[-1.0000000e+00, -1.2246468e-16],\n",
       "       [ 1.2246468e-16, -1.0000000e+00]])"
      ]
     },
     "execution_count": 22,
     "metadata": {},
     "output_type": "execute_result"
    }
   ],
   "source": [
    "R"
   ]
  },
  {
   "cell_type": "code",
   "execution_count": 23,
   "id": "eefc71e6-a121-4771-8ac1-71f99ea2328b",
   "metadata": {},
   "outputs": [
    {
     "data": {
      "text/plain": [
       "[-0.028701257427381773, -0.06929096493834648]"
      ]
     },
     "execution_count": 23,
     "metadata": {},
     "output_type": "execute_result"
    }
   ],
   "source": [
    "rot_v = np.array(cases_dict[label])\n",
    "new_rot_v = R @ rot_v\n",
    "#print(new_rot_v, cases_dict[label])\n",
    "\n",
    "best_rot_diff = 100\n",
    "best_rot_idx = 1\n",
    "i = 1\n",
    "\n",
    "for rot in list_of_rotations:\n",
    "    diff_vals = np.sqrt( np.power(rot[0] - new_rot_v[0], 2) +  np.power(rot[1] - new_rot_v[1], 2))\n",
    "    if best_rot_diff > diff_vals:\n",
    "        best_rot_diff = diff_vals\n",
    "        best_rot_idx = i\n",
    "    i = i + 1\n",
    "    \n",
    "cases_dict[best_rot_idx]"
   ]
  },
  {
   "cell_type": "code",
   "execution_count": 24,
   "id": "35afef5c-d851-4058-a007-014d42503f4d",
   "metadata": {},
   "outputs": [],
   "source": [
    "imgs = np.zeros((260, 346))\n",
    "imgs\n",
    "\n",
    "for x, y in ev_arr[:, :2]:\n",
    "    imgs[y, x] = 1"
   ]
  },
  {
   "cell_type": "code",
   "execution_count": 25,
   "id": "7a79900d-30b0-4d00-8ac2-f92ffd49be16",
   "metadata": {},
   "outputs": [
    {
     "data": {
      "text/plain": [
       "<matplotlib.image.AxesImage at 0x7f14e3960100>"
      ]
     },
     "execution_count": 25,
     "metadata": {},
     "output_type": "execute_result"
    },
    {
     "data": {
      "image/png": "[encoded data removed]",
      "text/plain": [
       "<Figure size 640x480 with 1 Axes>"
      ]
     },
     "metadata": {},
     "output_type": "display_data"
    }
   ],
   "source": [
    "plt.imshow(imgs)"
   ]
  },
  {
   "cell_type": "code",
   "execution_count": 26,
   "id": "f8bbcd6d-d627-4521-8a60-230602c81f5e",
   "metadata": {},
   "outputs": [],
   "source": [
    "import cv2\n",
    "rot_mat = cv2.getRotationMatrix2D((158, 121), 180, 1.0)\n",
    "rotated_image = cv2.warpAffine(imgs, rot_mat, imgs.shape[1::-1], flags=cv2.INTER_LINEAR)\n"
   ]
  },
  {
   "cell_type": "code",
   "execution_count": 27,
   "id": "4e58e73b-3f5a-4938-89c2-b406b8284f40",
   "metadata": {},
   "outputs": [
    {
     "data": {
      "text/plain": [
       "(346, 260)"
      ]
     },
     "execution_count": 27,
     "metadata": {},
     "output_type": "execute_result"
    }
   ],
   "source": [
    "imgs.shape[1::-1]"
   ]
  },
  {
   "cell_type": "code",
   "execution_count": 28,
   "id": "8bb5a1bd-abdb-4e31-b3dd-819e48466c2a",
   "metadata": {},
   "outputs": [
    {
     "data": {
      "text/plain": [
       "242"
      ]
     },
     "execution_count": 28,
     "metadata": {},
     "output_type": "execute_result"
    }
   ],
   "source": [
    "121*2"
   ]
  },
  {
   "cell_type": "code",
   "execution_count": 29,
   "id": "da96c999-01f9-48e2-8a0b-4851e9579b14",
   "metadata": {},
   "outputs": [
    {
     "data": {
      "text/plain": [
       "<matplotlib.image.AxesImage at 0x7f14ad093220>"
      ]
     },
     "execution_count": 29,
     "metadata": {},
     "output_type": "execute_result"
    },
    {
     "data": {
      "image/png": "[encoded data removed]",
      "text/plain": [
       "<Figure size 640x480 with 1 Axes>"
      ]
     },
     "metadata": {},
     "output_type": "display_data"
    }
   ],
   "source": [
    "plt.imshow(rotated_image)"
   ]
  },
  {
   "cell_type": "code",
   "execution_count": 30,
   "id": "1a739179-a3ac-41c8-ae57-2c9277319749",
   "metadata": {},
   "outputs": [
    {
     "data": {
      "text/plain": [
       "<matplotlib.collections.PathCollection at 0x7f14acff1e50>"
      ]
     },
     "execution_count": 30,
     "metadata": {},
     "output_type": "execute_result"
    },
    {
     "data": {
      "image/png": "[encoded data removed]",
      "text/plain": [
       "<Figure size 640x480 with 1 Axes>"
      ]
     },
     "metadata": {},
     "output_type": "display_data"
    }
   ],
   "source": [
    "plt.scatter(*ev_arr[:, :2].T)"
   ]
  },
  {
   "cell_type": "code",
   "execution_count": 31,
   "id": "2a9c6dc8-d288-407d-a0a8-f151a8063bb4",
   "metadata": {},
   "outputs": [
    {
     "data": {
      "text/plain": [
       "<matplotlib.collections.PathCollection at 0x7f14acf7e4c0>"
      ]
     },
     "execution_count": 31,
     "metadata": {},
     "output_type": "execute_result"
    },
    {
     "data": {
      "image/png": "[encoded data removed]",
      "text/plain": [
       "<Figure size 640x480 with 1 Axes>"
      ]
     },
     "metadata": {},
     "output_type": "display_data"
    }
   ],
   "source": [
    "plt.scatter(*centered.T)\n",
    "plt.scatter(0, 0, c='r')"
   ]
  },
  {
   "cell_type": "code",
   "execution_count": 32,
   "id": "e42082a6-d255-4e72-b7cf-0567e19d5712",
   "metadata": {},
   "outputs": [
    {
     "data": {
      "text/plain": [
       "<matplotlib.collections.PathCollection at 0x7f14acf5b2e0>"
      ]
     },
     "execution_count": 32,
     "metadata": {},
     "output_type": "execute_result"
    },
    {
     "data": {
      "image/png": "[encoded data removed]",
      "text/plain": [
       "<Figure size 640x480 with 1 Axes>"
      ]
     },
     "metadata": {},
     "output_type": "display_data"
    }
   ],
   "source": [
    "plt.scatter(*(R @ centered.T))"
   ]
  },
  {
   "cell_type": "code",
   "execution_count": 33,
   "id": "32784c4d-5b1d-49c5-bc62-33a226016400",
   "metadata": {},
   "outputs": [
    {
     "data": {
      "text/plain": [
       "<matplotlib.collections.PathCollection at 0x7f14acec70a0>"
      ]
     },
     "execution_count": 33,
     "metadata": {},
     "output_type": "execute_result"
    },
    {
     "data": {
      "image/png": "[encoded data removed]",
      "text/plain": [
       "<Figure size 640x480 with 1 Axes>"
      ]
     },
     "metadata": {},
     "output_type": "display_data"
    }
   ],
   "source": [
    "plt.scatter(*rot_ev.T)"
   ]
  },
  {
   "cell_type": "code",
   "execution_count": null,
   "id": "9ab78078-f18d-45a1-8ab3-6bb46596a7f8",
   "metadata": {},
   "outputs": [],
   "source": []
  },
  {
   "cell_type": "code",
   "execution_count": 34,
   "id": "085dd1b0-a11c-47e8-9bd9-2fb514653479",
   "metadata": {},
   "outputs": [
    {
     "ename": "NameError",
     "evalue": "name 'rotate_case' is not defined",
     "output_type": "error",
     "traceback": [
      "\u001b[0;31m---------------------------------------------------------------------------\u001b[0m",
      "\u001b[0;31mNameError\u001b[0m                                 Traceback (most recent call last)",
      "Input \u001b[0;32mIn [34]\u001b[0m, in \u001b[0;36m<cell line: 1>\u001b[0;34m()\u001b[0m\n\u001b[0;32m----> 1\u001b[0m \u001b[43mrotate_case\u001b[49m(sample[\u001b[38;5;124m'\u001b[39m\u001b[38;5;124mevents\u001b[39m\u001b[38;5;124m'\u001b[39m], sample[\u001b[38;5;124m'\u001b[39m\u001b[38;5;124mcase\u001b[39m\u001b[38;5;124m'\u001b[39m], \u001b[38;5;241m180\u001b[39m)\n",
      "\u001b[0;31mNameError\u001b[0m: name 'rotate_case' is not defined"
     ]
    }
   ],
   "source": [
    "rotate_case(sample['events'], sample['case'], 180)"
   ]
  },
  {
   "cell_type": "code",
   "execution_count": null,
   "id": "7f396a73-b85f-40cd-9785-62da28866827",
   "metadata": {},
   "outputs": [],
   "source": [
    "def aug_gen():\n",
    "    for i, sample_idx in enumerate(train_idx):\n",
    "        for angle in [0,180,90,270]:\n",
    "            if angle == 0:\n",
    "                yield samples[sample_idx]\n",
    "            else:\n",
    "                case, events = rotate_case(samples[sample_idx]['events'], samples[sample_idx]['case'], angle)\n",
    "                yield {'events': events, 'case': case}"
   ]
  },
  {
   "cell_type": "code",
   "execution_count": null,
   "id": "12fecd96-cea1-4598-be1d-57e55d10cccc",
   "metadata": {
    "tags": []
   },
   "outputs": [],
   "source": [
    "samples_train = {f'sample_{i+1}': sam for i, sam in enumerate(aug_gen())}"
   ]
  },
  {
   "cell_type": "code",
   "execution_count": null,
   "id": "11cede99-ca90-4c24-ba90-b0a1f06ae02d",
   "metadata": {},
   "outputs": [],
   "source": [
    "sample_idx"
   ]
  },
  {
   "cell_type": "code",
   "execution_count": null,
   "id": "e137c680-c8d2-4508-89fd-ad97edecdc6c",
   "metadata": {},
   "outputs": [],
   "source": [
    "X_train_aug = np.zeros((len(samples_train), 53))\n",
    "y_train_aug = np.zeros((len(samples_train), 2))\n",
    "\n",
    "for i, sample_idx in enumerate(list(samples_train.keys())):\n",
    "    pos = np.array(samples_train[sample_idx]['events'])[:, :2]\n",
    "    d = cdist(pos, cents)\n",
    "    event_node_idx = np.argmin(d, axis=-1)\n",
    "    for node_idx in range(len(cents)):\n",
    "        events_idx = event_node_idx == node_idx\n",
    "        X_train_aug[i, node_idx] = sum(events_idx)\n",
    "    y_train_aug[i] = cases_dict[samples_train[sample_idx]['case']]"
   ]
  },
  {
   "cell_type": "code",
   "execution_count": null,
   "id": "0f9090b2-b6fc-463d-bb79-9e7472fd475c",
   "metadata": {},
   "outputs": [],
   "source": [
    "reg_aug = xgb.XGBRegressor(n_estimators=300, max_depth=3)\n",
    "reg_aug.fit(X_train_aug, y_train_aug)"
   ]
  },
  {
   "cell_type": "code",
   "execution_count": null,
   "id": "cfc0bb77-f301-40cd-b818-b0f0a77d706e",
   "metadata": {},
   "outputs": [],
   "source": [
    "np.degrees(np.mean(np.abs(reg_aug.predict(X_train_aug) - y_train_aug)))"
   ]
  },
  {
   "cell_type": "code",
   "execution_count": null,
   "id": "90a570e9-fc7c-458c-a87b-574ce42dac37",
   "metadata": {},
   "outputs": [],
   "source": [
    "np.degrees(np.mean(np.abs(reg_aug.predict(X_val) - y_val)))"
   ]
  },
  {
   "cell_type": "code",
   "execution_count": null,
   "id": "3a67c04a-0a60-4e6c-9a74-58b598e521f4",
   "metadata": {},
   "outputs": [],
   "source": [
    "np.degrees(np.max(np.abs(reg_aug.predict(X_val) - y_val)))"
   ]
  },
  {
   "cell_type": "code",
   "execution_count": null,
   "id": "5c75eebf-3bd1-4ca3-9d24-bf92e508423d",
   "metadata": {},
   "outputs": [],
   "source": []
  }
 ],
 "metadata": {
  "kernelspec": {
   "display_name": "Python 3 (ipykernel)",
   "language": "python",
   "name": "python3"
  },
  "language_info": {
   "codemirror_mode": {
    "name": "ipython",
    "version": 3
   },
   "file_extension": ".py",
   "mimetype": "text/x-python",
   "name": "python",
   "nbconvert_exporter": "python",
   "pygments_lexer": "ipython3",
   "version": "3.8.13"
  }
 },
 "nbformat": 4,
 "nbformat_minor": 5
}
