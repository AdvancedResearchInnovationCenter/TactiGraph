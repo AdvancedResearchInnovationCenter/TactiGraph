{
 "cells": [
  {
   "cell_type": "code",
   "execution_count": 1,
   "id": "4917978b-2ecc-46d2-bd51-16591fad7ceb",
   "metadata": {},
   "outputs": [
    {
     "name": "stdout",
     "output_type": "stream",
     "text": [
      "{'N_examples': 5,\n",
      " 'augmentations': ['JitterEvents(max_delta_x=2)'],\n",
      " 'bag': '/home/hussain/me/projects/tactile/data/bags/small2',\n",
      " 'case_span': 2660000000.0,\n",
      " 'center': (180, 117),\n",
      " 'circle_rad': 85,\n",
      " 'delta_t': 75000000.0,\n",
      " 'margin': -25000000.0,\n",
      " 'min_n_events': 750,\n",
      " 'n_init_events': -1,\n",
      " 'possible_angles': [0.15707963267948966],\n",
      " 'theta': [0, 0, 0.5235987755982988, 1.0471975511965976, 1.5707963267948966],\n",
      " 'train_prop': 0.75}\n"
     ]
    }
   ],
   "source": [
    "import sys\n",
    "\n",
    "from src.imports.ExtractContactCases import ExtractContactCases\n",
    "from src.imports.EventArrayAugmention import *\n",
    "import math\n",
    "import numpy as np\n",
    "from pprint import pprint\n",
    "\n",
    "ex = ExtractContactCases(\n",
    "    tactile_bag_dir='data/bags/small2/',\n",
    "    outdir='data/small/contact_extraction3',\n",
    "    n_init_events=-1,\n",
    "    event_array_augmentations=JitterEvents(2)\n",
    ")\n",
    "\n",
    "pprint(ex.params)"
   ]
  },
  {
   "cell_type": "code",
   "execution_count": 2,
   "id": "fa641149-db74-440d-aab9-d571e83e8d85",
   "metadata": {},
   "outputs": [
    {
     "data": {
      "application/vnd.jupyter.widget-view+json": {
       "model_id": "31f9e51fa74d43d498e63b96c3e96694",
       "version_major": 2,
       "version_minor": 0
      },
      "text/plain": [
       "extracting contact timestamps:   0%|          | 0/13491 [00:00<?, ?it/s]"
      ]
     },
     "metadata": {},
     "output_type": "display_data"
    },
    {
     "data": {
      "application/vnd.jupyter.widget-view+json": {
       "model_id": "da4cf1e1873f47e99e3e381f97a9c00e",
       "version_major": 2,
       "version_minor": 0
      },
      "text/plain": [
       "extracting event arrays:   0%|          | 0/60 [00:00<?, ?it/s]"
      ]
     },
     "metadata": {},
     "output_type": "display_data"
    },
    {
     "name": "stdout",
     "output_type": "stream",
     "text": [
      "saving\n",
      "60 60\n"
     ]
    }
   ],
   "source": [
    "ex.extract()"
   ]
  },
  {
   "cell_type": "code",
   "execution_count": 2,
   "id": "add474f9-b4ee-49b9-91d9-055c57ae3584",
   "metadata": {},
   "outputs": [
    {
     "ename": "AttributeError",
     "evalue": "'ExtractContactCases' object has no attribute 'cases'",
     "output_type": "error",
     "traceback": [
      "\u001b[0;31m---------------------------------------------------------------------------\u001b[0m",
      "\u001b[0;31mAttributeError\u001b[0m                            Traceback (most recent call last)",
      "Cell \u001b[0;32mIn[2], line 1\u001b[0m\n\u001b[0;32m----> 1\u001b[0m \u001b[43mex\u001b[49m\u001b[38;5;241;43m.\u001b[39;49m\u001b[43massure\u001b[49m\u001b[43m(\u001b[49m\u001b[43m)\u001b[49m\n",
      "File \u001b[0;32m~/me/projects/tactile/src/imports/ExtractContactCases.py:580\u001b[0m, in \u001b[0;36mExtractContactCases.assure\u001b[0;34m(self)\u001b[0m\n\u001b[1;32m    577\u001b[0m     desired_n_tot_cases \u001b[38;5;241m=\u001b[39m (\u001b[38;5;241m1\u001b[39m\u001b[38;5;241m+\u001b[39m(\u001b[38;5;28mlen\u001b[39m(\u001b[38;5;28mself\u001b[39m\u001b[38;5;241m.\u001b[39mparams[\u001b[38;5;124m'\u001b[39m\u001b[38;5;124mtheta\u001b[39m\u001b[38;5;124m'\u001b[39m])\u001b[38;5;241m-\u001b[39m\u001b[38;5;241m1\u001b[39m)\u001b[38;5;241m*\u001b[39m\u001b[38;5;28mlen\u001b[39m(\u001b[38;5;28mself\u001b[39m\u001b[38;5;241m.\u001b[39mparams[\u001b[38;5;124m'\u001b[39m\u001b[38;5;124mpossible_angles\u001b[39m\u001b[38;5;124m'\u001b[39m]))\n\u001b[1;32m    579\u001b[0m desired_n_tot_cases \u001b[38;5;241m*\u001b[39m\u001b[38;5;241m=\u001b[39m \u001b[38;5;28mself\u001b[39m\u001b[38;5;241m.\u001b[39mtactile_bag\u001b[38;5;241m.\u001b[39mparams[\u001b[38;5;124m'\u001b[39m\u001b[38;5;124mN_iters\u001b[39m\u001b[38;5;124m'\u001b[39m]\n\u001b[0;32m--> 580\u001b[0m \u001b[38;5;28mprint\u001b[39m(desired_n_tot_cases, \u001b[38;5;28mlen\u001b[39m(\u001b[38;5;28;43mself\u001b[39;49m\u001b[38;5;241;43m.\u001b[39;49m\u001b[43mcases\u001b[49m))\n\u001b[1;32m    581\u001b[0m \u001b[38;5;28;01massert\u001b[39;00m desired_n_tot_cases \u001b[38;5;241m==\u001b[39m \u001b[38;5;28mlen\u001b[39m(\u001b[38;5;28mself\u001b[39m\u001b[38;5;241m.\u001b[39mcases)\n",
      "\u001b[0;31mAttributeError\u001b[0m: 'ExtractContactCases' object has no attribute 'cases'"
     ]
    }
   ],
   "source": [
    "ex.assure()"
   ]
  },
  {
   "cell_type": "code",
   "execution_count": 4,
   "id": "5155e46f-c7f8-4f68-9cf9-3bab24f3eb42",
   "metadata": {},
   "outputs": [
    {
     "data": {
      "application/vnd.jupyter.widget-view+json": {
       "model_id": "5136aa4d8739471c8447ce80df17e0c0",
       "version_major": 2,
       "version_minor": 0
      },
      "text/plain": [
       "parsing events:   0%|          | 0/97707 [00:00<?, ?msg/s]"
      ]
     },
     "metadata": {},
     "output_type": "display_data"
    },
    {
     "data": {
      "application/vnd.jupyter.widget-view+json": {
       "model_id": "571261cf130a48d08800fad6a72b30f1",
       "version_major": 2,
       "version_minor": 0
      },
      "text/plain": [
       "parsing other:   0%|          | 0/253066 [00:00<?, ?msg/s]"
      ]
     },
     "metadata": {},
     "output_type": "display_data"
    }
   ],
   "source": [
    "from imports.TactileBag import TactileBag\n",
    "\n",
    "tbag = TactileBag('../data/bags/ayyad_run_new_sensor/')\n",
    "tbag.parse(\n",
    "    possible_angles=[0.0174532925, 0.034906585, 0.0523598776, 0.075, 0.095, 0.115, 0.135, 0.15],\n",
    "    N_examples=17,\n",
    "    theta='full',\n",
    "    N_iters=5)"
   ]
  },
  {
   "cell_type": "code",
   "execution_count": 4,
   "id": "6cd9cb22-5c58-4d61-a851-1575d2207905",
   "metadata": {},
   "outputs": [],
   "source": [
    "samples = ex.load()"
   ]
  }
 ],
 "metadata": {
  "kernelspec": {
   "display_name": "Python 3 (ipykernel)",
   "language": "python",
   "name": "python3"
  },
  "language_info": {
   "codemirror_mode": {
    "name": "ipython",
    "version": 3
   },
   "file_extension": ".py",
   "mimetype": "text/x-python",
   "name": "python",
   "nbconvert_exporter": "python",
   "pygments_lexer": "ipython3",
   "version": "3.8.13"
  }
 },
 "nbformat": 4,
 "nbformat_minor": 5
}
