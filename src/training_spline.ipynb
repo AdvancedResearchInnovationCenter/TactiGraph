{
 "cells": [
  {
   "cell_type": "code",
   "execution_count": 1,
   "id": "2b4fda8c-3081-49d5-9c24-68eed78d2c9d",
   "metadata": {},
   "outputs": [
    {
     "name": "stdout",
     "output_type": "stream",
     "text": [
      "/bin/bash: /home/hussain/miniconda3/envs/tactile/lib/libtinfo.so.6: no version information available (required by /bin/bash)\n"
     ]
    },
    {
     "name": "stderr",
     "output_type": "stream",
     "text": [
      "Processing...\n"
     ]
    },
    {
     "name": "stdout",
     "output_type": "stream",
     "text": [
      "{'train_prop': 0.6, 'augment': False, 'delta_t': 25000000.0, 'margin': -25000000.0, 'max_events_thresh': 2000, 'n': 644, 'kNN': 32, 'node_features': 'pol'}\n"
     ]
    },
    {
     "name": "stderr",
     "output_type": "stream",
     "text": [
      "Done!\n",
      "Processing...\n"
     ]
    },
    {
     "name": "stdout",
     "output_type": "stream",
     "text": [
      "{'train_prop': 0.6, 'augment': False, 'delta_t': 25000000.0, 'margin': -25000000.0, 'max_events_thresh': 2000, 'n': 644, 'kNN': 32, 'node_features': 'pol'}\n"
     ]
    },
    {
     "name": "stderr",
     "output_type": "stream",
     "text": [
      "Done!\n",
      "Processing...\n"
     ]
    },
    {
     "name": "stdout",
     "output_type": "stream",
     "text": [
      "{'train_prop': 0.6, 'augment': False, 'delta_t': 25000000.0, 'margin': -25000000.0, 'max_events_thresh': 2000, 'n': 644, 'kNN': 32, 'node_features': 'pol'}\n"
     ]
    },
    {
     "name": "stderr",
     "output_type": "stream",
     "text": [
      "Done!\n"
     ]
    }
   ],
   "source": [
    "from torch_geometric.loader import DataLoader\n",
    "from torch_geometric import seed_everything\n",
    "from torch_geometric.transforms import Distance, Cartesian\n",
    "from imports.TrainModel import TrainModel\n",
    "seed_everything(0)\n",
    "\n",
    "from models.spline import nvs_no_skip as splinenet\n",
    "\n",
    "model = splinenet().to('cuda')\n",
    "model\n",
    "!rm ../data/contact_extraction10/{train,test,val}/processed/*\n",
    "\n",
    "tm = TrainModel('/home/hussain/tactile/data/contact_extraction10/', model, n_epochs=150, transform=Cartesian(cat=False), features='pol', augment=False)"
   ]
  },
  {
   "cell_type": "markdown",
   "id": "9f60b706-6f50-4b92-83f8-0ac347425cfc",
   "metadata": {
    "tags": []
   },
   "source": [
    "#### tm.train()"
   ]
  },
  {
   "cell_type": "code",
   "execution_count": 7,
   "id": "d1608c01-f30c-4a35-bc20-95bb691a6359",
   "metadata": {},
   "outputs": [
    {
     "data": {
      "text/plain": [
       "0.022077545086204103"
      ]
     },
     "execution_count": 7,
     "metadata": {},
     "output_type": "execute_result"
    }
   ],
   "source": [
    "min(tm.val_losses)"
   ]
  },
  {
   "cell_type": "code",
   "execution_count": 4,
   "id": "407b1bf2-34b8-4991-98dc-4bb88f0f2884",
   "metadata": {},
   "outputs": [
    {
     "data": {
      "text/plain": [
       "0.011305167100377001"
      ]
     },
     "execution_count": 4,
     "metadata": {},
     "output_type": "execute_result"
    }
   ],
   "source": [
    "tm.test()"
   ]
  },
  {
   "cell_type": "code",
   "execution_count": 24,
   "id": "5d51daa9-8743-4179-98f7-87d2ee536de7",
   "metadata": {
    "collapsed": true,
    "jupyter": {
     "outputs_hidden": true
    },
    "tags": []
   },
   "outputs": [
    {
     "data": {
      "application/vnd.jupyter.widget-view+json": {
       "model_id": "245a88c7492747ed89604b55b79f7176",
       "version_major": 2,
       "version_minor": 0
      },
      "text/plain": [
       "  0%|          | 0/33 [00:00<?, ?it/s]"
      ]
     },
     "metadata": {},
     "output_type": "display_data"
    },
    {
     "name": "stdout",
     "output_type": "stream",
     "text": [
      "0.14057564735412598\n",
      "0.17262601852416992\n",
      "0.1955254077911377\n",
      "0.15732598304748535\n",
      "0.12617993354797363\n",
      "0.13708806037902832\n",
      "0.1367342472076416\n",
      "0.19402194023132324\n",
      "0.1806349754333496\n",
      "0.16005754470825195\n",
      "0.13409996032714844\n",
      "0.1878058910369873\n",
      "0.19119000434875488\n",
      "0.19316840171813965\n",
      "0.1704239845275879\n",
      "0.1675717830657959\n",
      "0.20548200607299805\n",
      "0.18075847625732422\n",
      "0.14330005645751953\n",
      "0.1307077407836914\n",
      "0.17769408226013184\n",
      "0.20035505294799805\n",
      "0.18609166145324707\n",
      "0.1927506923675537\n",
      "0.1511704921722412\n",
      "0.14408493041992188\n",
      "0.11974000930786133\n",
      "0.10378074645996094\n",
      "0.12209033966064453\n",
      "0.17664790153503418\n",
      "0.1758272647857666\n",
      "0.13147425651550293\n",
      "0.2036294937133789\n"
     ]
    },
    {
     "data": {
      "text/plain": [
       "0.0227090794536652"
      ]
     },
     "execution_count": 24,
     "metadata": {},
     "output_type": "execute_result"
    }
   ],
   "source": [
    "import time \n",
    "from tqdm.auto import tqdm\n",
    "t = []\n",
    "def validate(self):\n",
    "    loss = 0\n",
    "    for i, data in enumerate(tqdm(self.val_loader)):\n",
    "        now = time.time()\n",
    "        data = data.to('cuda')\n",
    "        end_point = self.model(data)\n",
    "        end = time.time() - now\n",
    "        t.append(end)\n",
    "        print(end)\n",
    "        loss += self.loss_func(end_point[0], data.y).detach().item()\n",
    "    loss /= len(self.val_data)\n",
    "    return loss\n",
    "\n",
    "validate(tm)"
   ]
  },
  {
   "cell_type": "code",
   "execution_count": 26,
   "id": "7c1789f3-2dfb-4bb6-89b9-b081ee016ca2",
   "metadata": {},
   "outputs": [
    {
     "data": {
      "text/plain": [
       "0.1633519692854448"
      ]
     },
     "execution_count": 26,
     "metadata": {},
     "output_type": "execute_result"
    }
   ],
   "source": [
    "import numpy as np\n",
    "np.mean(t)"
   ]
  },
  {
   "cell_type": "code",
   "execution_count": 23,
   "id": "e95cafae-1d95-4350-84e6-b388d9875896",
   "metadata": {},
   "outputs": [
    {
     "data": {
      "text/plain": [
       "nvs_no_skip(\n",
       "  (conv1): SplineConv(1, 64, dim=3)\n",
       "  (bn1): BatchNorm1d(64, eps=1e-05, momentum=0.1, affine=True, track_running_stats=True)\n",
       "  (conv2): SplineConv(64, 128, dim=3)\n",
       "  (bn2): BatchNorm1d(128, eps=1e-05, momentum=0.1, affine=True, track_running_stats=True)\n",
       "  (conv3): SplineConv(128, 256, dim=3)\n",
       "  (bn3): BatchNorm1d(256, eps=1e-05, momentum=0.1, affine=True, track_running_stats=True)\n",
       "  (conv4): SplineConv(256, 512, dim=3)\n",
       "  (bn4): BatchNorm1d(512, eps=1e-05, momentum=0.1, affine=True, track_running_stats=True)\n",
       "  (fc1): Linear(in_features=32768, out_features=1024, bias=True)\n",
       "  (fc2): Linear(in_features=1024, out_features=2, bias=True)\n",
       ")"
      ]
     },
     "execution_count": 23,
     "metadata": {},
     "output_type": "execute_result"
    }
   ],
   "source": [
    "tm.model.to('cuda')"
   ]
  },
  {
   "cell_type": "code",
   "execution_count": 11,
   "id": "35044332-bf05-4b0a-85e2-e9fe41a0eb30",
   "metadata": {},
   "outputs": [
    {
     "data": {
      "application/vnd.jupyter.widget-view+json": {
       "model_id": "460e2b48ffa246e289253d207f67a459",
       "version_major": 2,
       "version_minor": 0
      },
      "text/plain": [
       "parsing bag: 0it [00:00, ?it/s]"
      ]
     },
     "metadata": {},
     "output_type": "display_data"
    },
    {
     "data": {
      "application/vnd.jupyter.widget-view+json": {
       "model_id": "161bf6597d844b0899fc506003d17f0b",
       "version_major": 2,
       "version_minor": 0
      },
      "text/plain": [
       "  0%|          | 0/645 [00:00<?, ?it/s]"
      ]
     },
     "metadata": {},
     "output_type": "display_data"
    },
    {
     "name": "stdout",
     "output_type": "stream",
     "text": [
      "saving\n",
      "386 129 129\n"
     ]
    }
   ],
   "source": [
    "from imports.ExtractContactCases import ExtractContactCases\n",
    "\n",
    "ex = ExtractContactCases('/home/hussain/tactile/data/contact_extraction10/', '/home/hussain/tactile/dataset_ENVTACT_new2.bag')\n",
    "ex.extract()"
   ]
  },
  {
   "cell_type": "code",
   "execution_count": null,
   "id": "0537ddc9-106a-42d7-8f4d-c0fa139dbf64",
   "metadata": {},
   "outputs": [],
   "source": []
  }
 ],
 "metadata": {
  "kernelspec": {
   "display_name": "Python 3 (ipykernel)",
   "language": "python",
   "name": "python3"
  },
  "language_info": {
   "codemirror_mode": {
    "name": "ipython",
    "version": 3
   },
   "file_extension": ".py",
   "mimetype": "text/x-python",
   "name": "python",
   "nbconvert_exporter": "python",
   "pygments_lexer": "ipython3",
   "version": "3.8.13"
  }
 },
 "nbformat": 4,
 "nbformat_minor": 5
}
