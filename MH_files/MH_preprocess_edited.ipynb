{
 "cells": [
  {
   "cell_type": "code",
   "execution_count": 1,
   "metadata": {
    "tags": []
   },
   "outputs": [],
   "source": [
    "#import models\n",
    "import numpy as np\n",
    "import h5py\n",
    "import sys, os\n",
    "import rospy\n",
    "import rosbag\n",
    "import math\n",
    "from scipy.interpolate import interp1d\n",
    "import h5py\n",
    "import matplotlib.pylab as plt\n",
    "import time \n",
    "import cv2 \n",
    "\n",
    "#sys.path.insert(0, '/media/abdulla/Seagate Expansion Drive/DVS research/DATA/contact estimation/')\n",
    "from EventPreProcess import EventPreProcess\n",
    "#from dvs_msgs.msg import EventArray\n",
    "from std_msgs.msg import Float64, Bool\n",
    "from geometry_msgs.msg import Pose, Vector3, PoseStamped"
   ]
  },
  {
   "cell_type": "code",
   "execution_count": 2,
   "metadata": {},
   "outputs": [],
   "source": [
    "#parameters of processing\n",
    "frequency = 30 #Hz\n",
    "bag_file_name = '/data/dataset_ENVTACT_new2.bag'\n",
    "h5_file_name = 'dataset_1_new.hdf5'\n",
    "time_window_size = 6\n",
    "examples_per_edge = 1"
   ]
  },
  {
   "cell_type": "code",
   "execution_count": 4,
   "metadata": {
    "tags": []
   },
   "outputs": [
    {
     "name": "stdout",
     "output_type": "stream",
     "text": [
      "65\n",
      "[[0, 0, 0], [0.01234134148078231, 0.012341341480782309, 0], [0.02468268296156462, 0.024682682961564617, 0], [0.03702402451305761, 0.037024024513057606, 0], [0.053033008588991064, 0.05303300858899106, 0], [0.06717514421272203, 0.06717514421272201, 0], [0.08131727983645297, 0.08131727983645295, 0], [0.09545941546018392, 0.09545941546018391, 0], [0.10606601717798213, 0.10606601717798211, 0], [1.0687059397353753e-18, 0.0174532925, 0], [2.1374118794707506e-18, 0.034906585, 0], [3.2061178253293598e-18, 0.0523598776, 0], [4.592425496802574e-18, 0.075, 0], [5.817072295949928e-18, 0.095, 0], [7.04171909509728e-18, 0.115, 0], [8.266365894244634e-18, 0.135, 0], [9.184850993605149e-18, 0.15, 0], [-0.012341341480782309, 0.01234134148078231, 0], [-0.024682682961564617, 0.02468268296156462, 0], [-0.037024024513057606, 0.03702402451305761, 0], [-0.05303300858899106, 0.053033008588991064, 0], [-0.06717514421272201, 0.06717514421272203, 0], [-0.08131727983645295, 0.08131727983645297, 0], [-0.09545941546018391, 0.09545941546018392, 0], [-0.10606601717798211, 0.10606601717798213, 0], [-0.0174532925, 2.1374118794707506e-18, 0], [-0.034906585, 4.274823758941501e-18, 0], [-0.0523598776, 6.4122356506587196e-18, 0], [-0.075, 9.184850993605149e-18, 0], [-0.095, 1.1634144591899856e-17, 0], [-0.115, 1.408343819019456e-17, 0], [-0.135, 1.653273178848927e-17, 0], [-0.15, 1.8369701987210297e-17, 0], [-0.012341341480782312, -0.012341341480782309, 0], [-0.024682682961564624, -0.024682682961564617, 0], [-0.03702402451305762, -0.037024024513057606, 0], [-0.05303300858899108, -0.05303300858899106, 0], [-0.06717514421272203, -0.06717514421272201, 0], [-0.08131727983645298, -0.08131727983645295, 0], [-0.09545941546018394, -0.09545941546018391, 0], [-0.10606601717798216, -0.10606601717798211, 0], [-3.2061178192061255e-18, -0.0174532925, 0], [-6.412235638412251e-18, -0.034906585, 0], [-9.618353475988079e-18, -0.0523598776, 0], [-1.3777276490407722e-17, -0.075, 0], [-1.745121688784978e-17, -0.095, 0], [-2.1125157285291842e-17, -0.115, 0], [-2.4799097682733903e-17, -0.135, 0], [-2.7554552980815445e-17, -0.15, 0], [0.012341341480782307, -0.012341341480782312, 0], [0.024682682961564614, -0.024682682961564624, 0], [0.0370240245130576, -0.03702402451305762, 0], [0.05303300858899105, -0.05303300858899108, 0], [0.067175144212722, -0.06717514421272203, 0], [0.08131727983645295, -0.08131727983645298, 0], [0.0954594154601839, -0.09545941546018394, 0], [0.1060660171779821, -0.10606601717798216, 0], [0.0174532925, -4.274823758941501e-18, 0], [0.034906585, -8.549647517883002e-18, 0], [0.0523598776, -1.2824471301317439e-17, 0], [0.075, -1.8369701987210297e-17, 0], [0.095, -2.3268289183799712e-17, 0], [0.115, -2.816687638038912e-17, 0], [0.135, -3.306546357697854e-17, 0], [0.15, -3.6739403974420595e-17, 0]]\n"
     ]
    }
   ],
   "source": [
    "bag_file = rosbag.Bag(bag_file_name)\n",
    "\n",
    "events = []\n",
    "contact_status = []\n",
    "contact_status_ts = []\n",
    "contact_case = [] #0:No contact 1: center, 2:remainder of contacts as in list_of_rotations\n",
    "contact_case_ts = []\n",
    "\n",
    "contact_case_updated = []\n",
    "contact_case_updated_ts = []\n",
    "\n",
    "\n",
    "#generate labels\n",
    "possible_angle = [0.0174532925, 0.034906585, 0.0523598776, 0.075, 0.095, 0.115, 0.135, 0.15] #[0.075, 0.15]\n",
    "N_examples = 9\n",
    "list_of_rotations = [[0, 0, 0]]\n",
    "\n",
    "for i in range(1, N_examples):\n",
    "    theta = i * 2 * math.pi/(N_examples - 1)\n",
    "    for phi in possible_angle:\n",
    "        rx = phi * math.cos(theta)\n",
    "        ry = phi * math.sin(theta)\n",
    "        rotvec = [rx, ry, 0]\n",
    "        list_of_rotations.append(rotvec)\n",
    "\n",
    "print(len(list_of_rotations))\n",
    "print(list_of_rotations)\n"
   ]
  },
  {
   "cell_type": "code",
   "execution_count": 5,
   "metadata": {},
   "outputs": [],
   "source": [
    "event_time = np.array([events[i][2] for i in range(np.shape(events)[0])])\n",
    "def filter_events_by_time(events, time_of_contact, time_period = 0.3e9, threshold=20000):\n",
    "    event_in_time_idx = np.where((event_time > (time_of_contact - time_period)) * (event_time < time_of_contact))[0]\n",
    "    #time_of_contact - time_period < ts < time_of_contact\n",
    "\n",
    "    print(len(event_in_time_idx))\n",
    "    if len(event_in_time_idx) < threshold:\n",
    "        return False, []\n",
    "    else:\n",
    "        print(event_in_time_idx)\n",
    "        output_events = np.array(events)[event_in_time_idx,:]\n",
    "        return True,output_events"
   ]
  },
  {
   "cell_type": "code",
   "execution_count": null,
   "metadata": {},
   "outputs": [],
   "source": [
    "filter(events, )"
   ]
  },
  {
   "cell_type": "code",
   "execution_count": 7,
   "metadata": {},
   "outputs": [],
   "source": [
    "# def check_contact(events):\n",
    "#         contact_threshold = 10000 # no. of events \n",
    "#         #print(\"length: \",len(self.new_events_list))\n",
    "#         if len(events) > contact_threshold:\n",
    "#             contact_status = True\n",
    "#         else:\n",
    "#             contact_status =  False\n",
    "        \n",
    "#         return contact_status"
   ]
  },
  {
   "cell_type": "code",
   "execution_count": 8,
   "metadata": {},
   "outputs": [],
   "source": [
    "gen = bag_file.read_messages(topics=['/contact_status', '/dvs/events', '/contact_angle'])"
   ]
  },
  {
   "cell_type": "code",
   "execution_count": 6,
   "metadata": {},
   "outputs": [
    {
     "name": "stderr",
     "output_type": "stream",
     "text": [
      "/home/hussain/miniconda3/envs/tactile/lib/python3.8/site-packages/tqdm/auto.py:22: TqdmWarning: IProgress not found. Please update jupyter and ipywidgets. See https://ipywidgets.readthedocs.io/en/stable/user_install.html\n",
      "  from .autonotebook import tqdm as notebook_tqdm\n",
      "419697it [01:19, 5255.91it/s]\n"
     ]
    }
   ],
   "source": [
    "#parse rosbag\n",
    "from tqdm.auto import tqdm\n",
    "\n",
    "for topic, msg, t in tqdm(bag_file.read_messages(topics=['/contact_status', '/dvs/events', '/contact_angle'])):\n",
    "    if topic == '/dvs/events':\n",
    "        for e in msg.events:\n",
    "            event = [e.x, e.y, e.ts.to_nsec(), e.polarity]\n",
    "            events.append(event)\n",
    "        event_topic = True    \n",
    "    elif topic == '/contact_status':\n",
    "        contact_status.append(msg.data)\n",
    "        contact_status_ts.append(t.to_nsec())\n",
    "    elif topic == '/contact_angle':\n",
    "        #if the first topic is contact angle\n",
    "        if (len(contact_status) > 1):\n",
    "            if (contact_status[-1] == True):\n",
    "                best_rot_diff = 100\n",
    "                best_rot_idx = 1\n",
    "                i = 1\n",
    "                for rot in list_of_rotations:\n",
    "                    diff_vals = np.sqrt( np.power(rot[0] - msg.x, 2) +  np.power(rot[1] - msg.y, 2) + np.power(rot[2] - msg.z, 2) )\n",
    "                    if best_rot_diff > diff_vals:\n",
    "                        best_rot_diff = diff_vals\n",
    "                        best_rot_idx = i\n",
    "                    i = i + 1\n",
    "\n",
    "                contact_case.append(best_rot_idx)\n",
    "                contact_case_ts.append(t.to_nsec())\n",
    "            else:\n",
    "                contact_case.append(0)\n",
    "                contact_case_ts.append(t.to_nsec())\n",
    "        else:\n",
    "            contact_case.append(0)\n",
    "            contact_case_ts.append(t.to_nsec())\n",
    "        \n",
    "        # Updated contact status according to no. of events\n",
    "        \n",
    "            \n",
    "#print(events)\n",
    "bag_file.close()"
   ]
  },
  {
   "cell_type": "code",
   "execution_count": 22,
   "metadata": {},
   "outputs": [
    {
     "data": {
      "text/plain": [
       "(array([83514.,  7958.,  9944.,  8638.,  9338.,  7464.,  9024.,  7767.,\n",
       "         9028.,  8570.]),\n",
       " array([ 0. ,  6.5, 13. , 19.5, 26. , 32.5, 39. , 45.5, 52. , 58.5, 65. ]),\n",
       " <BarContainer object of 10 artists>)"
      ]
     },
     "execution_count": 22,
     "metadata": {},
     "output_type": "execute_result"
    },
    {
     "data": {
      "image/png": "[encoded data removed]",
      "text/plain": [
       "<Figure size 640x480 with 1 Axes>"
      ]
     },
     "metadata": {},
     "output_type": "display_data"
    }
   ],
   "source": [
    "plt.hist(contact_case)"
   ]
  },
  {
   "cell_type": "code",
   "execution_count": 24,
   "metadata": {},
   "outputs": [
    {
     "data": {
      "text/plain": [
       "(array([ 0,  1,  2,  3,  4,  5,  6,  7,  8,  9, 10, 11, 12, 13, 14, 15, 16,\n",
       "        17, 18, 19, 20, 21, 22, 23, 24, 25, 26, 27, 28, 29, 30, 31, 32, 33,\n",
       "        34, 35, 36, 37, 38, 39, 40, 41, 42, 43, 44, 45, 46, 47, 48, 49, 50,\n",
       "        51, 52, 53, 54, 55, 56, 57, 58, 59, 60, 61, 62, 63, 64, 65]),\n",
       " array([     0,    283,   1456,   2709,   3954,   5206,   6460,   7701,\n",
       "          8949,  20184,  21431,  22669,  23944,  25205,  26452,  27729,\n",
       "         29559,  40146,  41395,  42649,  43900,  45199,  46422,  47652,\n",
       "         50149,  60150,  61401,  62653,  63901,  65156,  66404,  67659,\n",
       "         69528,  80139,  81387,  82640,  83889,  85142,  86394,  87643,\n",
       "         89024, 100128, 101380, 102630, 103884, 105134, 106383, 107639,\n",
       "        108886, 120127, 121380, 122628, 123874, 125124, 126376, 127625,\n",
       "        130127, 140116,   1452,   2702,   3940,   5193,   6447,   7696,\n",
       "         10198, 160071]))"
      ]
     },
     "execution_count": 24,
     "metadata": {},
     "output_type": "execute_result"
    }
   ],
   "source": [
    "np.unique(contact_case, True)"
   ]
  },
  {
   "cell_type": "code",
   "execution_count": 8,
   "metadata": {
    "tags": []
   },
   "outputs": [],
   "source": [
    "#interpolate\n",
    "f = interp1d(contact_case_ts, contact_case, kind='previous')\n",
    "contact_case_ts_int = range(min(contact_case_ts), max(contact_case_ts), int(1e9/frequency))\n",
    "contact_case_int = f(contact_case_ts_int)"
   ]
  },
  {
   "cell_type": "code",
   "execution_count": 9,
   "metadata": {},
   "outputs": [
    {
     "data": {
      "text/plain": [
       "33333333.333333332"
      ]
     },
     "execution_count": 9,
     "metadata": {},
     "output_type": "execute_result"
    }
   ],
   "source": [
    "1e9/frequency"
   ]
  },
  {
   "cell_type": "code",
   "execution_count": 10,
   "metadata": {},
   "outputs": [
    {
     "data": {
      "image/png": "[encoded data removed]",
      "text/plain": [
       "<Figure size 2000x800 with 1 Axes>"
      ]
     },
     "metadata": {},
     "output_type": "display_data"
    },
    {
     "name": "stdout",
     "output_type": "stream",
     "text": [
      "96927\n"
     ]
    }
   ],
   "source": [
    "plt.figure(figsize=(20,8))\n",
    "plt.plot(contact_case_ts, contact_case)\n",
    "plt.show()\n",
    "print(len(contact_case_ts_int))"
   ]
  },
  {
   "cell_type": "code",
   "execution_count": 11,
   "metadata": {
    "tags": []
   },
   "outputs": [
    {
     "data": {
      "image/png": "[encoded data removed]",
      "text/plain": [
       "<Figure size 2000x800 with 1 Axes>"
      ]
     },
     "metadata": {},
     "output_type": "display_data"
    },
    {
     "name": "stdout",
     "output_type": "stream",
     "text": [
      "96927\n"
     ]
    }
   ],
   "source": [
    "plt.figure(figsize=(20,8))\n",
    "plt.scatter(contact_case_ts_int, contact_case_int)\n",
    "plt.show()\n",
    "print(len(contact_case_ts_int))"
   ]
  },
  {
   "cell_type": "code",
   "execution_count": 31,
   "metadata": {},
   "outputs": [
    {
     "data": {
      "text/plain": [
       "(2376,)"
      ]
     },
     "execution_count": 31,
     "metadata": {},
     "output_type": "execute_result"
    }
   ],
   "source": [
    "contact_rise_idx.shape"
   ]
  },
  {
   "cell_type": "code",
   "execution_count": 14,
   "metadata": {},
   "outputs": [
    {
     "data": {
      "image/png": "[encoded data removed]",
      "text/plain": [
       "<Figure size 2000x700 with 1 Axes>"
      ]
     },
     "metadata": {},
     "output_type": "display_data"
    }
   ],
   "source": [
    "#from scipy import signal\n",
    "#find the rising peak\n",
    "# contact_peaks_idx, contact_peak_magnitude = signal.find_peaks(contact_case_int, height=0.4, distance=30)\n",
    "contact_case_diff_int = np.diff(contact_case_int)\n",
    "contact_case_diff_int = np.insert(contact_case_diff_int, 0, 0)\n",
    "contact_rise_idx = np.where(contact_case_diff_int > 0.4)[0]\n",
    "\n",
    "contact_rise_int = [0 for i in range(len(contact_case_int))]\n",
    "for index in contact_rise_idx:\n",
    "    contact_rise_int[index] = 70\n",
    "\n",
    "#cont_rise_int = 20 if there is an event\n",
    "\n",
    "plt.figure(figsize=(20,7))\n",
    "plt.scatter(contact_case_ts_int, contact_case_int)\n",
    "plt.scatter(contact_case_ts_int, contact_rise_int)\n",
    "plt.legend(['contact_status', 'contact_rise'])\n",
    "plt.show()"
   ]
  },
  {
   "cell_type": "code",
   "execution_count": 22,
   "metadata": {},
   "outputs": [],
   "source": [
    "def generateFrames(event_list, time_steps, im_height=260, im_width=346, im_channel=3, time_window=None):\n",
    "        event_iterator = 0\n",
    "        channel = 0\n",
    "        x = [0, 0, 0]\n",
    "        event_image = np.zeros((im_height, im_width, im_channel), dtype=np.float32)\n",
    "        for ts in time_steps:\n",
    "            \n",
    "            for i in range(event_iterator, len(event_list)):\n",
    "                event_iterator = i + 1\n",
    "                event = np.copy(event_list[i]) #[x, y, ts, polarity]\n",
    "                if (time_window==None) or (event[2] > ts - time_window):\n",
    "                    if event[2] > ts:\n",
    "                        event_image[201, 154, 0] = 0\n",
    "                        channel = channel + 1\n",
    "                        #print(\"cahnnel = \", channel)\n",
    "                        break\n",
    "                    else:\n",
    "                        # print(\"ha\")\n",
    "                        x[channel] = x[channel] + 1\n",
    "                        if event[3] > 0:\n",
    "                            event_image[int(event[1]), int(event[0]), channel] = event_image[int(event[1]), int(event[0]), channel] + 1.0\n",
    "                        else:\n",
    "                            event_image[int(event[1]), int(event[0]), channel] = event_image[int(event[1]), int(event[0]), channel] - 1.0             \n",
    "        \n",
    "        return event_image"
   ]
  },
  {
   "cell_type": "code",
   "execution_count": 23,
   "metadata": {},
   "outputs": [],
   "source": [
    "def cropFrames(image, circle_center=(173, 130), circle_rad=100, im_height=260, im_width=346, im_channels=3):\n",
    "        mask = np.zeros((im_height, im_width, im_channels), dtype=np.float32)            \n",
    "        cv2.circle(mask, circle_center, circle_rad, [1]*im_channels, -1, 8, 0)\n",
    "        cropped_image = np.multiply(mask, image)\n",
    "\n",
    "        return cropped_image"
   ]
  },
  {
   "cell_type": "code",
   "execution_count": 24,
   "metadata": {},
   "outputs": [
    {
     "name": "stdout",
     "output_type": "stream",
     "text": [
      "[ 1.  1.  1. ... 17. 17. 17.]\n"
     ]
    }
   ],
   "source": [
    "\n",
    "label_contact_case = np.array(contact_case_int)[contact_rise_idx+1]\n",
    "print(label_contact_case)"
   ]
  },
  {
   "cell_type": "code",
   "execution_count": 16,
   "metadata": {},
   "outputs": [
    {
     "name": "stdout",
     "output_type": "stream",
     "text": [
      "210\n"
     ]
    },
    {
     "data": {
      "text/plain": [
       "(False, [])"
      ]
     },
     "execution_count": 16,
     "metadata": {},
     "output_type": "execute_result"
    }
   ],
   "source": [
    "t_ = 1662378738061692640\n",
    "filter_events_by_time(events, t_)"
   ]
  },
  {
   "cell_type": "code",
   "execution_count": 20,
   "metadata": {},
   "outputs": [
    {
     "data": {
      "text/plain": [
       "1.6623787377616927e+18"
      ]
     },
     "execution_count": 20,
     "metadata": {},
     "output_type": "execute_result"
    }
   ],
   "source": [
    "t_ - 0.3e9"
   ]
  },
  {
   "cell_type": "code",
   "execution_count": 19,
   "metadata": {},
   "outputs": [],
   "source": [
    "event_time = np.array([events[i][2] for i in range(np.shape(events)[0])])"
   ]
  },
  {
   "cell_type": "code",
   "execution_count": 31,
   "metadata": {},
   "outputs": [
    {
     "data": {
      "text/plain": [
       "array([1662378732593736638, 1662378732595119638, 1662378732595269638, ...,\n",
       "       1662381972813252638, 1662381972813365638, 1662381972813477638])"
      ]
     },
     "execution_count": 31,
     "metadata": {},
     "output_type": "execute_result"
    }
   ],
   "source": [
    "np.array(events)[:, 2]"
   ]
  },
  {
   "cell_type": "code",
   "execution_count": 33,
   "metadata": {},
   "outputs": [
    {
     "data": {
      "text/plain": [
       "True"
      ]
     },
     "execution_count": 33,
     "metadata": {},
     "output_type": "execute_result"
    }
   ],
   "source": [
    "(event_time == np.array(events)[:, 2]).all()"
   ]
  },
  {
   "cell_type": "code",
   "execution_count": 41,
   "metadata": {},
   "outputs": [
    {
     "data": {
      "text/plain": [
       "array([0, 3, 4, 7])"
      ]
     },
     "execution_count": 41,
     "metadata": {},
     "output_type": "execute_result"
    }
   ],
   "source": [
    "np.where([1, 0, 0, 1, 10, 0, 0,1])[0]"
   ]
  },
  {
   "cell_type": "code",
   "execution_count": 25,
   "metadata": {},
   "outputs": [
    {
     "data": {
      "text/plain": [
       "array([  170,   319,   472, ..., 96521, 96671, 96823])"
      ]
     },
     "execution_count": 25,
     "metadata": {},
     "output_type": "execute_result"
    }
   ],
   "source": [
    "contact_rise_idx"
   ]
  },
  {
   "cell_type": "code",
   "execution_count": 15,
   "metadata": {},
   "outputs": [
    {
     "name": "stderr",
     "output_type": "stream",
     "text": [
      "  0%|          | 0/1000 [00:00<?, ?it/s]"
     ]
    },
    {
     "name": "stdout",
     "output_type": "stream",
     "text": [
      "1662378738061692640\n",
      "210\n",
      "1662378738095025973\n",
      "254\n",
      "1662378738128359306\n",
      "611\n",
      "1662378738161692639\n",
      "664\n",
      "1662378738195025972\n",
      "685\n",
      "1662378738228359305\n"
     ]
    },
    {
     "name": "stderr",
     "output_type": "stream",
     "text": [
      "  0%|          | 0/1000 [00:40<?, ?it/s]"
     ]
    },
    {
     "name": "stdout",
     "output_type": "stream",
     "text": [
      "817\n",
      "1662378738261692638\n"
     ]
    },
    {
     "name": "stderr",
     "output_type": "stream",
     "text": [
      "\n"
     ]
    },
    {
     "ename": "KeyboardInterrupt",
     "evalue": "",
     "output_type": "error",
     "traceback": [
      "\u001b[0;31m---------------------------------------------------------------------------\u001b[0m",
      "\u001b[0;31mAttributeError\u001b[0m                            Traceback (most recent call last)",
      "File \u001b[0;32m~/miniconda3/envs/tactile/lib/python3.8/site-packages/numpy/core/fromnumeric.py:2005\u001b[0m, in \u001b[0;36mshape\u001b[0;34m(a)\u001b[0m\n\u001b[1;32m   2004\u001b[0m \u001b[39mtry\u001b[39;00m:\n\u001b[0;32m-> 2005\u001b[0m     result \u001b[39m=\u001b[39m a\u001b[39m.\u001b[39;49mshape\n\u001b[1;32m   2006\u001b[0m \u001b[39mexcept\u001b[39;00m \u001b[39mAttributeError\u001b[39;00m:\n",
      "\u001b[0;31mAttributeError\u001b[0m: 'list' object has no attribute 'shape'",
      "\nDuring handling of the above exception, another exception occurred:\n",
      "\u001b[0;31mKeyboardInterrupt\u001b[0m                         Traceback (most recent call last)",
      "\u001b[1;32m/home/hussain/tactile/MH_preprocess_edited.ipynb Cell 19\u001b[0m in \u001b[0;36m<cell line: 5>\u001b[0;34m()\u001b[0m\n\u001b[1;32m      <a href='vscode-notebook-cell://ssh-remote%2B10.10.105.53/home/hussain/tactile/MH_preprocess_edited.ipynb#ch0000017vscode-remote?line=7'>8</a>\u001b[0m time_step \u001b[39m=\u001b[39m contact_case_ts_int[ status_index \u001b[39m+\u001b[39m j ]\n\u001b[1;32m      <a href='vscode-notebook-cell://ssh-remote%2B10.10.105.53/home/hussain/tactile/MH_preprocess_edited.ipynb#ch0000017vscode-remote?line=8'>9</a>\u001b[0m \u001b[39mprint\u001b[39m(time_step)\n\u001b[0;32m---> <a href='vscode-notebook-cell://ssh-remote%2B10.10.105.53/home/hussain/tactile/MH_preprocess_edited.ipynb#ch0000017vscode-remote?line=9'>10</a>\u001b[0m detect, event_array \u001b[39m=\u001b[39m filter_events_by_time(events, time_step)\n\u001b[1;32m     <a href='vscode-notebook-cell://ssh-remote%2B10.10.105.53/home/hussain/tactile/MH_preprocess_edited.ipynb#ch0000017vscode-remote?line=10'>11</a>\u001b[0m \u001b[39mif\u001b[39;00m detect:\n\u001b[1;32m     <a href='vscode-notebook-cell://ssh-remote%2B10.10.105.53/home/hussain/tactile/MH_preprocess_edited.ipynb#ch0000017vscode-remote?line=11'>12</a>\u001b[0m     frame_time_steps \u001b[39m=\u001b[39m [time_step\u001b[39m-\u001b[39m\u001b[39m0.2e9\u001b[39m, time_step\u001b[39m-\u001b[39m\u001b[39m0.1e9\u001b[39m, time_step]\n",
      "\u001b[1;32m/home/hussain/tactile/MH_preprocess_edited.ipynb Cell 19\u001b[0m in \u001b[0;36mfilter_events_by_time\u001b[0;34m(events, time_of_contact, time_period, threshold)\u001b[0m\n\u001b[1;32m      <a href='vscode-notebook-cell://ssh-remote%2B10.10.105.53/home/hussain/tactile/MH_preprocess_edited.ipynb#ch0000017vscode-remote?line=0'>1</a>\u001b[0m \u001b[39mdef\u001b[39;00m \u001b[39mfilter_events_by_time\u001b[39m(events, time_of_contact, time_period \u001b[39m=\u001b[39m \u001b[39m0.3e9\u001b[39m, threshold\u001b[39m=\u001b[39m\u001b[39m20000\u001b[39m):\n\u001b[0;32m----> <a href='vscode-notebook-cell://ssh-remote%2B10.10.105.53/home/hussain/tactile/MH_preprocess_edited.ipynb#ch0000017vscode-remote?line=1'>2</a>\u001b[0m     event_time \u001b[39m=\u001b[39m np\u001b[39m.\u001b[39marray([events[i][\u001b[39m2\u001b[39m] \u001b[39mfor\u001b[39;00m i \u001b[39min\u001b[39;00m \u001b[39mrange\u001b[39m(np\u001b[39m.\u001b[39;49mshape(events)[\u001b[39m0\u001b[39m])])\n\u001b[1;32m      <a href='vscode-notebook-cell://ssh-remote%2B10.10.105.53/home/hussain/tactile/MH_preprocess_edited.ipynb#ch0000017vscode-remote?line=2'>3</a>\u001b[0m     event_in_time_idx \u001b[39m=\u001b[39m np\u001b[39m.\u001b[39mwhere((event_time \u001b[39m>\u001b[39m (time_of_contact \u001b[39m-\u001b[39m time_period)) \u001b[39m*\u001b[39m (event_time \u001b[39m<\u001b[39m time_of_contact))[\u001b[39m0\u001b[39m]\n\u001b[1;32m      <a href='vscode-notebook-cell://ssh-remote%2B10.10.105.53/home/hussain/tactile/MH_preprocess_edited.ipynb#ch0000017vscode-remote?line=3'>4</a>\u001b[0m     \u001b[39mprint\u001b[39m(\u001b[39mlen\u001b[39m(event_in_time_idx))\n",
      "File \u001b[0;32m<__array_function__ internals>:180\u001b[0m, in \u001b[0;36mshape\u001b[0;34m(*args, **kwargs)\u001b[0m\n",
      "File \u001b[0;32m~/miniconda3/envs/tactile/lib/python3.8/site-packages/numpy/core/fromnumeric.py:2007\u001b[0m, in \u001b[0;36mshape\u001b[0;34m(a)\u001b[0m\n\u001b[1;32m   2005\u001b[0m     result \u001b[39m=\u001b[39m a\u001b[39m.\u001b[39mshape\n\u001b[1;32m   2006\u001b[0m \u001b[39mexcept\u001b[39;00m \u001b[39mAttributeError\u001b[39;00m:\n\u001b[0;32m-> 2007\u001b[0m     result \u001b[39m=\u001b[39m asarray(a)\u001b[39m.\u001b[39mshape\n\u001b[1;32m   2008\u001b[0m \u001b[39mreturn\u001b[39;00m result\n",
      "\u001b[0;31mKeyboardInterrupt\u001b[0m: "
     ]
    }
   ],
   "source": [
    "hf = h5py.File(h5_file_name, 'w')\n",
    "#find events that satisfy time\n",
    "label_contact_case = []\n",
    "i=0\n",
    "for status_index in tqdm(contact_rise_idx[:1000]):\n",
    "    event_frames_list = []\n",
    "    for j in range(-7, 8): #at peak look at a radius of 7 around the event \n",
    "        time_step = contact_case_ts_int[ status_index + j ]\n",
    "        print(time_step)\n",
    "        detect, event_array = filter_events_by_time(events, time_step)\n",
    "        if detect:\n",
    "            frame_time_steps = [time_step-0.2e9, time_step-0.1e9, time_step]\n",
    "            event_frame = generateFrames(event_array, frame_time_steps)\n",
    "            cropped_image = cropFrames(event_frame)\n",
    "            event_frames_list.append(cropped_image)\n",
    "            label_contact_case.append(np.array(contact_case_int)[status_index+1])\n",
    "            if not ('contact_status' in hf.keys()):\n",
    "                hf.create_dataset('contact_status', data=label_contact_case, maxshape=(None,))\n",
    "                hf.create_dataset('event_images', data=event_frames_list, maxshape=(None,None, None, None))\n",
    "            else:\n",
    "                hf['contact_status'].resize(len(hf['contact_status']) + 1, axis=0)\n",
    "                hf[\"contact_status\"][-len(label_contact_case):] = label_contact_case\n",
    "                hf['event_images'].resize(len(hf['event_images']) + len(event_frames_list), axis=0)\n",
    "                hf[\"event_images\"][-len(event_frames_list):] = event_frames_list \n",
    "            break # break if event has been detected already within radius 7\n",
    "\n",
    "    i = i + 1\n",
    "    \n",
    "hf.close()"
   ]
  },
  {
   "cell_type": "code",
   "execution_count": 27,
   "metadata": {},
   "outputs": [
    {
     "ename": "KeyError",
     "evalue": "\"Unable to open object (object 'event_images' doesn't exist)\"",
     "output_type": "error",
     "traceback": [
      "\u001b[0;31m---------------------------------------------------------------------------\u001b[0m",
      "\u001b[0;31mKeyError\u001b[0m                                  Traceback (most recent call last)",
      "\u001b[1;32m/home/hussain/tactile/MH_preprocess_edited.ipynb Cell 22\u001b[0m in \u001b[0;36m<cell line: 4>\u001b[0;34m()\u001b[0m\n\u001b[1;32m      <a href='vscode-notebook-cell://ssh-remote%2B10.10.105.53/home/hussain/tactile/MH_preprocess_edited.ipynb#ch0000024vscode-remote?line=0'>1</a>\u001b[0m \u001b[39m#visualize example\u001b[39;00m\n\u001b[1;32m      <a href='vscode-notebook-cell://ssh-remote%2B10.10.105.53/home/hussain/tactile/MH_preprocess_edited.ipynb#ch0000024vscode-remote?line=1'>2</a>\u001b[0m \u001b[39m# plot the sample image\u001b[39;00m\n\u001b[1;32m      <a href='vscode-notebook-cell://ssh-remote%2B10.10.105.53/home/hussain/tactile/MH_preprocess_edited.ipynb#ch0000024vscode-remote?line=2'>3</a>\u001b[0m hf \u001b[39m=\u001b[39m h5py\u001b[39m.\u001b[39mFile(h5_file_name, \u001b[39m'\u001b[39m\u001b[39mr+\u001b[39m\u001b[39m'\u001b[39m)\n\u001b[0;32m----> <a href='vscode-notebook-cell://ssh-remote%2B10.10.105.53/home/hussain/tactile/MH_preprocess_edited.ipynb#ch0000024vscode-remote?line=3'>4</a>\u001b[0m \u001b[39mprint\u001b[39m(\u001b[39mlen\u001b[39m(hf[\u001b[39m'\u001b[39;49m\u001b[39mevent_images\u001b[39;49m\u001b[39m'\u001b[39;49m]))\n\u001b[1;32m      <a href='vscode-notebook-cell://ssh-remote%2B10.10.105.53/home/hussain/tactile/MH_preprocess_edited.ipynb#ch0000024vscode-remote?line=4'>5</a>\u001b[0m fig\u001b[39m=\u001b[39mplt\u001b[39m.\u001b[39mfigure(figsize\u001b[39m=\u001b[39m(\u001b[39m20\u001b[39m, \u001b[39m20\u001b[39m))\n\u001b[1;32m      <a href='vscode-notebook-cell://ssh-remote%2B10.10.105.53/home/hussain/tactile/MH_preprocess_edited.ipynb#ch0000024vscode-remote?line=5'>6</a>\u001b[0m rows \u001b[39m=\u001b[39m \u001b[39m5\u001b[39m\n",
      "File \u001b[0;32mh5py/_objects.pyx:54\u001b[0m, in \u001b[0;36mh5py._objects.with_phil.wrapper\u001b[0;34m()\u001b[0m\n",
      "File \u001b[0;32mh5py/_objects.pyx:55\u001b[0m, in \u001b[0;36mh5py._objects.with_phil.wrapper\u001b[0;34m()\u001b[0m\n",
      "File \u001b[0;32m~/miniconda3/envs/tactile/lib/python3.8/site-packages/h5py/_hl/group.py:328\u001b[0m, in \u001b[0;36mGroup.__getitem__\u001b[0;34m(self, name)\u001b[0m\n\u001b[1;32m    326\u001b[0m         \u001b[39mraise\u001b[39;00m \u001b[39mValueError\u001b[39;00m(\u001b[39m\"\u001b[39m\u001b[39mInvalid HDF5 object reference\u001b[39m\u001b[39m\"\u001b[39m)\n\u001b[1;32m    327\u001b[0m \u001b[39melif\u001b[39;00m \u001b[39misinstance\u001b[39m(name, (\u001b[39mbytes\u001b[39m, \u001b[39mstr\u001b[39m)):\n\u001b[0;32m--> 328\u001b[0m     oid \u001b[39m=\u001b[39m h5o\u001b[39m.\u001b[39;49mopen(\u001b[39mself\u001b[39;49m\u001b[39m.\u001b[39;49mid, \u001b[39mself\u001b[39;49m\u001b[39m.\u001b[39;49m_e(name), lapl\u001b[39m=\u001b[39;49m\u001b[39mself\u001b[39;49m\u001b[39m.\u001b[39;49m_lapl)\n\u001b[1;32m    329\u001b[0m \u001b[39melse\u001b[39;00m:\n\u001b[1;32m    330\u001b[0m     \u001b[39mraise\u001b[39;00m \u001b[39mTypeError\u001b[39;00m(\u001b[39m\"\u001b[39m\u001b[39mAccessing a group is done with bytes or str, \u001b[39m\u001b[39m\"\u001b[39m\n\u001b[1;32m    331\u001b[0m                     \u001b[39m\"\u001b[39m\u001b[39m not \u001b[39m\u001b[39m{}\u001b[39;00m\u001b[39m\"\u001b[39m\u001b[39m.\u001b[39mformat(\u001b[39mtype\u001b[39m(name)))\n",
      "File \u001b[0;32mh5py/_objects.pyx:54\u001b[0m, in \u001b[0;36mh5py._objects.with_phil.wrapper\u001b[0;34m()\u001b[0m\n",
      "File \u001b[0;32mh5py/_objects.pyx:55\u001b[0m, in \u001b[0;36mh5py._objects.with_phil.wrapper\u001b[0;34m()\u001b[0m\n",
      "File \u001b[0;32mh5py/h5o.pyx:190\u001b[0m, in \u001b[0;36mh5py.h5o.open\u001b[0;34m()\u001b[0m\n",
      "\u001b[0;31mKeyError\u001b[0m: \"Unable to open object (object 'event_images' doesn't exist)\""
     ]
    }
   ],
   "source": [
    "#visualize example\n",
    "# plot the sample image\n",
    "hf = h5py.File(h5_file_name, 'r+')\n",
    "print(len(hf['event_images']))\n",
    "fig=plt.figure(figsize=(20, 20))\n",
    "rows = 5\n",
    "columns = 6\n",
    "for i in range(0, 30):\n",
    "    fig.add_subplot(rows, columns, i+1)\n",
    "    plt.imshow(hf['event_images'][i][:,:,2])\n",
    "plt.show()\n",
    "hf.close()"
   ]
  },
  {
   "cell_type": "code",
   "execution_count": null,
   "metadata": {},
   "outputs": [],
   "source": [
    "\n",
    "# event_times = np.array([events[i][2] for i in range(np.shape(events)[0])])\n",
    "# threshold = 10000\n",
    "# plt.plot(event_times)\n",
    "# plt.show()\n",
    "# print(contact_case_ts_int[ contact_rise_idx[0] ])\n",
    "# event_in_time_idx = np.where((event_times > (contact_case_ts_int[ contact_rise_idx[0] ] - 0.3)) * (event_times < contact_case_ts_int[ contact_rise_idx[0] ] ))\n",
    "# print(len(event_in_time_idx))\n",
    "# if len(event_in_time_idx) < threshold:\n",
    "#     print(\"ok\")\n",
    "# else:\n",
    "#     output_events = events[event_in_time_idx][:]\n",
    "#     print(\"why\")"
   ]
  },
  {
   "cell_type": "code",
   "execution_count": null,
   "metadata": {},
   "outputs": [],
   "source": [
    "del EventPreProcess\n",
    "from importlib import reload  \n",
    "import EventPreProcess\n",
    "reload(EventPreProcess)\n",
    "from EventPreProcess import EventPreProcess"
   ]
  },
  {
   "cell_type": "code",
   "execution_count": null,
   "metadata": {
    "tags": [
     "outputPrepend"
    ]
   },
   "outputs": [],
   "source": [
    "#Generate frames, crop and and store in h5 file\n",
    "#hf.close()\n",
    "hf = h5py.File(h5_file_name, 'w')\n",
    "hf.create_dataset('contact_status', data=contact_case_int)\n",
    "hf.create_dataset('time_steps', data=contact_case_ts_int)\n",
    "\n",
    "set_size = 1000\n",
    "unprocessed_events = np.copy(events)\n",
    "# print(len(contact_case_int))\n",
    "# print(contact_case_ts_int)\n",
    "# desired_status = 12\n",
    "# encounter = np.min(np.nonzero([i == desired_status for i in hf['contact_status']]))#searches for the desired status\n",
    "# print(encounter)\n",
    "\n",
    "for i in range(0, len(contact_case_ts_int), set_size):\n",
    "    start_idx=i\n",
    "    end_idx=min([len(contact_case_ts_int), i+set_size])\n",
    "    #[event_frames, unprocessed_events] = EventPreProcess.ConcatenateEvents(unprocessed_events, contact_case_ts_int[start_idx:end_idx])\n",
    "\n",
    "    #[event_frames, unprocessed_events] = EventPreProcess.generateFrames_temporalROI(unprocessed_events, contact_case_ts_int[start_idx:end_idx])\n",
    "    [event_frames, unprocessed_events] = EventPreProcess.generateFrames(unprocessed_events, contact_case_ts_int[start_idx:end_idx])\n",
    "    \n",
    "    #print(\"event frames shape : \", np.shape(event_frames))\n",
    "    cropped_image = EventPreProcess.cropFrames(event_frames, circle_center=(170, 125), circle_rad=115)\n",
    "    #print(\"length cropped iamges : \", len(cropped_image))\n",
    "    \n",
    "    #write data\n",
    "    if i==0:\n",
    "        hf.create_dataset('event_images', data=cropped_image, maxshape=(None,None, None, None))\n",
    "    else:\n",
    "        hf['event_images'].resize(len(hf['event_images']) + len(cropped_image), axis=0)\n",
    "        hf[\"event_images\"][-len(cropped_image):] = cropped_image \n",
    "\n",
    "    \n",
    "    del event_frames\n",
    "\n",
    "hf.close()"
   ]
  },
  {
   "cell_type": "code",
   "execution_count": null,
   "metadata": {
    "tags": []
   },
   "outputs": [],
   "source": [
    "# hf = h5py.File(h5_file_name, 'r+')\n",
    "# desired_status = 13\n",
    "# encounter = np.min(np.nonzero([i == desired_status for i in hf['contact_status']]))#searches for the desired status\n",
    "# print(encounter)\n",
    "# print(\"time of contact = \", (hf['time_steps'][encounter]/1e9))\n",
    "\n",
    "# original_image = hf['event_images'][encounter]\n",
    "# original_contact_status = hf['contact_status'][encounter]\n",
    "# rot_90_image = EventPreProcess.rotateFrames([original_image], circle_center=(170, 125), rotate_angle=90)\n",
    "# rot_90_contact_status = EventPreProcess.updateContactStatus([original_contact_status], list_of_rotations, 90)\n",
    "\n",
    "# plt.imshow(original_image[:,:,0])\n",
    "# plt.show()\n",
    "# print(original_contact_status)\n",
    "# print(rot_90_contact_status)\n",
    "# plt.imshow(rot_90_image[0])\n",
    "# plt.show()\n",
    "# hf.close()"
   ]
  },
  {
   "cell_type": "code",
   "execution_count": null,
   "metadata": {},
   "outputs": [
    {
     "name": "stdout",
     "output_type": "stream",
     "text": [
      "(15241,)\n",
      "(15241, 260, 346, 1)\n"
     ]
    }
   ],
   "source": [
    "hf = h5py.File(h5_file_name, 'r+')\n",
    "print(hf['contact_status'].shape)\n",
    "print(hf['event_images'].shape)\n",
    "hf.close()\n"
   ]
  },
  {
   "cell_type": "code",
   "execution_count": null,
   "metadata": {},
   "outputs": [],
   "source": [
    "def rotateFrames(image_list, circle_center=(173, 130), rotate_angle=90, im_height=260, im_width=346, expand_dims=False):\n",
    "        \n",
    "        rotated_image_list = []\n",
    "\n",
    "        for image in image_list:\n",
    "            rot_mat = cv2.getRotationMatrix2D(circle_center, rotate_angle, 1.0)\n",
    "            #rotated_image = cv2.warpAffine(image[:,:,0], rot_mat, image.shape[1::-1], flags=cv2.INTER_LINEAR)\n",
    "            rotated_image = cv2.warpAffine(image, rot_mat, image.shape[1::-1], flags=cv2.INTER_LINEAR)\n",
    "\n",
    "            if expand_dims:\n",
    "                rotated_image_list.append(np.expand_dims(np.copy(rotated_image), axis=2)) \n",
    "            else:\n",
    "                rotated_image_list.append(np.copy(rotated_image))\n",
    "\n",
    "        return rotated_image_list\n"
   ]
  },
  {
   "cell_type": "code",
   "execution_count": null,
   "metadata": {},
   "outputs": [],
   "source": [
    "hf.close()"
   ]
  },
  {
   "cell_type": "code",
   "execution_count": null,
   "metadata": {
    "tags": []
   },
   "outputs": [
    {
     "name": "stdout",
     "output_type": "stream",
     "text": [
      "(10, 260, 346, 1)\n",
      "(260, 346)\n"
     ]
    },
    {
     "ename": "ValueError",
     "evalue": "all the input arrays must have same number of dimensions, but the array at index 0 has 4 dimension(s) and the array at index 1 has 3 dimension(s)",
     "output_type": "error",
     "traceback": [
      "\u001b[1;31m---------------------------------------------------------------------------\u001b[0m",
      "\u001b[1;31mValueError\u001b[0m                                Traceback (most recent call last)",
      "\u001b[1;32mf:\\ku.ac.ae\\Intelligent Robotic Manufacturing - Documents\\codes\\Visuotactile sensor\\contact_est\\preprocess_MH_new.ipynb Cell 27\u001b[0m in \u001b[0;36m<cell line: 5>\u001b[1;34m()\u001b[0m\n\u001b[0;32m     <a href='vscode-notebook-cell:/f%3A/ku.ac.ae/Intelligent%20Robotic%20Manufacturing%20-%20Documents/codes/Visuotactile%20sensor/contact_est/preprocess_MH_new.ipynb#X35sZmlsZQ%3D%3D?line=23'>24</a>\u001b[0m \u001b[39m#write data\u001b[39;00m\n\u001b[0;32m     <a href='vscode-notebook-cell:/f%3A/ku.ac.ae/Intelligent%20Robotic%20Manufacturing%20-%20Documents/codes/Visuotactile%20sensor/contact_est/preprocess_MH_new.ipynb#X35sZmlsZQ%3D%3D?line=24'>25</a>\u001b[0m \u001b[39mif\u001b[39;00m i\u001b[39m==\u001b[39m\u001b[39m0\u001b[39m:\n\u001b[1;32m---> <a href='vscode-notebook-cell:/f%3A/ku.ac.ae/Intelligent%20Robotic%20Manufacturing%20-%20Documents/codes/Visuotactile%20sensor/contact_est/preprocess_MH_new.ipynb#X35sZmlsZQ%3D%3D?line=25'>26</a>\u001b[0m     hf\u001b[39m.\u001b[39mcreate_dataset(\u001b[39m'\u001b[39m\u001b[39mevent_images_augmented\u001b[39m\u001b[39m'\u001b[39m, data\u001b[39m=\u001b[39mnp\u001b[39m.\u001b[39;49mconcatenate((original_image, rot_90_image, rot_180_image, rot_270_image), axis\u001b[39m=\u001b[39;49m\u001b[39m0\u001b[39;49m), maxshape\u001b[39m=\u001b[39m(\u001b[39mNone\u001b[39;00m,\u001b[39mNone\u001b[39;00m, \u001b[39mNone\u001b[39;00m, \u001b[39mNone\u001b[39;00m))\n\u001b[0;32m     <a href='vscode-notebook-cell:/f%3A/ku.ac.ae/Intelligent%20Robotic%20Manufacturing%20-%20Documents/codes/Visuotactile%20sensor/contact_est/preprocess_MH_new.ipynb#X35sZmlsZQ%3D%3D?line=26'>27</a>\u001b[0m     hf\u001b[39m.\u001b[39mcreate_dataset(\u001b[39m'\u001b[39m\u001b[39mcontact_status_augmented\u001b[39m\u001b[39m'\u001b[39m, data\u001b[39m=\u001b[39mnp\u001b[39m.\u001b[39mconcatenate((original_contact_status, rot_90_contact_status, rot_180_contact_status, rot_270_contact_status), axis\u001b[39m=\u001b[39m\u001b[39m0\u001b[39m), maxshape\u001b[39m=\u001b[39m(\u001b[39mNone\u001b[39;00m,))\n\u001b[0;32m     <a href='vscode-notebook-cell:/f%3A/ku.ac.ae/Intelligent%20Robotic%20Manufacturing%20-%20Documents/codes/Visuotactile%20sensor/contact_est/preprocess_MH_new.ipynb#X35sZmlsZQ%3D%3D?line=27'>28</a>\u001b[0m \u001b[39melse\u001b[39;00m:\n",
      "File \u001b[1;32m<__array_function__ internals>:180\u001b[0m, in \u001b[0;36mconcatenate\u001b[1;34m(*args, **kwargs)\u001b[0m\n",
      "\u001b[1;31mValueError\u001b[0m: all the input arrays must have same number of dimensions, but the array at index 0 has 4 dimension(s) and the array at index 1 has 3 dimension(s)"
     ]
    }
   ],
   "source": [
    "#Augment images with rotation\n",
    "hf = h5py.File(h5_file_name, 'r+')\n",
    "set_size = 10\n",
    "\n",
    "for i in range(0, len(hf['event_images']), set_size):\n",
    "    start_idx=i\n",
    "    end_idx=min([len(hf['event_images']), i+set_size])\n",
    "\n",
    "    original_image = hf['event_images'][start_idx:end_idx]\n",
    "    original_contact_status = hf['contact_status'][start_idx:end_idx]\n",
    "\n",
    "    rot_90_image = rotateFrames(original_image, circle_center=(170, 125), rotate_angle=90, expand_dims=False)\n",
    "    rot_90_contact_status = EventPreProcess.updateContactStatus(original_contact_status, list_of_rotations, 90)\n",
    "\n",
    "    rot_180_image = rotateFrames(original_image, circle_center=(170, 125), rotate_angle=180, expand_dims=False)\n",
    "    rot_180_contact_status = EventPreProcess.updateContactStatus(original_contact_status, list_of_rotations, 180)\n",
    "\n",
    "    rot_270_image = rotateFrames(original_image, circle_center=(170, 125), rotate_angle=270, expand_dims=False)\n",
    "    rot_270_contact_status = EventPreProcess.updateContactStatus(original_contact_status, list_of_rotations, 270)\n",
    "\n",
    "    print(original_image.shape)\n",
    "    print(len(rot_90_image)\n",
    "    print(rot_90_image[1].shape)\n",
    "\n",
    "    #write data\n",
    "    if i==0:\n",
    "        hf.create_dataset('event_images_augmented', data=np.concatenate((original_image, rot_90_image, rot_180_image, rot_270_image), axis=0), maxshape=(None,None, None, None))\n",
    "        hf.create_dataset('contact_status_augmented', data=np.concatenate((original_contact_status, rot_90_contact_status, rot_180_contact_status, rot_270_contact_status), axis=0), maxshape=(None,))\n",
    "    else:\n",
    "        hf['event_images_augmented'].resize(len(hf['event_images_augmented']) + 4*len(original_image), axis=0)\n",
    "        hf[\"event_images_augmented\"][-4*len(original_image):] = np.concatenate((original_image, rot_90_image, rot_180_image, rot_270_image), axis=0)\n",
    "\n",
    "        hf['contact_status_augmented'].resize(len(hf['contact_status_augmented']) + 4*len(original_contact_status), axis=0)\n",
    "        hf[\"contact_status_augmented\"][-4*len(original_contact_status):] = np.concatenate((original_contact_status, rot_90_contact_status, rot_180_contact_status, rot_270_contact_status), axis=0)\n",
    "\n",
    "hf.close()"
   ]
  },
  {
   "cell_type": "code",
   "execution_count": null,
   "metadata": {},
   "outputs": [],
   "source": [
    "hf.close()"
   ]
  },
  {
   "cell_type": "code",
   "execution_count": null,
   "metadata": {
    "tags": []
   },
   "outputs": [
    {
     "name": "stdout",
     "output_type": "stream",
     "text": [
      "[0.10606602 0.10606602]\n",
      "[[ 6.123234e-17  1.000000e+00]\n",
      " [-1.000000e+00  6.123234e-17]]\n",
      "[ 0.10606602 -0.10606602]\n"
     ]
    }
   ],
   "source": [
    "print(np.array(list_of_rotations[2][0:2]))\n",
    "rotation_angle = 90\n",
    "rot_mat = np.array( [ [math.cos(rotation_angle*math.pi/180), math.sin(rotation_angle*math.pi/180)], [-math.sin(rotation_angle*math.pi/180), math.cos(rotation_angle*math.pi/180)] ] )\n",
    "print(rot_mat)\n",
    "print(np.matmul(rot_mat, list_of_rotations[2][0:2] ))"
   ]
  },
  {
   "cell_type": "code",
   "execution_count": null,
   "metadata": {
    "tags": []
   },
   "outputs": [
    {
     "name": "stdout",
     "output_type": "stream",
     "text": [
      "number of event images: 316\n"
     ]
    }
   ],
   "source": [
    "hf = h5py.File(h5_file_name, 'r+')\n",
    "print('number of event images: {}'.format(len(hf['contact_status_augmented'])))\n",
    "hf.close()"
   ]
  },
  {
   "cell_type": "code",
   "execution_count": null,
   "metadata": {},
   "outputs": [],
   "source": [
    "hf = h5py.File(h5_file_name, 'r+')\n",
    "n_classes = 18\n",
    "for i in range(len(hf['contact_status_augmented'])):\n",
    "    one_hot_vector = [0] * n_classes\n",
    "    one_hot_vector[int(hf['contact_status_augmented'][i])] = 1\n",
    "    if not ('ex_input_image_idx' in hf.keys()):\n",
    "        hf.create_dataset('ex_input_image_idx', data=[i], maxshape=(None,))\n",
    "        hf.create_dataset('ex_output', data=[one_hot_vector], maxshape=(None, None))\n",
    "    else:\n",
    "        hf['ex_input_image_idx'].resize(len(hf['ex_input_image_idx']) + 1, axis=0)\n",
    "        hf[\"ex_input_image_idx\"][len(hf['ex_input_image_idx'])-1] = i\n",
    "\n",
    "        hf['ex_output'].resize(len(hf['ex_output']) + 1, axis=0)\n",
    "        hf[\"ex_output\"][len(hf['ex_output'])-1] = one_hot_vector\n",
    "\n",
    "hf.close()\n",
    "\n",
    "                "
   ]
  },
  {
   "cell_type": "code",
   "execution_count": null,
   "metadata": {},
   "outputs": [
    {
     "name": "stdout",
     "output_type": "stream",
     "text": [
      "(316,)\n",
      "(316, 18)\n"
     ]
    }
   ],
   "source": [
    "hf = h5py.File(h5_file_name, 'r+')\n",
    "print(hf['ex_input_image_idx'].shape)\n",
    "print(hf['ex_output'].shape)\n",
    "hf.close()"
   ]
  },
  {
   "cell_type": "code",
   "execution_count": null,
   "metadata": {
    "tags": []
   },
   "outputs": [
    {
     "name": "stdout",
     "output_type": "stream",
     "text": [
      "20\n"
     ]
    },
    {
     "data": {
      "image/png": "[encoded data removed]",
      "text/plain": [
       "<Figure size 432x288 with 1 Axes>"
      ]
     },
     "metadata": {
      "needs_background": "light"
     },
     "output_type": "display_data"
    }
   ],
   "source": [
    "#analyze classes\n",
    "hf = h5py.File(h5_file_name, 'r+')\n",
    "counter = [0] * 18\n",
    "\n",
    "for i in range(len(hf['ex_output'])):\n",
    "    idx = list(hf['ex_output'][i]).index(1)\n",
    "    counter[idx] = counter[idx] + 1\n",
    "\n",
    "print(counter[17])\n",
    "plt.bar(range(0,18),counter)#18),counter)\n",
    "hf.close()"
   ]
  },
  {
   "cell_type": "code",
   "execution_count": null,
   "metadata": {},
   "outputs": [
    {
     "name": "stdout",
     "output_type": "stream",
     "text": [
      "(340,)\n"
     ]
    }
   ],
   "source": [
    "hf = h5py.File(h5_file_name, 'r+')\n",
    "print(hf['ex_input_image_idx'].shape)\n",
    "hf.close()"
   ]
  },
  {
   "cell_type": "code",
   "execution_count": null,
   "metadata": {
    "tags": []
   },
   "outputs": [],
   "source": [
    "#Equalize representation of classes (Just to match the names of the dataset with the older version)\n",
    "hf = h5py.File(h5_file_name, 'r+')\n",
    "hf.create_dataset('ex_input_image_idx_equalized', data=hf['ex_input_image_idx'])\n",
    "hf.create_dataset('ex_output_equalized', data=hf['ex_output'])\n",
    "hf.close()"
   ]
  },
  {
   "cell_type": "code",
   "execution_count": null,
   "metadata": {
    "tags": []
   },
   "outputs": [
    {
     "name": "stdout",
     "output_type": "stream",
     "text": [
      "316\n",
      "[0, 4, 19, 19, 20, 20, 19, 19, 20, 20, 19, 19, 20, 20, 19, 19, 20, 20]\n"
     ]
    },
    {
     "data": {
      "image/png": "[encoded data removed]",
      "text/plain": [
       "<Figure size 432x288 with 1 Axes>"
      ]
     },
     "metadata": {
      "needs_background": "light"
     },
     "output_type": "display_data"
    }
   ],
   "source": [
    "hf = h5py.File(h5_file_name, 'r+')\n",
    "new_counter = [0] * 18\n",
    "print(len(hf['ex_input_image_idx_equalized']))\n",
    "for i in range(len(hf['ex_output_equalized'])):\n",
    "    idx = list(hf['ex_output_equalized'][i]).index(1)\n",
    "    new_counter[idx] = new_counter[idx] + 1\n",
    "\n",
    "print(new_counter)\n",
    "plt.bar(range(0,18),new_counter)\n",
    "hf.close()"
   ]
  },
  {
   "cell_type": "code",
   "execution_count": null,
   "metadata": {
    "tags": []
   },
   "outputs": [
    {
     "name": "stdout",
     "output_type": "stream",
     "text": [
      "[4507, 4567, 4628, 4688, 4748]\n"
     ]
    },
    {
     "data": {
      "image/png": "[encoded data removed]",
      "text/plain": [
       "<Figure size 432x288 with 1 Axes>"
      ]
     },
     "metadata": {
      "needs_background": "light"
     },
     "output_type": "display_data"
    },
    {
     "name": "stdout",
     "output_type": "stream",
     "text": [
      "[1904, 1965, 5025, 5084, 5145, 10105, 10165, 10226, 10286, 10345, 15306, 15367, 15426, 15487, 15546, 16507, 16567, 16628, 16688, 16748]\n"
     ]
    },
    {
     "data": {
      "image/png": "[encoded data removed]",
      "text/plain": [
       "<Figure size 432x288 with 1 Axes>"
      ]
     },
     "metadata": {
      "needs_background": "light"
     },
     "output_type": "display_data"
    }
   ],
   "source": [
    "#compare augmented data with regular images\n",
    "hf = h5py.File(h5_file_name, 'r')\n",
    "desired_class = 16\n",
    "idx = 0\n",
    "increment = 2\n",
    "\n",
    "edge_locations = np.where(np.multiply(np.diff(hf['contact_status'])>0, np.equal(np.array(hf['contact_status']), desired_class * np.ones(shape=np.shape(hf['contact_status'])))[1:] ))\n",
    "edge_locations = np.array(edge_locations)[0].tolist()\n",
    "print(edge_locations)\n",
    "\n",
    "plt.imshow(hf['event_images'][edge_locations[idx]+increment][:,:,0])\n",
    "plt.show()\n",
    "\n",
    "idx = 2\n",
    "\n",
    "edge_locations_augmented = np.where(np.multiply(np.diff(hf['contact_status_augmented'])>0, np.equal(np.array(hf['contact_status_augmented']), desired_class * np.ones(shape=np.shape(hf['contact_status_augmented'])))[1:] ))\n",
    "edge_locations_augmented = np.array(edge_locations_augmented)[0].tolist()\n",
    "print(edge_locations_augmented)\n",
    "\n",
    "plt.imshow(hf['event_images_augmented'][edge_locations_augmented[idx]+increment][:,:,0])\n",
    "plt.show()\n",
    "\n",
    "hf.close()"
   ]
  },
  {
   "cell_type": "code",
   "execution_count": null,
   "metadata": {},
   "outputs": [],
   "source": [
    "hf = h5py.File(h5_file_name, 'r+')\n",
    "del hf['ex_input_image_idx'] \n",
    "del hf['ex_output']\n",
    "hf.close()"
   ]
  },
  {
   "cell_type": "code",
   "execution_count": null,
   "metadata": {
    "tags": []
   },
   "outputs": [
    {
     "name": "stdout",
     "output_type": "stream",
     "text": [
      "0.0008835273\n",
      "0.031460017\n",
      "21.0\n",
      "0.0\n"
     ]
    }
   ],
   "source": [
    "print(np.mean(hf['event_images'][:,:,:,0]))\n",
    "print(np.std(hf['event_images'][:,:,:,0]))\n",
    "print(np.max(hf['event_images'][:,:,:,0]))\n",
    "print(np.min(hf['event_images'][:,:,:,0]))\n"
   ]
  },
  {
   "cell_type": "code",
   "execution_count": null,
   "metadata": {},
   "outputs": [
    {
     "name": "stdout",
     "output_type": "stream",
     "text": [
      "(260, 346, 3)\n",
      "4.0\n",
      "-9.0\n"
     ]
    },
    {
     "data": {
      "image/png": "[encoded data removed]",
      "text/plain": [
       "<Figure size 1440x1440 with 1 Axes>"
      ]
     },
     "metadata": {
      "needs_background": "light"
     },
     "output_type": "display_data"
    }
   ],
   "source": [
    "from PIL import Image\n",
    "import h5py\n",
    "import matplotlib.pylab as plt\n",
    "import numpy as np\n",
    "np.set_printoptions(threshold=np.inf)\n",
    "h5_file_name = 'dataset_1_new.hdf5'\n",
    "hf = h5py.File(h5_file_name, 'r')\n",
    "print(hf['event_images_augmented'][0].shape)\n",
    "fig=plt.figure(figsize=(20, 20))\n",
    "rows = 5\n",
    "columns = 6\n",
    "for i in range(0, 1):\n",
    "    fig.add_subplot(rows, columns, i+1)\n",
    "    plt.imshow(hf['event_images_augmented'][0][:,:,2])\n",
    "    \n",
    "    #print(hf['event_images_augmented'][0][:,:,2])\n",
    "    im = Image.fromarray(hf['event_images_augmented'][0][:,:,2])\n",
    "    if im.mode != 'RGB':\n",
    "        im = im.convert('RGB')\n",
    "    print(np.max(hf['event_images_augmented'][0][:,:,2]))\n",
    "    print(np.min(hf['event_images_augmented'][0][:,:,2]))\n",
    "    im.save(\"preprocess_frame.png\")\n",
    "plt.show()\n",
    "hf.close()"
   ]
  }
 ],
 "metadata": {
  "kernelspec": {
   "display_name": "Python 3.8.13 ('tactile')",
   "language": "python",
   "name": "python3"
  },
  "language_info": {
   "codemirror_mode": {
    "name": "ipython",
    "version": 3
   },
   "file_extension": ".py",
   "mimetype": "text/x-python",
   "name": "python",
   "nbconvert_exporter": "python",
   "pygments_lexer": "ipython3",
   "version": "3.8.13"
  },
  "vscode": {
   "interpreter": {
    "hash": "34b1c1fd0608eac91ff8ee3b378baa82baa76b865f0fb1b05cc06f1667b6717e"
   }
  }
 },
 "nbformat": 4,
 "nbformat_minor": 4
}
