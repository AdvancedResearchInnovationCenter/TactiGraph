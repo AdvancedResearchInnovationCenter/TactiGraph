{
 "cells": [
  {
   "cell_type": "code",
   "execution_count": 1,
   "id": "21e8f4a0-2ecf-47f2-a9db-e74bbe183f1b",
   "metadata": {},
   "outputs": [],
   "source": [
    "import sys\n",
    "import os\n",
    "import torch_scatter\n",
    "\n",
    "module_path = os.path.abspath(os.path.join('..'))\n",
    "if module_path not in sys.path:\n",
    "    sys.path.append(module_path+\"/src\")"
   ]
  },
  {
   "cell_type": "code",
   "execution_count": 24,
   "id": "96175ee9-335b-49f6-b5ea-73a933a3c8d8",
   "metadata": {},
   "outputs": [],
   "source": [
    "import torch\n",
    "from torch.nn import Sequential as Seq, Linear, ReLU\n",
    "from torch_geometric.nn import MessagePassing\n",
    "from torch_geometric.nn import max_pool, max_pool_x, graclus, global_mean_pool, GCNConv,  global_mean_pool, SAGEConv, voxel_grid\n",
    "import torch.nn.functional as F\n",
    "\n",
    "class EventConv_mean_min_max_var(MessagePassing):\n",
    "\n",
    "    def __init__(self, in_channels, out_channels):\n",
    "        super(EventConv_mean_min_max_var, self).__init__()\n",
    "        self.mlp = Seq(\n",
    "            Linear(out_channels, out_channels), \n",
    "            ReLU(), \n",
    "            Linear(out_channels, out_channels)\n",
    "        )\n",
    "\n",
    "    def forward(self, x, edge_index):\n",
    "        sara = self.propagate(edge_index, x=x)\n",
    "        return sara\n",
    "\n",
    "    def aggregate(self, inputs, index):\n",
    "        sums = torch_scatter.scatter_add(inputs, index, dim=0)\n",
    "        maxs = torch_scatter.scatter_max(inputs, index, dim=0)[0]\n",
    "        means = torch_scatter.scatter_mean(inputs, index, dim=0)\n",
    "        var = torch.relu(\n",
    "            torch_scatter.scatter_mean(\n",
    "                inputs ** 2,\n",
    "                index,\n",
    "                dim=0) -\n",
    "            means ** 2)\n",
    "\n",
    "        aggrs = torch.hstack((sums, maxs, means, var))\n",
    "        return self.mlp(aggrs)"
   ]
  },
  {
   "cell_type": "code",
   "execution_count": 3,
   "id": "2e9469a9-f039-4943-86b4-98f2fb4a8b89",
   "metadata": {},
   "outputs": [
    {
     "data": {
      "text/plain": [
       "EventConv_mean_min_max_var()"
      ]
     },
     "execution_count": 3,
     "metadata": {},
     "output_type": "execute_result"
    }
   ],
   "source": [
    "EventConv_mean_min_max_var(1, 1)"
   ]
  },
  {
   "cell_type": "code",
   "execution_count": 29,
   "id": "5976e1ee-eb2c-484b-aec2-6d8c6c40c067",
   "metadata": {},
   "outputs": [],
   "source": [
    "class NetConnect_3e_model3(torch.nn.Module):\n",
    "    def __init__(self):\n",
    "        super(NetConnect_3e_model3, self).__init__()\n",
    "        #self.conv1 = SplineConv(1, 64, dim=3, kernel_size=4)\n",
    "        ##print(\"Kholous\", len(data))\n",
    "\n",
    "        in_dim = 3\n",
    "        hidden_dim = 12\n",
    "        self.edge_conv1 = EventConv_mean_min_max_var(in_dim, hidden_dim)\n",
    "\n",
    "        in_dim2 = in_dim + hidden_dim\n",
    "        hidden_dim2 = in_dim2 * 4\n",
    "        print(in_dim2, hidden_dim2)\n",
    "        self.edge_conv1_2L = EventConv_mean_min_max_var(in_dim2, hidden_dim2)\n",
    "\n",
    "        in_dim3 = hidden_dim2 + in_dim2 \n",
    "        hidden_dim3 = in_dim3 * 4 \n",
    "        print(in_dim3, hidden_dim3)\n",
    "\n",
    "        self.edge_conv1_3L = EventConv_mean_min_max_var(in_dim3, hidden_dim3)\n",
    "        self.conv0 = GCNConv(hidden_dim3 + in_dim3, 64)\n",
    "        self.bn0 = torch.nn.BatchNorm1d(64)\n",
    "\n",
    "        self.conv1 = GCNConv(64, 16)\n",
    "        self.bn1 = torch.nn.BatchNorm1d(16)\n",
    "        self.conv2 = GCNConv(16, 16)\n",
    "        self.bn2 = torch.nn.BatchNorm1d(16)\n",
    "        \n",
    "        self.fc1 = torch.nn.Linear(16 * 64, 128)\n",
    "        self.fc2 = torch.nn.Linear(128, 2)\n",
    "\n",
    "\n",
    "    def forward(self, data):\n",
    "\n",
    "        source_data = data.x.clone().detach()\n",
    "        data.x = self.edge_conv1(source_data, data.edge_index.clone().detach())\n",
    "        data.x = torch.sigmoid(data.x)\n",
    "        part1 = data.x\n",
    "        print('part1', part1.shape)\n",
    "        source_data_2L = torch.cat((source_data, part1), dim=1)\n",
    "        print('source_data_2L', source_data_2L.shape)\n",
    "        data.x = self.edge_conv1_2L(source_data_2L, data.edge_index.clone().detach())\n",
    "        data.x = torch.sigmoid(data.x)\n",
    "        part1_2L = data.x\n",
    "        print('part1_2L', part1_2L.shape)\n",
    "        source_data_3L = torch.cat((source_data_2L, part1_2L), dim=1)\n",
    "        print('source_data_3L', source_data_3L.shape)\n",
    "        data.x = self.edge_conv1_3L(\n",
    "            source_data_3L, data.edge_index.clone().detach())\n",
    "        data.x = torch.sigmoid(data.x)\n",
    "        part1_3L = data.x\n",
    "        print('part1_3L', part1_3L.shape)\n",
    "        source_data_4L = torch.cat((source_data_3L, part1_3L), dim=1)\n",
    "        print('source_data_4L', source_data_4L.shape)\n",
    "                \n",
    "        \n",
    "        data.x = torch.sigmoid(self.conv0(source_data_4L, data.edge_index))\n",
    "        data.x = self.bn0(data.x)\n",
    "        data.x = torch.sigmoid(self.conv1(data.x, data.edge_index))\n",
    "        data.x = self.bn1(data.x)\n",
    "        data.x = torch.sigmoid(self.conv2(data.x, data.edge_index))\n",
    "        data.x = self.bn2(data.x)\n",
    "        \n",
    "        cluster = voxel_grid(data.pos, batch=data.batch, size=0.25)\n",
    "        x,_ = max_pool_x(cluster, data.x, batch=data.batch, size=64)\n",
    "        \n",
    "        x = x.view(-1, self.fc1.weight.size(1))\n",
    "        x = F.elu(self.fc1(x))\n",
    "        x = F.dropout(x, training=self.training)\n",
    "        x = self.fc2(x)\n",
    "        \n",
    "        return x  # data.x"
   ]
  },
  {
   "cell_type": "code",
   "execution_count": 30,
   "id": "b937002e-021c-4818-a471-a2aecb46e0a2",
   "metadata": {},
   "outputs": [
    {
     "data": {
      "text/plain": [
       "DataBatch(x=[1064, 3], edge_index=[2, 34048], y=[2], pos=[1064, 3], edge_attr=[34048, 3], batch=[1064], ptr=[2])"
      ]
     },
     "execution_count": 30,
     "metadata": {},
     "output_type": "execute_result"
    }
   ],
   "source": [
    "from imports.TactileDataset import TactileDataset\n",
    "from torch_geometric.loader import DataLoader\n",
    "td = TactileDataset('/home/hussain/tactile/data/contact_extraction4/train/')\n",
    "dl = DataLoader(td)\n",
    "sample = next(iter(dl))\n",
    "sample"
   ]
  },
  {
   "cell_type": "code",
   "execution_count": 31,
   "id": "f2077088-e122-4d73-b938-5d64f6ed0425",
   "metadata": {},
   "outputs": [
    {
     "name": "stdout",
     "output_type": "stream",
     "text": [
      "15 60\n",
      "75 300\n"
     ]
    },
    {
     "data": {
      "text/plain": [
       "NetConnect_3e_model3(\n",
       "  (edge_conv1): EventConv_mean_min_max_var()\n",
       "  (edge_conv1_2L): EventConv_mean_min_max_var()\n",
       "  (edge_conv1_3L): EventConv_mean_min_max_var()\n",
       "  (conv0): GCNConv(375, 64)\n",
       "  (bn0): BatchNorm1d(64, eps=1e-05, momentum=0.1, affine=True, track_running_stats=True)\n",
       "  (conv1): GCNConv(64, 16)\n",
       "  (bn1): BatchNorm1d(16, eps=1e-05, momentum=0.1, affine=True, track_running_stats=True)\n",
       "  (conv2): GCNConv(16, 16)\n",
       "  (bn2): BatchNorm1d(16, eps=1e-05, momentum=0.1, affine=True, track_running_stats=True)\n",
       "  (fc1): Linear(in_features=1024, out_features=128, bias=True)\n",
       "  (fc2): Linear(in_features=128, out_features=2, bias=True)\n",
       ")"
      ]
     },
     "execution_count": 31,
     "metadata": {},
     "output_type": "execute_result"
    }
   ],
   "source": [
    "model = NetConnect_3e_model3()\n",
    "model"
   ]
  },
  {
   "cell_type": "code",
   "execution_count": 32,
   "id": "4a3bc0ad-816b-4466-bf2f-299bff346682",
   "metadata": {},
   "outputs": [
    {
     "name": "stdout",
     "output_type": "stream",
     "text": [
      "part1 torch.Size([1064, 12])\n",
      "source_data_2L torch.Size([1064, 15])\n",
      "part1_2L torch.Size([1064, 60])\n",
      "source_data_3L torch.Size([1064, 75])\n",
      "part1_3L torch.Size([1064, 300])\n",
      "source_data_4L torch.Size([1064, 375])\n"
     ]
    },
    {
     "data": {
      "text/plain": [
       "tensor([[ 0.3771, -0.6400]], grad_fn=<AddmmBackward0>)"
      ]
     },
     "execution_count": 32,
     "metadata": {},
     "output_type": "execute_result"
    }
   ],
   "source": [
    "model(sample)"
   ]
  },
  {
   "cell_type": "code",
   "execution_count": null,
   "id": "e03adf5f-9da7-491a-bdf1-6e4c5cf8ac9d",
   "metadata": {},
   "outputs": [],
   "source": []
  },
  {
   "cell_type": "code",
   "execution_count": null,
   "id": "41238024-ae41-4b08-9e6f-b7b737be32f2",
   "metadata": {},
   "outputs": [],
   "source": []
  }
 ],
 "metadata": {
  "kernelspec": {
   "display_name": "Python 3 (ipykernel)",
   "language": "python",
   "name": "python3"
  },
  "language_info": {
   "codemirror_mode": {
    "name": "ipython",
    "version": 3
   },
   "file_extension": ".py",
   "mimetype": "text/x-python",
   "name": "python",
   "nbconvert_exporter": "python",
   "pygments_lexer": "ipython3",
   "version": "3.8.13"
  }
 },
 "nbformat": 4,
 "nbformat_minor": 5
}
