{
 "cells": [
  {
   "cell_type": "code",
   "execution_count": 1,
   "id": "83199463-193a-445f-aa94-fde650a5c751",
   "metadata": {},
   "outputs": [],
   "source": [
    "import sys\n",
    "import os\n",
    "\n",
    "module_path = os.path.abspath(os.path.join('..'))\n",
    "if module_path not in sys.path:\n",
    "    sys.path.append(module_path+\"/src\")"
   ]
  },
  {
   "cell_type": "code",
   "execution_count": 2,
   "id": "54b60aa5-d9ca-42f3-a559-61780e9919ae",
   "metadata": {},
   "outputs": [],
   "source": [
    "from imports.ExtractContactCases import ExtractContactCases"
   ]
  },
  {
   "cell_type": "code",
   "execution_count": 3,
   "id": "32eb4c62-a9c6-40a9-ac9b-7dd239a0abfe",
   "metadata": {},
   "outputs": [],
   "source": [
    "ex = ExtractContactCases(\"/home/hussain/tactile/data/contact_extraction4/\")"
   ]
  },
  {
   "cell_type": "code",
   "execution_count": 4,
   "id": "a24a16d3-5ec8-4fb1-a7a6-37118930f24f",
   "metadata": {},
   "outputs": [
    {
     "data": {
      "application/vnd.jupyter.widget-view+json": {
       "model_id": "8e84a38998314715b6e48301a26ad9e7",
       "version_major": 2,
       "version_minor": 0
      },
      "text/plain": [
       "parsing bag: 0it [00:00, ?it/s]"
      ]
     },
     "metadata": {},
     "output_type": "display_data"
    },
    {
     "data": {
      "application/vnd.jupyter.widget-view+json": {
       "model_id": "0fe8a716d2574035be14f40aa1c6336a",
       "version_major": 2,
       "version_minor": 0
      },
      "text/plain": [
       "  0%|          | 0/645 [00:00<?, ?it/s]"
      ]
     },
     "metadata": {},
     "output_type": "display_data"
    },
    {
     "name": "stdout",
     "output_type": "stream",
     "text": [
      "saving\n"
     ]
    }
   ],
   "source": [
    "ex.extract()"
   ]
  },
  {
   "cell_type": "code",
   "execution_count": 2,
   "id": "249e1c65-70be-49bb-b04f-0baa2715675d",
   "metadata": {},
   "outputs": [
    {
     "name": "stdout",
     "output_type": "stream",
     "text": [
      "rm -rf /home/hussain/tactile/data/contact_extraction4/train/processed\n",
      "0\n"
     ]
    },
    {
     "name": "stderr",
     "output_type": "stream",
     "text": [
      "Processing...\n"
     ]
    },
    {
     "name": "stdout",
     "output_type": "stream",
     "text": [
      "{'train_prop': 0.6, 'augment': False, 'delta_t': 25000000.0, 'margin': -25000000.0, 'max_events_thresh': 2000, 'n': 644, 'kNN': 32, 'features': 'coords', 'node_features': 'coords'}\n"
     ]
    },
    {
     "name": "stderr",
     "output_type": "stream",
     "text": [
      "Done!\n"
     ]
    }
   ],
   "source": [
    "from imports.TactileDataset import TactileDataset\n",
    "\n",
    "td = TactileDataset(\"/home/hussain/tactile/data/contact_extraction4/train\", reset=True, features='coords')"
   ]
  },
  {
   "cell_type": "code",
   "execution_count": 6,
   "id": "556e9c57-45bf-4498-b531-0a866bf0aaac",
   "metadata": {},
   "outputs": [
    {
     "data": {
      "text/plain": [
       "torch.Size([1422, 3])"
      ]
     },
     "execution_count": 6,
     "metadata": {},
     "output_type": "execute_result"
    }
   ],
   "source": [
    "td.get(10).x.shape"
   ]
  },
  {
   "cell_type": "code",
   "execution_count": 7,
   "id": "b39b9762-4855-43dd-96f6-19ec1c603961",
   "metadata": {},
   "outputs": [
    {
     "data": {
      "text/plain": [
       "Data(x=[1422, 3], edge_index=[2, 45504], y=[2], pos=[1422, 3], edge_attr=[45504, 3])"
      ]
     },
     "execution_count": 7,
     "metadata": {},
     "output_type": "execute_result"
    }
   ],
   "source": [
    "td.get(10)"
   ]
  },
  {
   "cell_type": "code",
   "execution_count": 8,
   "id": "f3194eb8-920f-4b40-9714-15fdfb58b4bf",
   "metadata": {},
   "outputs": [
    {
     "data": {
      "text/plain": [
       "0"
      ]
     },
     "execution_count": 8,
     "metadata": {},
     "output_type": "execute_result"
    }
   ],
   "source": [
    "import os\n",
    "os.system('rm -rf ../data/2r2olkmnek54f2233zgufotruo/* ')"
   ]
  },
  {
   "cell_type": "code",
   "execution_count": null,
   "id": "7c7cb82f-cdf2-4a1c-9618-34537d3b8a4d",
   "metadata": {},
   "outputs": [],
   "source": []
  }
 ],
 "metadata": {
  "kernelspec": {
   "display_name": "Python 3 (ipykernel)",
   "language": "python",
   "name": "python3"
  },
  "language_info": {
   "codemirror_mode": {
    "name": "ipython",
    "version": 3
   },
   "file_extension": ".py",
   "mimetype": "text/x-python",
   "name": "python",
   "nbconvert_exporter": "python",
   "pygments_lexer": "ipython3",
   "version": "3.8.13"
  }
 },
 "nbformat": 4,
 "nbformat_minor": 5
}
