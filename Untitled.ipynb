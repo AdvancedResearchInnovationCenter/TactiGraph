{
 "cells": [
  {
   "cell_type": "code",
   "execution_count": 1,
   "id": "511aef8b-0c8b-4371-85f6-05d38258a82f",
   "metadata": {},
   "outputs": [
    {
     "name": "stderr",
     "output_type": "stream",
     "text": [
      "/home/hussain/miniconda3/envs/tactile38/lib/python3.8/site-packages/tqdm/auto.py:22: TqdmWarning: IProgress not found. Please update jupyter and ipywidgets. See https://ipywidgets.readthedocs.io/en/stable/user_install.html\n",
      "  from .autonotebook import tqdm as notebook_tqdm\n",
      "parsing ros bag: 419697it [02:32, 2747.24it/s]\n"
     ]
    },
    {
     "data": {
      "text/plain": [
       "{'sample_1': {'events': array([[                338,                 244, 1662378741328625638,\n",
       "                            1],\n",
       "         [                306,                  96, 1662378741329081638,\n",
       "                            1],\n",
       "         [                136,                   0, 1662378741329253638,\n",
       "                            0],\n",
       "         ...,\n",
       "         [                106,                 145, 1662378743328158638,\n",
       "                            1],\n",
       "         [                191,                  61, 1662378743328165638,\n",
       "                            1],\n",
       "         [                197,                  79, 1662378743328301638,\n",
       "                            0]]),\n",
       "  'case': 1.0}}"
      ]
     },
     "execution_count": 1,
     "metadata": {},
     "output_type": "execute_result"
    }
   ],
   "source": [
    "from src.extract_contact_cases import ExtractContactCases\n",
    "\n",
    "ex = ExtractContactCases('/home/hussain/tactile/data/contact_extraction2', time_frame=2e9)\n",
    "sample = next(ex.sample_generator())\n",
    "sample"
   ]
  },
  {
   "cell_type": "code",
   "execution_count": null,
   "id": "8f76f964-4aaa-4a73-9695-eb15c84482f7",
   "metadata": {},
   "outputs": [
    {
     "name": "stderr",
     "output_type": "stream",
     "text": [
      "  1%|▍                              | 46/3151 [01:51<3:55:15,  4.55s/it]"
     ]
    }
   ],
   "source": [
    "ex.extract()"
   ]
  },
  {
   "cell_type": "code",
   "execution_count": 6,
   "id": "7859f4cc-a2c6-44af-b13a-be826439192b",
   "metadata": {},
   "outputs": [
    {
     "data": {
      "text/plain": [
       "{'sample_1': {'events': [], 'case': 1.0}}"
      ]
     },
     "execution_count": 6,
     "metadata": {},
     "output_type": "execute_result"
    }
   ],
   "source": [
    "sample = next(ex.sample_generator())\n",
    "sample"
   ]
  },
  {
   "cell_type": "code",
   "execution_count": 2,
   "id": "42c0e714-6086-4156-adcd-7cb0844358d5",
   "metadata": {},
   "outputs": [
    {
     "name": "stdout",
     "output_type": "stream",
     "text": [
      "{'sample_2': {'events': array([[                151,                  33, 1662378743029043638,\n",
      "                          1],\n",
      "       [                177,                  42, 1662378743030060638,\n",
      "                          1],\n",
      "       [                172,                  35, 1662378743033152638,\n",
      "                          1],\n",
      "       ...,\n",
      "       [                106,                 145, 1662378743328158638,\n",
      "                          1],\n",
      "       [                191,                  61, 1662378743328165638,\n",
      "                          1],\n",
      "       [                197,                  79, 1662378743328301638,\n",
      "                          0]]), 'case': 1.0}}\n",
      "{'sample_5': {'events': array([[                104,                 101, 1662378758061828638,\n",
      "                          0],\n",
      "       [                 59,                 259, 1662378758062996638,\n",
      "                          0],\n",
      "       [                123,                 121, 1662378758063523638,\n",
      "                          1],\n",
      "       ...,\n",
      "       [                104,                 175, 1662378758361502638,\n",
      "                          0],\n",
      "       [                197,                  64, 1662378758361548638,\n",
      "                          1],\n",
      "       [                182,                  47, 1662378758361578638,\n",
      "                          0]]), 'case': 1.0}}\n"
     ]
    },
    {
     "ename": "KeyboardInterrupt",
     "evalue": "",
     "output_type": "error",
     "traceback": [
      "\u001b[0;31m---------------------------------------------------------------------------\u001b[0m",
      "\u001b[0;31mKeyboardInterrupt\u001b[0m                         Traceback (most recent call last)",
      "Input \u001b[0;32mIn [2]\u001b[0m, in \u001b[0;36m<cell line: 1>\u001b[0;34m()\u001b[0m\n\u001b[0;32m----> 1\u001b[0m \u001b[38;5;28;01mfor\u001b[39;00m sample \u001b[38;5;129;01min\u001b[39;00m ex\u001b[38;5;241m.\u001b[39msample_generator():\n\u001b[1;32m      2\u001b[0m     \u001b[38;5;28mprint\u001b[39m(sample)\n",
      "File \u001b[0;32m~/tactile/src/extract_contact_cases.py:228\u001b[0m, in \u001b[0;36mExtractContactCases.sample_generator\u001b[0;34m(self)\u001b[0m\n\u001b[1;32m    226\u001b[0m \u001b[38;5;28;01mfor\u001b[39;00m j \u001b[38;5;129;01min\u001b[39;00m \u001b[38;5;28mrange\u001b[39m(\u001b[38;5;241m-\u001b[39m\u001b[38;5;241m7\u001b[39m, \u001b[38;5;241m8\u001b[39m):\n\u001b[1;32m    227\u001b[0m     time_step \u001b[38;5;241m=\u001b[39m \u001b[38;5;28mself\u001b[39m\u001b[38;5;241m.\u001b[39mcase_ts[status_index \u001b[38;5;241m+\u001b[39m j]\n\u001b[0;32m--> 228\u001b[0m     detect, event_array \u001b[38;5;241m=\u001b[39m \u001b[38;5;28;43mself\u001b[39;49m\u001b[38;5;241;43m.\u001b[39;49m\u001b[43mfilter_events_by_time\u001b[49m\u001b[43m(\u001b[49m\u001b[43mtime_step\u001b[49m\u001b[43m)\u001b[49m\n\u001b[1;32m    229\u001b[0m     \u001b[38;5;66;03m# print(event_array)\u001b[39;00m\n\u001b[1;32m    230\u001b[0m     \u001b[38;5;28;01mif\u001b[39;00m detect:\n",
      "File \u001b[0;32m~/tactile/src/extract_contact_cases.py:176\u001b[0m, in \u001b[0;36mExtractContactCases.filter_events_by_time\u001b[0;34m(self, time_of_contact)\u001b[0m\n\u001b[1;32m    175\u001b[0m \u001b[38;5;28;01mdef\u001b[39;00m \u001b[38;5;21mfilter_events_by_time\u001b[39m(\u001b[38;5;28mself\u001b[39m, time_of_contact):\n\u001b[0;32m--> 176\u001b[0m     event_in_time_idx \u001b[38;5;241m=\u001b[39m np\u001b[38;5;241m.\u001b[39mwhere((\u001b[38;5;28;43mself\u001b[39;49m\u001b[38;5;241;43m.\u001b[39;49m\u001b[43mevent_time\u001b[49m\u001b[43m \u001b[49m\u001b[38;5;241;43m>\u001b[39;49m\u001b[43m \u001b[49m\u001b[43m(\u001b[49m\n\u001b[1;32m    177\u001b[0m \u001b[43m        \u001b[49m\u001b[43mtime_of_contact\u001b[49m\u001b[43m \u001b[49m\u001b[38;5;241;43m-\u001b[39;49m\u001b[43m \u001b[49m\u001b[38;5;28;43mself\u001b[39;49m\u001b[38;5;241;43m.\u001b[39;49m\u001b[43mtime_frame\u001b[49m\u001b[43m)\u001b[49m) \u001b[38;5;241m*\u001b[39m (\u001b[38;5;28mself\u001b[39m\u001b[38;5;241m.\u001b[39mevent_time \u001b[38;5;241m<\u001b[39m time_of_contact))[\u001b[38;5;241m0\u001b[39m]\n\u001b[1;32m    178\u001b[0m     \u001b[38;5;66;03m# print(len(event_in_time_idx))\u001b[39;00m\n\u001b[1;32m    179\u001b[0m     \u001b[38;5;66;03m#time_of_contact - time_frame < ts < time_of_contact\u001b[39;00m\n\u001b[1;32m    180\u001b[0m     \u001b[38;5;28;01mif\u001b[39;00m \u001b[38;5;28mlen\u001b[39m(event_in_time_idx) \u001b[38;5;241m<\u001b[39m \u001b[38;5;28mself\u001b[39m\u001b[38;5;241m.\u001b[39mthreshold:\n",
      "\u001b[0;31mKeyboardInterrupt\u001b[0m: "
     ]
    }
   ],
   "source": [
    "for sample in ex.sample_generator():\n",
    "    print(sample)"
   ]
  },
  {
   "cell_type": "code",
   "execution_count": null,
   "id": "83199463-193a-445f-aa94-fde650a5c751",
   "metadata": {},
   "outputs": [],
   "source": []
  }
 ],
 "metadata": {
  "kernelspec": {
   "display_name": "Python 3 (ipykernel)",
   "language": "python",
   "name": "python3"
  },
  "language_info": {
   "codemirror_mode": {
    "name": "ipython",
    "version": 3
   },
   "file_extension": ".py",
   "mimetype": "text/x-python",
   "name": "python",
   "nbconvert_exporter": "python",
   "pygments_lexer": "ipython3",
   "version": "3.8.13"
  }
 },
 "nbformat": 4,
 "nbformat_minor": 5
}
